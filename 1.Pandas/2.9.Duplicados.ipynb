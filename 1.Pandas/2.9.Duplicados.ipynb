{
 "cells": [
  {
   "cell_type": "markdown",
   "metadata": {},
   "source": [
    "## Duplicados"
   ]
  },
  {
   "cell_type": "code",
   "execution_count": 2,
   "metadata": {},
   "outputs": [
    {
     "output_type": "execute_result",
     "data": {
      "text/plain": "    a  b\n0   w  1\n1   w  1\n2   w  1\n3   w  1\n4   x  2\n5   x  2\n6   x  2\n7   y  3\n8   y  3\n9   z  4\n10  v  5",
      "text/html": "<div>\n<style scoped>\n    .dataframe tbody tr th:only-of-type {\n        vertical-align: middle;\n    }\n\n    .dataframe tbody tr th {\n        vertical-align: top;\n    }\n\n    .dataframe thead th {\n        text-align: right;\n    }\n</style>\n<table border=\"1\" class=\"dataframe\">\n  <thead>\n    <tr style=\"text-align: right;\">\n      <th></th>\n      <th>a</th>\n      <th>b</th>\n    </tr>\n  </thead>\n  <tbody>\n    <tr>\n      <th>0</th>\n      <td>w</td>\n      <td>1</td>\n    </tr>\n    <tr>\n      <th>1</th>\n      <td>w</td>\n      <td>1</td>\n    </tr>\n    <tr>\n      <th>2</th>\n      <td>w</td>\n      <td>1</td>\n    </tr>\n    <tr>\n      <th>3</th>\n      <td>w</td>\n      <td>1</td>\n    </tr>\n    <tr>\n      <th>4</th>\n      <td>x</td>\n      <td>2</td>\n    </tr>\n    <tr>\n      <th>5</th>\n      <td>x</td>\n      <td>2</td>\n    </tr>\n    <tr>\n      <th>6</th>\n      <td>x</td>\n      <td>2</td>\n    </tr>\n    <tr>\n      <th>7</th>\n      <td>y</td>\n      <td>3</td>\n    </tr>\n    <tr>\n      <th>8</th>\n      <td>y</td>\n      <td>3</td>\n    </tr>\n    <tr>\n      <th>9</th>\n      <td>z</td>\n      <td>4</td>\n    </tr>\n    <tr>\n      <th>10</th>\n      <td>v</td>\n      <td>5</td>\n    </tr>\n  </tbody>\n</table>\n</div>"
     },
     "metadata": {},
     "execution_count": 2
    }
   ],
   "source": [
    "import pandas as pd\n",
    "df = pd.DataFrame({'a': ['w'] * 4 + ['x'] * 3 + ['y'] * 2 + ['z']+['v'], \n",
    "                   'b': [1, 1, 1, 1, 2, 2, 2, 3, 3, 4,5]})\n",
    "df"
   ]
  },
  {
   "cell_type": "code",
   "execution_count": 3,
   "metadata": {},
   "outputs": [
    {
     "output_type": "execute_result",
     "data": {
      "text/plain": "0     False\n1      True\n2      True\n3      True\n4     False\n5      True\n6      True\n7     False\n8      True\n9     False\n10    False\ndtype: bool"
     },
     "metadata": {},
     "execution_count": 3
    }
   ],
   "source": [
    "df.duplicated()"
   ]
  },
  {
   "cell_type": "code",
   "execution_count": 4,
   "metadata": {},
   "outputs": [
    {
     "output_type": "execute_result",
     "data": {
      "text/plain": "0     False\n1      True\n2      True\n3      True\n4     False\n5      True\n6      True\n7     False\n8      True\n9     False\n10    False\ndtype: bool"
     },
     "metadata": {},
     "execution_count": 4
    }
   ],
   "source": [
    "df.duplicated(keep='first')"
   ]
  },
  {
   "cell_type": "code",
   "execution_count": 5,
   "metadata": {},
   "outputs": [
    {
     "output_type": "execute_result",
     "data": {
      "text/plain": "0      True\n1      True\n2      True\n3     False\n4      True\n5      True\n6     False\n7      True\n8     False\n9     False\n10    False\ndtype: bool"
     },
     "metadata": {},
     "execution_count": 5
    }
   ],
   "source": [
    "df.duplicated(keep='last')"
   ]
  },
  {
   "cell_type": "code",
   "execution_count": 6,
   "metadata": {},
   "outputs": [
    {
     "output_type": "execute_result",
     "data": {
      "text/plain": "    a  b\n0   w  1\n4   x  2\n7   y  3\n9   z  4\n10  v  5",
      "text/html": "<div>\n<style scoped>\n    .dataframe tbody tr th:only-of-type {\n        vertical-align: middle;\n    }\n\n    .dataframe tbody tr th {\n        vertical-align: top;\n    }\n\n    .dataframe thead th {\n        text-align: right;\n    }\n</style>\n<table border=\"1\" class=\"dataframe\">\n  <thead>\n    <tr style=\"text-align: right;\">\n      <th></th>\n      <th>a</th>\n      <th>b</th>\n    </tr>\n  </thead>\n  <tbody>\n    <tr>\n      <th>0</th>\n      <td>w</td>\n      <td>1</td>\n    </tr>\n    <tr>\n      <th>4</th>\n      <td>x</td>\n      <td>2</td>\n    </tr>\n    <tr>\n      <th>7</th>\n      <td>y</td>\n      <td>3</td>\n    </tr>\n    <tr>\n      <th>9</th>\n      <td>z</td>\n      <td>4</td>\n    </tr>\n    <tr>\n      <th>10</th>\n      <td>v</td>\n      <td>5</td>\n    </tr>\n  </tbody>\n</table>\n</div>"
     },
     "metadata": {},
     "execution_count": 6
    }
   ],
   "source": [
    "df[~ df.duplicated()]      #Que no sean duplicados"
   ]
  },
  {
   "cell_type": "code",
   "execution_count": 8,
   "metadata": {},
   "outputs": [
    {
     "output_type": "execute_result",
     "data": {
      "text/plain": "0      True\n1      True\n2      True\n3      True\n4      True\n5      True\n6      True\n7      True\n8      True\n9     False\n10    False\ndtype: bool"
     },
     "metadata": {},
     "execution_count": 8
    }
   ],
   "source": [
    "df.duplicated(keep=False)       #Los que estan repetidos"
   ]
  },
  {
   "cell_type": "code",
   "execution_count": 9,
   "metadata": {},
   "outputs": [
    {
     "output_type": "execute_result",
     "data": {
      "text/plain": "   a  b\n0  w  1\n1  w  1\n2  w  1\n3  w  1\n4  x  2\n5  x  2\n6  x  2\n7  y  3\n8  y  3",
      "text/html": "<div>\n<style scoped>\n    .dataframe tbody tr th:only-of-type {\n        vertical-align: middle;\n    }\n\n    .dataframe tbody tr th {\n        vertical-align: top;\n    }\n\n    .dataframe thead th {\n        text-align: right;\n    }\n</style>\n<table border=\"1\" class=\"dataframe\">\n  <thead>\n    <tr style=\"text-align: right;\">\n      <th></th>\n      <th>a</th>\n      <th>b</th>\n    </tr>\n  </thead>\n  <tbody>\n    <tr>\n      <th>0</th>\n      <td>w</td>\n      <td>1</td>\n    </tr>\n    <tr>\n      <th>1</th>\n      <td>w</td>\n      <td>1</td>\n    </tr>\n    <tr>\n      <th>2</th>\n      <td>w</td>\n      <td>1</td>\n    </tr>\n    <tr>\n      <th>3</th>\n      <td>w</td>\n      <td>1</td>\n    </tr>\n    <tr>\n      <th>4</th>\n      <td>x</td>\n      <td>2</td>\n    </tr>\n    <tr>\n      <th>5</th>\n      <td>x</td>\n      <td>2</td>\n    </tr>\n    <tr>\n      <th>6</th>\n      <td>x</td>\n      <td>2</td>\n    </tr>\n    <tr>\n      <th>7</th>\n      <td>y</td>\n      <td>3</td>\n    </tr>\n    <tr>\n      <th>8</th>\n      <td>y</td>\n      <td>3</td>\n    </tr>\n  </tbody>\n</table>\n</div>"
     },
     "metadata": {},
     "execution_count": 9
    }
   ],
   "source": [
    "df[df.duplicated(keep=False)]          #Los que estan repetidos "
   ]
  },
  {
   "cell_type": "code",
   "execution_count": 10,
   "metadata": {},
   "outputs": [
    {
     "output_type": "execute_result",
     "data": {
      "text/plain": "    a  b\n0   w  1\n4   x  2\n7   y  3\n9   z  4\n10  v  5",
      "text/html": "<div>\n<style scoped>\n    .dataframe tbody tr th:only-of-type {\n        vertical-align: middle;\n    }\n\n    .dataframe tbody tr th {\n        vertical-align: top;\n    }\n\n    .dataframe thead th {\n        text-align: right;\n    }\n</style>\n<table border=\"1\" class=\"dataframe\">\n  <thead>\n    <tr style=\"text-align: right;\">\n      <th></th>\n      <th>a</th>\n      <th>b</th>\n    </tr>\n  </thead>\n  <tbody>\n    <tr>\n      <th>0</th>\n      <td>w</td>\n      <td>1</td>\n    </tr>\n    <tr>\n      <th>4</th>\n      <td>x</td>\n      <td>2</td>\n    </tr>\n    <tr>\n      <th>7</th>\n      <td>y</td>\n      <td>3</td>\n    </tr>\n    <tr>\n      <th>9</th>\n      <td>z</td>\n      <td>4</td>\n    </tr>\n    <tr>\n      <th>10</th>\n      <td>v</td>\n      <td>5</td>\n    </tr>\n  </tbody>\n</table>\n</div>"
     },
     "metadata": {},
     "execution_count": 10
    }
   ],
   "source": [
    "df.drop_duplicates()    #Se queda con la primera opcion al quitar duplicados"
   ]
  },
  {
   "cell_type": "code",
   "execution_count": 13,
   "metadata": {},
   "outputs": [
    {
     "output_type": "execute_result",
     "data": {
      "text/plain": "    a  b\n0   w  1\n4   x  2\n7   y  3\n9   z  4\n10  v  5",
      "text/html": "<div>\n<style scoped>\n    .dataframe tbody tr th:only-of-type {\n        vertical-align: middle;\n    }\n\n    .dataframe tbody tr th {\n        vertical-align: top;\n    }\n\n    .dataframe thead th {\n        text-align: right;\n    }\n</style>\n<table border=\"1\" class=\"dataframe\">\n  <thead>\n    <tr style=\"text-align: right;\">\n      <th></th>\n      <th>a</th>\n      <th>b</th>\n    </tr>\n  </thead>\n  <tbody>\n    <tr>\n      <th>0</th>\n      <td>w</td>\n      <td>1</td>\n    </tr>\n    <tr>\n      <th>4</th>\n      <td>x</td>\n      <td>2</td>\n    </tr>\n    <tr>\n      <th>7</th>\n      <td>y</td>\n      <td>3</td>\n    </tr>\n    <tr>\n      <th>9</th>\n      <td>z</td>\n      <td>4</td>\n    </tr>\n    <tr>\n      <th>10</th>\n      <td>v</td>\n      <td>5</td>\n    </tr>\n  </tbody>\n</table>\n</div>"
     },
     "metadata": {},
     "execution_count": 13
    }
   ],
   "source": [
    "df.drop_duplicates(['b'],keep='first')"
   ]
  },
  {
   "cell_type": "code",
   "execution_count": 96,
   "metadata": {},
   "outputs": [
    {
     "output_type": "execute_result",
     "data": {
      "text/plain": "                                 movie_title  title_year  color  aspect_ratio  \\\n0                                    Avatar       2009.0  Color          1.78   \n1  Pirates of the Caribbean: At World's End       2007.0  Color          2.35   \n\n   duration language country  duration.1                           genres  \\\n0     178.0  English     USA       178.0  Action|Adventure|Fantasy|Sci-Fi   \n1     169.0  English     USA       169.0         Action|Adventure|Fantasy   \n\n  content_rating                                      plot_keywords  \\\n0          PG-13             avatar|future|marine|native|paraplegic   \n1          PG-13  goddess|marriage ceremony|marriage proposal|pi...   \n\n    director_name actor_1_name      actor_2_name    actor_3_name  \\\n0   James Cameron  CCH Pounder  Joel David Moore       Wes Studi   \n1  Gore Verbinski  Johnny Depp     Orlando Bloom  Jack Davenport   \n\n   cast_total_facebook_likes       budget  imdb_score        gross  \n0                       4834  237000000.0         7.9  760505847.0  \n1                      48350  300000000.0         7.1  309404152.0  ",
      "text/html": "<div>\n<style scoped>\n    .dataframe tbody tr th:only-of-type {\n        vertical-align: middle;\n    }\n\n    .dataframe tbody tr th {\n        vertical-align: top;\n    }\n\n    .dataframe thead th {\n        text-align: right;\n    }\n</style>\n<table border=\"1\" class=\"dataframe\">\n  <thead>\n    <tr style=\"text-align: right;\">\n      <th></th>\n      <th>movie_title</th>\n      <th>title_year</th>\n      <th>color</th>\n      <th>aspect_ratio</th>\n      <th>duration</th>\n      <th>language</th>\n      <th>country</th>\n      <th>duration.1</th>\n      <th>genres</th>\n      <th>content_rating</th>\n      <th>plot_keywords</th>\n      <th>director_name</th>\n      <th>actor_1_name</th>\n      <th>actor_2_name</th>\n      <th>actor_3_name</th>\n      <th>cast_total_facebook_likes</th>\n      <th>budget</th>\n      <th>imdb_score</th>\n      <th>gross</th>\n    </tr>\n  </thead>\n  <tbody>\n    <tr>\n      <th>0</th>\n      <td>Avatar</td>\n      <td>2009.0</td>\n      <td>Color</td>\n      <td>1.78</td>\n      <td>178.0</td>\n      <td>English</td>\n      <td>USA</td>\n      <td>178.0</td>\n      <td>Action|Adventure|Fantasy|Sci-Fi</td>\n      <td>PG-13</td>\n      <td>avatar|future|marine|native|paraplegic</td>\n      <td>James Cameron</td>\n      <td>CCH Pounder</td>\n      <td>Joel David Moore</td>\n      <td>Wes Studi</td>\n      <td>4834</td>\n      <td>237000000.0</td>\n      <td>7.9</td>\n      <td>760505847.0</td>\n    </tr>\n    <tr>\n      <th>1</th>\n      <td>Pirates of the Caribbean: At World's End</td>\n      <td>2007.0</td>\n      <td>Color</td>\n      <td>2.35</td>\n      <td>169.0</td>\n      <td>English</td>\n      <td>USA</td>\n      <td>169.0</td>\n      <td>Action|Adventure|Fantasy</td>\n      <td>PG-13</td>\n      <td>goddess|marriage ceremony|marriage proposal|pi...</td>\n      <td>Gore Verbinski</td>\n      <td>Johnny Depp</td>\n      <td>Orlando Bloom</td>\n      <td>Jack Davenport</td>\n      <td>48350</td>\n      <td>300000000.0</td>\n      <td>7.1</td>\n      <td>309404152.0</td>\n    </tr>\n  </tbody>\n</table>\n</div>"
     },
     "metadata": {},
     "execution_count": 96
    }
   ],
   "source": [
    "df2 = pd.read_csv('C:\\\\Jupyter\\\\7.MLCasoPractico\\\\machine_learning\\\\peliculas.csv')\n",
    "df2.head(2)"
   ]
  },
  {
   "cell_type": "code",
   "execution_count": 97,
   "metadata": {},
   "outputs": [
    {
     "output_type": "execute_result",
     "data": {
      "text/plain": "False    4944\nTrue       99\ndtype: int64"
     },
     "metadata": {},
     "execution_count": 97
    }
   ],
   "source": [
    "df2.duplicated().value_counts()           #df2.movie_title.duplicated().value_counts() "
   ]
  },
  {
   "cell_type": "code",
   "execution_count": 98,
   "metadata": {},
   "outputs": [],
   "source": [
    "df2 = df2.drop_duplicates()  #Quitamos duplicados, pero Vemos que siguen habiendo duplicados, por diferencias en num decimales \n",
    "#df2 = df2.drop_duplicates(['movie_title'],keep='first')"
   ]
  },
  {
   "cell_type": "code",
   "execution_count": 100,
   "metadata": {},
   "outputs": [
    {
     "output_type": "execute_result",
     "data": {
      "text/plain": "False    4917\nTrue       27\nName: movie_title, dtype: int64"
     },
     "metadata": {},
     "execution_count": 100
    }
   ],
   "source": [
    "df2.movie_title.duplicated().value_counts() "
   ]
  },
  {
   "cell_type": "code",
   "execution_count": 101,
   "metadata": {},
   "outputs": [
    {
     "output_type": "execute_result",
     "data": {
      "text/plain": "                                 movie_title  title_year  color  aspect_ratio  \\\n0                                    Avatar       2009.0  Color          1.78   \n1  Pirates of the Caribbean: At World's End       2007.0  Color          2.35   \n\n   duration language country  duration.1                           genres  \\\n0     178.0  English     USA       178.0  Action|Adventure|Fantasy|Sci-Fi   \n1     169.0  English     USA       169.0         Action|Adventure|Fantasy   \n\n  content_rating                                      plot_keywords  \\\n0          PG-13             avatar|future|marine|native|paraplegic   \n1          PG-13  goddess|marriage ceremony|marriage proposal|pi...   \n\n    director_name actor_1_name      actor_2_name    actor_3_name  \\\n0   James Cameron  CCH Pounder  Joel David Moore       Wes Studi   \n1  Gore Verbinski  Johnny Depp     Orlando Bloom  Jack Davenport   \n\n   cast_total_facebook_likes       budget  imdb_score        gross  \n0                       4834  237000000.0         7.9  760505847.0  \n1                      48350  300000000.0         7.1  309404152.0  ",
      "text/html": "<div>\n<style scoped>\n    .dataframe tbody tr th:only-of-type {\n        vertical-align: middle;\n    }\n\n    .dataframe tbody tr th {\n        vertical-align: top;\n    }\n\n    .dataframe thead th {\n        text-align: right;\n    }\n</style>\n<table border=\"1\" class=\"dataframe\">\n  <thead>\n    <tr style=\"text-align: right;\">\n      <th></th>\n      <th>movie_title</th>\n      <th>title_year</th>\n      <th>color</th>\n      <th>aspect_ratio</th>\n      <th>duration</th>\n      <th>language</th>\n      <th>country</th>\n      <th>duration.1</th>\n      <th>genres</th>\n      <th>content_rating</th>\n      <th>plot_keywords</th>\n      <th>director_name</th>\n      <th>actor_1_name</th>\n      <th>actor_2_name</th>\n      <th>actor_3_name</th>\n      <th>cast_total_facebook_likes</th>\n      <th>budget</th>\n      <th>imdb_score</th>\n      <th>gross</th>\n    </tr>\n  </thead>\n  <tbody>\n    <tr>\n      <th>0</th>\n      <td>Avatar</td>\n      <td>2009.0</td>\n      <td>Color</td>\n      <td>1.78</td>\n      <td>178.0</td>\n      <td>English</td>\n      <td>USA</td>\n      <td>178.0</td>\n      <td>Action|Adventure|Fantasy|Sci-Fi</td>\n      <td>PG-13</td>\n      <td>avatar|future|marine|native|paraplegic</td>\n      <td>James Cameron</td>\n      <td>CCH Pounder</td>\n      <td>Joel David Moore</td>\n      <td>Wes Studi</td>\n      <td>4834</td>\n      <td>237000000.0</td>\n      <td>7.9</td>\n      <td>760505847.0</td>\n    </tr>\n    <tr>\n      <th>1</th>\n      <td>Pirates of the Caribbean: At World's End</td>\n      <td>2007.0</td>\n      <td>Color</td>\n      <td>2.35</td>\n      <td>169.0</td>\n      <td>English</td>\n      <td>USA</td>\n      <td>169.0</td>\n      <td>Action|Adventure|Fantasy</td>\n      <td>PG-13</td>\n      <td>goddess|marriage ceremony|marriage proposal|pi...</td>\n      <td>Gore Verbinski</td>\n      <td>Johnny Depp</td>\n      <td>Orlando Bloom</td>\n      <td>Jack Davenport</td>\n      <td>48350</td>\n      <td>300000000.0</td>\n      <td>7.1</td>\n      <td>309404152.0</td>\n    </tr>\n  </tbody>\n</table>\n</div>"
     },
     "metadata": {},
     "execution_count": 101
    }
   ],
   "source": [
    "mask = df2.movie_title.duplicated()  #Creamos una mascara para traer los valores que no estan repetidos, podriamos haber usado esto desde un principio \n",
    "df2 = df2[mask == False]\n",
    "df2.head(2)"
   ]
  },
  {
   "cell_type": "code",
   "execution_count": 102,
   "metadata": {},
   "outputs": [
    {
     "output_type": "execute_result",
     "data": {
      "text/plain": "4917"
     },
     "metadata": {},
     "execution_count": 102
    }
   ],
   "source": [
    "len(df2[mask == False])"
   ]
  },
  {
   "cell_type": "code",
   "execution_count": 103,
   "metadata": {},
   "outputs": [
    {
     "output_type": "execute_result",
     "data": {
      "text/plain": "False    4917\nName: movie_title, dtype: int64"
     },
     "metadata": {},
     "execution_count": 103
    }
   ],
   "source": [
    "df2.movie_title.duplicated().value_counts()"
   ]
  },
  {
   "cell_type": "code",
   "execution_count": 38,
   "metadata": {},
   "outputs": [
    {
     "output_type": "execute_result",
     "data": {
      "text/plain": "4917"
     },
     "metadata": {},
     "execution_count": 38
    }
   ],
   "source": []
  }
 ],
 "metadata": {
  "language_info": {
   "codemirror_mode": {
    "name": "ipython",
    "version": 3
   },
   "file_extension": ".py",
   "mimetype": "text/x-python",
   "name": "python",
   "nbconvert_exporter": "python",
   "pygments_lexer": "ipython3",
   "version": "3.7.4-final"
  },
  "orig_nbformat": 2,
  "kernelspec": {
   "name": "python37464bitanacondaconda74954a3f106b47d99d44e5fb8ca66932",
   "display_name": "Python 3.7.4 64-bit ('Anaconda': conda)"
  }
 },
 "nbformat": 4,
 "nbformat_minor": 2
}