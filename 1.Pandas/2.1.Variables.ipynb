{
 "cells": [
  {
   "cell_type": "code",
   "execution_count": 1,
   "metadata": {},
   "outputs": [],
   "source": [
    "import pandas as  pd  #https://colab.research.google.com/drive/1Oeg275tsGHcAKkq0uwO33kGTxLL7vUG9"
   ]
  },
  {
   "cell_type": "code",
   "execution_count": 2,
   "metadata": {},
   "outputs": [
    {
     "output_type": "execute_result",
     "data": {
      "text/plain": "       name   id nametype     recclass  mass (g)  fall  \\\n0    Aachen    1    Valid           L5      21.0  Fell   \n1    Aarhus    2    Valid           H6     720.0  Fell   \n2      Abee    6    Valid          EH4  107000.0  Fell   \n3  Acapulco   10    Valid  Acapulcoite    1914.0  Fell   \n4   Achiras  370    Valid           L6     780.0  Fell   \n\n                     year    reclat    reclong           GeoLocation  \n0  01/01/1880 12:00:00 AM  50.77500    6.08333     (50.775, 6.08333)  \n1        01/01/1951 00:00  56.18333   10.23333  (56.18333, 10.23333)  \n2        01/01/1952 00:00  54.21667 -113.00000    (54.21667, -113.0)  \n3        01/01/1976 00:00  16.88333  -99.90000     (16.88333, -99.9)  \n4        01/01/1902 00:00 -33.16667  -64.95000   (-33.16667, -64.95)  ",
      "text/html": "<div>\n<style scoped>\n    .dataframe tbody tr th:only-of-type {\n        vertical-align: middle;\n    }\n\n    .dataframe tbody tr th {\n        vertical-align: top;\n    }\n\n    .dataframe thead th {\n        text-align: right;\n    }\n</style>\n<table border=\"1\" class=\"dataframe\">\n  <thead>\n    <tr style=\"text-align: right;\">\n      <th></th>\n      <th>name</th>\n      <th>id</th>\n      <th>nametype</th>\n      <th>recclass</th>\n      <th>mass (g)</th>\n      <th>fall</th>\n      <th>year</th>\n      <th>reclat</th>\n      <th>reclong</th>\n      <th>GeoLocation</th>\n    </tr>\n  </thead>\n  <tbody>\n    <tr>\n      <th>0</th>\n      <td>Aachen</td>\n      <td>1</td>\n      <td>Valid</td>\n      <td>L5</td>\n      <td>21.0</td>\n      <td>Fell</td>\n      <td>01/01/1880 12:00:00 AM</td>\n      <td>50.77500</td>\n      <td>6.08333</td>\n      <td>(50.775, 6.08333)</td>\n    </tr>\n    <tr>\n      <th>1</th>\n      <td>Aarhus</td>\n      <td>2</td>\n      <td>Valid</td>\n      <td>H6</td>\n      <td>720.0</td>\n      <td>Fell</td>\n      <td>01/01/1951 00:00</td>\n      <td>56.18333</td>\n      <td>10.23333</td>\n      <td>(56.18333, 10.23333)</td>\n    </tr>\n    <tr>\n      <th>2</th>\n      <td>Abee</td>\n      <td>6</td>\n      <td>Valid</td>\n      <td>EH4</td>\n      <td>107000.0</td>\n      <td>Fell</td>\n      <td>01/01/1952 00:00</td>\n      <td>54.21667</td>\n      <td>-113.00000</td>\n      <td>(54.21667, -113.0)</td>\n    </tr>\n    <tr>\n      <th>3</th>\n      <td>Acapulco</td>\n      <td>10</td>\n      <td>Valid</td>\n      <td>Acapulcoite</td>\n      <td>1914.0</td>\n      <td>Fell</td>\n      <td>01/01/1976 00:00</td>\n      <td>16.88333</td>\n      <td>-99.90000</td>\n      <td>(16.88333, -99.9)</td>\n    </tr>\n    <tr>\n      <th>4</th>\n      <td>Achiras</td>\n      <td>370</td>\n      <td>Valid</td>\n      <td>L6</td>\n      <td>780.0</td>\n      <td>Fell</td>\n      <td>01/01/1902 00:00</td>\n      <td>-33.16667</td>\n      <td>-64.95000</td>\n      <td>(-33.16667, -64.95)</td>\n    </tr>\n  </tbody>\n</table>\n</div>"
     },
     "metadata": {},
     "execution_count": 2
    }
   ],
   "source": [
    "df_meteorites = pd.read_csv('C:\\\\Jupyter\\\\5.Numpy_Pandas\\\\1.Pandas\\\\Meteorite_Landings.csv')\n",
    "df_meteorites.head()"
   ]
  },
  {
   "cell_type": "code",
   "execution_count": 3,
   "metadata": {},
   "outputs": [
    {
     "output_type": "execute_result",
     "data": {
      "text/plain": "             name     id nametype              recclass  mass (g)   fall  \\\n45711  Zillah 002  31356    Valid               Eucrite     172.0  Found   \n45712      Zinder  30409    Valid  Pallasite, ungrouped      46.0  Found   \n45713        Zlin  30410    Valid                    H4       3.3  Found   \n45714   Zubkovsky  31357    Valid                    L6    2167.0  Found   \n45715  Zulu Queen  30414    Valid                  L3.7     200.0  Found   \n\n                   year    reclat    reclong             GeoLocation  \n45711  01/01/1990 00:00  29.03700   17.01850       (29.037, 17.0185)  \n45712  01/01/1999 00:00  13.78333    8.96667     (13.78333, 8.96667)  \n45713  01/01/1939 00:00  49.25000   17.66667       (49.25, 17.66667)  \n45714  01/01/2003 00:00  49.78917   41.50460     (49.78917, 41.5046)  \n45715  01/01/1976 00:00  33.98333 -115.68333  (33.98333, -115.68333)  ",
      "text/html": "<div>\n<style scoped>\n    .dataframe tbody tr th:only-of-type {\n        vertical-align: middle;\n    }\n\n    .dataframe tbody tr th {\n        vertical-align: top;\n    }\n\n    .dataframe thead th {\n        text-align: right;\n    }\n</style>\n<table border=\"1\" class=\"dataframe\">\n  <thead>\n    <tr style=\"text-align: right;\">\n      <th></th>\n      <th>name</th>\n      <th>id</th>\n      <th>nametype</th>\n      <th>recclass</th>\n      <th>mass (g)</th>\n      <th>fall</th>\n      <th>year</th>\n      <th>reclat</th>\n      <th>reclong</th>\n      <th>GeoLocation</th>\n    </tr>\n  </thead>\n  <tbody>\n    <tr>\n      <th>45711</th>\n      <td>Zillah 002</td>\n      <td>31356</td>\n      <td>Valid</td>\n      <td>Eucrite</td>\n      <td>172.0</td>\n      <td>Found</td>\n      <td>01/01/1990 00:00</td>\n      <td>29.03700</td>\n      <td>17.01850</td>\n      <td>(29.037, 17.0185)</td>\n    </tr>\n    <tr>\n      <th>45712</th>\n      <td>Zinder</td>\n      <td>30409</td>\n      <td>Valid</td>\n      <td>Pallasite, ungrouped</td>\n      <td>46.0</td>\n      <td>Found</td>\n      <td>01/01/1999 00:00</td>\n      <td>13.78333</td>\n      <td>8.96667</td>\n      <td>(13.78333, 8.96667)</td>\n    </tr>\n    <tr>\n      <th>45713</th>\n      <td>Zlin</td>\n      <td>30410</td>\n      <td>Valid</td>\n      <td>H4</td>\n      <td>3.3</td>\n      <td>Found</td>\n      <td>01/01/1939 00:00</td>\n      <td>49.25000</td>\n      <td>17.66667</td>\n      <td>(49.25, 17.66667)</td>\n    </tr>\n    <tr>\n      <th>45714</th>\n      <td>Zubkovsky</td>\n      <td>31357</td>\n      <td>Valid</td>\n      <td>L6</td>\n      <td>2167.0</td>\n      <td>Found</td>\n      <td>01/01/2003 00:00</td>\n      <td>49.78917</td>\n      <td>41.50460</td>\n      <td>(49.78917, 41.5046)</td>\n    </tr>\n    <tr>\n      <th>45715</th>\n      <td>Zulu Queen</td>\n      <td>30414</td>\n      <td>Valid</td>\n      <td>L3.7</td>\n      <td>200.0</td>\n      <td>Found</td>\n      <td>01/01/1976 00:00</td>\n      <td>33.98333</td>\n      <td>-115.68333</td>\n      <td>(33.98333, -115.68333)</td>\n    </tr>\n  </tbody>\n</table>\n</div>"
     },
     "metadata": {},
     "execution_count": 3
    }
   ],
   "source": [
    "df_meteorites.tail(5)"
   ]
  },
  {
   "cell_type": "code",
   "execution_count": 4,
   "metadata": {},
   "outputs": [
    {
     "output_type": "execute_result",
     "data": {
      "text/plain": "                         name     id nametype recclass  mass (g)   fall  \\\n26147            Minas Gerais  16693    Valid       L6   1224.00  Found   \n6548          Dar al Gani 777   6324    Valid       L6    124.00  Found   \n14469  Grove Mountains 022559  47997    Valid       L5      2.61  Found   \n\n                         year     reclat    reclong              GeoLocation  \n26147  01/01/1888 12:00:00 AM -18.500000 -44.000000           (-18.5, -44.0)  \n6548         01/01/1999 00:00  26.984670  16.444830     (26.98467, 16.44483)  \n14469        01/01/2003 00:00 -72.773889  75.343056  (-72.773889, 75.343056)  ",
      "text/html": "<div>\n<style scoped>\n    .dataframe tbody tr th:only-of-type {\n        vertical-align: middle;\n    }\n\n    .dataframe tbody tr th {\n        vertical-align: top;\n    }\n\n    .dataframe thead th {\n        text-align: right;\n    }\n</style>\n<table border=\"1\" class=\"dataframe\">\n  <thead>\n    <tr style=\"text-align: right;\">\n      <th></th>\n      <th>name</th>\n      <th>id</th>\n      <th>nametype</th>\n      <th>recclass</th>\n      <th>mass (g)</th>\n      <th>fall</th>\n      <th>year</th>\n      <th>reclat</th>\n      <th>reclong</th>\n      <th>GeoLocation</th>\n    </tr>\n  </thead>\n  <tbody>\n    <tr>\n      <th>26147</th>\n      <td>Minas Gerais</td>\n      <td>16693</td>\n      <td>Valid</td>\n      <td>L6</td>\n      <td>1224.00</td>\n      <td>Found</td>\n      <td>01/01/1888 12:00:00 AM</td>\n      <td>-18.500000</td>\n      <td>-44.000000</td>\n      <td>(-18.5, -44.0)</td>\n    </tr>\n    <tr>\n      <th>6548</th>\n      <td>Dar al Gani 777</td>\n      <td>6324</td>\n      <td>Valid</td>\n      <td>L6</td>\n      <td>124.00</td>\n      <td>Found</td>\n      <td>01/01/1999 00:00</td>\n      <td>26.984670</td>\n      <td>16.444830</td>\n      <td>(26.98467, 16.44483)</td>\n    </tr>\n    <tr>\n      <th>14469</th>\n      <td>Grove Mountains 022559</td>\n      <td>47997</td>\n      <td>Valid</td>\n      <td>L5</td>\n      <td>2.61</td>\n      <td>Found</td>\n      <td>01/01/2003 00:00</td>\n      <td>-72.773889</td>\n      <td>75.343056</td>\n      <td>(-72.773889, 75.343056)</td>\n    </tr>\n  </tbody>\n</table>\n</div>"
     },
     "metadata": {},
     "execution_count": 4
    }
   ],
   "source": [
    "df_meteorites.sample(3)"
   ]
  },
  {
   "cell_type": "code",
   "execution_count": 5,
   "metadata": {},
   "outputs": [
    {
     "output_type": "execute_result",
     "data": {
      "text/plain": "(45716, 10)"
     },
     "metadata": {},
     "execution_count": 5
    }
   ],
   "source": [
    "df_meteorites.shape"
   ]
  },
  {
   "cell_type": "code",
   "execution_count": 6,
   "metadata": {},
   "outputs": [
    {
     "output_type": "execute_result",
     "data": {
      "text/plain": "457160"
     },
     "metadata": {},
     "execution_count": 6
    }
   ],
   "source": [
    "df_meteorites.size"
   ]
  },
  {
   "cell_type": "code",
   "execution_count": 7,
   "metadata": {},
   "outputs": [
    {
     "output_type": "execute_result",
     "data": {
      "text/plain": "                 id      mass (g)        reclat       reclong\ncount  45716.000000  4.558500e+04  38401.000000  38401.000000\nmean   26889.735104  1.327808e+04    -39.122580     61.074319\nstd    16860.683030  5.749889e+05     46.378511     80.647298\nmin        1.000000  0.000000e+00    -87.366670   -165.433330\n25%    12688.750000  7.200000e+00    -76.714240      0.000000\n50%    24261.500000  3.260000e+01    -71.500000     35.666670\n75%    40656.750000  2.026000e+02      0.000000    157.166670\nmax    57458.000000  6.000000e+07     81.166670    354.473330",
      "text/html": "<div>\n<style scoped>\n    .dataframe tbody tr th:only-of-type {\n        vertical-align: middle;\n    }\n\n    .dataframe tbody tr th {\n        vertical-align: top;\n    }\n\n    .dataframe thead th {\n        text-align: right;\n    }\n</style>\n<table border=\"1\" class=\"dataframe\">\n  <thead>\n    <tr style=\"text-align: right;\">\n      <th></th>\n      <th>id</th>\n      <th>mass (g)</th>\n      <th>reclat</th>\n      <th>reclong</th>\n    </tr>\n  </thead>\n  <tbody>\n    <tr>\n      <th>count</th>\n      <td>45716.000000</td>\n      <td>4.558500e+04</td>\n      <td>38401.000000</td>\n      <td>38401.000000</td>\n    </tr>\n    <tr>\n      <th>mean</th>\n      <td>26889.735104</td>\n      <td>1.327808e+04</td>\n      <td>-39.122580</td>\n      <td>61.074319</td>\n    </tr>\n    <tr>\n      <th>std</th>\n      <td>16860.683030</td>\n      <td>5.749889e+05</td>\n      <td>46.378511</td>\n      <td>80.647298</td>\n    </tr>\n    <tr>\n      <th>min</th>\n      <td>1.000000</td>\n      <td>0.000000e+00</td>\n      <td>-87.366670</td>\n      <td>-165.433330</td>\n    </tr>\n    <tr>\n      <th>25%</th>\n      <td>12688.750000</td>\n      <td>7.200000e+00</td>\n      <td>-76.714240</td>\n      <td>0.000000</td>\n    </tr>\n    <tr>\n      <th>50%</th>\n      <td>24261.500000</td>\n      <td>3.260000e+01</td>\n      <td>-71.500000</td>\n      <td>35.666670</td>\n    </tr>\n    <tr>\n      <th>75%</th>\n      <td>40656.750000</td>\n      <td>2.026000e+02</td>\n      <td>0.000000</td>\n      <td>157.166670</td>\n    </tr>\n    <tr>\n      <th>max</th>\n      <td>57458.000000</td>\n      <td>6.000000e+07</td>\n      <td>81.166670</td>\n      <td>354.473330</td>\n    </tr>\n  </tbody>\n</table>\n</div>"
     },
     "metadata": {},
     "execution_count": 7
    }
   ],
   "source": [
    "df_meteorites.describe()"
   ]
  },
  {
   "cell_type": "code",
   "execution_count": 8,
   "metadata": {},
   "outputs": [],
   "source": [
    "pd.options.display.float_format = '{:,.1f}'.format   #Para quitar los exponentes de los numeros de la tabla anterior"
   ]
  },
  {
   "cell_type": "code",
   "execution_count": 9,
   "metadata": {},
   "outputs": [
    {
     "output_type": "execute_result",
     "data": {
      "text/plain": "            id     mass (g)   reclat  reclong\ncount 45,716.0     45,585.0 38,401.0 38,401.0\nmean  26,889.7     13,278.1    -39.1     61.1\nstd   16,860.7    574,988.9     46.4     80.6\nmin        1.0          0.0    -87.4   -165.4\n25%   12,688.8          7.2    -76.7      0.0\n50%   24,261.5         32.6    -71.5     35.7\n75%   40,656.8        202.6      0.0    157.2\nmax   57,458.0 60,000,000.0     81.2    354.5",
      "text/html": "<div>\n<style scoped>\n    .dataframe tbody tr th:only-of-type {\n        vertical-align: middle;\n    }\n\n    .dataframe tbody tr th {\n        vertical-align: top;\n    }\n\n    .dataframe thead th {\n        text-align: right;\n    }\n</style>\n<table border=\"1\" class=\"dataframe\">\n  <thead>\n    <tr style=\"text-align: right;\">\n      <th></th>\n      <th>id</th>\n      <th>mass (g)</th>\n      <th>reclat</th>\n      <th>reclong</th>\n    </tr>\n  </thead>\n  <tbody>\n    <tr>\n      <th>count</th>\n      <td>45,716.0</td>\n      <td>45,585.0</td>\n      <td>38,401.0</td>\n      <td>38,401.0</td>\n    </tr>\n    <tr>\n      <th>mean</th>\n      <td>26,889.7</td>\n      <td>13,278.1</td>\n      <td>-39.1</td>\n      <td>61.1</td>\n    </tr>\n    <tr>\n      <th>std</th>\n      <td>16,860.7</td>\n      <td>574,988.9</td>\n      <td>46.4</td>\n      <td>80.6</td>\n    </tr>\n    <tr>\n      <th>min</th>\n      <td>1.0</td>\n      <td>0.0</td>\n      <td>-87.4</td>\n      <td>-165.4</td>\n    </tr>\n    <tr>\n      <th>25%</th>\n      <td>12,688.8</td>\n      <td>7.2</td>\n      <td>-76.7</td>\n      <td>0.0</td>\n    </tr>\n    <tr>\n      <th>50%</th>\n      <td>24,261.5</td>\n      <td>32.6</td>\n      <td>-71.5</td>\n      <td>35.7</td>\n    </tr>\n    <tr>\n      <th>75%</th>\n      <td>40,656.8</td>\n      <td>202.6</td>\n      <td>0.0</td>\n      <td>157.2</td>\n    </tr>\n    <tr>\n      <th>max</th>\n      <td>57,458.0</td>\n      <td>60,000,000.0</td>\n      <td>81.2</td>\n      <td>354.5</td>\n    </tr>\n  </tbody>\n</table>\n</div>"
     },
     "metadata": {},
     "execution_count": 9
    }
   ],
   "source": [
    "df_meteorites.describe()"
   ]
  },
  {
   "cell_type": "code",
   "execution_count": 10,
   "metadata": {},
   "outputs": [
    {
     "output_type": "execute_result",
     "data": {
      "text/plain": "             name       id nametype recclass     mass (g)   fall  \\\ncount       45716 45,716.0    45716    45716     45,585.0  45716   \nunique      45716      nan        2      466          nan      2   \ntop     Acfer 065      nan    Valid       L6          nan  Found   \nfreq            1      nan    45641     8285          nan  44609   \nmean          NaN 26,889.7      NaN      NaN     13,278.1    NaN   \nstd           NaN 16,860.7      NaN      NaN    574,988.9    NaN   \nmin           NaN      1.0      NaN      NaN          0.0    NaN   \n25%           NaN 12,688.8      NaN      NaN          7.2    NaN   \n50%           NaN 24,261.5      NaN      NaN         32.6    NaN   \n75%           NaN 40,656.8      NaN      NaN        202.6    NaN   \nmax           NaN 57,458.0      NaN      NaN 60,000,000.0    NaN   \n\n                    year   reclat  reclong GeoLocation  \ncount              45425 38,401.0 38,401.0       38401  \nunique               266      nan      nan       17100  \ntop     01/01/2003 00:00      nan      nan  (0.0, 0.0)  \nfreq                3323      nan      nan        6214  \nmean                 NaN    -39.1     61.1         NaN  \nstd                  NaN     46.4     80.6         NaN  \nmin                  NaN    -87.4   -165.4         NaN  \n25%                  NaN    -76.7      0.0         NaN  \n50%                  NaN    -71.5     35.7         NaN  \n75%                  NaN      0.0    157.2         NaN  \nmax                  NaN     81.2    354.5         NaN  ",
      "text/html": "<div>\n<style scoped>\n    .dataframe tbody tr th:only-of-type {\n        vertical-align: middle;\n    }\n\n    .dataframe tbody tr th {\n        vertical-align: top;\n    }\n\n    .dataframe thead th {\n        text-align: right;\n    }\n</style>\n<table border=\"1\" class=\"dataframe\">\n  <thead>\n    <tr style=\"text-align: right;\">\n      <th></th>\n      <th>name</th>\n      <th>id</th>\n      <th>nametype</th>\n      <th>recclass</th>\n      <th>mass (g)</th>\n      <th>fall</th>\n      <th>year</th>\n      <th>reclat</th>\n      <th>reclong</th>\n      <th>GeoLocation</th>\n    </tr>\n  </thead>\n  <tbody>\n    <tr>\n      <th>count</th>\n      <td>45716</td>\n      <td>45,716.0</td>\n      <td>45716</td>\n      <td>45716</td>\n      <td>45,585.0</td>\n      <td>45716</td>\n      <td>45425</td>\n      <td>38,401.0</td>\n      <td>38,401.0</td>\n      <td>38401</td>\n    </tr>\n    <tr>\n      <th>unique</th>\n      <td>45716</td>\n      <td>nan</td>\n      <td>2</td>\n      <td>466</td>\n      <td>nan</td>\n      <td>2</td>\n      <td>266</td>\n      <td>nan</td>\n      <td>nan</td>\n      <td>17100</td>\n    </tr>\n    <tr>\n      <th>top</th>\n      <td>Acfer 065</td>\n      <td>nan</td>\n      <td>Valid</td>\n      <td>L6</td>\n      <td>nan</td>\n      <td>Found</td>\n      <td>01/01/2003 00:00</td>\n      <td>nan</td>\n      <td>nan</td>\n      <td>(0.0, 0.0)</td>\n    </tr>\n    <tr>\n      <th>freq</th>\n      <td>1</td>\n      <td>nan</td>\n      <td>45641</td>\n      <td>8285</td>\n      <td>nan</td>\n      <td>44609</td>\n      <td>3323</td>\n      <td>nan</td>\n      <td>nan</td>\n      <td>6214</td>\n    </tr>\n    <tr>\n      <th>mean</th>\n      <td>NaN</td>\n      <td>26,889.7</td>\n      <td>NaN</td>\n      <td>NaN</td>\n      <td>13,278.1</td>\n      <td>NaN</td>\n      <td>NaN</td>\n      <td>-39.1</td>\n      <td>61.1</td>\n      <td>NaN</td>\n    </tr>\n    <tr>\n      <th>std</th>\n      <td>NaN</td>\n      <td>16,860.7</td>\n      <td>NaN</td>\n      <td>NaN</td>\n      <td>574,988.9</td>\n      <td>NaN</td>\n      <td>NaN</td>\n      <td>46.4</td>\n      <td>80.6</td>\n      <td>NaN</td>\n    </tr>\n    <tr>\n      <th>min</th>\n      <td>NaN</td>\n      <td>1.0</td>\n      <td>NaN</td>\n      <td>NaN</td>\n      <td>0.0</td>\n      <td>NaN</td>\n      <td>NaN</td>\n      <td>-87.4</td>\n      <td>-165.4</td>\n      <td>NaN</td>\n    </tr>\n    <tr>\n      <th>25%</th>\n      <td>NaN</td>\n      <td>12,688.8</td>\n      <td>NaN</td>\n      <td>NaN</td>\n      <td>7.2</td>\n      <td>NaN</td>\n      <td>NaN</td>\n      <td>-76.7</td>\n      <td>0.0</td>\n      <td>NaN</td>\n    </tr>\n    <tr>\n      <th>50%</th>\n      <td>NaN</td>\n      <td>24,261.5</td>\n      <td>NaN</td>\n      <td>NaN</td>\n      <td>32.6</td>\n      <td>NaN</td>\n      <td>NaN</td>\n      <td>-71.5</td>\n      <td>35.7</td>\n      <td>NaN</td>\n    </tr>\n    <tr>\n      <th>75%</th>\n      <td>NaN</td>\n      <td>40,656.8</td>\n      <td>NaN</td>\n      <td>NaN</td>\n      <td>202.6</td>\n      <td>NaN</td>\n      <td>NaN</td>\n      <td>0.0</td>\n      <td>157.2</td>\n      <td>NaN</td>\n    </tr>\n    <tr>\n      <th>max</th>\n      <td>NaN</td>\n      <td>57,458.0</td>\n      <td>NaN</td>\n      <td>NaN</td>\n      <td>60,000,000.0</td>\n      <td>NaN</td>\n      <td>NaN</td>\n      <td>81.2</td>\n      <td>354.5</td>\n      <td>NaN</td>\n    </tr>\n  </tbody>\n</table>\n</div>"
     },
     "metadata": {},
     "execution_count": 10
    }
   ],
   "source": [
    "df_meteorites.describe(include='all')"
   ]
  },
  {
   "cell_type": "code",
   "execution_count": 11,
   "metadata": {},
   "outputs": [
    {
     "output_type": "stream",
     "name": "stdout",
     "text": "<class 'pandas.core.frame.DataFrame'>\nRangeIndex: 45716 entries, 0 to 45715\nData columns (total 10 columns):\n #   Column       Non-Null Count  Dtype  \n---  ------       --------------  -----  \n 0   name         45716 non-null  object \n 1   id           45716 non-null  int64  \n 2   nametype     45716 non-null  object \n 3   recclass     45716 non-null  object \n 4   mass (g)     45585 non-null  float64\n 5   fall         45716 non-null  object \n 6   year         45425 non-null  object \n 7   reclat       38401 non-null  float64\n 8   reclong      38401 non-null  float64\n 9   GeoLocation  38401 non-null  object \ndtypes: float64(3), int64(1), object(6)\nmemory usage: 3.5+ MB\n"
    }
   ],
   "source": [
    "df_meteorites.info()"
   ]
  },
  {
   "cell_type": "code",
   "execution_count": 12,
   "metadata": {},
   "outputs": [
    {
     "output_type": "execute_result",
     "data": {
      "text/plain": "name            object\nid               int64\nnametype        object\nrecclass        object\nmass (g)       float64\nfall            object\nyear            object\nreclat         float64\nreclong        float64\nGeoLocation     object\ndtype: object"
     },
     "metadata": {},
     "execution_count": 12
    }
   ],
   "source": [
    "df_meteorites.dtypes"
   ]
  },
  {
   "cell_type": "code",
   "execution_count": 13,
   "metadata": {},
   "outputs": [
    {
     "output_type": "execute_result",
     "data": {
      "text/plain": "name            string\nid               Int64\nnametype        string\nrecclass        string\nmass (g)       float64\nfall            string\nyear            string\nreclat         float64\nreclong        float64\nGeoLocation     string\ndtype: object"
     },
     "metadata": {},
     "execution_count": 13
    }
   ],
   "source": [
    "df_meteorites.convert_dtypes().dtypes     "
   ]
  },
  {
   "cell_type": "code",
   "execution_count": 14,
   "metadata": {},
   "outputs": [
    {
     "output_type": "execute_result",
     "data": {
      "text/plain": "name           45716\nid             45716\nnametype           2\nrecclass         466\nmass (g)       12576\nfall               2\nyear             266\nreclat         12738\nreclong        14640\nGeoLocation    17100\ndtype: int64"
     },
     "metadata": {},
     "execution_count": 14
    }
   ],
   "source": [
    "df_meteorites.nunique()"
   ]
  },
  {
   "cell_type": "code",
   "execution_count": 15,
   "metadata": {},
   "outputs": [],
   "source": [
    "df_meteorites[['fall','nametype']] = df_meteorites[['fall','nametype']].astype('category')"
   ]
  },
  {
   "cell_type": "code",
   "execution_count": 16,
   "metadata": {},
   "outputs": [
    {
     "output_type": "execute_result",
     "data": {
      "text/plain": "name             object\nid                int64\nnametype       category\nrecclass         object\nmass (g)        float64\nfall           category\nyear             object\nreclat          float64\nreclong         float64\nGeoLocation      object\ndtype: object"
     },
     "metadata": {},
     "execution_count": 16
    }
   ],
   "source": [
    "df_meteorites.dtypes"
   ]
  },
  {
   "cell_type": "code",
   "execution_count": 17,
   "metadata": {},
   "outputs": [
    {
     "output_type": "execute_result",
     "data": {
      "text/plain": "[Fell, Found]\nCategories (2, object): [Fell, Found]"
     },
     "metadata": {},
     "execution_count": 17
    }
   ],
   "source": [
    "df_meteorites['fall'].unique()"
   ]
  },
  {
   "cell_type": "code",
   "execution_count": 18,
   "metadata": {},
   "outputs": [
    {
     "output_type": "execute_result",
     "data": {
      "text/plain": "Found    44609\nFell      1107\nName: fall, dtype: int64"
     },
     "metadata": {},
     "execution_count": 18
    }
   ],
   "source": [
    "df_meteorites['fall'].value_counts()"
   ]
  },
  {
   "cell_type": "code",
   "execution_count": 19,
   "metadata": {},
   "outputs": [
    {
     "output_type": "execute_result",
     "data": {
      "text/plain": "       Fell  Found\n0         1      0\n1         1      0\n2         1      0\n3         1      0\n4         1      0\n...     ...    ...\n45711     0      1\n45712     0      1\n45713     0      1\n45714     0      1\n45715     0      1\n\n[45716 rows x 2 columns]",
      "text/html": "<div>\n<style scoped>\n    .dataframe tbody tr th:only-of-type {\n        vertical-align: middle;\n    }\n\n    .dataframe tbody tr th {\n        vertical-align: top;\n    }\n\n    .dataframe thead th {\n        text-align: right;\n    }\n</style>\n<table border=\"1\" class=\"dataframe\">\n  <thead>\n    <tr style=\"text-align: right;\">\n      <th></th>\n      <th>Fell</th>\n      <th>Found</th>\n    </tr>\n  </thead>\n  <tbody>\n    <tr>\n      <th>0</th>\n      <td>1</td>\n      <td>0</td>\n    </tr>\n    <tr>\n      <th>1</th>\n      <td>1</td>\n      <td>0</td>\n    </tr>\n    <tr>\n      <th>2</th>\n      <td>1</td>\n      <td>0</td>\n    </tr>\n    <tr>\n      <th>3</th>\n      <td>1</td>\n      <td>0</td>\n    </tr>\n    <tr>\n      <th>4</th>\n      <td>1</td>\n      <td>0</td>\n    </tr>\n    <tr>\n      <th>...</th>\n      <td>...</td>\n      <td>...</td>\n    </tr>\n    <tr>\n      <th>45711</th>\n      <td>0</td>\n      <td>1</td>\n    </tr>\n    <tr>\n      <th>45712</th>\n      <td>0</td>\n      <td>1</td>\n    </tr>\n    <tr>\n      <th>45713</th>\n      <td>0</td>\n      <td>1</td>\n    </tr>\n    <tr>\n      <th>45714</th>\n      <td>0</td>\n      <td>1</td>\n    </tr>\n    <tr>\n      <th>45715</th>\n      <td>0</td>\n      <td>1</td>\n    </tr>\n  </tbody>\n</table>\n<p>45716 rows × 2 columns</p>\n</div>"
     },
     "metadata": {},
     "execution_count": 19
    }
   ],
   "source": [
    "pd.get_dummies(df_meteorites['fall'])"
   ]
  },
  {
   "cell_type": "code",
   "execution_count": 20,
   "metadata": {},
   "outputs": [
    {
     "output_type": "execute_result",
     "data": {
      "text/plain": "       name   id nametype     recclass  mass (g)  fall  \\\n0    Aachen    1    Valid           L5      21.0  Fell   \n1    Aarhus    2    Valid           H6     720.0  Fell   \n2      Abee    6    Valid          EH4 107,000.0  Fell   \n3  Acapulco   10    Valid  Acapulcoite   1,914.0  Fell   \n4   Achiras  370    Valid           L6     780.0  Fell   \n\n                     year  reclat  reclong           GeoLocation  ones  \n0  01/01/1880 12:00:00 AM    50.8      6.1     (50.775, 6.08333)     1  \n1        01/01/1951 00:00    56.2     10.2  (56.18333, 10.23333)     1  \n2        01/01/1952 00:00    54.2   -113.0    (54.21667, -113.0)     1  \n3        01/01/1976 00:00    16.9    -99.9     (16.88333, -99.9)     1  \n4        01/01/1902 00:00   -33.2    -65.0   (-33.16667, -64.95)     1  ",
      "text/html": "<div>\n<style scoped>\n    .dataframe tbody tr th:only-of-type {\n        vertical-align: middle;\n    }\n\n    .dataframe tbody tr th {\n        vertical-align: top;\n    }\n\n    .dataframe thead th {\n        text-align: right;\n    }\n</style>\n<table border=\"1\" class=\"dataframe\">\n  <thead>\n    <tr style=\"text-align: right;\">\n      <th></th>\n      <th>name</th>\n      <th>id</th>\n      <th>nametype</th>\n      <th>recclass</th>\n      <th>mass (g)</th>\n      <th>fall</th>\n      <th>year</th>\n      <th>reclat</th>\n      <th>reclong</th>\n      <th>GeoLocation</th>\n      <th>ones</th>\n    </tr>\n  </thead>\n  <tbody>\n    <tr>\n      <th>0</th>\n      <td>Aachen</td>\n      <td>1</td>\n      <td>Valid</td>\n      <td>L5</td>\n      <td>21.0</td>\n      <td>Fell</td>\n      <td>01/01/1880 12:00:00 AM</td>\n      <td>50.8</td>\n      <td>6.1</td>\n      <td>(50.775, 6.08333)</td>\n      <td>1</td>\n    </tr>\n    <tr>\n      <th>1</th>\n      <td>Aarhus</td>\n      <td>2</td>\n      <td>Valid</td>\n      <td>H6</td>\n      <td>720.0</td>\n      <td>Fell</td>\n      <td>01/01/1951 00:00</td>\n      <td>56.2</td>\n      <td>10.2</td>\n      <td>(56.18333, 10.23333)</td>\n      <td>1</td>\n    </tr>\n    <tr>\n      <th>2</th>\n      <td>Abee</td>\n      <td>6</td>\n      <td>Valid</td>\n      <td>EH4</td>\n      <td>107,000.0</td>\n      <td>Fell</td>\n      <td>01/01/1952 00:00</td>\n      <td>54.2</td>\n      <td>-113.0</td>\n      <td>(54.21667, -113.0)</td>\n      <td>1</td>\n    </tr>\n    <tr>\n      <th>3</th>\n      <td>Acapulco</td>\n      <td>10</td>\n      <td>Valid</td>\n      <td>Acapulcoite</td>\n      <td>1,914.0</td>\n      <td>Fell</td>\n      <td>01/01/1976 00:00</td>\n      <td>16.9</td>\n      <td>-99.9</td>\n      <td>(16.88333, -99.9)</td>\n      <td>1</td>\n    </tr>\n    <tr>\n      <th>4</th>\n      <td>Achiras</td>\n      <td>370</td>\n      <td>Valid</td>\n      <td>L6</td>\n      <td>780.0</td>\n      <td>Fell</td>\n      <td>01/01/1902 00:00</td>\n      <td>-33.2</td>\n      <td>-65.0</td>\n      <td>(-33.16667, -64.95)</td>\n      <td>1</td>\n    </tr>\n  </tbody>\n</table>\n</div>"
     },
     "metadata": {},
     "execution_count": 20
    }
   ],
   "source": [
    "df_meteorites['ones'] = 1\n",
    "df_meteorites.head()"
   ]
  },
  {
   "cell_type": "code",
   "execution_count": 21,
   "metadata": {},
   "outputs": [],
   "source": [
    "df_meteorites[['fell','found']] = pd.get_dummies(df_meteorites['fall'])"
   ]
  },
  {
   "cell_type": "code",
   "execution_count": 22,
   "metadata": {},
   "outputs": [
    {
     "output_type": "execute_result",
     "data": {
      "text/plain": "       name   id nametype     recclass  mass (g)  fall  \\\n0    Aachen    1    Valid           L5      21.0  Fell   \n1    Aarhus    2    Valid           H6     720.0  Fell   \n2      Abee    6    Valid          EH4 107,000.0  Fell   \n3  Acapulco   10    Valid  Acapulcoite   1,914.0  Fell   \n4   Achiras  370    Valid           L6     780.0  Fell   \n\n                     year  reclat  reclong           GeoLocation  ones  fell  \\\n0  01/01/1880 12:00:00 AM    50.8      6.1     (50.775, 6.08333)     1     1   \n1        01/01/1951 00:00    56.2     10.2  (56.18333, 10.23333)     1     1   \n2        01/01/1952 00:00    54.2   -113.0    (54.21667, -113.0)     1     1   \n3        01/01/1976 00:00    16.9    -99.9     (16.88333, -99.9)     1     1   \n4        01/01/1902 00:00   -33.2    -65.0   (-33.16667, -64.95)     1     1   \n\n   found  \n0      0  \n1      0  \n2      0  \n3      0  \n4      0  ",
      "text/html": "<div>\n<style scoped>\n    .dataframe tbody tr th:only-of-type {\n        vertical-align: middle;\n    }\n\n    .dataframe tbody tr th {\n        vertical-align: top;\n    }\n\n    .dataframe thead th {\n        text-align: right;\n    }\n</style>\n<table border=\"1\" class=\"dataframe\">\n  <thead>\n    <tr style=\"text-align: right;\">\n      <th></th>\n      <th>name</th>\n      <th>id</th>\n      <th>nametype</th>\n      <th>recclass</th>\n      <th>mass (g)</th>\n      <th>fall</th>\n      <th>year</th>\n      <th>reclat</th>\n      <th>reclong</th>\n      <th>GeoLocation</th>\n      <th>ones</th>\n      <th>fell</th>\n      <th>found</th>\n    </tr>\n  </thead>\n  <tbody>\n    <tr>\n      <th>0</th>\n      <td>Aachen</td>\n      <td>1</td>\n      <td>Valid</td>\n      <td>L5</td>\n      <td>21.0</td>\n      <td>Fell</td>\n      <td>01/01/1880 12:00:00 AM</td>\n      <td>50.8</td>\n      <td>6.1</td>\n      <td>(50.775, 6.08333)</td>\n      <td>1</td>\n      <td>1</td>\n      <td>0</td>\n    </tr>\n    <tr>\n      <th>1</th>\n      <td>Aarhus</td>\n      <td>2</td>\n      <td>Valid</td>\n      <td>H6</td>\n      <td>720.0</td>\n      <td>Fell</td>\n      <td>01/01/1951 00:00</td>\n      <td>56.2</td>\n      <td>10.2</td>\n      <td>(56.18333, 10.23333)</td>\n      <td>1</td>\n      <td>1</td>\n      <td>0</td>\n    </tr>\n    <tr>\n      <th>2</th>\n      <td>Abee</td>\n      <td>6</td>\n      <td>Valid</td>\n      <td>EH4</td>\n      <td>107,000.0</td>\n      <td>Fell</td>\n      <td>01/01/1952 00:00</td>\n      <td>54.2</td>\n      <td>-113.0</td>\n      <td>(54.21667, -113.0)</td>\n      <td>1</td>\n      <td>1</td>\n      <td>0</td>\n    </tr>\n    <tr>\n      <th>3</th>\n      <td>Acapulco</td>\n      <td>10</td>\n      <td>Valid</td>\n      <td>Acapulcoite</td>\n      <td>1,914.0</td>\n      <td>Fell</td>\n      <td>01/01/1976 00:00</td>\n      <td>16.9</td>\n      <td>-99.9</td>\n      <td>(16.88333, -99.9)</td>\n      <td>1</td>\n      <td>1</td>\n      <td>0</td>\n    </tr>\n    <tr>\n      <th>4</th>\n      <td>Achiras</td>\n      <td>370</td>\n      <td>Valid</td>\n      <td>L6</td>\n      <td>780.0</td>\n      <td>Fell</td>\n      <td>01/01/1902 00:00</td>\n      <td>-33.2</td>\n      <td>-65.0</td>\n      <td>(-33.16667, -64.95)</td>\n      <td>1</td>\n      <td>1</td>\n      <td>0</td>\n    </tr>\n  </tbody>\n</table>\n</div>"
     },
     "metadata": {},
     "execution_count": 22
    }
   ],
   "source": [
    "df_meteorites.head()"
   ]
  },
  {
   "cell_type": "code",
   "execution_count": 23,
   "metadata": {},
   "outputs": [
    {
     "output_type": "execute_result",
     "data": {
      "text/plain": "0    01/01/1880 12:00:00 AM\n1          01/01/1951 00:00\n2          01/01/1952 00:00\n3          01/01/1976 00:00\n4          01/01/1902 00:00\nName: year, dtype: object"
     },
     "metadata": {},
     "execution_count": 23
    }
   ],
   "source": [
    "df_meteorites['year'].head()"
   ]
  },
  {
   "cell_type": "code",
   "execution_count": 24,
   "metadata": {},
   "outputs": [
    {
     "output_type": "execute_result",
     "data": {
      "text/plain": "0       1880-01-01 12:00:00\n1                       NaT\n2                       NaT\n3                       NaT\n4                       NaT\n                ...        \n45711                   NaT\n45712                   NaT\n45713                   NaT\n45714                   NaT\n45715                   NaT\nName: year, Length: 45716, dtype: datetime64[ns]"
     },
     "metadata": {},
     "execution_count": 24
    }
   ],
   "source": [
    "pd.to_datetime(\n",
    "df_meteorites['year'],\n",
    "errors = 'coerce',\n",
    "format = '%m/%d/%Y %H:%M:%S %p'\n",
    ")"
   ]
  },
  {
   "cell_type": "code",
   "execution_count": 25,
   "metadata": {},
   "outputs": [],
   "source": [
    "df_meteorites['year'] =  pd.to_datetime(\n",
    "df_meteorites['year'],\n",
    "errors = 'coerce',\n",
    "format = '%m/%d/%Y %H:%M:%S %p'\n",
    ")"
   ]
  },
  {
   "cell_type": "code",
   "execution_count": 26,
   "metadata": {},
   "outputs": [
    {
     "output_type": "execute_result",
     "data": {
      "text/plain": "name                   string\nid                      Int64\nnametype             category\nrecclass               string\nmass (g)              float64\nfall                 category\nyear           datetime64[ns]\nreclat                float64\nreclong               float64\nGeoLocation            string\nones                    Int64\nfell                    UInt8\nfound                   UInt8\ndtype: object"
     },
     "metadata": {},
     "execution_count": 26
    }
   ],
   "source": [
    "df_meteorites.convert_dtypes().dtypes"
   ]
  },
  {
   "cell_type": "code",
   "execution_count": 27,
   "metadata": {},
   "outputs": [],
   "source": [
    "df_meteorites.rename(columns={'mass (g)':'mass'}, inplace=True)"
   ]
  },
  {
   "cell_type": "code",
   "execution_count": 28,
   "metadata": {},
   "outputs": [
    {
     "output_type": "execute_result",
     "data": {
      "text/plain": "       name   id nametype     recclass      mass  fall                year  \\\n0    Aachen    1    Valid           L5      21.0  Fell 1880-01-01 12:00:00   \n1    Aarhus    2    Valid           H6     720.0  Fell                 NaT   \n2      Abee    6    Valid          EH4 107,000.0  Fell                 NaT   \n3  Acapulco   10    Valid  Acapulcoite   1,914.0  Fell                 NaT   \n4   Achiras  370    Valid           L6     780.0  Fell                 NaT   \n\n   reclat  reclong           GeoLocation  ones  fell  found  \n0    50.8      6.1     (50.775, 6.08333)     1     1      0  \n1    56.2     10.2  (56.18333, 10.23333)     1     1      0  \n2    54.2   -113.0    (54.21667, -113.0)     1     1      0  \n3    16.9    -99.9     (16.88333, -99.9)     1     1      0  \n4   -33.2    -65.0   (-33.16667, -64.95)     1     1      0  ",
      "text/html": "<div>\n<style scoped>\n    .dataframe tbody tr th:only-of-type {\n        vertical-align: middle;\n    }\n\n    .dataframe tbody tr th {\n        vertical-align: top;\n    }\n\n    .dataframe thead th {\n        text-align: right;\n    }\n</style>\n<table border=\"1\" class=\"dataframe\">\n  <thead>\n    <tr style=\"text-align: right;\">\n      <th></th>\n      <th>name</th>\n      <th>id</th>\n      <th>nametype</th>\n      <th>recclass</th>\n      <th>mass</th>\n      <th>fall</th>\n      <th>year</th>\n      <th>reclat</th>\n      <th>reclong</th>\n      <th>GeoLocation</th>\n      <th>ones</th>\n      <th>fell</th>\n      <th>found</th>\n    </tr>\n  </thead>\n  <tbody>\n    <tr>\n      <th>0</th>\n      <td>Aachen</td>\n      <td>1</td>\n      <td>Valid</td>\n      <td>L5</td>\n      <td>21.0</td>\n      <td>Fell</td>\n      <td>1880-01-01 12:00:00</td>\n      <td>50.8</td>\n      <td>6.1</td>\n      <td>(50.775, 6.08333)</td>\n      <td>1</td>\n      <td>1</td>\n      <td>0</td>\n    </tr>\n    <tr>\n      <th>1</th>\n      <td>Aarhus</td>\n      <td>2</td>\n      <td>Valid</td>\n      <td>H6</td>\n      <td>720.0</td>\n      <td>Fell</td>\n      <td>NaT</td>\n      <td>56.2</td>\n      <td>10.2</td>\n      <td>(56.18333, 10.23333)</td>\n      <td>1</td>\n      <td>1</td>\n      <td>0</td>\n    </tr>\n    <tr>\n      <th>2</th>\n      <td>Abee</td>\n      <td>6</td>\n      <td>Valid</td>\n      <td>EH4</td>\n      <td>107,000.0</td>\n      <td>Fell</td>\n      <td>NaT</td>\n      <td>54.2</td>\n      <td>-113.0</td>\n      <td>(54.21667, -113.0)</td>\n      <td>1</td>\n      <td>1</td>\n      <td>0</td>\n    </tr>\n    <tr>\n      <th>3</th>\n      <td>Acapulco</td>\n      <td>10</td>\n      <td>Valid</td>\n      <td>Acapulcoite</td>\n      <td>1,914.0</td>\n      <td>Fell</td>\n      <td>NaT</td>\n      <td>16.9</td>\n      <td>-99.9</td>\n      <td>(16.88333, -99.9)</td>\n      <td>1</td>\n      <td>1</td>\n      <td>0</td>\n    </tr>\n    <tr>\n      <th>4</th>\n      <td>Achiras</td>\n      <td>370</td>\n      <td>Valid</td>\n      <td>L6</td>\n      <td>780.0</td>\n      <td>Fell</td>\n      <td>NaT</td>\n      <td>-33.2</td>\n      <td>-65.0</td>\n      <td>(-33.16667, -64.95)</td>\n      <td>1</td>\n      <td>1</td>\n      <td>0</td>\n    </tr>\n  </tbody>\n</table>\n</div>"
     },
     "metadata": {},
     "execution_count": 28
    }
   ],
   "source": [
    "df_meteorites.head()"
   ]
  },
  {
   "cell_type": "code",
   "execution_count": 29,
   "metadata": {},
   "outputs": [
    {
     "output_type": "execute_result",
     "data": {
      "text/plain": "['name',\n 'id',\n 'nametype',\n 'recclass',\n 'mass',\n 'fall',\n 'year',\n 'reclat',\n 'reclong',\n 'GeoLocation',\n 'ones',\n 'fell',\n 'found']"
     },
     "metadata": {},
     "execution_count": 29
    }
   ],
   "source": [
    "list(df_meteorites)"
   ]
  },
  {
   "cell_type": "code",
   "execution_count": 30,
   "metadata": {},
   "outputs": [],
   "source": [
    "df_meteorites.drop(['ones'], axis=1, inplace=True)"
   ]
  },
  {
   "cell_type": "code",
   "execution_count": 31,
   "metadata": {},
   "outputs": [
    {
     "output_type": "execute_result",
     "data": {
      "text/plain": "       name   id nametype     recclass     mass  fall                year  \\\n1    Aarhus    2    Valid           H6    720.0  Fell                 NaT   \n3  Acapulco   10    Valid  Acapulcoite  1,914.0  Fell                 NaT   \n5  Adhi Kot  379    Valid          EH4  4,239.0  Fell                 NaT   \n7      Agen  392    Valid           H5 30,000.0  Fell 1814-01-01 12:00:00   \n8    Aguada  398    Valid           L6  1,620.0  Fell                 NaT   \n\n   reclat  reclong           GeoLocation  fell  found  \n1    56.2     10.2  (56.18333, 10.23333)     1      0  \n3    16.9    -99.9     (16.88333, -99.9)     1      0  \n5    32.1     71.8          (32.1, 71.8)     1      0  \n7    44.2      0.6   (44.21667, 0.61667)     1      0  \n8   -31.6    -65.2    (-31.6, -65.23333)     1      0  ",
      "text/html": "<div>\n<style scoped>\n    .dataframe tbody tr th:only-of-type {\n        vertical-align: middle;\n    }\n\n    .dataframe tbody tr th {\n        vertical-align: top;\n    }\n\n    .dataframe thead th {\n        text-align: right;\n    }\n</style>\n<table border=\"1\" class=\"dataframe\">\n  <thead>\n    <tr style=\"text-align: right;\">\n      <th></th>\n      <th>name</th>\n      <th>id</th>\n      <th>nametype</th>\n      <th>recclass</th>\n      <th>mass</th>\n      <th>fall</th>\n      <th>year</th>\n      <th>reclat</th>\n      <th>reclong</th>\n      <th>GeoLocation</th>\n      <th>fell</th>\n      <th>found</th>\n    </tr>\n  </thead>\n  <tbody>\n    <tr>\n      <th>1</th>\n      <td>Aarhus</td>\n      <td>2</td>\n      <td>Valid</td>\n      <td>H6</td>\n      <td>720.0</td>\n      <td>Fell</td>\n      <td>NaT</td>\n      <td>56.2</td>\n      <td>10.2</td>\n      <td>(56.18333, 10.23333)</td>\n      <td>1</td>\n      <td>0</td>\n    </tr>\n    <tr>\n      <th>3</th>\n      <td>Acapulco</td>\n      <td>10</td>\n      <td>Valid</td>\n      <td>Acapulcoite</td>\n      <td>1,914.0</td>\n      <td>Fell</td>\n      <td>NaT</td>\n      <td>16.9</td>\n      <td>-99.9</td>\n      <td>(16.88333, -99.9)</td>\n      <td>1</td>\n      <td>0</td>\n    </tr>\n    <tr>\n      <th>5</th>\n      <td>Adhi Kot</td>\n      <td>379</td>\n      <td>Valid</td>\n      <td>EH4</td>\n      <td>4,239.0</td>\n      <td>Fell</td>\n      <td>NaT</td>\n      <td>32.1</td>\n      <td>71.8</td>\n      <td>(32.1, 71.8)</td>\n      <td>1</td>\n      <td>0</td>\n    </tr>\n    <tr>\n      <th>7</th>\n      <td>Agen</td>\n      <td>392</td>\n      <td>Valid</td>\n      <td>H5</td>\n      <td>30,000.0</td>\n      <td>Fell</td>\n      <td>1814-01-01 12:00:00</td>\n      <td>44.2</td>\n      <td>0.6</td>\n      <td>(44.21667, 0.61667)</td>\n      <td>1</td>\n      <td>0</td>\n    </tr>\n    <tr>\n      <th>8</th>\n      <td>Aguada</td>\n      <td>398</td>\n      <td>Valid</td>\n      <td>L6</td>\n      <td>1,620.0</td>\n      <td>Fell</td>\n      <td>NaT</td>\n      <td>-31.6</td>\n      <td>-65.2</td>\n      <td>(-31.6, -65.23333)</td>\n      <td>1</td>\n      <td>0</td>\n    </tr>\n  </tbody>\n</table>\n</div>"
     },
     "metadata": {},
     "execution_count": 31
    }
   ],
   "source": [
    "df_meteorites.drop([0,2,4,6]).head(5)    #Quita filas "
   ]
  },
  {
   "cell_type": "code",
   "execution_count": 32,
   "metadata": {},
   "outputs": [],
   "source": [
    "df  = df_meteorites.copy(deep=True)         #La forma correcta de hacer una copia \n",
    "df.drop(['id'],axis=1,inplace=True)"
   ]
  },
  {
   "cell_type": "code",
   "execution_count": 33,
   "metadata": {},
   "outputs": [
    {
     "output_type": "execute_result",
     "data": {
      "text/plain": "       name nametype     recclass      mass  fall                year  reclat  \\\n0    Aachen    Valid           L5      21.0  Fell 1880-01-01 12:00:00    50.8   \n1    Aarhus    Valid           H6     720.0  Fell                 NaT    56.2   \n2      Abee    Valid          EH4 107,000.0  Fell                 NaT    54.2   \n3  Acapulco    Valid  Acapulcoite   1,914.0  Fell                 NaT    16.9   \n4   Achiras    Valid           L6     780.0  Fell                 NaT   -33.2   \n\n   reclong           GeoLocation  fell  found  \n0      6.1     (50.775, 6.08333)     1      0  \n1     10.2  (56.18333, 10.23333)     1      0  \n2   -113.0    (54.21667, -113.0)     1      0  \n3    -99.9     (16.88333, -99.9)     1      0  \n4    -65.0   (-33.16667, -64.95)     1      0  ",
      "text/html": "<div>\n<style scoped>\n    .dataframe tbody tr th:only-of-type {\n        vertical-align: middle;\n    }\n\n    .dataframe tbody tr th {\n        vertical-align: top;\n    }\n\n    .dataframe thead th {\n        text-align: right;\n    }\n</style>\n<table border=\"1\" class=\"dataframe\">\n  <thead>\n    <tr style=\"text-align: right;\">\n      <th></th>\n      <th>name</th>\n      <th>nametype</th>\n      <th>recclass</th>\n      <th>mass</th>\n      <th>fall</th>\n      <th>year</th>\n      <th>reclat</th>\n      <th>reclong</th>\n      <th>GeoLocation</th>\n      <th>fell</th>\n      <th>found</th>\n    </tr>\n  </thead>\n  <tbody>\n    <tr>\n      <th>0</th>\n      <td>Aachen</td>\n      <td>Valid</td>\n      <td>L5</td>\n      <td>21.0</td>\n      <td>Fell</td>\n      <td>1880-01-01 12:00:00</td>\n      <td>50.8</td>\n      <td>6.1</td>\n      <td>(50.775, 6.08333)</td>\n      <td>1</td>\n      <td>0</td>\n    </tr>\n    <tr>\n      <th>1</th>\n      <td>Aarhus</td>\n      <td>Valid</td>\n      <td>H6</td>\n      <td>720.0</td>\n      <td>Fell</td>\n      <td>NaT</td>\n      <td>56.2</td>\n      <td>10.2</td>\n      <td>(56.18333, 10.23333)</td>\n      <td>1</td>\n      <td>0</td>\n    </tr>\n    <tr>\n      <th>2</th>\n      <td>Abee</td>\n      <td>Valid</td>\n      <td>EH4</td>\n      <td>107,000.0</td>\n      <td>Fell</td>\n      <td>NaT</td>\n      <td>54.2</td>\n      <td>-113.0</td>\n      <td>(54.21667, -113.0)</td>\n      <td>1</td>\n      <td>0</td>\n    </tr>\n    <tr>\n      <th>3</th>\n      <td>Acapulco</td>\n      <td>Valid</td>\n      <td>Acapulcoite</td>\n      <td>1,914.0</td>\n      <td>Fell</td>\n      <td>NaT</td>\n      <td>16.9</td>\n      <td>-99.9</td>\n      <td>(16.88333, -99.9)</td>\n      <td>1</td>\n      <td>0</td>\n    </tr>\n    <tr>\n      <th>4</th>\n      <td>Achiras</td>\n      <td>Valid</td>\n      <td>L6</td>\n      <td>780.0</td>\n      <td>Fell</td>\n      <td>NaT</td>\n      <td>-33.2</td>\n      <td>-65.0</td>\n      <td>(-33.16667, -64.95)</td>\n      <td>1</td>\n      <td>0</td>\n    </tr>\n  </tbody>\n</table>\n</div>"
     },
     "metadata": {},
     "execution_count": 33
    }
   ],
   "source": [
    "df.head(5)"
   ]
  },
  {
   "cell_type": "code",
   "execution_count": 34,
   "metadata": {},
   "outputs": [
    {
     "output_type": "execute_result",
     "data": {
      "text/plain": "       name   id nametype     recclass      mass  fall                year  \\\n0    Aachen    1    Valid           L5      21.0  Fell 1880-01-01 12:00:00   \n1    Aarhus    2    Valid           H6     720.0  Fell                 NaT   \n2      Abee    6    Valid          EH4 107,000.0  Fell                 NaT   \n3  Acapulco   10    Valid  Acapulcoite   1,914.0  Fell                 NaT   \n4   Achiras  370    Valid           L6     780.0  Fell                 NaT   \n\n   reclat  reclong           GeoLocation  fell  found  \n0    50.8      6.1     (50.775, 6.08333)     1      0  \n1    56.2     10.2  (56.18333, 10.23333)     1      0  \n2    54.2   -113.0    (54.21667, -113.0)     1      0  \n3    16.9    -99.9     (16.88333, -99.9)     1      0  \n4   -33.2    -65.0   (-33.16667, -64.95)     1      0  ",
      "text/html": "<div>\n<style scoped>\n    .dataframe tbody tr th:only-of-type {\n        vertical-align: middle;\n    }\n\n    .dataframe tbody tr th {\n        vertical-align: top;\n    }\n\n    .dataframe thead th {\n        text-align: right;\n    }\n</style>\n<table border=\"1\" class=\"dataframe\">\n  <thead>\n    <tr style=\"text-align: right;\">\n      <th></th>\n      <th>name</th>\n      <th>id</th>\n      <th>nametype</th>\n      <th>recclass</th>\n      <th>mass</th>\n      <th>fall</th>\n      <th>year</th>\n      <th>reclat</th>\n      <th>reclong</th>\n      <th>GeoLocation</th>\n      <th>fell</th>\n      <th>found</th>\n    </tr>\n  </thead>\n  <tbody>\n    <tr>\n      <th>0</th>\n      <td>Aachen</td>\n      <td>1</td>\n      <td>Valid</td>\n      <td>L5</td>\n      <td>21.0</td>\n      <td>Fell</td>\n      <td>1880-01-01 12:00:00</td>\n      <td>50.8</td>\n      <td>6.1</td>\n      <td>(50.775, 6.08333)</td>\n      <td>1</td>\n      <td>0</td>\n    </tr>\n    <tr>\n      <th>1</th>\n      <td>Aarhus</td>\n      <td>2</td>\n      <td>Valid</td>\n      <td>H6</td>\n      <td>720.0</td>\n      <td>Fell</td>\n      <td>NaT</td>\n      <td>56.2</td>\n      <td>10.2</td>\n      <td>(56.18333, 10.23333)</td>\n      <td>1</td>\n      <td>0</td>\n    </tr>\n    <tr>\n      <th>2</th>\n      <td>Abee</td>\n      <td>6</td>\n      <td>Valid</td>\n      <td>EH4</td>\n      <td>107,000.0</td>\n      <td>Fell</td>\n      <td>NaT</td>\n      <td>54.2</td>\n      <td>-113.0</td>\n      <td>(54.21667, -113.0)</td>\n      <td>1</td>\n      <td>0</td>\n    </tr>\n    <tr>\n      <th>3</th>\n      <td>Acapulco</td>\n      <td>10</td>\n      <td>Valid</td>\n      <td>Acapulcoite</td>\n      <td>1,914.0</td>\n      <td>Fell</td>\n      <td>NaT</td>\n      <td>16.9</td>\n      <td>-99.9</td>\n      <td>(16.88333, -99.9)</td>\n      <td>1</td>\n      <td>0</td>\n    </tr>\n    <tr>\n      <th>4</th>\n      <td>Achiras</td>\n      <td>370</td>\n      <td>Valid</td>\n      <td>L6</td>\n      <td>780.0</td>\n      <td>Fell</td>\n      <td>NaT</td>\n      <td>-33.2</td>\n      <td>-65.0</td>\n      <td>(-33.16667, -64.95)</td>\n      <td>1</td>\n      <td>0</td>\n    </tr>\n  </tbody>\n</table>\n</div>"
     },
     "metadata": {},
     "execution_count": 34
    }
   ],
   "source": [
    "df_meteorites.head(5)"
   ]
  }
 ],
 "metadata": {
  "kernelspec": {
   "name": "python37464bitanacondaconda74954a3f106b47d99d44e5fb8ca66932",
   "display_name": "Python 3.7.4 64-bit ('Anaconda': conda)"
  }
 },
 "nbformat": 4,
 "nbformat_minor": 2
}