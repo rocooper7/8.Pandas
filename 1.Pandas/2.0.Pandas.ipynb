{
 "cells": [
  {
   "cell_type": "code",
   "execution_count": 1,
   "metadata": {},
   "outputs": [
    {
     "output_type": "execute_result",
     "data": {
      "text/plain": "'1.0.3'"
     },
     "metadata": {},
     "execution_count": 1
    }
   ],
   "source": [
    "import pandas as pd\n",
    "import numpy as np\n",
    "pd.__version__"
   ]
  },
  {
   "cell_type": "markdown",
   "metadata": {},
   "source": [
    "## Series"
   ]
  },
  {
   "cell_type": "code",
   "execution_count": 2,
   "metadata": {},
   "outputs": [
    {
     "output_type": "execute_result",
     "data": {
      "text/plain": "0    1\n1    2\n2    3\n3    4\n4    5\ndtype: int64"
     },
     "metadata": {},
     "execution_count": 2
    }
   ],
   "source": [
    "a = pd.Series([1,2,3,4,5])\n",
    "a"
   ]
  },
  {
   "cell_type": "code",
   "execution_count": 3,
   "metadata": {},
   "outputs": [
    {
     "output_type": "execute_result",
     "data": {
      "text/plain": "0    1.0\n1    2.0\n2    3.0\n3    4.0\n4    5.0\ndtype: float64"
     },
     "metadata": {},
     "execution_count": 3
    }
   ],
   "source": [
    "a = pd.Series([1,2,3,4,5],dtype=np.float)   #Se utiliza numpy para cambiar el tipo de dato\n",
    "a"
   ]
  },
  {
   "cell_type": "code",
   "execution_count": 4,
   "metadata": {},
   "outputs": [
    {
     "output_type": "execute_result",
     "data": {
      "text/plain": "0    90.0\n1     2.0\n2     3.0\n3     4.0\n4     5.0\ndtype: float64"
     },
     "metadata": {},
     "execution_count": 4
    }
   ],
   "source": [
    "a[0]\n",
    "a[0] = 90.0 \n",
    "a"
   ]
  },
  {
   "cell_type": "code",
   "execution_count": 5,
   "metadata": {},
   "outputs": [
    {
     "output_type": "execute_result",
     "data": {
      "text/plain": "0    90.0\n1     2.0\n4     5.0\ndtype: float64"
     },
     "metadata": {},
     "execution_count": 5
    }
   ],
   "source": [
    "a[(a>4) | (a==2)]   #or es | en pandas y and es &"
   ]
  },
  {
   "cell_type": "code",
   "execution_count": 6,
   "metadata": {},
   "outputs": [
    {
     "output_type": "execute_result",
     "data": {
      "text/plain": "0    1.0\n1    NaN\n2    3.0\n3    NaN\n4    5.0\ndtype: float64"
     },
     "metadata": {},
     "execution_count": 6
    }
   ],
   "source": [
    "a = pd.Series([1,np.NaN,3,np.NaN,5])\n",
    "a"
   ]
  },
  {
   "cell_type": "code",
   "execution_count": 7,
   "metadata": {},
   "outputs": [
    {
     "output_type": "execute_result",
     "data": {
      "text/plain": "0    False\n1     True\n2    False\n3     True\n4    False\ndtype: bool"
     },
     "metadata": {},
     "execution_count": 7
    }
   ],
   "source": [
    "pd.isnull(a)   #notnull"
   ]
  },
  {
   "cell_type": "code",
   "execution_count": 8,
   "metadata": {},
   "outputs": [
    {
     "output_type": "execute_result",
     "data": {
      "text/plain": "0    1.0\n2    3.0\n4    5.0\ndtype: float64"
     },
     "metadata": {},
     "execution_count": 8
    }
   ],
   "source": [
    "a.dropna()   #Quitar valores nulos "
   ]
  },
  {
   "cell_type": "code",
   "execution_count": 9,
   "metadata": {},
   "outputs": [
    {
     "output_type": "execute_result",
     "data": {
      "text/plain": "0    1.0\n1    NaN\n2    3.0\n3    NaN\n4    5.0\ndtype: float64"
     },
     "metadata": {},
     "execution_count": 9
    }
   ],
   "source": [
    "a = pd.Series([1,np.NaN,3,np.NaN,5])\n",
    "a"
   ]
  },
  {
   "cell_type": "code",
   "execution_count": 10,
   "metadata": {},
   "outputs": [
    {
     "output_type": "execute_result",
     "data": {
      "text/plain": "0     1.0\n1    99.0\n2     3.0\n3    99.0\n4     5.0\ndtype: float64"
     },
     "metadata": {},
     "execution_count": 10
    }
   ],
   "source": [
    "a.fillna(99)"
   ]
  },
  {
   "cell_type": "markdown",
   "metadata": {},
   "source": [
    "## Dataframe"
   ]
  },
  {
   "cell_type": "code",
   "execution_count": 11,
   "metadata": {},
   "outputs": [
    {
     "output_type": "execute_result",
     "data": {
      "text/plain": "dict_keys(['CO', 'MX', 'AR'])"
     },
     "metadata": {},
     "execution_count": 11
    }
   ],
   "source": [
    "dict_data = {'CO':100,'MX':200,'AR':300}\n",
    "dict_data.keys()   "
   ]
  },
  {
   "cell_type": "code",
   "execution_count": 12,
   "metadata": {},
   "outputs": [
    {
     "output_type": "execute_result",
     "data": {
      "text/plain": "     nombre  edad   cm pais genero    Q1   Q2\n0       ana    10  115   co      M   5.0  7.0\n1    benito     9  110   mx      F  10.0  9.0\n2    camilo    13  130   co      F   8.0  9.0\n3    daniel    14  155   mx      M   NaN  8.0\n4     erika    12  125   mx      M   7.0  8.0\n5    fabian    11  120   ch      M   8.0  8.0\n6  gabriela    12  125   ch      F   3.0  9.0",
      "text/html": "<div>\n<style scoped>\n    .dataframe tbody tr th:only-of-type {\n        vertical-align: middle;\n    }\n\n    .dataframe tbody tr th {\n        vertical-align: top;\n    }\n\n    .dataframe thead th {\n        text-align: right;\n    }\n</style>\n<table border=\"1\" class=\"dataframe\">\n  <thead>\n    <tr style=\"text-align: right;\">\n      <th></th>\n      <th>nombre</th>\n      <th>edad</th>\n      <th>cm</th>\n      <th>pais</th>\n      <th>genero</th>\n      <th>Q1</th>\n      <th>Q2</th>\n    </tr>\n  </thead>\n  <tbody>\n    <tr>\n      <th>0</th>\n      <td>ana</td>\n      <td>10</td>\n      <td>115</td>\n      <td>co</td>\n      <td>M</td>\n      <td>5.0</td>\n      <td>7.0</td>\n    </tr>\n    <tr>\n      <th>1</th>\n      <td>benito</td>\n      <td>9</td>\n      <td>110</td>\n      <td>mx</td>\n      <td>F</td>\n      <td>10.0</td>\n      <td>9.0</td>\n    </tr>\n    <tr>\n      <th>2</th>\n      <td>camilo</td>\n      <td>13</td>\n      <td>130</td>\n      <td>co</td>\n      <td>F</td>\n      <td>8.0</td>\n      <td>9.0</td>\n    </tr>\n    <tr>\n      <th>3</th>\n      <td>daniel</td>\n      <td>14</td>\n      <td>155</td>\n      <td>mx</td>\n      <td>M</td>\n      <td>NaN</td>\n      <td>8.0</td>\n    </tr>\n    <tr>\n      <th>4</th>\n      <td>erika</td>\n      <td>12</td>\n      <td>125</td>\n      <td>mx</td>\n      <td>M</td>\n      <td>7.0</td>\n      <td>8.0</td>\n    </tr>\n    <tr>\n      <th>5</th>\n      <td>fabian</td>\n      <td>11</td>\n      <td>120</td>\n      <td>ch</td>\n      <td>M</td>\n      <td>8.0</td>\n      <td>8.0</td>\n    </tr>\n    <tr>\n      <th>6</th>\n      <td>gabriela</td>\n      <td>12</td>\n      <td>125</td>\n      <td>ch</td>\n      <td>F</td>\n      <td>3.0</td>\n      <td>9.0</td>\n    </tr>\n  </tbody>\n</table>\n</div>"
     },
     "metadata": {},
     "execution_count": 12
    }
   ],
   "source": [
    "dicc = {\n",
    "    'nombre': ['ana','benito','camilo','daniel','erika','fabian','gabriela'],\n",
    "    'edad': [10, 9, 13, 14, 12, 11, 12],\n",
    "    'cm': [115, 110, 130, 155, 125, 120, 125],\n",
    "    'pais': ['co', 'mx', 'co', 'mx', 'mx', 'ch', 'ch'],\n",
    "    'genero': ['M', 'F', 'F', 'M', 'M', 'M', 'F'],\n",
    "    'Q1': [5, 10, 8, np.nan, 7, 8, 3],\n",
    "    'Q2': [7, 9, 9, 8, 8, 8, 9.]}\n",
    "pd.DataFrame(dicc)#, index=['a','b','c','d','e','f','g'])"
   ]
  },
  {
   "cell_type": "code",
   "execution_count": 13,
   "metadata": {},
   "outputs": [
    {
     "output_type": "execute_result",
     "data": {
      "text/plain": "0       ana\n1    benito\nName: nombre, dtype: object"
     },
     "metadata": {},
     "execution_count": 13
    }
   ],
   "source": [
    "a = pd.DataFrame(dicc)\n",
    "a['nombre'].head(2)"
   ]
  },
  {
   "cell_type": "code",
   "execution_count": 14,
   "metadata": {},
   "outputs": [
    {
     "output_type": "execute_result",
     "data": {
      "text/plain": "RangeIndex(start=0, stop=7, step=1)"
     },
     "metadata": {},
     "execution_count": 14
    }
   ],
   "source": [
    "a.index #.values"
   ]
  },
  {
   "cell_type": "code",
   "execution_count": 15,
   "metadata": {},
   "outputs": [
    {
     "output_type": "execute_result",
     "data": {
      "text/plain": "Index(['nombre', 'edad', 'cm', 'pais', 'genero', 'Q1', 'Q2'], dtype='object')"
     },
     "metadata": {},
     "execution_count": 15
    }
   ],
   "source": [
    "a.columns #.values"
   ]
  },
  {
   "cell_type": "code",
   "execution_count": 16,
   "metadata": {},
   "outputs": [
    {
     "output_type": "execute_result",
     "data": {
      "text/plain": "array([ 5., 10.,  8., nan,  7.,  8.,  3.])"
     },
     "metadata": {},
     "execution_count": 16
    }
   ],
   "source": [
    "a['Q1'].values"
   ]
  },
  {
   "cell_type": "code",
   "execution_count": 17,
   "metadata": {},
   "outputs": [
    {
     "output_type": "execute_result",
     "data": {
      "text/plain": "array(['co', 'mx', 'ch'], dtype=object)"
     },
     "metadata": {},
     "execution_count": 17
    }
   ],
   "source": [
    "a.pais.unique()      #Trae los valores unicos de la columna "
   ]
  },
  {
   "cell_type": "code",
   "execution_count": 18,
   "metadata": {},
   "outputs": [
    {
     "output_type": "execute_result",
     "data": {
      "text/plain": "M    4\nF    3\nName: genero, dtype: int64"
     },
     "metadata": {},
     "execution_count": 18
    }
   ],
   "source": [
    "a.genero.value_counts()"
   ]
  },
  {
   "cell_type": "code",
   "execution_count": 19,
   "metadata": {},
   "outputs": [
    {
     "output_type": "execute_result",
     "data": {
      "text/plain": "array([['ana', 10, 115, 'co', 'M', 5.0, 7.0],\n       ['benito', 9, 110, 'mx', 'F', 10.0, 9.0],\n       ['camilo', 13, 130, 'co', 'F', 8.0, 9.0],\n       ['daniel', 14, 155, 'mx', 'M', nan, 8.0],\n       ['erika', 12, 125, 'mx', 'M', 7.0, 8.0],\n       ['fabian', 11, 120, 'ch', 'M', 8.0, 8.0],\n       ['gabriela', 12, 125, 'ch', 'F', 3.0, 9.0]], dtype=object)"
     },
     "metadata": {},
     "execution_count": 19
    }
   ],
   "source": [
    "a.values"
   ]
  },
  {
   "cell_type": "code",
   "execution_count": 20,
   "metadata": {},
   "outputs": [
    {
     "output_type": "execute_result",
     "data": {
      "text/plain": "     nombre  edad\n0       ana    10\n1    benito     9\n2    camilo    13\n3    daniel    14\n4     erika    12\n5    fabian    11\n6  gabriela    12",
      "text/html": "<div>\n<style scoped>\n    .dataframe tbody tr th:only-of-type {\n        vertical-align: middle;\n    }\n\n    .dataframe tbody tr th {\n        vertical-align: top;\n    }\n\n    .dataframe thead th {\n        text-align: right;\n    }\n</style>\n<table border=\"1\" class=\"dataframe\">\n  <thead>\n    <tr style=\"text-align: right;\">\n      <th></th>\n      <th>nombre</th>\n      <th>edad</th>\n    </tr>\n  </thead>\n  <tbody>\n    <tr>\n      <th>0</th>\n      <td>ana</td>\n      <td>10</td>\n    </tr>\n    <tr>\n      <th>1</th>\n      <td>benito</td>\n      <td>9</td>\n    </tr>\n    <tr>\n      <th>2</th>\n      <td>camilo</td>\n      <td>13</td>\n    </tr>\n    <tr>\n      <th>3</th>\n      <td>daniel</td>\n      <td>14</td>\n    </tr>\n    <tr>\n      <th>4</th>\n      <td>erika</td>\n      <td>12</td>\n    </tr>\n    <tr>\n      <th>5</th>\n      <td>fabian</td>\n      <td>11</td>\n    </tr>\n    <tr>\n      <th>6</th>\n      <td>gabriela</td>\n      <td>12</td>\n    </tr>\n  </tbody>\n</table>\n</div>"
     },
     "metadata": {},
     "execution_count": 20
    }
   ],
   "source": [
    "a[['nombre','edad']]"
   ]
  },
  {
   "cell_type": "code",
   "execution_count": 21,
   "metadata": {},
   "outputs": [
    {
     "output_type": "execute_result",
     "data": {
      "text/plain": "   nombre  edad\n0     ana    10\n1  benito     9\n2  camilo    13\n3  daniel    14\n4   erika    12",
      "text/html": "<div>\n<style scoped>\n    .dataframe tbody tr th:only-of-type {\n        vertical-align: middle;\n    }\n\n    .dataframe tbody tr th {\n        vertical-align: top;\n    }\n\n    .dataframe thead th {\n        text-align: right;\n    }\n</style>\n<table border=\"1\" class=\"dataframe\">\n  <thead>\n    <tr style=\"text-align: right;\">\n      <th></th>\n      <th>nombre</th>\n      <th>edad</th>\n    </tr>\n  </thead>\n  <tbody>\n    <tr>\n      <th>0</th>\n      <td>ana</td>\n      <td>10</td>\n    </tr>\n    <tr>\n      <th>1</th>\n      <td>benito</td>\n      <td>9</td>\n    </tr>\n    <tr>\n      <th>2</th>\n      <td>camilo</td>\n      <td>13</td>\n    </tr>\n    <tr>\n      <th>3</th>\n      <td>daniel</td>\n      <td>14</td>\n    </tr>\n    <tr>\n      <th>4</th>\n      <td>erika</td>\n      <td>12</td>\n    </tr>\n  </tbody>\n</table>\n</div>"
     },
     "metadata": {},
     "execution_count": 21
    }
   ],
   "source": [
    "b = pd.DataFrame(dicc,columns= ['nombre','edad'])\n",
    "b.head()"
   ]
  },
  {
   "cell_type": "code",
   "execution_count": 22,
   "metadata": {},
   "outputs": [
    {
     "output_type": "execute_result",
     "data": {
      "text/plain": "     nombre  age   cm pais genero    Q1   Q2\n0       ana   10  115   co      M   5.0  7.0\n1    benito    9  110   mx      F  10.0  9.0\n2    camilo   13  130   co      F   8.0  9.0\n3    daniel   14  155   mx      M   NaN  8.0\n4     erika   12  125   mx      M   7.0  8.0\n5    fabian   11  120   ch      M   8.0  8.0\n6  gabriela   12  125   ch      F   3.0  9.0",
      "text/html": "<div>\n<style scoped>\n    .dataframe tbody tr th:only-of-type {\n        vertical-align: middle;\n    }\n\n    .dataframe tbody tr th {\n        vertical-align: top;\n    }\n\n    .dataframe thead th {\n        text-align: right;\n    }\n</style>\n<table border=\"1\" class=\"dataframe\">\n  <thead>\n    <tr style=\"text-align: right;\">\n      <th></th>\n      <th>nombre</th>\n      <th>age</th>\n      <th>cm</th>\n      <th>pais</th>\n      <th>genero</th>\n      <th>Q1</th>\n      <th>Q2</th>\n    </tr>\n  </thead>\n  <tbody>\n    <tr>\n      <th>0</th>\n      <td>ana</td>\n      <td>10</td>\n      <td>115</td>\n      <td>co</td>\n      <td>M</td>\n      <td>5.0</td>\n      <td>7.0</td>\n    </tr>\n    <tr>\n      <th>1</th>\n      <td>benito</td>\n      <td>9</td>\n      <td>110</td>\n      <td>mx</td>\n      <td>F</td>\n      <td>10.0</td>\n      <td>9.0</td>\n    </tr>\n    <tr>\n      <th>2</th>\n      <td>camilo</td>\n      <td>13</td>\n      <td>130</td>\n      <td>co</td>\n      <td>F</td>\n      <td>8.0</td>\n      <td>9.0</td>\n    </tr>\n    <tr>\n      <th>3</th>\n      <td>daniel</td>\n      <td>14</td>\n      <td>155</td>\n      <td>mx</td>\n      <td>M</td>\n      <td>NaN</td>\n      <td>8.0</td>\n    </tr>\n    <tr>\n      <th>4</th>\n      <td>erika</td>\n      <td>12</td>\n      <td>125</td>\n      <td>mx</td>\n      <td>M</td>\n      <td>7.0</td>\n      <td>8.0</td>\n    </tr>\n    <tr>\n      <th>5</th>\n      <td>fabian</td>\n      <td>11</td>\n      <td>120</td>\n      <td>ch</td>\n      <td>M</td>\n      <td>8.0</td>\n      <td>8.0</td>\n    </tr>\n    <tr>\n      <th>6</th>\n      <td>gabriela</td>\n      <td>12</td>\n      <td>125</td>\n      <td>ch</td>\n      <td>F</td>\n      <td>3.0</td>\n      <td>9.0</td>\n    </tr>\n  </tbody>\n</table>\n</div>"
     },
     "metadata": {},
     "execution_count": 22
    }
   ],
   "source": [
    "a.rename(columns = {'edad':'age'})"
   ]
  },
  {
   "cell_type": "code",
   "execution_count": 23,
   "metadata": {},
   "outputs": [
    {
     "output_type": "execute_result",
     "data": {
      "text/plain": "2    13\n3    14\n4    12\n5    11\n6    12\nName: edad, dtype: int64"
     },
     "metadata": {},
     "execution_count": 23
    }
   ],
   "source": [
    "a.edad[a.edad>10]       #Se aplica el filtro en la columna "
   ]
  },
  {
   "cell_type": "code",
   "execution_count": 24,
   "metadata": {},
   "outputs": [
    {
     "output_type": "execute_result",
     "data": {
      "text/plain": "0    False\n1    False\n2     True\n3     True\n4     True\n5    False\n6     True\nName: edad, dtype: bool"
     },
     "metadata": {},
     "execution_count": 24
    }
   ],
   "source": [
    "a['edad'] >= 12"
   ]
  },
  {
   "cell_type": "code",
   "execution_count": 25,
   "metadata": {},
   "outputs": [
    {
     "output_type": "execute_result",
     "data": {
      "text/plain": "     nombre  edad   cm pais genero   Q1   Q2\n2    camilo    13  130   co      F  8.0  9.0\n3    daniel    14  155   mx      M  NaN  8.0\n4     erika    12  125   mx      M  7.0  8.0\n6  gabriela    12  125   ch      F  3.0  9.0",
      "text/html": "<div>\n<style scoped>\n    .dataframe tbody tr th:only-of-type {\n        vertical-align: middle;\n    }\n\n    .dataframe tbody tr th {\n        vertical-align: top;\n    }\n\n    .dataframe thead th {\n        text-align: right;\n    }\n</style>\n<table border=\"1\" class=\"dataframe\">\n  <thead>\n    <tr style=\"text-align: right;\">\n      <th></th>\n      <th>nombre</th>\n      <th>edad</th>\n      <th>cm</th>\n      <th>pais</th>\n      <th>genero</th>\n      <th>Q1</th>\n      <th>Q2</th>\n    </tr>\n  </thead>\n  <tbody>\n    <tr>\n      <th>2</th>\n      <td>camilo</td>\n      <td>13</td>\n      <td>130</td>\n      <td>co</td>\n      <td>F</td>\n      <td>8.0</td>\n      <td>9.0</td>\n    </tr>\n    <tr>\n      <th>3</th>\n      <td>daniel</td>\n      <td>14</td>\n      <td>155</td>\n      <td>mx</td>\n      <td>M</td>\n      <td>NaN</td>\n      <td>8.0</td>\n    </tr>\n    <tr>\n      <th>4</th>\n      <td>erika</td>\n      <td>12</td>\n      <td>125</td>\n      <td>mx</td>\n      <td>M</td>\n      <td>7.0</td>\n      <td>8.0</td>\n    </tr>\n    <tr>\n      <th>6</th>\n      <td>gabriela</td>\n      <td>12</td>\n      <td>125</td>\n      <td>ch</td>\n      <td>F</td>\n      <td>3.0</td>\n      <td>9.0</td>\n    </tr>\n  </tbody>\n</table>\n</div>"
     },
     "metadata": {},
     "execution_count": 25
    }
   ],
   "source": [
    "a[a['edad'] >= 12]          #Se aplica la logica al dataframe"
   ]
  },
  {
   "cell_type": "code",
   "execution_count": 26,
   "metadata": {},
   "outputs": [
    {
     "output_type": "execute_result",
     "data": {
      "text/plain": "0    False\n1    False\n2    False\n3     True\n4     True\n5    False\n6     True\ndtype: bool"
     },
     "metadata": {},
     "execution_count": 26
    }
   ],
   "source": [
    "mask = (a['edad'] >= 12) & (a['pais'].isin(['mx','ch']))    #Booleann filtering\n",
    "mask"
   ]
  },
  {
   "cell_type": "code",
   "execution_count": 27,
   "metadata": {},
   "outputs": [
    {
     "output_type": "execute_result",
     "data": {
      "text/plain": "     nombre  edad   cm pais genero   Q1   Q2\n3    daniel    14  155   mx      M  NaN  8.0\n4     erika    12  125   mx      M  7.0  8.0\n6  gabriela    12  125   ch      F  3.0  9.0",
      "text/html": "<div>\n<style scoped>\n    .dataframe tbody tr th:only-of-type {\n        vertical-align: middle;\n    }\n\n    .dataframe tbody tr th {\n        vertical-align: top;\n    }\n\n    .dataframe thead th {\n        text-align: right;\n    }\n</style>\n<table border=\"1\" class=\"dataframe\">\n  <thead>\n    <tr style=\"text-align: right;\">\n      <th></th>\n      <th>nombre</th>\n      <th>edad</th>\n      <th>cm</th>\n      <th>pais</th>\n      <th>genero</th>\n      <th>Q1</th>\n      <th>Q2</th>\n    </tr>\n  </thead>\n  <tbody>\n    <tr>\n      <th>3</th>\n      <td>daniel</td>\n      <td>14</td>\n      <td>155</td>\n      <td>mx</td>\n      <td>M</td>\n      <td>NaN</td>\n      <td>8.0</td>\n    </tr>\n    <tr>\n      <th>4</th>\n      <td>erika</td>\n      <td>12</td>\n      <td>125</td>\n      <td>mx</td>\n      <td>M</td>\n      <td>7.0</td>\n      <td>8.0</td>\n    </tr>\n    <tr>\n      <th>6</th>\n      <td>gabriela</td>\n      <td>12</td>\n      <td>125</td>\n      <td>ch</td>\n      <td>F</td>\n      <td>3.0</td>\n      <td>9.0</td>\n    </tr>\n  </tbody>\n</table>\n</div>"
     },
     "metadata": {},
     "execution_count": 27
    }
   ],
   "source": [
    "a[mask]"
   ]
  },
  {
   "cell_type": "code",
   "execution_count": 28,
   "metadata": {},
   "outputs": [
    {
     "output_type": "execute_result",
     "data": {
      "text/plain": "     nombre  edad   cm pais genero   Q1   Q2\n3    daniel    14  155   mx      M  NaN  8.0\n4     erika    12  125   mx      M  7.0  8.0\n6  gabriela    12  125   ch      F  3.0  9.0",
      "text/html": "<div>\n<style scoped>\n    .dataframe tbody tr th:only-of-type {\n        vertical-align: middle;\n    }\n\n    .dataframe tbody tr th {\n        vertical-align: top;\n    }\n\n    .dataframe thead th {\n        text-align: right;\n    }\n</style>\n<table border=\"1\" class=\"dataframe\">\n  <thead>\n    <tr style=\"text-align: right;\">\n      <th></th>\n      <th>nombre</th>\n      <th>edad</th>\n      <th>cm</th>\n      <th>pais</th>\n      <th>genero</th>\n      <th>Q1</th>\n      <th>Q2</th>\n    </tr>\n  </thead>\n  <tbody>\n    <tr>\n      <th>3</th>\n      <td>daniel</td>\n      <td>14</td>\n      <td>155</td>\n      <td>mx</td>\n      <td>M</td>\n      <td>NaN</td>\n      <td>8.0</td>\n    </tr>\n    <tr>\n      <th>4</th>\n      <td>erika</td>\n      <td>12</td>\n      <td>125</td>\n      <td>mx</td>\n      <td>M</td>\n      <td>7.0</td>\n      <td>8.0</td>\n    </tr>\n    <tr>\n      <th>6</th>\n      <td>gabriela</td>\n      <td>12</td>\n      <td>125</td>\n      <td>ch</td>\n      <td>F</td>\n      <td>3.0</td>\n      <td>9.0</td>\n    </tr>\n  </tbody>\n</table>\n</div>"
     },
     "metadata": {},
     "execution_count": 28
    }
   ],
   "source": [
    "a.query('edad >= 12 & pais == [\"mx\",\"ch\"]')       #Filtros, forma de sustituir a los boolean filtering"
   ]
  },
  {
   "cell_type": "code",
   "execution_count": 29,
   "metadata": {},
   "outputs": [
    {
     "output_type": "execute_result",
     "data": {
      "text/plain": "     nombre  edad   cm pais genero   Q1   Q2\n0       ana    10  115   co      M  5.0  7.0\n2    camilo    13  130   co      F  8.0  9.0\n4     erika    12  125   mx      M  7.0  8.0\n5    fabian    11  120   ch      M  8.0  8.0\n6  gabriela    12  125   ch      F  3.0  9.0",
      "text/html": "<div>\n<style scoped>\n    .dataframe tbody tr th:only-of-type {\n        vertical-align: middle;\n    }\n\n    .dataframe tbody tr th {\n        vertical-align: top;\n    }\n\n    .dataframe thead th {\n        text-align: right;\n    }\n</style>\n<table border=\"1\" class=\"dataframe\">\n  <thead>\n    <tr style=\"text-align: right;\">\n      <th></th>\n      <th>nombre</th>\n      <th>edad</th>\n      <th>cm</th>\n      <th>pais</th>\n      <th>genero</th>\n      <th>Q1</th>\n      <th>Q2</th>\n    </tr>\n  </thead>\n  <tbody>\n    <tr>\n      <th>0</th>\n      <td>ana</td>\n      <td>10</td>\n      <td>115</td>\n      <td>co</td>\n      <td>M</td>\n      <td>5.0</td>\n      <td>7.0</td>\n    </tr>\n    <tr>\n      <th>2</th>\n      <td>camilo</td>\n      <td>13</td>\n      <td>130</td>\n      <td>co</td>\n      <td>F</td>\n      <td>8.0</td>\n      <td>9.0</td>\n    </tr>\n    <tr>\n      <th>4</th>\n      <td>erika</td>\n      <td>12</td>\n      <td>125</td>\n      <td>mx</td>\n      <td>M</td>\n      <td>7.0</td>\n      <td>8.0</td>\n    </tr>\n    <tr>\n      <th>5</th>\n      <td>fabian</td>\n      <td>11</td>\n      <td>120</td>\n      <td>ch</td>\n      <td>M</td>\n      <td>8.0</td>\n      <td>8.0</td>\n    </tr>\n    <tr>\n      <th>6</th>\n      <td>gabriela</td>\n      <td>12</td>\n      <td>125</td>\n      <td>ch</td>\n      <td>F</td>\n      <td>3.0</td>\n      <td>9.0</td>\n    </tr>\n  </tbody>\n</table>\n</div>"
     },
     "metadata": {},
     "execution_count": 29
    }
   ],
   "source": [
    "a[a['Q2'] >= a['Q1']]"
   ]
  },
  {
   "cell_type": "code",
   "execution_count": 30,
   "metadata": {},
   "outputs": [
    {
     "output_type": "execute_result",
     "data": {
      "text/plain": "     nombre  edad   cm pais genero    Q1   Q2\n0       ana    11  115   co      M   5.0  7.0\n1    benito    10  110   mx      F  10.0  9.0\n2    camilo    14  130   co      F   8.0  9.0\n3    daniel    15  155   mx      M   NaN  8.0\n4     erika    13  125   mx      M   7.0  8.0\n5    fabian    12  120   ch      M   8.0  8.0\n6  gabriela    13  125   ch      F   3.0  9.0",
      "text/html": "<div>\n<style scoped>\n    .dataframe tbody tr th:only-of-type {\n        vertical-align: middle;\n    }\n\n    .dataframe tbody tr th {\n        vertical-align: top;\n    }\n\n    .dataframe thead th {\n        text-align: right;\n    }\n</style>\n<table border=\"1\" class=\"dataframe\">\n  <thead>\n    <tr style=\"text-align: right;\">\n      <th></th>\n      <th>nombre</th>\n      <th>edad</th>\n      <th>cm</th>\n      <th>pais</th>\n      <th>genero</th>\n      <th>Q1</th>\n      <th>Q2</th>\n    </tr>\n  </thead>\n  <tbody>\n    <tr>\n      <th>0</th>\n      <td>ana</td>\n      <td>11</td>\n      <td>115</td>\n      <td>co</td>\n      <td>M</td>\n      <td>5.0</td>\n      <td>7.0</td>\n    </tr>\n    <tr>\n      <th>1</th>\n      <td>benito</td>\n      <td>10</td>\n      <td>110</td>\n      <td>mx</td>\n      <td>F</td>\n      <td>10.0</td>\n      <td>9.0</td>\n    </tr>\n    <tr>\n      <th>2</th>\n      <td>camilo</td>\n      <td>14</td>\n      <td>130</td>\n      <td>co</td>\n      <td>F</td>\n      <td>8.0</td>\n      <td>9.0</td>\n    </tr>\n    <tr>\n      <th>3</th>\n      <td>daniel</td>\n      <td>15</td>\n      <td>155</td>\n      <td>mx</td>\n      <td>M</td>\n      <td>NaN</td>\n      <td>8.0</td>\n    </tr>\n    <tr>\n      <th>4</th>\n      <td>erika</td>\n      <td>13</td>\n      <td>125</td>\n      <td>mx</td>\n      <td>M</td>\n      <td>7.0</td>\n      <td>8.0</td>\n    </tr>\n    <tr>\n      <th>5</th>\n      <td>fabian</td>\n      <td>12</td>\n      <td>120</td>\n      <td>ch</td>\n      <td>M</td>\n      <td>8.0</td>\n      <td>8.0</td>\n    </tr>\n    <tr>\n      <th>6</th>\n      <td>gabriela</td>\n      <td>13</td>\n      <td>125</td>\n      <td>ch</td>\n      <td>F</td>\n      <td>3.0</td>\n      <td>9.0</td>\n    </tr>\n  </tbody>\n</table>\n</div>"
     },
     "metadata": {},
     "execution_count": 30
    }
   ],
   "source": [
    "a['edad']= a.apply(lambda row: row['edad'] +1, axis=1)\n",
    "a"
   ]
  },
  {
   "cell_type": "code",
   "execution_count": 31,
   "metadata": {},
   "outputs": [
    {
     "output_type": "execute_result",
     "data": {
      "text/plain": "                 fecha  bicis-compartidas    hum  viento\n0  2015-01-04 00:00:00                182   93.0     6.0\n1  2015-01-04 01:00:00                138   93.0     5.0\n2  2015-01-04 02:00:00                134   96.5     0.0\n3  2015-01-04 03:00:00                 72  100.0     0.0\n4  2015-01-04 04:00:00                 47   93.0     6.5",
      "text/html": "<div>\n<style scoped>\n    .dataframe tbody tr th:only-of-type {\n        vertical-align: middle;\n    }\n\n    .dataframe tbody tr th {\n        vertical-align: top;\n    }\n\n    .dataframe thead th {\n        text-align: right;\n    }\n</style>\n<table border=\"1\" class=\"dataframe\">\n  <thead>\n    <tr style=\"text-align: right;\">\n      <th></th>\n      <th>fecha</th>\n      <th>bicis-compartidas</th>\n      <th>hum</th>\n      <th>viento</th>\n    </tr>\n  </thead>\n  <tbody>\n    <tr>\n      <th>0</th>\n      <td>2015-01-04 00:00:00</td>\n      <td>182</td>\n      <td>93.0</td>\n      <td>6.0</td>\n    </tr>\n    <tr>\n      <th>1</th>\n      <td>2015-01-04 01:00:00</td>\n      <td>138</td>\n      <td>93.0</td>\n      <td>5.0</td>\n    </tr>\n    <tr>\n      <th>2</th>\n      <td>2015-01-04 02:00:00</td>\n      <td>134</td>\n      <td>96.5</td>\n      <td>0.0</td>\n    </tr>\n    <tr>\n      <th>3</th>\n      <td>2015-01-04 03:00:00</td>\n      <td>72</td>\n      <td>100.0</td>\n      <td>0.0</td>\n    </tr>\n    <tr>\n      <th>4</th>\n      <td>2015-01-04 04:00:00</td>\n      <td>47</td>\n      <td>93.0</td>\n      <td>6.5</td>\n    </tr>\n  </tbody>\n</table>\n</div>"
     },
     "metadata": {},
     "execution_count": 31
    }
   ],
   "source": [
    "df=pd.read_csv('C:\\\\bicicletas-compartidas.csv',usecols=['fecha','bicis-compartidas','hum','viento'])   #na_values=['valor'])\n",
    "df.head()"
   ]
  },
  {
   "cell_type": "code",
   "execution_count": 32,
   "metadata": {},
   "outputs": [
    {
     "output_type": "execute_result",
     "data": {
      "text/plain": "0        True\n1        True\n2        True\n3        True\n4        True\n         ... \n17409    True\n17410    True\n17411    True\n17412    True\n17413    True\nName: viento, Length: 17414, dtype: bool"
     },
     "metadata": {},
     "execution_count": 32
    }
   ],
   "source": [
    "df.viento.notnull()\n",
    "#ejemplo paises.apply(lambda row: int(str(row['poblacion']).replace('.','')),axis=1)"
   ]
  },
  {
   "cell_type": "code",
   "execution_count": 33,
   "metadata": {},
   "outputs": [
    {
     "output_type": "execute_result",
     "data": {
      "text/plain": "                     fecha  bicis-compartidas    hum  viento\n17413  2017-01-03 23:00:00                139   76.0    22.0\n17412  2017-01-03 22:00:00                224   76.0    23.0\n17411  2017-01-03 21:00:00                337   78.5    24.0\n17410  2017-01-03 20:00:00                541   81.0    21.0\n17409  2017-01-03 19:00:00               1042   81.0    19.0\n...                    ...                ...    ...     ...\n4      2015-01-04 04:00:00                 47   93.0     6.5\n3      2015-01-04 03:00:00                 72  100.0     0.0\n2      2015-01-04 02:00:00                134   96.5     0.0\n1      2015-01-04 01:00:00                138   93.0     5.0\n0      2015-01-04 00:00:00                182   93.0     6.0\n\n[17414 rows x 4 columns]",
      "text/html": "<div>\n<style scoped>\n    .dataframe tbody tr th:only-of-type {\n        vertical-align: middle;\n    }\n\n    .dataframe tbody tr th {\n        vertical-align: top;\n    }\n\n    .dataframe thead th {\n        text-align: right;\n    }\n</style>\n<table border=\"1\" class=\"dataframe\">\n  <thead>\n    <tr style=\"text-align: right;\">\n      <th></th>\n      <th>fecha</th>\n      <th>bicis-compartidas</th>\n      <th>hum</th>\n      <th>viento</th>\n    </tr>\n  </thead>\n  <tbody>\n    <tr>\n      <th>17413</th>\n      <td>2017-01-03 23:00:00</td>\n      <td>139</td>\n      <td>76.0</td>\n      <td>22.0</td>\n    </tr>\n    <tr>\n      <th>17412</th>\n      <td>2017-01-03 22:00:00</td>\n      <td>224</td>\n      <td>76.0</td>\n      <td>23.0</td>\n    </tr>\n    <tr>\n      <th>17411</th>\n      <td>2017-01-03 21:00:00</td>\n      <td>337</td>\n      <td>78.5</td>\n      <td>24.0</td>\n    </tr>\n    <tr>\n      <th>17410</th>\n      <td>2017-01-03 20:00:00</td>\n      <td>541</td>\n      <td>81.0</td>\n      <td>21.0</td>\n    </tr>\n    <tr>\n      <th>17409</th>\n      <td>2017-01-03 19:00:00</td>\n      <td>1042</td>\n      <td>81.0</td>\n      <td>19.0</td>\n    </tr>\n    <tr>\n      <th>...</th>\n      <td>...</td>\n      <td>...</td>\n      <td>...</td>\n      <td>...</td>\n    </tr>\n    <tr>\n      <th>4</th>\n      <td>2015-01-04 04:00:00</td>\n      <td>47</td>\n      <td>93.0</td>\n      <td>6.5</td>\n    </tr>\n    <tr>\n      <th>3</th>\n      <td>2015-01-04 03:00:00</td>\n      <td>72</td>\n      <td>100.0</td>\n      <td>0.0</td>\n    </tr>\n    <tr>\n      <th>2</th>\n      <td>2015-01-04 02:00:00</td>\n      <td>134</td>\n      <td>96.5</td>\n      <td>0.0</td>\n    </tr>\n    <tr>\n      <th>1</th>\n      <td>2015-01-04 01:00:00</td>\n      <td>138</td>\n      <td>93.0</td>\n      <td>5.0</td>\n    </tr>\n    <tr>\n      <th>0</th>\n      <td>2015-01-04 00:00:00</td>\n      <td>182</td>\n      <td>93.0</td>\n      <td>6.0</td>\n    </tr>\n  </tbody>\n</table>\n<p>17414 rows × 4 columns</p>\n</div>"
     },
     "metadata": {},
     "execution_count": 33
    }
   ],
   "source": [
    "df.sort_index(ascending=False)"
   ]
  },
  {
   "cell_type": "code",
   "execution_count": 34,
   "metadata": {},
   "outputs": [
    {
     "output_type": "execute_result",
     "data": {
      "text/plain": "                     fecha  bicis-compartidas   hum  viento\n7597   2015-11-17 21:00:00                644  59.0    56.5\n9563   2016-02-08 15:00:00                556  71.0    56.0\n10716  2016-03-28 08:00:00                 65  87.0    54.0\n10714  2016-03-28 06:00:00                 47  73.5    52.0\n9564   2016-02-08 16:00:00                964  66.0    51.0\n...                    ...                ...   ...     ...\n11602  2016-05-04 07:00:00               2536  62.0     0.0\n9083   2016-01-19 08:00:00               3887  80.0     0.0\n15735  2016-10-25 23:00:00                444  94.0     0.0\n9085   2016-01-19 10:00:00                833  75.5     0.0\n4338   2015-07-04 05:00:00                114  94.0     0.0\n\n[17414 rows x 4 columns]",
      "text/html": "<div>\n<style scoped>\n    .dataframe tbody tr th:only-of-type {\n        vertical-align: middle;\n    }\n\n    .dataframe tbody tr th {\n        vertical-align: top;\n    }\n\n    .dataframe thead th {\n        text-align: right;\n    }\n</style>\n<table border=\"1\" class=\"dataframe\">\n  <thead>\n    <tr style=\"text-align: right;\">\n      <th></th>\n      <th>fecha</th>\n      <th>bicis-compartidas</th>\n      <th>hum</th>\n      <th>viento</th>\n    </tr>\n  </thead>\n  <tbody>\n    <tr>\n      <th>7597</th>\n      <td>2015-11-17 21:00:00</td>\n      <td>644</td>\n      <td>59.0</td>\n      <td>56.5</td>\n    </tr>\n    <tr>\n      <th>9563</th>\n      <td>2016-02-08 15:00:00</td>\n      <td>556</td>\n      <td>71.0</td>\n      <td>56.0</td>\n    </tr>\n    <tr>\n      <th>10716</th>\n      <td>2016-03-28 08:00:00</td>\n      <td>65</td>\n      <td>87.0</td>\n      <td>54.0</td>\n    </tr>\n    <tr>\n      <th>10714</th>\n      <td>2016-03-28 06:00:00</td>\n      <td>47</td>\n      <td>73.5</td>\n      <td>52.0</td>\n    </tr>\n    <tr>\n      <th>9564</th>\n      <td>2016-02-08 16:00:00</td>\n      <td>964</td>\n      <td>66.0</td>\n      <td>51.0</td>\n    </tr>\n    <tr>\n      <th>...</th>\n      <td>...</td>\n      <td>...</td>\n      <td>...</td>\n      <td>...</td>\n    </tr>\n    <tr>\n      <th>11602</th>\n      <td>2016-05-04 07:00:00</td>\n      <td>2536</td>\n      <td>62.0</td>\n      <td>0.0</td>\n    </tr>\n    <tr>\n      <th>9083</th>\n      <td>2016-01-19 08:00:00</td>\n      <td>3887</td>\n      <td>80.0</td>\n      <td>0.0</td>\n    </tr>\n    <tr>\n      <th>15735</th>\n      <td>2016-10-25 23:00:00</td>\n      <td>444</td>\n      <td>94.0</td>\n      <td>0.0</td>\n    </tr>\n    <tr>\n      <th>9085</th>\n      <td>2016-01-19 10:00:00</td>\n      <td>833</td>\n      <td>75.5</td>\n      <td>0.0</td>\n    </tr>\n    <tr>\n      <th>4338</th>\n      <td>2015-07-04 05:00:00</td>\n      <td>114</td>\n      <td>94.0</td>\n      <td>0.0</td>\n    </tr>\n  </tbody>\n</table>\n<p>17414 rows × 4 columns</p>\n</div>"
     },
     "metadata": {},
     "execution_count": 34
    }
   ],
   "source": [
    "df.sort_values('viento',ascending=False)"
   ]
  },
  {
   "cell_type": "code",
   "execution_count": 35,
   "metadata": {},
   "outputs": [],
   "source": [
    "df.to_csv('nombre del archivo.csv')#,columns = ['nombre de columnas a almacenar'],index=False)"
   ]
  },
  {
   "cell_type": "code",
   "execution_count": 36,
   "metadata": {},
   "outputs": [
    {
     "output_type": "execute_result",
     "data": {
      "text/plain": "                     fecha  bicis-compartidas    hum  viento\n0      2015-01-04 00:00:00                182   92.0     6.0\n1      2015-01-04 01:00:00                138   93.0     5.0\n2      2015-01-04 02:00:00                134   96.5     0.0\n3      2015-01-04 03:00:00                 72  100.0     0.0\n4      2015-01-04 04:00:00                 47   93.0     6.5\n...                    ...                ...    ...     ...\n17409  2017-01-03 19:00:00               1042   81.0    19.0\n17410  2017-01-03 20:00:00                541   81.0    21.0\n17411  2017-01-03 21:00:00                337   78.5    24.0\n17412  2017-01-03 22:00:00                224   76.0    23.0\n17413  2017-01-03 23:00:00                139   76.0    22.0\n\n[17414 rows x 4 columns]",
      "text/html": "<div>\n<style scoped>\n    .dataframe tbody tr th:only-of-type {\n        vertical-align: middle;\n    }\n\n    .dataframe tbody tr th {\n        vertical-align: top;\n    }\n\n    .dataframe thead th {\n        text-align: right;\n    }\n</style>\n<table border=\"1\" class=\"dataframe\">\n  <thead>\n    <tr style=\"text-align: right;\">\n      <th></th>\n      <th>fecha</th>\n      <th>bicis-compartidas</th>\n      <th>hum</th>\n      <th>viento</th>\n    </tr>\n  </thead>\n  <tbody>\n    <tr>\n      <th>0</th>\n      <td>2015-01-04 00:00:00</td>\n      <td>182</td>\n      <td>92.0</td>\n      <td>6.0</td>\n    </tr>\n    <tr>\n      <th>1</th>\n      <td>2015-01-04 01:00:00</td>\n      <td>138</td>\n      <td>93.0</td>\n      <td>5.0</td>\n    </tr>\n    <tr>\n      <th>2</th>\n      <td>2015-01-04 02:00:00</td>\n      <td>134</td>\n      <td>96.5</td>\n      <td>0.0</td>\n    </tr>\n    <tr>\n      <th>3</th>\n      <td>2015-01-04 03:00:00</td>\n      <td>72</td>\n      <td>100.0</td>\n      <td>0.0</td>\n    </tr>\n    <tr>\n      <th>4</th>\n      <td>2015-01-04 04:00:00</td>\n      <td>47</td>\n      <td>93.0</td>\n      <td>6.5</td>\n    </tr>\n    <tr>\n      <th>...</th>\n      <td>...</td>\n      <td>...</td>\n      <td>...</td>\n      <td>...</td>\n    </tr>\n    <tr>\n      <th>17409</th>\n      <td>2017-01-03 19:00:00</td>\n      <td>1042</td>\n      <td>81.0</td>\n      <td>19.0</td>\n    </tr>\n    <tr>\n      <th>17410</th>\n      <td>2017-01-03 20:00:00</td>\n      <td>541</td>\n      <td>81.0</td>\n      <td>21.0</td>\n    </tr>\n    <tr>\n      <th>17411</th>\n      <td>2017-01-03 21:00:00</td>\n      <td>337</td>\n      <td>78.5</td>\n      <td>24.0</td>\n    </tr>\n    <tr>\n      <th>17412</th>\n      <td>2017-01-03 22:00:00</td>\n      <td>224</td>\n      <td>76.0</td>\n      <td>23.0</td>\n    </tr>\n    <tr>\n      <th>17413</th>\n      <td>2017-01-03 23:00:00</td>\n      <td>139</td>\n      <td>76.0</td>\n      <td>22.0</td>\n    </tr>\n  </tbody>\n</table>\n<p>17414 rows × 4 columns</p>\n</div>"
     },
     "metadata": {},
     "execution_count": 36
    }
   ],
   "source": [
    "df['hum'][0] = 92.0\n",
    "df"
   ]
  },
  {
   "cell_type": "code",
   "execution_count": 37,
   "metadata": {},
   "outputs": [
    {
     "output_type": "execute_result",
     "data": {
      "text/plain": "                     fecha  bicis-compartidas    hum\n0      2015-01-04 00:00:00                182   92.0\n1      2015-01-04 01:00:00                138   93.0\n2      2015-01-04 02:00:00                134   96.5\n3      2015-01-04 03:00:00                 72  100.0\n4      2015-01-04 04:00:00                 47   93.0\n...                    ...                ...    ...\n17409  2017-01-03 19:00:00               1042   81.0\n17410  2017-01-03 20:00:00                541   81.0\n17411  2017-01-03 21:00:00                337   78.5\n17412  2017-01-03 22:00:00                224   76.0\n17413  2017-01-03 23:00:00                139   76.0\n\n[17414 rows x 3 columns]",
      "text/html": "<div>\n<style scoped>\n    .dataframe tbody tr th:only-of-type {\n        vertical-align: middle;\n    }\n\n    .dataframe tbody tr th {\n        vertical-align: top;\n    }\n\n    .dataframe thead th {\n        text-align: right;\n    }\n</style>\n<table border=\"1\" class=\"dataframe\">\n  <thead>\n    <tr style=\"text-align: right;\">\n      <th></th>\n      <th>fecha</th>\n      <th>bicis-compartidas</th>\n      <th>hum</th>\n    </tr>\n  </thead>\n  <tbody>\n    <tr>\n      <th>0</th>\n      <td>2015-01-04 00:00:00</td>\n      <td>182</td>\n      <td>92.0</td>\n    </tr>\n    <tr>\n      <th>1</th>\n      <td>2015-01-04 01:00:00</td>\n      <td>138</td>\n      <td>93.0</td>\n    </tr>\n    <tr>\n      <th>2</th>\n      <td>2015-01-04 02:00:00</td>\n      <td>134</td>\n      <td>96.5</td>\n    </tr>\n    <tr>\n      <th>3</th>\n      <td>2015-01-04 03:00:00</td>\n      <td>72</td>\n      <td>100.0</td>\n    </tr>\n    <tr>\n      <th>4</th>\n      <td>2015-01-04 04:00:00</td>\n      <td>47</td>\n      <td>93.0</td>\n    </tr>\n    <tr>\n      <th>...</th>\n      <td>...</td>\n      <td>...</td>\n      <td>...</td>\n    </tr>\n    <tr>\n      <th>17409</th>\n      <td>2017-01-03 19:00:00</td>\n      <td>1042</td>\n      <td>81.0</td>\n    </tr>\n    <tr>\n      <th>17410</th>\n      <td>2017-01-03 20:00:00</td>\n      <td>541</td>\n      <td>81.0</td>\n    </tr>\n    <tr>\n      <th>17411</th>\n      <td>2017-01-03 21:00:00</td>\n      <td>337</td>\n      <td>78.5</td>\n    </tr>\n    <tr>\n      <th>17412</th>\n      <td>2017-01-03 22:00:00</td>\n      <td>224</td>\n      <td>76.0</td>\n    </tr>\n    <tr>\n      <th>17413</th>\n      <td>2017-01-03 23:00:00</td>\n      <td>139</td>\n      <td>76.0</td>\n    </tr>\n  </tbody>\n</table>\n<p>17414 rows × 3 columns</p>\n</div>"
     },
     "metadata": {},
     "execution_count": 37
    }
   ],
   "source": [
    "df.drop('viento',axis=1)"
   ]
  },
  {
   "cell_type": "code",
   "execution_count": null,
   "metadata": {},
   "outputs": [],
   "source": [
    "#df.insert(1,'Viento',[100,200,300])"
   ]
  },
  {
   "cell_type": "code",
   "execution_count": 38,
   "metadata": {},
   "outputs": [
    {
     "output_type": "execute_result",
     "data": {
      "text/plain": "                     fecha   hum  viento\n16341  2016-11-20 07:00:00  97.0    22.5\n7741   2015-11-24 05:00:00  94.0    23.0\n16369  2016-11-21 11:00:00  94.0    21.0\n3219   2015-05-18 11:00:00  94.0    31.0\n6954   2015-10-22 01:00:00  94.0    21.5",
      "text/html": "<div>\n<style scoped>\n    .dataframe tbody tr th:only-of-type {\n        vertical-align: middle;\n    }\n\n    .dataframe tbody tr th {\n        vertical-align: top;\n    }\n\n    .dataframe thead th {\n        text-align: right;\n    }\n</style>\n<table border=\"1\" class=\"dataframe\">\n  <thead>\n    <tr style=\"text-align: right;\">\n      <th></th>\n      <th>fecha</th>\n      <th>hum</th>\n      <th>viento</th>\n    </tr>\n  </thead>\n  <tbody>\n    <tr>\n      <th>16341</th>\n      <td>2016-11-20 07:00:00</td>\n      <td>97.0</td>\n      <td>22.5</td>\n    </tr>\n    <tr>\n      <th>7741</th>\n      <td>2015-11-24 05:00:00</td>\n      <td>94.0</td>\n      <td>23.0</td>\n    </tr>\n    <tr>\n      <th>16369</th>\n      <td>2016-11-21 11:00:00</td>\n      <td>94.0</td>\n      <td>21.0</td>\n    </tr>\n    <tr>\n      <th>3219</th>\n      <td>2015-05-18 11:00:00</td>\n      <td>94.0</td>\n      <td>31.0</td>\n    </tr>\n    <tr>\n      <th>6954</th>\n      <td>2015-10-22 01:00:00</td>\n      <td>94.0</td>\n      <td>21.5</td>\n    </tr>\n  </tbody>\n</table>\n</div>"
     },
     "metadata": {},
     "execution_count": 38
    }
   ],
   "source": [
    "df.loc[df.viento > 20,['fecha','hum','viento']].sort_values('hum',ascending=False).head()  #loc se utiliza con etiquetas"
   ]
  },
  {
   "cell_type": "code",
   "execution_count": 39,
   "metadata": {},
   "outputs": [
    {
     "output_type": "execute_result",
     "data": {
      "text/plain": "   nombre  edad   cm pais genero    Q1   Q2\n0     ana    11  115   co      M   5.0  7.0\n1  benito    10  110   mx      F  10.0  9.0\n2  camilo    14  130   co      F   8.0  9.0\n3  daniel    15  155   mx      M   NaN  8.0\n4   erika    13  125   mx      M   7.0  8.0",
      "text/html": "<div>\n<style scoped>\n    .dataframe tbody tr th:only-of-type {\n        vertical-align: middle;\n    }\n\n    .dataframe tbody tr th {\n        vertical-align: top;\n    }\n\n    .dataframe thead th {\n        text-align: right;\n    }\n</style>\n<table border=\"1\" class=\"dataframe\">\n  <thead>\n    <tr style=\"text-align: right;\">\n      <th></th>\n      <th>nombre</th>\n      <th>edad</th>\n      <th>cm</th>\n      <th>pais</th>\n      <th>genero</th>\n      <th>Q1</th>\n      <th>Q2</th>\n    </tr>\n  </thead>\n  <tbody>\n    <tr>\n      <th>0</th>\n      <td>ana</td>\n      <td>11</td>\n      <td>115</td>\n      <td>co</td>\n      <td>M</td>\n      <td>5.0</td>\n      <td>7.0</td>\n    </tr>\n    <tr>\n      <th>1</th>\n      <td>benito</td>\n      <td>10</td>\n      <td>110</td>\n      <td>mx</td>\n      <td>F</td>\n      <td>10.0</td>\n      <td>9.0</td>\n    </tr>\n    <tr>\n      <th>2</th>\n      <td>camilo</td>\n      <td>14</td>\n      <td>130</td>\n      <td>co</td>\n      <td>F</td>\n      <td>8.0</td>\n      <td>9.0</td>\n    </tr>\n    <tr>\n      <th>3</th>\n      <td>daniel</td>\n      <td>15</td>\n      <td>155</td>\n      <td>mx</td>\n      <td>M</td>\n      <td>NaN</td>\n      <td>8.0</td>\n    </tr>\n    <tr>\n      <th>4</th>\n      <td>erika</td>\n      <td>13</td>\n      <td>125</td>\n      <td>mx</td>\n      <td>M</td>\n      <td>7.0</td>\n      <td>8.0</td>\n    </tr>\n  </tbody>\n</table>\n</div>"
     },
     "metadata": {},
     "execution_count": 39
    }
   ],
   "source": [
    "a.head()"
   ]
  },
  {
   "cell_type": "code",
   "execution_count": 40,
   "metadata": {},
   "outputs": [
    {
     "output_type": "execute_result",
     "data": {
      "text/plain": "   nombre  edad\n0     ana    11\n1  benito    10\n2  camilo    14",
      "text/html": "<div>\n<style scoped>\n    .dataframe tbody tr th:only-of-type {\n        vertical-align: middle;\n    }\n\n    .dataframe tbody tr th {\n        vertical-align: top;\n    }\n\n    .dataframe thead th {\n        text-align: right;\n    }\n</style>\n<table border=\"1\" class=\"dataframe\">\n  <thead>\n    <tr style=\"text-align: right;\">\n      <th></th>\n      <th>nombre</th>\n      <th>edad</th>\n    </tr>\n  </thead>\n  <tbody>\n    <tr>\n      <th>0</th>\n      <td>ana</td>\n      <td>11</td>\n    </tr>\n    <tr>\n      <th>1</th>\n      <td>benito</td>\n      <td>10</td>\n    </tr>\n    <tr>\n      <th>2</th>\n      <td>camilo</td>\n      <td>14</td>\n    </tr>\n  </tbody>\n</table>\n</div>"
     },
     "metadata": {},
     "execution_count": 40
    }
   ],
   "source": [
    "a.loc[0:2,['nombre','edad']]"
   ]
  },
  {
   "cell_type": "code",
   "execution_count": 41,
   "metadata": {},
   "outputs": [
    {
     "output_type": "execute_result",
     "data": {
      "text/plain": "   nombre  edad\n0     ana    11\n1  benito    10",
      "text/html": "<div>\n<style scoped>\n    .dataframe tbody tr th:only-of-type {\n        vertical-align: middle;\n    }\n\n    .dataframe tbody tr th {\n        vertical-align: top;\n    }\n\n    .dataframe thead th {\n        text-align: right;\n    }\n</style>\n<table border=\"1\" class=\"dataframe\">\n  <thead>\n    <tr style=\"text-align: right;\">\n      <th></th>\n      <th>nombre</th>\n      <th>edad</th>\n    </tr>\n  </thead>\n  <tbody>\n    <tr>\n      <th>0</th>\n      <td>ana</td>\n      <td>11</td>\n    </tr>\n    <tr>\n      <th>1</th>\n      <td>benito</td>\n      <td>10</td>\n    </tr>\n  </tbody>\n</table>\n</div>"
     },
     "metadata": {},
     "execution_count": 41
    }
   ],
   "source": [
    "a.iloc[0:2,0:2]           #iloc se utilza con indices"
   ]
  },
  {
   "cell_type": "code",
   "execution_count": 42,
   "metadata": {},
   "outputs": [
    {
     "output_type": "execute_result",
     "data": {
      "text/plain": "2    camilo\n3    daniel\nName: nombre, dtype: object"
     },
     "metadata": {},
     "execution_count": 42
    }
   ],
   "source": [
    "a.loc[a['edad']>13]['nombre']     #consultas"
   ]
  },
  {
   "cell_type": "code",
   "execution_count": 43,
   "metadata": {},
   "outputs": [
    {
     "output_type": "execute_result",
     "data": {
      "text/plain": "0       ana\n2    camilo\n4     erika\n5    fabian\nName: nombre, dtype: object"
     },
     "metadata": {},
     "execution_count": 43
    }
   ],
   "source": [
    "a.loc[(a.edad>10) & (a.Q1 > 4),'nombre']"
   ]
  },
  {
   "cell_type": "code",
   "execution_count": 44,
   "metadata": {},
   "outputs": [
    {
     "output_type": "execute_result",
     "data": {
      "text/plain": "   nombre  edad   cm pais genero    Q1   Q2\n1  benito    10  110   mx      F  10.0  9.0\n2  camilo    14  130   co      F   8.0  9.0",
      "text/html": "<div>\n<style scoped>\n    .dataframe tbody tr th:only-of-type {\n        vertical-align: middle;\n    }\n\n    .dataframe tbody tr th {\n        vertical-align: top;\n    }\n\n    .dataframe thead th {\n        text-align: right;\n    }\n</style>\n<table border=\"1\" class=\"dataframe\">\n  <thead>\n    <tr style=\"text-align: right;\">\n      <th></th>\n      <th>nombre</th>\n      <th>edad</th>\n      <th>cm</th>\n      <th>pais</th>\n      <th>genero</th>\n      <th>Q1</th>\n      <th>Q2</th>\n    </tr>\n  </thead>\n  <tbody>\n    <tr>\n      <th>1</th>\n      <td>benito</td>\n      <td>10</td>\n      <td>110</td>\n      <td>mx</td>\n      <td>F</td>\n      <td>10.0</td>\n      <td>9.0</td>\n    </tr>\n    <tr>\n      <th>2</th>\n      <td>camilo</td>\n      <td>14</td>\n      <td>130</td>\n      <td>co</td>\n      <td>F</td>\n      <td>8.0</td>\n      <td>9.0</td>\n    </tr>\n  </tbody>\n</table>\n</div>"
     },
     "metadata": {},
     "execution_count": 44
    }
   ],
   "source": [
    "a.loc[a.nombre.str.endswith('o')]"
   ]
  },
  {
   "cell_type": "code",
   "execution_count": 45,
   "metadata": {},
   "outputs": [
    {
     "output_type": "execute_result",
     "data": {
      "text/plain": "     nombre  edad   cm pais genero   Q1   Q2\n0       ana    11  115   co      M  5.0  7.0\n3    daniel    15  155   mx      M  NaN  8.0\n4     erika    13  125   mx      M  7.0  8.0\n5    fabian    12  120   ch      M  8.0  8.0\n6  gabriela    13  125   ch      F  3.0  9.0",
      "text/html": "<div>\n<style scoped>\n    .dataframe tbody tr th:only-of-type {\n        vertical-align: middle;\n    }\n\n    .dataframe tbody tr th {\n        vertical-align: top;\n    }\n\n    .dataframe thead th {\n        text-align: right;\n    }\n</style>\n<table border=\"1\" class=\"dataframe\">\n  <thead>\n    <tr style=\"text-align: right;\">\n      <th></th>\n      <th>nombre</th>\n      <th>edad</th>\n      <th>cm</th>\n      <th>pais</th>\n      <th>genero</th>\n      <th>Q1</th>\n      <th>Q2</th>\n    </tr>\n  </thead>\n  <tbody>\n    <tr>\n      <th>0</th>\n      <td>ana</td>\n      <td>11</td>\n      <td>115</td>\n      <td>co</td>\n      <td>M</td>\n      <td>5.0</td>\n      <td>7.0</td>\n    </tr>\n    <tr>\n      <th>3</th>\n      <td>daniel</td>\n      <td>15</td>\n      <td>155</td>\n      <td>mx</td>\n      <td>M</td>\n      <td>NaN</td>\n      <td>8.0</td>\n    </tr>\n    <tr>\n      <th>4</th>\n      <td>erika</td>\n      <td>13</td>\n      <td>125</td>\n      <td>mx</td>\n      <td>M</td>\n      <td>7.0</td>\n      <td>8.0</td>\n    </tr>\n    <tr>\n      <th>5</th>\n      <td>fabian</td>\n      <td>12</td>\n      <td>120</td>\n      <td>ch</td>\n      <td>M</td>\n      <td>8.0</td>\n      <td>8.0</td>\n    </tr>\n    <tr>\n      <th>6</th>\n      <td>gabriela</td>\n      <td>13</td>\n      <td>125</td>\n      <td>ch</td>\n      <td>F</td>\n      <td>3.0</td>\n      <td>9.0</td>\n    </tr>\n  </tbody>\n</table>\n</div>"
     },
     "metadata": {},
     "execution_count": 45
    }
   ],
   "source": [
    "a.loc[~a.nombre.str.endswith('o')]         #Que no terminen con o"
   ]
  },
  {
   "cell_type": "code",
   "execution_count": 46,
   "metadata": {},
   "outputs": [
    {
     "output_type": "execute_result",
     "data": {
      "text/plain": "Empty DataFrame\nColumns: [nombre, edad, cm, pais, genero, Q1, Q2]\nIndex: []",
      "text/html": "<div>\n<style scoped>\n    .dataframe tbody tr th:only-of-type {\n        vertical-align: middle;\n    }\n\n    .dataframe tbody tr th {\n        vertical-align: top;\n    }\n\n    .dataframe thead th {\n        text-align: right;\n    }\n</style>\n<table border=\"1\" class=\"dataframe\">\n  <thead>\n    <tr style=\"text-align: right;\">\n      <th></th>\n      <th>nombre</th>\n      <th>edad</th>\n      <th>cm</th>\n      <th>pais</th>\n      <th>genero</th>\n      <th>Q1</th>\n      <th>Q2</th>\n    </tr>\n  </thead>\n  <tbody>\n  </tbody>\n</table>\n</div>"
     },
     "metadata": {},
     "execution_count": 46
    }
   ],
   "source": [
    "a.loc[a.nombre.isin(['Rodrigo','Aldo'])]"
   ]
  },
  {
   "cell_type": "code",
   "execution_count": null,
   "metadata": {},
   "outputs": [],
   "source": [
    "#Agrupaciones   cuando hay elementos repetidos\n",
    "#df.groupby('nombre columna').nombrecolumna.sum()\n",
    "#df.groupby('nombre columna').nombrecolumna.sum().to_frame('nombre columna')\n",
    "#df.groupby('nombre columna').filter(lambda fruta: fruta.cantidad.sum() > 10)"
   ]
  },
  {
   "cell_type": "code",
   "execution_count": 47,
   "metadata": {},
   "outputs": [
    {
     "output_type": "execute_result",
     "data": {
      "text/plain": "   PassengerId  Survived  Pclass  \\\n0            1         0       3   \n1            2         1       1   \n2            3         1       3   \n3            4         1       1   \n4            5         0       3   \n\n                                                Name     Sex   Age  SibSp  \\\n0                            Braund, Mr. Owen Harris    male  22.0      1   \n1  Cumings, Mrs. John Bradley (Florence Briggs Th...  female  38.0      1   \n2                             Heikkinen, Miss. Laina  female  26.0      0   \n3       Futrelle, Mrs. Jacques Heath (Lily May Peel)  female  35.0      1   \n4                           Allen, Mr. William Henry    male  35.0      0   \n\n   Parch            Ticket     Fare Cabin Embarked  \n0      0         A/5 21171   7.2500   NaN        S  \n1      0          PC 17599  71.2833   C85        C  \n2      0  STON/O2. 3101282   7.9250   NaN        S  \n3      0            113803  53.1000  C123        S  \n4      0            373450   8.0500   NaN        S  ",
      "text/html": "<div>\n<style scoped>\n    .dataframe tbody tr th:only-of-type {\n        vertical-align: middle;\n    }\n\n    .dataframe tbody tr th {\n        vertical-align: top;\n    }\n\n    .dataframe thead th {\n        text-align: right;\n    }\n</style>\n<table border=\"1\" class=\"dataframe\">\n  <thead>\n    <tr style=\"text-align: right;\">\n      <th></th>\n      <th>PassengerId</th>\n      <th>Survived</th>\n      <th>Pclass</th>\n      <th>Name</th>\n      <th>Sex</th>\n      <th>Age</th>\n      <th>SibSp</th>\n      <th>Parch</th>\n      <th>Ticket</th>\n      <th>Fare</th>\n      <th>Cabin</th>\n      <th>Embarked</th>\n    </tr>\n  </thead>\n  <tbody>\n    <tr>\n      <th>0</th>\n      <td>1</td>\n      <td>0</td>\n      <td>3</td>\n      <td>Braund, Mr. Owen Harris</td>\n      <td>male</td>\n      <td>22.0</td>\n      <td>1</td>\n      <td>0</td>\n      <td>A/5 21171</td>\n      <td>7.2500</td>\n      <td>NaN</td>\n      <td>S</td>\n    </tr>\n    <tr>\n      <th>1</th>\n      <td>2</td>\n      <td>1</td>\n      <td>1</td>\n      <td>Cumings, Mrs. John Bradley (Florence Briggs Th...</td>\n      <td>female</td>\n      <td>38.0</td>\n      <td>1</td>\n      <td>0</td>\n      <td>PC 17599</td>\n      <td>71.2833</td>\n      <td>C85</td>\n      <td>C</td>\n    </tr>\n    <tr>\n      <th>2</th>\n      <td>3</td>\n      <td>1</td>\n      <td>3</td>\n      <td>Heikkinen, Miss. Laina</td>\n      <td>female</td>\n      <td>26.0</td>\n      <td>0</td>\n      <td>0</td>\n      <td>STON/O2. 3101282</td>\n      <td>7.9250</td>\n      <td>NaN</td>\n      <td>S</td>\n    </tr>\n    <tr>\n      <th>3</th>\n      <td>4</td>\n      <td>1</td>\n      <td>1</td>\n      <td>Futrelle, Mrs. Jacques Heath (Lily May Peel)</td>\n      <td>female</td>\n      <td>35.0</td>\n      <td>1</td>\n      <td>0</td>\n      <td>113803</td>\n      <td>53.1000</td>\n      <td>C123</td>\n      <td>S</td>\n    </tr>\n    <tr>\n      <th>4</th>\n      <td>5</td>\n      <td>0</td>\n      <td>3</td>\n      <td>Allen, Mr. William Henry</td>\n      <td>male</td>\n      <td>35.0</td>\n      <td>0</td>\n      <td>0</td>\n      <td>373450</td>\n      <td>8.0500</td>\n      <td>NaN</td>\n      <td>S</td>\n    </tr>\n  </tbody>\n</table>\n</div>"
     },
     "metadata": {},
     "execution_count": 47
    }
   ],
   "source": [
    "train_df = pd.read_csv('titanic-train.csv')\n",
    "train_df.head()"
   ]
  },
  {
   "cell_type": "code",
   "execution_count": 48,
   "metadata": {},
   "outputs": [
    {
     "output_type": "execute_result",
     "data": {
      "text/plain": "male      577\nfemale    314\nName: Sex, dtype: int64"
     },
     "metadata": {},
     "execution_count": 48
    }
   ],
   "source": [
    "train_df.Sex.value_counts()"
   ]
  },
  {
   "cell_type": "code",
   "execution_count": 49,
   "metadata": {},
   "outputs": [
    {
     "output_type": "execute_result",
     "data": {
      "text/plain": "(577, 109)"
     },
     "metadata": {},
     "execution_count": 49
    }
   ],
   "source": [
    "train_df.Sex.value_counts()[0],train_df[(train_df.Survived == 1)].Sex.value_counts()[1]   \n",
    "#Busqueda de dos Valores cuando hay dos columnas de por medio  Hombres totales y los hombres que sobrevivieron"
   ]
  },
  {
   "cell_type": "code",
   "execution_count": 50,
   "metadata": {},
   "outputs": [
    {
     "output_type": "execute_result",
     "data": {
      "text/plain": "0    549\n1    342\nName: Survived, dtype: int64"
     },
     "metadata": {},
     "execution_count": 50
    }
   ],
   "source": [
    "train_df.Survived.value_counts()#[1]   #Buscar valor en una sola columna  Total sobrevvieron Hom y Muj"
   ]
  },
  {
   "cell_type": "code",
   "execution_count": 51,
   "metadata": {},
   "outputs": [
    {
     "output_type": "execute_result",
     "data": {
      "text/plain": "female    233\nmale      109\nName: Sex, dtype: int64"
     },
     "metadata": {},
     "execution_count": 51
    }
   ],
   "source": [
    "train_df[(train_df.Survived == 1)].Sex.value_counts()#[0]     #Buscar Valor cuando hay dos columnas de pormedio"
   ]
  },
  {
   "cell_type": "code",
   "execution_count": 52,
   "metadata": {},
   "outputs": [
    {
     "output_type": "execute_result",
     "data": {
      "text/plain": "Sex     Survived\nfemale  1           233\n        0            81\nmale    0           468\n        1           109\nName: Survived, dtype: int64"
     },
     "metadata": {},
     "execution_count": 52
    }
   ],
   "source": [
    "train_df.groupby('Sex').Survived.value_counts()"
   ]
  },
  {
   "cell_type": "code",
   "execution_count": 53,
   "metadata": {},
   "outputs": [
    {
     "output_type": "execute_result",
     "data": {
      "text/plain": "0      3\n1      A\n2      3\n3      A\n4      3\n      ..\n886    2\n887    A\n888    3\n889    A\n890    3\nName: Pclass, Length: 891, dtype: object"
     },
     "metadata": {},
     "execution_count": 53
    }
   ],
   "source": [
    "train_df['Pclass'].replace(1,'A')    #Reemplazar valores con pandas "
   ]
  },
  {
   "cell_type": "code",
   "execution_count": 54,
   "metadata": {},
   "outputs": [
    {
     "output_type": "execute_result",
     "data": {
      "text/plain": "     PassengerId  Survived  Pclass  \\\n0              1         0       3   \n1              2         1       1   \n2              3         1       3   \n3              4         1       1   \n4              5         0       3   \n..           ...       ...     ...   \n886          887         0       2   \n887          888         1       1   \n888          889         0       3   \n889          890         1       1   \n890          891         0       3   \n\n                                                  Name     Sex   Age  SibSp  \\\n0                              Braund, Mr. Owen Harris    male  22.0      1   \n1    Cumings, Mrs. John Bradley (Florence Briggs Th...  female  38.0      1   \n2                               Heikkinen, Miss. Laina  female  26.0      0   \n3         Futrelle, Mrs. Jacques Heath (Lily May Peel)  female  35.0      1   \n4                             Allen, Mr. William Henry    male  35.0      0   \n..                                                 ...     ...   ...    ...   \n886                              Montvila, Rev. Juozas    male  27.0      0   \n887                       Graham, Miss. Margaret Edith  female  19.0      0   \n888           Johnston, Miss. Catherine Helen \"Carrie\"  female   NaN      1   \n889                              Behr, Mr. Karl Howell    male  26.0      0   \n890                                Dooley, Mr. Patrick    male  32.0      0   \n\n     Parch            Ticket     Fare Cabin Embarked PClass1  \n0        0         A/5 21171   7.2500   NaN        S       C  \n1        0          PC 17599  71.2833   C85        C       A  \n2        0  STON/O2. 3101282   7.9250   NaN        S       C  \n3        0            113803  53.1000  C123        S       A  \n4        0            373450   8.0500   NaN        S       C  \n..     ...               ...      ...   ...      ...     ...  \n886      0            211536  13.0000   NaN        S       B  \n887      0            112053  30.0000   B42        S       A  \n888      2        W./C. 6607  23.4500   NaN        S       C  \n889      0            111369  30.0000  C148        C       A  \n890      0            370376   7.7500   NaN        Q       C  \n\n[891 rows x 13 columns]",
      "text/html": "<div>\n<style scoped>\n    .dataframe tbody tr th:only-of-type {\n        vertical-align: middle;\n    }\n\n    .dataframe tbody tr th {\n        vertical-align: top;\n    }\n\n    .dataframe thead th {\n        text-align: right;\n    }\n</style>\n<table border=\"1\" class=\"dataframe\">\n  <thead>\n    <tr style=\"text-align: right;\">\n      <th></th>\n      <th>PassengerId</th>\n      <th>Survived</th>\n      <th>Pclass</th>\n      <th>Name</th>\n      <th>Sex</th>\n      <th>Age</th>\n      <th>SibSp</th>\n      <th>Parch</th>\n      <th>Ticket</th>\n      <th>Fare</th>\n      <th>Cabin</th>\n      <th>Embarked</th>\n      <th>PClass1</th>\n    </tr>\n  </thead>\n  <tbody>\n    <tr>\n      <th>0</th>\n      <td>1</td>\n      <td>0</td>\n      <td>3</td>\n      <td>Braund, Mr. Owen Harris</td>\n      <td>male</td>\n      <td>22.0</td>\n      <td>1</td>\n      <td>0</td>\n      <td>A/5 21171</td>\n      <td>7.2500</td>\n      <td>NaN</td>\n      <td>S</td>\n      <td>C</td>\n    </tr>\n    <tr>\n      <th>1</th>\n      <td>2</td>\n      <td>1</td>\n      <td>1</td>\n      <td>Cumings, Mrs. John Bradley (Florence Briggs Th...</td>\n      <td>female</td>\n      <td>38.0</td>\n      <td>1</td>\n      <td>0</td>\n      <td>PC 17599</td>\n      <td>71.2833</td>\n      <td>C85</td>\n      <td>C</td>\n      <td>A</td>\n    </tr>\n    <tr>\n      <th>2</th>\n      <td>3</td>\n      <td>1</td>\n      <td>3</td>\n      <td>Heikkinen, Miss. Laina</td>\n      <td>female</td>\n      <td>26.0</td>\n      <td>0</td>\n      <td>0</td>\n      <td>STON/O2. 3101282</td>\n      <td>7.9250</td>\n      <td>NaN</td>\n      <td>S</td>\n      <td>C</td>\n    </tr>\n    <tr>\n      <th>3</th>\n      <td>4</td>\n      <td>1</td>\n      <td>1</td>\n      <td>Futrelle, Mrs. Jacques Heath (Lily May Peel)</td>\n      <td>female</td>\n      <td>35.0</td>\n      <td>1</td>\n      <td>0</td>\n      <td>113803</td>\n      <td>53.1000</td>\n      <td>C123</td>\n      <td>S</td>\n      <td>A</td>\n    </tr>\n    <tr>\n      <th>4</th>\n      <td>5</td>\n      <td>0</td>\n      <td>3</td>\n      <td>Allen, Mr. William Henry</td>\n      <td>male</td>\n      <td>35.0</td>\n      <td>0</td>\n      <td>0</td>\n      <td>373450</td>\n      <td>8.0500</td>\n      <td>NaN</td>\n      <td>S</td>\n      <td>C</td>\n    </tr>\n    <tr>\n      <th>...</th>\n      <td>...</td>\n      <td>...</td>\n      <td>...</td>\n      <td>...</td>\n      <td>...</td>\n      <td>...</td>\n      <td>...</td>\n      <td>...</td>\n      <td>...</td>\n      <td>...</td>\n      <td>...</td>\n      <td>...</td>\n      <td>...</td>\n    </tr>\n    <tr>\n      <th>886</th>\n      <td>887</td>\n      <td>0</td>\n      <td>2</td>\n      <td>Montvila, Rev. Juozas</td>\n      <td>male</td>\n      <td>27.0</td>\n      <td>0</td>\n      <td>0</td>\n      <td>211536</td>\n      <td>13.0000</td>\n      <td>NaN</td>\n      <td>S</td>\n      <td>B</td>\n    </tr>\n    <tr>\n      <th>887</th>\n      <td>888</td>\n      <td>1</td>\n      <td>1</td>\n      <td>Graham, Miss. Margaret Edith</td>\n      <td>female</td>\n      <td>19.0</td>\n      <td>0</td>\n      <td>0</td>\n      <td>112053</td>\n      <td>30.0000</td>\n      <td>B42</td>\n      <td>S</td>\n      <td>A</td>\n    </tr>\n    <tr>\n      <th>888</th>\n      <td>889</td>\n      <td>0</td>\n      <td>3</td>\n      <td>Johnston, Miss. Catherine Helen \"Carrie\"</td>\n      <td>female</td>\n      <td>NaN</td>\n      <td>1</td>\n      <td>2</td>\n      <td>W./C. 6607</td>\n      <td>23.4500</td>\n      <td>NaN</td>\n      <td>S</td>\n      <td>C</td>\n    </tr>\n    <tr>\n      <th>889</th>\n      <td>890</td>\n      <td>1</td>\n      <td>1</td>\n      <td>Behr, Mr. Karl Howell</td>\n      <td>male</td>\n      <td>26.0</td>\n      <td>0</td>\n      <td>0</td>\n      <td>111369</td>\n      <td>30.0000</td>\n      <td>C148</td>\n      <td>C</td>\n      <td>A</td>\n    </tr>\n    <tr>\n      <th>890</th>\n      <td>891</td>\n      <td>0</td>\n      <td>3</td>\n      <td>Dooley, Mr. Patrick</td>\n      <td>male</td>\n      <td>32.0</td>\n      <td>0</td>\n      <td>0</td>\n      <td>370376</td>\n      <td>7.7500</td>\n      <td>NaN</td>\n      <td>Q</td>\n      <td>C</td>\n    </tr>\n  </tbody>\n</table>\n<p>891 rows × 13 columns</p>\n</div>"
     },
     "metadata": {},
     "execution_count": 54
    }
   ],
   "source": [
    "a = train_df['Pclass'].replace({1:'A', 2: 'B',3:'C'})\n",
    "train_df['PClass1'] = a\n",
    "train_df"
   ]
  },
  {
   "cell_type": "code",
   "execution_count": 55,
   "metadata": {},
   "outputs": [
    {
     "output_type": "execute_result",
     "data": {
      "text/plain": "     PassengerId  Survived  Pclass  \\\n0              1         0       3   \n1              2         1       1   \n2              3         1       3   \n3              4         1       1   \n4              5         0       3   \n..           ...       ...     ...   \n886          887         0       2   \n887          888         1       1   \n888          889         0       3   \n889          890         1       1   \n890          891         0       3   \n\n                                                  Name     Sex   Age  SibSp  \\\n0                              Braund, Mr. Owen Harris    male  22.0      1   \n1    Cumings, Mrs. John Bradley (Florence Briggs Th...  female  38.0      1   \n2                               Heikkinen, Miss. Laina  female  26.0      0   \n3         Futrelle, Mrs. Jacques Heath (Lily May Peel)  female  35.0      1   \n4                             Allen, Mr. William Henry    male  35.0      0   \n..                                                 ...     ...   ...    ...   \n886                              Montvila, Rev. Juozas    male  27.0      0   \n887                       Graham, Miss. Margaret Edith  female  19.0      0   \n888           Johnston, Miss. Catherine Helen \"Carrie\"  female   NaN      1   \n889                              Behr, Mr. Karl Howell    male  26.0      0   \n890                                Dooley, Mr. Patrick    male  32.0      0   \n\n     Parch            Ticket     Fare Cabin Embarked PClass1 Pclass2  \n0        0         A/5 21171   7.2500   NaN        S       C       C  \n1        0          PC 17599  71.2833   C85        C       A       A  \n2        0  STON/O2. 3101282   7.9250   NaN        S       C       C  \n3        0            113803  53.1000  C123        S       A       A  \n4        0            373450   8.0500   NaN        S       C       C  \n..     ...               ...      ...   ...      ...     ...     ...  \n886      0            211536  13.0000   NaN        S       B       B  \n887      0            112053  30.0000   B42        S       A       A  \n888      2        W./C. 6607  23.4500   NaN        S       C       C  \n889      0            111369  30.0000  C148        C       A       A  \n890      0            370376   7.7500   NaN        Q       C       C  \n\n[891 rows x 14 columns]",
      "text/html": "<div>\n<style scoped>\n    .dataframe tbody tr th:only-of-type {\n        vertical-align: middle;\n    }\n\n    .dataframe tbody tr th {\n        vertical-align: top;\n    }\n\n    .dataframe thead th {\n        text-align: right;\n    }\n</style>\n<table border=\"1\" class=\"dataframe\">\n  <thead>\n    <tr style=\"text-align: right;\">\n      <th></th>\n      <th>PassengerId</th>\n      <th>Survived</th>\n      <th>Pclass</th>\n      <th>Name</th>\n      <th>Sex</th>\n      <th>Age</th>\n      <th>SibSp</th>\n      <th>Parch</th>\n      <th>Ticket</th>\n      <th>Fare</th>\n      <th>Cabin</th>\n      <th>Embarked</th>\n      <th>PClass1</th>\n      <th>Pclass2</th>\n    </tr>\n  </thead>\n  <tbody>\n    <tr>\n      <th>0</th>\n      <td>1</td>\n      <td>0</td>\n      <td>3</td>\n      <td>Braund, Mr. Owen Harris</td>\n      <td>male</td>\n      <td>22.0</td>\n      <td>1</td>\n      <td>0</td>\n      <td>A/5 21171</td>\n      <td>7.2500</td>\n      <td>NaN</td>\n      <td>S</td>\n      <td>C</td>\n      <td>C</td>\n    </tr>\n    <tr>\n      <th>1</th>\n      <td>2</td>\n      <td>1</td>\n      <td>1</td>\n      <td>Cumings, Mrs. John Bradley (Florence Briggs Th...</td>\n      <td>female</td>\n      <td>38.0</td>\n      <td>1</td>\n      <td>0</td>\n      <td>PC 17599</td>\n      <td>71.2833</td>\n      <td>C85</td>\n      <td>C</td>\n      <td>A</td>\n      <td>A</td>\n    </tr>\n    <tr>\n      <th>2</th>\n      <td>3</td>\n      <td>1</td>\n      <td>3</td>\n      <td>Heikkinen, Miss. Laina</td>\n      <td>female</td>\n      <td>26.0</td>\n      <td>0</td>\n      <td>0</td>\n      <td>STON/O2. 3101282</td>\n      <td>7.9250</td>\n      <td>NaN</td>\n      <td>S</td>\n      <td>C</td>\n      <td>C</td>\n    </tr>\n    <tr>\n      <th>3</th>\n      <td>4</td>\n      <td>1</td>\n      <td>1</td>\n      <td>Futrelle, Mrs. Jacques Heath (Lily May Peel)</td>\n      <td>female</td>\n      <td>35.0</td>\n      <td>1</td>\n      <td>0</td>\n      <td>113803</td>\n      <td>53.1000</td>\n      <td>C123</td>\n      <td>S</td>\n      <td>A</td>\n      <td>A</td>\n    </tr>\n    <tr>\n      <th>4</th>\n      <td>5</td>\n      <td>0</td>\n      <td>3</td>\n      <td>Allen, Mr. William Henry</td>\n      <td>male</td>\n      <td>35.0</td>\n      <td>0</td>\n      <td>0</td>\n      <td>373450</td>\n      <td>8.0500</td>\n      <td>NaN</td>\n      <td>S</td>\n      <td>C</td>\n      <td>C</td>\n    </tr>\n    <tr>\n      <th>...</th>\n      <td>...</td>\n      <td>...</td>\n      <td>...</td>\n      <td>...</td>\n      <td>...</td>\n      <td>...</td>\n      <td>...</td>\n      <td>...</td>\n      <td>...</td>\n      <td>...</td>\n      <td>...</td>\n      <td>...</td>\n      <td>...</td>\n      <td>...</td>\n    </tr>\n    <tr>\n      <th>886</th>\n      <td>887</td>\n      <td>0</td>\n      <td>2</td>\n      <td>Montvila, Rev. Juozas</td>\n      <td>male</td>\n      <td>27.0</td>\n      <td>0</td>\n      <td>0</td>\n      <td>211536</td>\n      <td>13.0000</td>\n      <td>NaN</td>\n      <td>S</td>\n      <td>B</td>\n      <td>B</td>\n    </tr>\n    <tr>\n      <th>887</th>\n      <td>888</td>\n      <td>1</td>\n      <td>1</td>\n      <td>Graham, Miss. Margaret Edith</td>\n      <td>female</td>\n      <td>19.0</td>\n      <td>0</td>\n      <td>0</td>\n      <td>112053</td>\n      <td>30.0000</td>\n      <td>B42</td>\n      <td>S</td>\n      <td>A</td>\n      <td>A</td>\n    </tr>\n    <tr>\n      <th>888</th>\n      <td>889</td>\n      <td>0</td>\n      <td>3</td>\n      <td>Johnston, Miss. Catherine Helen \"Carrie\"</td>\n      <td>female</td>\n      <td>NaN</td>\n      <td>1</td>\n      <td>2</td>\n      <td>W./C. 6607</td>\n      <td>23.4500</td>\n      <td>NaN</td>\n      <td>S</td>\n      <td>C</td>\n      <td>C</td>\n    </tr>\n    <tr>\n      <th>889</th>\n      <td>890</td>\n      <td>1</td>\n      <td>1</td>\n      <td>Behr, Mr. Karl Howell</td>\n      <td>male</td>\n      <td>26.0</td>\n      <td>0</td>\n      <td>0</td>\n      <td>111369</td>\n      <td>30.0000</td>\n      <td>C148</td>\n      <td>C</td>\n      <td>A</td>\n      <td>A</td>\n    </tr>\n    <tr>\n      <th>890</th>\n      <td>891</td>\n      <td>0</td>\n      <td>3</td>\n      <td>Dooley, Mr. Patrick</td>\n      <td>male</td>\n      <td>32.0</td>\n      <td>0</td>\n      <td>0</td>\n      <td>370376</td>\n      <td>7.7500</td>\n      <td>NaN</td>\n      <td>Q</td>\n      <td>C</td>\n      <td>C</td>\n    </tr>\n  </tbody>\n</table>\n<p>891 rows × 14 columns</p>\n</div>"
     },
     "metadata": {},
     "execution_count": 55
    }
   ],
   "source": [
    "Pclass2 = []\n",
    "for i in train_df['Pclass']:    \n",
    "    if i == 1:\n",
    "        Pclass2.append('A')\n",
    "    elif i ==2:\n",
    "        Pclass2.append('B')\n",
    "    else:\n",
    "        Pclass2.append('C')\n",
    "        \n",
    "Pclass2\n",
    "train_df['Pclass2'] = Pclass2    \n",
    "train_df"
   ]
  },
  {
   "cell_type": "code",
   "execution_count": 56,
   "metadata": {},
   "outputs": [
    {
     "output_type": "execute_result",
     "data": {
      "text/plain": "array([ True])"
     },
     "metadata": {},
     "execution_count": 56
    }
   ],
   "source": [
    "y = train_df.PClass1 == train_df.Pclass2\n",
    "y.unique()"
   ]
  },
  {
   "cell_type": "code",
   "execution_count": 57,
   "metadata": {},
   "outputs": [
    {
     "output_type": "execute_result",
     "data": {
      "text/plain": "   Aexperiencia  Salario\n0          10.0    42500\n1           8.0    36302\n2           5.4    35000\n3           2.5    18103\n4           1.0    15000",
      "text/html": "<div>\n<style scoped>\n    .dataframe tbody tr th:only-of-type {\n        vertical-align: middle;\n    }\n\n    .dataframe tbody tr th {\n        vertical-align: top;\n    }\n\n    .dataframe thead th {\n        text-align: right;\n    }\n</style>\n<table border=\"1\" class=\"dataframe\">\n  <thead>\n    <tr style=\"text-align: right;\">\n      <th></th>\n      <th>Aexperiencia</th>\n      <th>Salario</th>\n    </tr>\n  </thead>\n  <tbody>\n    <tr>\n      <th>0</th>\n      <td>10.0</td>\n      <td>42500</td>\n    </tr>\n    <tr>\n      <th>1</th>\n      <td>8.0</td>\n      <td>36302</td>\n    </tr>\n    <tr>\n      <th>2</th>\n      <td>5.4</td>\n      <td>35000</td>\n    </tr>\n    <tr>\n      <th>3</th>\n      <td>2.5</td>\n      <td>18103</td>\n    </tr>\n    <tr>\n      <th>4</th>\n      <td>1.0</td>\n      <td>15000</td>\n    </tr>\n  </tbody>\n</table>\n</div>"
     },
     "metadata": {},
     "execution_count": 57
    }
   ],
   "source": [
    "df = pd.read_csv('salarios.csv')\n",
    "df.head(5)"
   ]
  },
  {
   "cell_type": "code",
   "execution_count": 58,
   "metadata": {},
   "outputs": [
    {
     "output_type": "execute_result",
     "data": {
      "text/plain": "   Aexperiencia  Salario Paises  idPaises\n0          10.0    42500     AR         0\n1           8.0    36302     US         1\n2           5.4    35000     AR         0\n3           2.5    18103     US         1\n4           1.0    15000     US         1\n5           8.0    37000     CA         2\n6           4.0    26300     CA         2\n7           6.0    35201     CA         2\n8           2.0    18302     US         1\n9          10.0    42000     AR         0",
      "text/html": "<div>\n<style scoped>\n    .dataframe tbody tr th:only-of-type {\n        vertical-align: middle;\n    }\n\n    .dataframe tbody tr th {\n        vertical-align: top;\n    }\n\n    .dataframe thead th {\n        text-align: right;\n    }\n</style>\n<table border=\"1\" class=\"dataframe\">\n  <thead>\n    <tr style=\"text-align: right;\">\n      <th></th>\n      <th>Aexperiencia</th>\n      <th>Salario</th>\n      <th>Paises</th>\n      <th>idPaises</th>\n    </tr>\n  </thead>\n  <tbody>\n    <tr>\n      <th>0</th>\n      <td>10.0</td>\n      <td>42500</td>\n      <td>AR</td>\n      <td>0</td>\n    </tr>\n    <tr>\n      <th>1</th>\n      <td>8.0</td>\n      <td>36302</td>\n      <td>US</td>\n      <td>1</td>\n    </tr>\n    <tr>\n      <th>2</th>\n      <td>5.4</td>\n      <td>35000</td>\n      <td>AR</td>\n      <td>0</td>\n    </tr>\n    <tr>\n      <th>3</th>\n      <td>2.5</td>\n      <td>18103</td>\n      <td>US</td>\n      <td>1</td>\n    </tr>\n    <tr>\n      <th>4</th>\n      <td>1.0</td>\n      <td>15000</td>\n      <td>US</td>\n      <td>1</td>\n    </tr>\n    <tr>\n      <th>5</th>\n      <td>8.0</td>\n      <td>37000</td>\n      <td>CA</td>\n      <td>2</td>\n    </tr>\n    <tr>\n      <th>6</th>\n      <td>4.0</td>\n      <td>26300</td>\n      <td>CA</td>\n      <td>2</td>\n    </tr>\n    <tr>\n      <th>7</th>\n      <td>6.0</td>\n      <td>35201</td>\n      <td>CA</td>\n      <td>2</td>\n    </tr>\n    <tr>\n      <th>8</th>\n      <td>2.0</td>\n      <td>18302</td>\n      <td>US</td>\n      <td>1</td>\n    </tr>\n    <tr>\n      <th>9</th>\n      <td>10.0</td>\n      <td>42000</td>\n      <td>AR</td>\n      <td>0</td>\n    </tr>\n  </tbody>\n</table>\n</div>"
     },
     "metadata": {},
     "execution_count": 58
    }
   ],
   "source": [
    "paises = ['MX','US', 'BR','AR','CO', 'CA']\n",
    "df['Paises'] = [paises[np.random.randint(0,len(paises))] for i in range(30)]   #Aleatorio de paises\n",
    "df['idPaises'] = pd.factorize(df['Paises'])[0]  # Categoriza los paises aleatorios\n",
    "df.head(10)"
   ]
  }
 ],
 "metadata": {
  "kernelspec": {
   "display_name": "Python 3.7.4 64-bit ('Anaconda': conda)",
   "language": "python",
   "name": "python37464bitanacondaconda74954a3f106b47d99d44e5fb8ca66932"
  },
  "language_info": {
   "codemirror_mode": {
    "name": "ipython",
    "version": 3
   },
   "file_extension": ".py",
   "mimetype": "text/x-python",
   "name": "python",
   "nbconvert_exporter": "python",
   "pygments_lexer": "ipython3",
   "version": "3.7.4-final"
  }
 },
 "nbformat": 4,
 "nbformat_minor": 2
}