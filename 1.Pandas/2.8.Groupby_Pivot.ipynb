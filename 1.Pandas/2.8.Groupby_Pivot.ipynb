{
 "cells": [
  {
   "cell_type": "code",
   "execution_count": 10,
   "metadata": {},
   "outputs": [],
   "source": [
    "import pandas as pd\n",
    "import numpy as np"
   ]
  },
  {
   "cell_type": "markdown",
   "metadata": {},
   "source": [
    "## Group By: extraer valor de variables númericas"
   ]
  },
  {
   "cell_type": "code",
   "execution_count": 11,
   "metadata": {},
   "outputs": [],
   "source": [
    "pd.options.display.float_format = '{:,.3f}'.format       #No de decimales que queremos que aparezcan usando pandas"
   ]
  },
  {
   "cell_type": "code",
   "execution_count": 12,
   "metadata": {},
   "outputs": [],
   "source": [
    "import seaborn as sns"
   ]
  },
  {
   "cell_type": "code",
   "execution_count": 13,
   "metadata": {},
   "outputs": [
    {
     "output_type": "execute_result",
     "data": {
      "text/plain": "   total_bill   tip     sex smoker  day    time  size\n0      16.990 1.010  Female     No  Sun  Dinner     2\n1      10.340 1.660    Male     No  Sun  Dinner     3\n2      21.010 3.500    Male     No  Sun  Dinner     3\n3      23.680 3.310    Male     No  Sun  Dinner     2\n4      24.590 3.610  Female     No  Sun  Dinner     4",
      "text/html": "<div>\n<style scoped>\n    .dataframe tbody tr th:only-of-type {\n        vertical-align: middle;\n    }\n\n    .dataframe tbody tr th {\n        vertical-align: top;\n    }\n\n    .dataframe thead th {\n        text-align: right;\n    }\n</style>\n<table border=\"1\" class=\"dataframe\">\n  <thead>\n    <tr style=\"text-align: right;\">\n      <th></th>\n      <th>total_bill</th>\n      <th>tip</th>\n      <th>sex</th>\n      <th>smoker</th>\n      <th>day</th>\n      <th>time</th>\n      <th>size</th>\n    </tr>\n  </thead>\n  <tbody>\n    <tr>\n      <th>0</th>\n      <td>16.990</td>\n      <td>1.010</td>\n      <td>Female</td>\n      <td>No</td>\n      <td>Sun</td>\n      <td>Dinner</td>\n      <td>2</td>\n    </tr>\n    <tr>\n      <th>1</th>\n      <td>10.340</td>\n      <td>1.660</td>\n      <td>Male</td>\n      <td>No</td>\n      <td>Sun</td>\n      <td>Dinner</td>\n      <td>3</td>\n    </tr>\n    <tr>\n      <th>2</th>\n      <td>21.010</td>\n      <td>3.500</td>\n      <td>Male</td>\n      <td>No</td>\n      <td>Sun</td>\n      <td>Dinner</td>\n      <td>3</td>\n    </tr>\n    <tr>\n      <th>3</th>\n      <td>23.680</td>\n      <td>3.310</td>\n      <td>Male</td>\n      <td>No</td>\n      <td>Sun</td>\n      <td>Dinner</td>\n      <td>2</td>\n    </tr>\n    <tr>\n      <th>4</th>\n      <td>24.590</td>\n      <td>3.610</td>\n      <td>Female</td>\n      <td>No</td>\n      <td>Sun</td>\n      <td>Dinner</td>\n      <td>4</td>\n    </tr>\n  </tbody>\n</table>\n</div>"
     },
     "metadata": {},
     "execution_count": 13
    }
   ],
   "source": [
    "df = sns.load_dataset('tips')\n",
    "df.head(5)"
   ]
  },
  {
   "cell_type": "code",
   "execution_count": 14,
   "metadata": {},
   "outputs": [
    {
     "output_type": "execute_result",
     "data": {
      "text/plain": "        total_bill     tip   sex smoker  day    time    size\ncount      244.000 244.000   244    244  244     244 244.000\nunique         nan     nan     2      2    4       2     nan\ntop            nan     nan  Male     No  Sat  Dinner     nan\nfreq           nan     nan   157    151   87     176     nan\nmean        19.786   2.998   NaN    NaN  NaN     NaN   2.570\nstd          8.902   1.384   NaN    NaN  NaN     NaN   0.951\nmin          3.070   1.000   NaN    NaN  NaN     NaN   1.000\n25%         13.348   2.000   NaN    NaN  NaN     NaN   2.000\n50%         17.795   2.900   NaN    NaN  NaN     NaN   2.000\n75%         24.127   3.562   NaN    NaN  NaN     NaN   3.000\nmax         50.810  10.000   NaN    NaN  NaN     NaN   6.000",
      "text/html": "<div>\n<style scoped>\n    .dataframe tbody tr th:only-of-type {\n        vertical-align: middle;\n    }\n\n    .dataframe tbody tr th {\n        vertical-align: top;\n    }\n\n    .dataframe thead th {\n        text-align: right;\n    }\n</style>\n<table border=\"1\" class=\"dataframe\">\n  <thead>\n    <tr style=\"text-align: right;\">\n      <th></th>\n      <th>total_bill</th>\n      <th>tip</th>\n      <th>sex</th>\n      <th>smoker</th>\n      <th>day</th>\n      <th>time</th>\n      <th>size</th>\n    </tr>\n  </thead>\n  <tbody>\n    <tr>\n      <th>count</th>\n      <td>244.000</td>\n      <td>244.000</td>\n      <td>244</td>\n      <td>244</td>\n      <td>244</td>\n      <td>244</td>\n      <td>244.000</td>\n    </tr>\n    <tr>\n      <th>unique</th>\n      <td>nan</td>\n      <td>nan</td>\n      <td>2</td>\n      <td>2</td>\n      <td>4</td>\n      <td>2</td>\n      <td>nan</td>\n    </tr>\n    <tr>\n      <th>top</th>\n      <td>nan</td>\n      <td>nan</td>\n      <td>Male</td>\n      <td>No</td>\n      <td>Sat</td>\n      <td>Dinner</td>\n      <td>nan</td>\n    </tr>\n    <tr>\n      <th>freq</th>\n      <td>nan</td>\n      <td>nan</td>\n      <td>157</td>\n      <td>151</td>\n      <td>87</td>\n      <td>176</td>\n      <td>nan</td>\n    </tr>\n    <tr>\n      <th>mean</th>\n      <td>19.786</td>\n      <td>2.998</td>\n      <td>NaN</td>\n      <td>NaN</td>\n      <td>NaN</td>\n      <td>NaN</td>\n      <td>2.570</td>\n    </tr>\n    <tr>\n      <th>std</th>\n      <td>8.902</td>\n      <td>1.384</td>\n      <td>NaN</td>\n      <td>NaN</td>\n      <td>NaN</td>\n      <td>NaN</td>\n      <td>0.951</td>\n    </tr>\n    <tr>\n      <th>min</th>\n      <td>3.070</td>\n      <td>1.000</td>\n      <td>NaN</td>\n      <td>NaN</td>\n      <td>NaN</td>\n      <td>NaN</td>\n      <td>1.000</td>\n    </tr>\n    <tr>\n      <th>25%</th>\n      <td>13.348</td>\n      <td>2.000</td>\n      <td>NaN</td>\n      <td>NaN</td>\n      <td>NaN</td>\n      <td>NaN</td>\n      <td>2.000</td>\n    </tr>\n    <tr>\n      <th>50%</th>\n      <td>17.795</td>\n      <td>2.900</td>\n      <td>NaN</td>\n      <td>NaN</td>\n      <td>NaN</td>\n      <td>NaN</td>\n      <td>2.000</td>\n    </tr>\n    <tr>\n      <th>75%</th>\n      <td>24.127</td>\n      <td>3.562</td>\n      <td>NaN</td>\n      <td>NaN</td>\n      <td>NaN</td>\n      <td>NaN</td>\n      <td>3.000</td>\n    </tr>\n    <tr>\n      <th>max</th>\n      <td>50.810</td>\n      <td>10.000</td>\n      <td>NaN</td>\n      <td>NaN</td>\n      <td>NaN</td>\n      <td>NaN</td>\n      <td>6.000</td>\n    </tr>\n  </tbody>\n</table>\n</div>"
     },
     "metadata": {},
     "execution_count": 14
    }
   ],
   "source": [
    "df.describe(include='all')"
   ]
  },
  {
   "cell_type": "code",
   "execution_count": 15,
   "metadata": {},
   "outputs": [
    {
     "output_type": "execute_result",
     "data": {
      "text/plain": "Sat     87\nSun     76\nThur    62\nFri     19\nName: day, dtype: int64"
     },
     "metadata": {},
     "execution_count": 15
    }
   ],
   "source": [
    "df['day'].value_counts()"
   ]
  },
  {
   "cell_type": "code",
   "execution_count": 16,
   "metadata": {},
   "outputs": [
    {
     "output_type": "execute_result",
     "data": {
      "text/plain": "Sat    35.656\nSun    31.148\nThur   25.410\nFri     7.787\nName: day, dtype: float64"
     },
     "metadata": {},
     "execution_count": 16
    }
   ],
   "source": [
    "df['day'].value_counts() / len(df['day']) * 100    #len(df.day) es igual a shape[0]"
   ]
  },
  {
   "cell_type": "code",
   "execution_count": 17,
   "metadata": {},
   "outputs": [
    {
     "output_type": "execute_result",
     "data": {
      "text/plain": "        total_bill   tip  size\nsex                           \nMale        20.744 3.090 2.631\nFemale      18.057 2.833 2.460",
      "text/html": "<div>\n<style scoped>\n    .dataframe tbody tr th:only-of-type {\n        vertical-align: middle;\n    }\n\n    .dataframe tbody tr th {\n        vertical-align: top;\n    }\n\n    .dataframe thead th {\n        text-align: right;\n    }\n</style>\n<table border=\"1\" class=\"dataframe\">\n  <thead>\n    <tr style=\"text-align: right;\">\n      <th></th>\n      <th>total_bill</th>\n      <th>tip</th>\n      <th>size</th>\n    </tr>\n    <tr>\n      <th>sex</th>\n      <th></th>\n      <th></th>\n      <th></th>\n    </tr>\n  </thead>\n  <tbody>\n    <tr>\n      <th>Male</th>\n      <td>20.744</td>\n      <td>3.090</td>\n      <td>2.631</td>\n    </tr>\n    <tr>\n      <th>Female</th>\n      <td>18.057</td>\n      <td>2.833</td>\n      <td>2.460</td>\n    </tr>\n  </tbody>\n</table>\n</div>"
     },
     "metadata": {},
     "execution_count": 17
    }
   ],
   "source": [
    "df.groupby('sex').mean()"
   ]
  },
  {
   "cell_type": "code",
   "execution_count": 18,
   "metadata": {},
   "outputs": [
    {
     "output_type": "execute_result",
     "data": {
      "text/plain": "   total_bill   tip     sex smoker  day    time  size  prct_tip\n0      16.990 1.010  Female     No  Sun  Dinner     2     0.059\n1      10.340 1.660    Male     No  Sun  Dinner     3     0.161\n2      21.010 3.500    Male     No  Sun  Dinner     3     0.167\n3      23.680 3.310    Male     No  Sun  Dinner     2     0.140\n4      24.590 3.610  Female     No  Sun  Dinner     4     0.147",
      "text/html": "<div>\n<style scoped>\n    .dataframe tbody tr th:only-of-type {\n        vertical-align: middle;\n    }\n\n    .dataframe tbody tr th {\n        vertical-align: top;\n    }\n\n    .dataframe thead th {\n        text-align: right;\n    }\n</style>\n<table border=\"1\" class=\"dataframe\">\n  <thead>\n    <tr style=\"text-align: right;\">\n      <th></th>\n      <th>total_bill</th>\n      <th>tip</th>\n      <th>sex</th>\n      <th>smoker</th>\n      <th>day</th>\n      <th>time</th>\n      <th>size</th>\n      <th>prct_tip</th>\n    </tr>\n  </thead>\n  <tbody>\n    <tr>\n      <th>0</th>\n      <td>16.990</td>\n      <td>1.010</td>\n      <td>Female</td>\n      <td>No</td>\n      <td>Sun</td>\n      <td>Dinner</td>\n      <td>2</td>\n      <td>0.059</td>\n    </tr>\n    <tr>\n      <th>1</th>\n      <td>10.340</td>\n      <td>1.660</td>\n      <td>Male</td>\n      <td>No</td>\n      <td>Sun</td>\n      <td>Dinner</td>\n      <td>3</td>\n      <td>0.161</td>\n    </tr>\n    <tr>\n      <th>2</th>\n      <td>21.010</td>\n      <td>3.500</td>\n      <td>Male</td>\n      <td>No</td>\n      <td>Sun</td>\n      <td>Dinner</td>\n      <td>3</td>\n      <td>0.167</td>\n    </tr>\n    <tr>\n      <th>3</th>\n      <td>23.680</td>\n      <td>3.310</td>\n      <td>Male</td>\n      <td>No</td>\n      <td>Sun</td>\n      <td>Dinner</td>\n      <td>2</td>\n      <td>0.140</td>\n    </tr>\n    <tr>\n      <th>4</th>\n      <td>24.590</td>\n      <td>3.610</td>\n      <td>Female</td>\n      <td>No</td>\n      <td>Sun</td>\n      <td>Dinner</td>\n      <td>4</td>\n      <td>0.147</td>\n    </tr>\n  </tbody>\n</table>\n</div>"
     },
     "metadata": {},
     "execution_count": 18
    }
   ],
   "source": [
    "df['prct_tip'] = df['tip']/df['total_bill']\n",
    "df.head()"
   ]
  },
  {
   "cell_type": "code",
   "execution_count": 19,
   "metadata": {},
   "outputs": [
    {
     "output_type": "execute_result",
     "data": {
      "text/plain": "        total_bill   tip  size  prct_tip\nsex                                     \nMale        20.744 3.090 2.631     0.158\nFemale      18.057 2.833 2.460     0.166",
      "text/html": "<div>\n<style scoped>\n    .dataframe tbody tr th:only-of-type {\n        vertical-align: middle;\n    }\n\n    .dataframe tbody tr th {\n        vertical-align: top;\n    }\n\n    .dataframe thead th {\n        text-align: right;\n    }\n</style>\n<table border=\"1\" class=\"dataframe\">\n  <thead>\n    <tr style=\"text-align: right;\">\n      <th></th>\n      <th>total_bill</th>\n      <th>tip</th>\n      <th>size</th>\n      <th>prct_tip</th>\n    </tr>\n    <tr>\n      <th>sex</th>\n      <th></th>\n      <th></th>\n      <th></th>\n      <th></th>\n    </tr>\n  </thead>\n  <tbody>\n    <tr>\n      <th>Male</th>\n      <td>20.744</td>\n      <td>3.090</td>\n      <td>2.631</td>\n      <td>0.158</td>\n    </tr>\n    <tr>\n      <th>Female</th>\n      <td>18.057</td>\n      <td>2.833</td>\n      <td>2.460</td>\n      <td>0.166</td>\n    </tr>\n  </tbody>\n</table>\n</div>"
     },
     "metadata": {},
     "execution_count": 19
    }
   ],
   "source": [
    "df.groupby('sex').mean()        #promedio de % de propinas"
   ]
  },
  {
   "cell_type": "code",
   "execution_count": 20,
   "metadata": {},
   "outputs": [
    {
     "output_type": "execute_result",
     "data": {
      "text/plain": "        total_bill   tip  size  prct_tip\nsex                                     \nMale        18.350 3.000     2     0.153\nFemale      16.400 2.750     2     0.156",
      "text/html": "<div>\n<style scoped>\n    .dataframe tbody tr th:only-of-type {\n        vertical-align: middle;\n    }\n\n    .dataframe tbody tr th {\n        vertical-align: top;\n    }\n\n    .dataframe thead th {\n        text-align: right;\n    }\n</style>\n<table border=\"1\" class=\"dataframe\">\n  <thead>\n    <tr style=\"text-align: right;\">\n      <th></th>\n      <th>total_bill</th>\n      <th>tip</th>\n      <th>size</th>\n      <th>prct_tip</th>\n    </tr>\n    <tr>\n      <th>sex</th>\n      <th></th>\n      <th></th>\n      <th></th>\n      <th></th>\n    </tr>\n  </thead>\n  <tbody>\n    <tr>\n      <th>Male</th>\n      <td>18.350</td>\n      <td>3.000</td>\n      <td>2</td>\n      <td>0.153</td>\n    </tr>\n    <tr>\n      <th>Female</th>\n      <td>16.400</td>\n      <td>2.750</td>\n      <td>2</td>\n      <td>0.156</td>\n    </tr>\n  </tbody>\n</table>\n</div>"
     },
     "metadata": {},
     "execution_count": 20
    }
   ],
   "source": [
    "df.groupby('sex').median()      #mediana de % de propinas para evitar los outliers(valores atípicos)"
   ]
  },
  {
   "cell_type": "code",
   "execution_count": 21,
   "metadata": {},
   "outputs": [
    {
     "output_type": "execute_result",
     "data": {
      "text/plain": "       total_bill                                                prct_tip  \\\n            count   mean   std   min    25%    50%    75%    max    count   \nsex                                                                         \nMale      157.000 20.744 9.246 7.250 14.000 18.350 24.710 50.810  157.000   \nFemale     87.000 18.057 8.009 3.070 12.750 16.400 21.520 44.300   87.000   \n\n                                                  \n        mean   std   min   25%   50%   75%   max  \nsex                                               \nMale   0.158 0.065 0.036 0.121 0.153 0.186 0.710  \nFemale 0.166 0.054 0.056 0.140 0.156 0.194 0.417  ",
      "text/html": "<div>\n<style scoped>\n    .dataframe tbody tr th:only-of-type {\n        vertical-align: middle;\n    }\n\n    .dataframe tbody tr th {\n        vertical-align: top;\n    }\n\n    .dataframe thead tr th {\n        text-align: left;\n    }\n\n    .dataframe thead tr:last-of-type th {\n        text-align: right;\n    }\n</style>\n<table border=\"1\" class=\"dataframe\">\n  <thead>\n    <tr>\n      <th></th>\n      <th colspan=\"8\" halign=\"left\">total_bill</th>\n      <th colspan=\"8\" halign=\"left\">prct_tip</th>\n    </tr>\n    <tr>\n      <th></th>\n      <th>count</th>\n      <th>mean</th>\n      <th>std</th>\n      <th>min</th>\n      <th>25%</th>\n      <th>50%</th>\n      <th>75%</th>\n      <th>max</th>\n      <th>count</th>\n      <th>mean</th>\n      <th>std</th>\n      <th>min</th>\n      <th>25%</th>\n      <th>50%</th>\n      <th>75%</th>\n      <th>max</th>\n    </tr>\n    <tr>\n      <th>sex</th>\n      <th></th>\n      <th></th>\n      <th></th>\n      <th></th>\n      <th></th>\n      <th></th>\n      <th></th>\n      <th></th>\n      <th></th>\n      <th></th>\n      <th></th>\n      <th></th>\n      <th></th>\n      <th></th>\n      <th></th>\n      <th></th>\n    </tr>\n  </thead>\n  <tbody>\n    <tr>\n      <th>Male</th>\n      <td>157.000</td>\n      <td>20.744</td>\n      <td>9.246</td>\n      <td>7.250</td>\n      <td>14.000</td>\n      <td>18.350</td>\n      <td>24.710</td>\n      <td>50.810</td>\n      <td>157.000</td>\n      <td>0.158</td>\n      <td>0.065</td>\n      <td>0.036</td>\n      <td>0.121</td>\n      <td>0.153</td>\n      <td>0.186</td>\n      <td>0.710</td>\n    </tr>\n    <tr>\n      <th>Female</th>\n      <td>87.000</td>\n      <td>18.057</td>\n      <td>8.009</td>\n      <td>3.070</td>\n      <td>12.750</td>\n      <td>16.400</td>\n      <td>21.520</td>\n      <td>44.300</td>\n      <td>87.000</td>\n      <td>0.166</td>\n      <td>0.054</td>\n      <td>0.056</td>\n      <td>0.140</td>\n      <td>0.156</td>\n      <td>0.194</td>\n      <td>0.417</td>\n    </tr>\n  </tbody>\n</table>\n</div>"
     },
     "metadata": {},
     "execution_count": 21
    }
   ],
   "source": [
    "df.groupby('sex')[['total_bill','prct_tip']].describe()    #Descripción de dos columnas por el groupby de sex "
   ]
  },
  {
   "cell_type": "code",
   "execution_count": 22,
   "metadata": {},
   "outputs": [],
   "source": [
    "def mean_eur2usd(x):        #Funcion normal \n",
    "    y = np.mean(x)*1.12\n",
    "    return y"
   ]
  },
  {
   "cell_type": "code",
   "execution_count": 23,
   "metadata": {},
   "outputs": [
    {
     "output_type": "execute_result",
     "data": {
      "text/plain": "113.12"
     },
     "metadata": {},
     "execution_count": 23
    }
   ],
   "source": [
    "mean_eur2usd([100,102])"
   ]
  },
  {
   "cell_type": "code",
   "execution_count": 24,
   "metadata": {},
   "outputs": [
    {
     "output_type": "execute_result",
     "data": {
      "text/plain": "        total_bill  prct_tip\nsex                         \nMale        23.233     0.177\nFemale      20.224     0.186",
      "text/html": "<div>\n<style scoped>\n    .dataframe tbody tr th:only-of-type {\n        vertical-align: middle;\n    }\n\n    .dataframe tbody tr th {\n        vertical-align: top;\n    }\n\n    .dataframe thead th {\n        text-align: right;\n    }\n</style>\n<table border=\"1\" class=\"dataframe\">\n  <thead>\n    <tr style=\"text-align: right;\">\n      <th></th>\n      <th>total_bill</th>\n      <th>prct_tip</th>\n    </tr>\n    <tr>\n      <th>sex</th>\n      <th></th>\n      <th></th>\n    </tr>\n  </thead>\n  <tbody>\n    <tr>\n      <th>Male</th>\n      <td>23.233</td>\n      <td>0.177</td>\n    </tr>\n    <tr>\n      <th>Female</th>\n      <td>20.224</td>\n      <td>0.186</td>\n    </tr>\n  </tbody>\n</table>\n</div>"
     },
     "metadata": {},
     "execution_count": 24
    }
   ],
   "source": [
    "df.groupby('sex')[['total_bill','prct_tip']].apply(mean_eur2usd)   #Agrupado por la columna sex y sacando el promedio de dos columnas numericas "
   ]
  },
  {
   "cell_type": "code",
   "execution_count": 27,
   "metadata": {},
   "outputs": [
    {
     "output_type": "execute_result",
     "data": {
      "text/plain": "        total_bill  prct_tip\nsex                         \nMale        23.233     0.177\nFemale      20.224     0.186",
      "text/html": "<div>\n<style scoped>\n    .dataframe tbody tr th:only-of-type {\n        vertical-align: middle;\n    }\n\n    .dataframe tbody tr th {\n        vertical-align: top;\n    }\n\n    .dataframe thead th {\n        text-align: right;\n    }\n</style>\n<table border=\"1\" class=\"dataframe\">\n  <thead>\n    <tr style=\"text-align: right;\">\n      <th></th>\n      <th>total_bill</th>\n      <th>prct_tip</th>\n    </tr>\n    <tr>\n      <th>sex</th>\n      <th></th>\n      <th></th>\n    </tr>\n  </thead>\n  <tbody>\n    <tr>\n      <th>Male</th>\n      <td>23.233</td>\n      <td>0.177</td>\n    </tr>\n    <tr>\n      <th>Female</th>\n      <td>20.224</td>\n      <td>0.186</td>\n    </tr>\n  </tbody>\n</table>\n</div>"
     },
     "metadata": {},
     "execution_count": 27
    }
   ],
   "source": [
    "df.groupby('sex')[['total_bill','prct_tip']].apply(lambda x: np.mean(x) * 1.12)    #Funcion lambda"
   ]
  },
  {
   "cell_type": "code",
   "execution_count": 28,
   "metadata": {},
   "outputs": [
    {
     "output_type": "execute_result",
     "data": {
      "text/plain": "               total_bill  prct_tip\nsex    time                        \nMale   Lunch       20.214     0.186\n       Dinner      24.037     0.174\nFemale Lunch       18.300     0.182\n       Dinner      21.519     0.190",
      "text/html": "<div>\n<style scoped>\n    .dataframe tbody tr th:only-of-type {\n        vertical-align: middle;\n    }\n\n    .dataframe tbody tr th {\n        vertical-align: top;\n    }\n\n    .dataframe thead th {\n        text-align: right;\n    }\n</style>\n<table border=\"1\" class=\"dataframe\">\n  <thead>\n    <tr style=\"text-align: right;\">\n      <th></th>\n      <th></th>\n      <th>total_bill</th>\n      <th>prct_tip</th>\n    </tr>\n    <tr>\n      <th>sex</th>\n      <th>time</th>\n      <th></th>\n      <th></th>\n    </tr>\n  </thead>\n  <tbody>\n    <tr>\n      <th rowspan=\"2\" valign=\"top\">Male</th>\n      <th>Lunch</th>\n      <td>20.214</td>\n      <td>0.186</td>\n    </tr>\n    <tr>\n      <th>Dinner</th>\n      <td>24.037</td>\n      <td>0.174</td>\n    </tr>\n    <tr>\n      <th rowspan=\"2\" valign=\"top\">Female</th>\n      <th>Lunch</th>\n      <td>18.300</td>\n      <td>0.182</td>\n    </tr>\n    <tr>\n      <th>Dinner</th>\n      <td>21.519</td>\n      <td>0.190</td>\n    </tr>\n  </tbody>\n</table>\n</div>"
     },
     "metadata": {},
     "execution_count": 28
    }
   ],
   "source": [
    "df.groupby(['sex','time'])[['total_bill','prct_tip']].apply(mean_eur2usd)  #Aprupado por dos columnas y sacando el promedio de otras dos "
   ]
  },
  {
   "cell_type": "code",
   "execution_count": 29,
   "metadata": {},
   "outputs": [
    {
     "output_type": "execute_result",
     "data": {
      "text/plain": "               total_bill  prct_tip\nsex    time                        \nMale   Lunch        7.832     0.045\n       Dinner       9.423     0.069\nFemale Lunch        7.393     0.034\n       Dinner       8.123     0.063",
      "text/html": "<div>\n<style scoped>\n    .dataframe tbody tr th:only-of-type {\n        vertical-align: middle;\n    }\n\n    .dataframe tbody tr th {\n        vertical-align: top;\n    }\n\n    .dataframe thead th {\n        text-align: right;\n    }\n</style>\n<table border=\"1\" class=\"dataframe\">\n  <thead>\n    <tr style=\"text-align: right;\">\n      <th></th>\n      <th></th>\n      <th>total_bill</th>\n      <th>prct_tip</th>\n    </tr>\n    <tr>\n      <th>sex</th>\n      <th>time</th>\n      <th></th>\n      <th></th>\n    </tr>\n  </thead>\n  <tbody>\n    <tr>\n      <th rowspan=\"2\" valign=\"top\">Male</th>\n      <th>Lunch</th>\n      <td>7.832</td>\n      <td>0.045</td>\n    </tr>\n    <tr>\n      <th>Dinner</th>\n      <td>9.423</td>\n      <td>0.069</td>\n    </tr>\n    <tr>\n      <th rowspan=\"2\" valign=\"top\">Female</th>\n      <th>Lunch</th>\n      <td>7.393</td>\n      <td>0.034</td>\n    </tr>\n    <tr>\n      <th>Dinner</th>\n      <td>8.123</td>\n      <td>0.063</td>\n    </tr>\n  </tbody>\n</table>\n</div>"
     },
     "metadata": {},
     "execution_count": 29
    }
   ],
   "source": [
    "df.groupby(['sex','time'])[['total_bill','prct_tip']].apply(np.std)       #Se aplican tambien funciones directas de Numpy "
   ]
  },
  {
   "cell_type": "code",
   "execution_count": 30,
   "metadata": {},
   "outputs": [
    {
     "output_type": "execute_result",
     "data": {
      "text/plain": "               total_bill  prct_tip\nsex    time                        \nMale   Lunch       20.214     0.186\n       Dinner      24.037     0.174\nFemale Lunch       18.300     0.182\n       Dinner      21.519     0.190",
      "text/html": "<div>\n<style scoped>\n    .dataframe tbody tr th:only-of-type {\n        vertical-align: middle;\n    }\n\n    .dataframe tbody tr th {\n        vertical-align: top;\n    }\n\n    .dataframe thead th {\n        text-align: right;\n    }\n</style>\n<table border=\"1\" class=\"dataframe\">\n  <thead>\n    <tr style=\"text-align: right;\">\n      <th></th>\n      <th></th>\n      <th>total_bill</th>\n      <th>prct_tip</th>\n    </tr>\n    <tr>\n      <th>sex</th>\n      <th>time</th>\n      <th></th>\n      <th></th>\n    </tr>\n  </thead>\n  <tbody>\n    <tr>\n      <th rowspan=\"2\" valign=\"top\">Male</th>\n      <th>Lunch</th>\n      <td>20.214</td>\n      <td>0.186</td>\n    </tr>\n    <tr>\n      <th>Dinner</th>\n      <td>24.037</td>\n      <td>0.174</td>\n    </tr>\n    <tr>\n      <th rowspan=\"2\" valign=\"top\">Female</th>\n      <th>Lunch</th>\n      <td>18.300</td>\n      <td>0.182</td>\n    </tr>\n    <tr>\n      <th>Dinner</th>\n      <td>21.519</td>\n      <td>0.190</td>\n    </tr>\n  </tbody>\n</table>\n</div>"
     },
     "metadata": {},
     "execution_count": 30
    }
   ],
   "source": [
    "df.groupby(['sex','time'])[['total_bill','prct_tip']].apply(lambda x: np.mean(x)*1.12)"
   ]
  },
  {
   "cell_type": "code",
   "execution_count": 31,
   "metadata": {},
   "outputs": [
    {
     "output_type": "execute_result",
     "data": {
      "text/plain": "              total_bill        prct_tip      \n                    mean   amax     mean  amax\nsex    time                                   \nMale   Lunch      18.048 41.190    0.166 0.266\n       Dinner     21.461 50.810    0.155 0.710\nFemale Lunch      16.339 43.110    0.162 0.259\n       Dinner     19.213 44.300    0.169 0.417",
      "text/html": "<div>\n<style scoped>\n    .dataframe tbody tr th:only-of-type {\n        vertical-align: middle;\n    }\n\n    .dataframe tbody tr th {\n        vertical-align: top;\n    }\n\n    .dataframe thead tr th {\n        text-align: left;\n    }\n\n    .dataframe thead tr:last-of-type th {\n        text-align: right;\n    }\n</style>\n<table border=\"1\" class=\"dataframe\">\n  <thead>\n    <tr>\n      <th></th>\n      <th></th>\n      <th colspan=\"2\" halign=\"left\">total_bill</th>\n      <th colspan=\"2\" halign=\"left\">prct_tip</th>\n    </tr>\n    <tr>\n      <th></th>\n      <th></th>\n      <th>mean</th>\n      <th>amax</th>\n      <th>mean</th>\n      <th>amax</th>\n    </tr>\n    <tr>\n      <th>sex</th>\n      <th>time</th>\n      <th></th>\n      <th></th>\n      <th></th>\n      <th></th>\n    </tr>\n  </thead>\n  <tbody>\n    <tr>\n      <th rowspan=\"2\" valign=\"top\">Male</th>\n      <th>Lunch</th>\n      <td>18.048</td>\n      <td>41.190</td>\n      <td>0.166</td>\n      <td>0.266</td>\n    </tr>\n    <tr>\n      <th>Dinner</th>\n      <td>21.461</td>\n      <td>50.810</td>\n      <td>0.155</td>\n      <td>0.710</td>\n    </tr>\n    <tr>\n      <th rowspan=\"2\" valign=\"top\">Female</th>\n      <th>Lunch</th>\n      <td>16.339</td>\n      <td>43.110</td>\n      <td>0.162</td>\n      <td>0.259</td>\n    </tr>\n    <tr>\n      <th>Dinner</th>\n      <td>19.213</td>\n      <td>44.300</td>\n      <td>0.169</td>\n      <td>0.417</td>\n    </tr>\n  </tbody>\n</table>\n</div>"
     },
     "metadata": {},
     "execution_count": 31
    }
   ],
   "source": [
    "df.groupby(['sex','time'])[['total_bill','prct_tip']].aggregate([np.mean,np.max])  #Si queremos que nos traiga mas funciones como mean o max, usamos aggregate"
   ]
  },
  {
   "cell_type": "code",
   "execution_count": 32,
   "metadata": {},
   "outputs": [
    {
     "output_type": "execute_result",
     "data": {
      "text/plain": "              total_bill        prct_tip      \n                    mean   amax     mean  amax\nsex    time                                   \nMale   Lunch      18.048 41.190    0.166 0.266\n       Dinner     21.461 50.810    0.155 0.710\nFemale Lunch      16.339 43.110    0.162 0.259\n       Dinner     19.213 44.300    0.169 0.417",
      "text/html": "<div>\n<style scoped>\n    .dataframe tbody tr th:only-of-type {\n        vertical-align: middle;\n    }\n\n    .dataframe tbody tr th {\n        vertical-align: top;\n    }\n\n    .dataframe thead tr th {\n        text-align: left;\n    }\n\n    .dataframe thead tr:last-of-type th {\n        text-align: right;\n    }\n</style>\n<table border=\"1\" class=\"dataframe\">\n  <thead>\n    <tr>\n      <th></th>\n      <th></th>\n      <th colspan=\"2\" halign=\"left\">total_bill</th>\n      <th colspan=\"2\" halign=\"left\">prct_tip</th>\n    </tr>\n    <tr>\n      <th></th>\n      <th></th>\n      <th>mean</th>\n      <th>amax</th>\n      <th>mean</th>\n      <th>amax</th>\n    </tr>\n    <tr>\n      <th>sex</th>\n      <th>time</th>\n      <th></th>\n      <th></th>\n      <th></th>\n      <th></th>\n    </tr>\n  </thead>\n  <tbody>\n    <tr>\n      <th rowspan=\"2\" valign=\"top\">Male</th>\n      <th>Lunch</th>\n      <td>18.048</td>\n      <td>41.190</td>\n      <td>0.166</td>\n      <td>0.266</td>\n    </tr>\n    <tr>\n      <th>Dinner</th>\n      <td>21.461</td>\n      <td>50.810</td>\n      <td>0.155</td>\n      <td>0.710</td>\n    </tr>\n    <tr>\n      <th rowspan=\"2\" valign=\"top\">Female</th>\n      <th>Lunch</th>\n      <td>16.339</td>\n      <td>43.110</td>\n      <td>0.162</td>\n      <td>0.259</td>\n    </tr>\n    <tr>\n      <th>Dinner</th>\n      <td>19.213</td>\n      <td>44.300</td>\n      <td>0.169</td>\n      <td>0.417</td>\n    </tr>\n  </tbody>\n</table>\n</div>"
     },
     "metadata": {},
     "execution_count": 32
    }
   ],
   "source": [
    "df.groupby(['sex','time'])[['total_bill','prct_tip']].agg([np.mean,np.max])"
   ]
  },
  {
   "cell_type": "code",
   "execution_count": 33,
   "metadata": {},
   "outputs": [
    {
     "output_type": "execute_result",
     "data": {
      "text/plain": "{'tip': [<function min>, <function max>],\n 'total_bill': [<function numpy.mean(a, axis=None, dtype=None, out=None, keepdims=<no value>)>,\n  <function __main__.mean_eur2usd(x)>]}"
     },
     "metadata": {},
     "execution_count": 33
    }
   ],
   "source": [
    "dict_agg = {'tip':[min, max],'total_bill':[np.mean, mean_eur2usd]}    #Hacemos agregaciones con diccionarios de funciones \n",
    "dict_agg"
   ]
  },
  {
   "cell_type": "code",
   "execution_count": 34,
   "metadata": {},
   "outputs": [
    {
     "output_type": "execute_result",
     "data": {
      "text/plain": "                tip        total_bill             \n                min    max       mean mean_eur2usd\nsex    time                                       \nMale   Lunch  1.440  6.700     18.048       20.214\n       Dinner 1.000 10.000     21.461       24.037\nFemale Lunch  1.250  5.170     16.339       18.300\n       Dinner 1.000  6.500     19.213       21.519",
      "text/html": "<div>\n<style scoped>\n    .dataframe tbody tr th:only-of-type {\n        vertical-align: middle;\n    }\n\n    .dataframe tbody tr th {\n        vertical-align: top;\n    }\n\n    .dataframe thead tr th {\n        text-align: left;\n    }\n\n    .dataframe thead tr:last-of-type th {\n        text-align: right;\n    }\n</style>\n<table border=\"1\" class=\"dataframe\">\n  <thead>\n    <tr>\n      <th></th>\n      <th></th>\n      <th colspan=\"2\" halign=\"left\">tip</th>\n      <th colspan=\"2\" halign=\"left\">total_bill</th>\n    </tr>\n    <tr>\n      <th></th>\n      <th></th>\n      <th>min</th>\n      <th>max</th>\n      <th>mean</th>\n      <th>mean_eur2usd</th>\n    </tr>\n    <tr>\n      <th>sex</th>\n      <th>time</th>\n      <th></th>\n      <th></th>\n      <th></th>\n      <th></th>\n    </tr>\n  </thead>\n  <tbody>\n    <tr>\n      <th rowspan=\"2\" valign=\"top\">Male</th>\n      <th>Lunch</th>\n      <td>1.440</td>\n      <td>6.700</td>\n      <td>18.048</td>\n      <td>20.214</td>\n    </tr>\n    <tr>\n      <th>Dinner</th>\n      <td>1.000</td>\n      <td>10.000</td>\n      <td>21.461</td>\n      <td>24.037</td>\n    </tr>\n    <tr>\n      <th rowspan=\"2\" valign=\"top\">Female</th>\n      <th>Lunch</th>\n      <td>1.250</td>\n      <td>5.170</td>\n      <td>16.339</td>\n      <td>18.300</td>\n    </tr>\n    <tr>\n      <th>Dinner</th>\n      <td>1.000</td>\n      <td>6.500</td>\n      <td>19.213</td>\n      <td>21.519</td>\n    </tr>\n  </tbody>\n</table>\n</div>"
     },
     "metadata": {},
     "execution_count": 34
    }
   ],
   "source": [
    "df.groupby(['sex','time'])[['total_bill','tip']].agg(dict_agg)"
   ]
  },
  {
   "cell_type": "code",
   "execution_count": 35,
   "metadata": {},
   "outputs": [],
   "source": [
    "def f_filter(x):             #Se hace una función para filtrar la agrupación anterior, se aplica solo sobre la columna de total_bill\n",
    "    return mean_eur2usd(x['total_bill'].mean()) > 20"
   ]
  },
  {
   "cell_type": "code",
   "execution_count": 36,
   "metadata": {},
   "outputs": [
    {
     "output_type": "execute_result",
     "data": {
      "text/plain": "     total_bill   tip     sex smoker   day    time  size  prct_tip\n0        16.990 1.010  Female     No   Sun  Dinner     2     0.059\n1        10.340 1.660    Male     No   Sun  Dinner     3     0.161\n2        21.010 3.500    Male     No   Sun  Dinner     3     0.167\n3        23.680 3.310    Male     No   Sun  Dinner     2     0.140\n4        24.590 3.610  Female     No   Sun  Dinner     4     0.147\n..          ...   ...     ...    ...   ...     ...   ...       ...\n239      29.030 5.920    Male     No   Sat  Dinner     3     0.204\n240      27.180 2.000  Female    Yes   Sat  Dinner     2     0.074\n241      22.670 2.000    Male    Yes   Sat  Dinner     2     0.088\n242      17.820 1.750    Male     No   Sat  Dinner     2     0.098\n243      18.780 3.000  Female     No  Thur  Dinner     2     0.160\n\n[209 rows x 8 columns]",
      "text/html": "<div>\n<style scoped>\n    .dataframe tbody tr th:only-of-type {\n        vertical-align: middle;\n    }\n\n    .dataframe tbody tr th {\n        vertical-align: top;\n    }\n\n    .dataframe thead th {\n        text-align: right;\n    }\n</style>\n<table border=\"1\" class=\"dataframe\">\n  <thead>\n    <tr style=\"text-align: right;\">\n      <th></th>\n      <th>total_bill</th>\n      <th>tip</th>\n      <th>sex</th>\n      <th>smoker</th>\n      <th>day</th>\n      <th>time</th>\n      <th>size</th>\n      <th>prct_tip</th>\n    </tr>\n  </thead>\n  <tbody>\n    <tr>\n      <th>0</th>\n      <td>16.990</td>\n      <td>1.010</td>\n      <td>Female</td>\n      <td>No</td>\n      <td>Sun</td>\n      <td>Dinner</td>\n      <td>2</td>\n      <td>0.059</td>\n    </tr>\n    <tr>\n      <th>1</th>\n      <td>10.340</td>\n      <td>1.660</td>\n      <td>Male</td>\n      <td>No</td>\n      <td>Sun</td>\n      <td>Dinner</td>\n      <td>3</td>\n      <td>0.161</td>\n    </tr>\n    <tr>\n      <th>2</th>\n      <td>21.010</td>\n      <td>3.500</td>\n      <td>Male</td>\n      <td>No</td>\n      <td>Sun</td>\n      <td>Dinner</td>\n      <td>3</td>\n      <td>0.167</td>\n    </tr>\n    <tr>\n      <th>3</th>\n      <td>23.680</td>\n      <td>3.310</td>\n      <td>Male</td>\n      <td>No</td>\n      <td>Sun</td>\n      <td>Dinner</td>\n      <td>2</td>\n      <td>0.140</td>\n    </tr>\n    <tr>\n      <th>4</th>\n      <td>24.590</td>\n      <td>3.610</td>\n      <td>Female</td>\n      <td>No</td>\n      <td>Sun</td>\n      <td>Dinner</td>\n      <td>4</td>\n      <td>0.147</td>\n    </tr>\n    <tr>\n      <th>...</th>\n      <td>...</td>\n      <td>...</td>\n      <td>...</td>\n      <td>...</td>\n      <td>...</td>\n      <td>...</td>\n      <td>...</td>\n      <td>...</td>\n    </tr>\n    <tr>\n      <th>239</th>\n      <td>29.030</td>\n      <td>5.920</td>\n      <td>Male</td>\n      <td>No</td>\n      <td>Sat</td>\n      <td>Dinner</td>\n      <td>3</td>\n      <td>0.204</td>\n    </tr>\n    <tr>\n      <th>240</th>\n      <td>27.180</td>\n      <td>2.000</td>\n      <td>Female</td>\n      <td>Yes</td>\n      <td>Sat</td>\n      <td>Dinner</td>\n      <td>2</td>\n      <td>0.074</td>\n    </tr>\n    <tr>\n      <th>241</th>\n      <td>22.670</td>\n      <td>2.000</td>\n      <td>Male</td>\n      <td>Yes</td>\n      <td>Sat</td>\n      <td>Dinner</td>\n      <td>2</td>\n      <td>0.088</td>\n    </tr>\n    <tr>\n      <th>242</th>\n      <td>17.820</td>\n      <td>1.750</td>\n      <td>Male</td>\n      <td>No</td>\n      <td>Sat</td>\n      <td>Dinner</td>\n      <td>2</td>\n      <td>0.098</td>\n    </tr>\n    <tr>\n      <th>243</th>\n      <td>18.780</td>\n      <td>3.000</td>\n      <td>Female</td>\n      <td>No</td>\n      <td>Thur</td>\n      <td>Dinner</td>\n      <td>2</td>\n      <td>0.160</td>\n    </tr>\n  </tbody>\n</table>\n<p>209 rows × 8 columns</p>\n</div>"
     },
     "metadata": {},
     "execution_count": 36
    }
   ],
   "source": [
    "df_filtered = df.groupby(['sex','time']).filter(f_filter)        #El unico prom que no se encuentra es el lunch de female (esta abajo de 20)\n",
    "df_filtered"
   ]
  },
  {
   "cell_type": "code",
   "execution_count": 37,
   "metadata": {},
   "outputs": [
    {
     "output_type": "execute_result",
     "data": {
      "text/plain": "               total_bill     tip  smoker     day    size  prct_tip\nsex    time                                                        \nMale   Lunch       33.000  33.000  33.000  33.000  33.000    33.000\n       Dinner     124.000 124.000 124.000 124.000 124.000   124.000\nFemale Lunch          nan     nan     nan     nan     nan       nan\n       Dinner      52.000  52.000  52.000  52.000  52.000    52.000",
      "text/html": "<div>\n<style scoped>\n    .dataframe tbody tr th:only-of-type {\n        vertical-align: middle;\n    }\n\n    .dataframe tbody tr th {\n        vertical-align: top;\n    }\n\n    .dataframe thead th {\n        text-align: right;\n    }\n</style>\n<table border=\"1\" class=\"dataframe\">\n  <thead>\n    <tr style=\"text-align: right;\">\n      <th></th>\n      <th></th>\n      <th>total_bill</th>\n      <th>tip</th>\n      <th>smoker</th>\n      <th>day</th>\n      <th>size</th>\n      <th>prct_tip</th>\n    </tr>\n    <tr>\n      <th>sex</th>\n      <th>time</th>\n      <th></th>\n      <th></th>\n      <th></th>\n      <th></th>\n      <th></th>\n      <th></th>\n    </tr>\n  </thead>\n  <tbody>\n    <tr>\n      <th rowspan=\"2\" valign=\"top\">Male</th>\n      <th>Lunch</th>\n      <td>33.000</td>\n      <td>33.000</td>\n      <td>33.000</td>\n      <td>33.000</td>\n      <td>33.000</td>\n      <td>33.000</td>\n    </tr>\n    <tr>\n      <th>Dinner</th>\n      <td>124.000</td>\n      <td>124.000</td>\n      <td>124.000</td>\n      <td>124.000</td>\n      <td>124.000</td>\n      <td>124.000</td>\n    </tr>\n    <tr>\n      <th rowspan=\"2\" valign=\"top\">Female</th>\n      <th>Lunch</th>\n      <td>nan</td>\n      <td>nan</td>\n      <td>nan</td>\n      <td>nan</td>\n      <td>nan</td>\n      <td>nan</td>\n    </tr>\n    <tr>\n      <th>Dinner</th>\n      <td>52.000</td>\n      <td>52.000</td>\n      <td>52.000</td>\n      <td>52.000</td>\n      <td>52.000</td>\n      <td>52.000</td>\n    </tr>\n  </tbody>\n</table>\n</div>"
     },
     "metadata": {},
     "execution_count": 37
    }
   ],
   "source": [
    "df_filtered.groupby(['sex','time']).count()       #Validación del filtro anterior |"
   ]
  },
  {
   "cell_type": "markdown",
   "metadata": {},
   "source": [
    "## Group By: extraer valor con variables categóricas"
   ]
  },
  {
   "cell_type": "code",
   "execution_count": 38,
   "metadata": {},
   "outputs": [
    {
     "output_type": "execute_result",
     "data": {
      "text/plain": "     total_bill   tip     sex smoker   day    time  size  prct_tip\n0        16.990 1.010  Female     No   Sun  Dinner     2     0.059\n1        10.340 1.660    Male     No   Sun  Dinner     3     0.161\n2        21.010 3.500    Male     No   Sun  Dinner     3     0.167\n3        23.680 3.310    Male     No   Sun  Dinner     2     0.140\n4        24.590 3.610  Female     No   Sun  Dinner     4     0.147\n..          ...   ...     ...    ...   ...     ...   ...       ...\n239      29.030 5.920    Male     No   Sat  Dinner     3     0.204\n240      27.180 2.000  Female    Yes   Sat  Dinner     2     0.074\n241      22.670 2.000    Male    Yes   Sat  Dinner     2     0.088\n242      17.820 1.750    Male     No   Sat  Dinner     2     0.098\n243      18.780 3.000  Female     No  Thur  Dinner     2     0.160\n\n[244 rows x 8 columns]",
      "text/html": "<div>\n<style scoped>\n    .dataframe tbody tr th:only-of-type {\n        vertical-align: middle;\n    }\n\n    .dataframe tbody tr th {\n        vertical-align: top;\n    }\n\n    .dataframe thead th {\n        text-align: right;\n    }\n</style>\n<table border=\"1\" class=\"dataframe\">\n  <thead>\n    <tr style=\"text-align: right;\">\n      <th></th>\n      <th>total_bill</th>\n      <th>tip</th>\n      <th>sex</th>\n      <th>smoker</th>\n      <th>day</th>\n      <th>time</th>\n      <th>size</th>\n      <th>prct_tip</th>\n    </tr>\n  </thead>\n  <tbody>\n    <tr>\n      <th>0</th>\n      <td>16.990</td>\n      <td>1.010</td>\n      <td>Female</td>\n      <td>No</td>\n      <td>Sun</td>\n      <td>Dinner</td>\n      <td>2</td>\n      <td>0.059</td>\n    </tr>\n    <tr>\n      <th>1</th>\n      <td>10.340</td>\n      <td>1.660</td>\n      <td>Male</td>\n      <td>No</td>\n      <td>Sun</td>\n      <td>Dinner</td>\n      <td>3</td>\n      <td>0.161</td>\n    </tr>\n    <tr>\n      <th>2</th>\n      <td>21.010</td>\n      <td>3.500</td>\n      <td>Male</td>\n      <td>No</td>\n      <td>Sun</td>\n      <td>Dinner</td>\n      <td>3</td>\n      <td>0.167</td>\n    </tr>\n    <tr>\n      <th>3</th>\n      <td>23.680</td>\n      <td>3.310</td>\n      <td>Male</td>\n      <td>No</td>\n      <td>Sun</td>\n      <td>Dinner</td>\n      <td>2</td>\n      <td>0.140</td>\n    </tr>\n    <tr>\n      <th>4</th>\n      <td>24.590</td>\n      <td>3.610</td>\n      <td>Female</td>\n      <td>No</td>\n      <td>Sun</td>\n      <td>Dinner</td>\n      <td>4</td>\n      <td>0.147</td>\n    </tr>\n    <tr>\n      <th>...</th>\n      <td>...</td>\n      <td>...</td>\n      <td>...</td>\n      <td>...</td>\n      <td>...</td>\n      <td>...</td>\n      <td>...</td>\n      <td>...</td>\n    </tr>\n    <tr>\n      <th>239</th>\n      <td>29.030</td>\n      <td>5.920</td>\n      <td>Male</td>\n      <td>No</td>\n      <td>Sat</td>\n      <td>Dinner</td>\n      <td>3</td>\n      <td>0.204</td>\n    </tr>\n    <tr>\n      <th>240</th>\n      <td>27.180</td>\n      <td>2.000</td>\n      <td>Female</td>\n      <td>Yes</td>\n      <td>Sat</td>\n      <td>Dinner</td>\n      <td>2</td>\n      <td>0.074</td>\n    </tr>\n    <tr>\n      <th>241</th>\n      <td>22.670</td>\n      <td>2.000</td>\n      <td>Male</td>\n      <td>Yes</td>\n      <td>Sat</td>\n      <td>Dinner</td>\n      <td>2</td>\n      <td>0.088</td>\n    </tr>\n    <tr>\n      <th>242</th>\n      <td>17.820</td>\n      <td>1.750</td>\n      <td>Male</td>\n      <td>No</td>\n      <td>Sat</td>\n      <td>Dinner</td>\n      <td>2</td>\n      <td>0.098</td>\n    </tr>\n    <tr>\n      <th>243</th>\n      <td>18.780</td>\n      <td>3.000</td>\n      <td>Female</td>\n      <td>No</td>\n      <td>Thur</td>\n      <td>Dinner</td>\n      <td>2</td>\n      <td>0.160</td>\n    </tr>\n  </tbody>\n</table>\n<p>244 rows × 8 columns</p>\n</div>"
     },
     "metadata": {},
     "execution_count": 38
    }
   ],
   "source": [
    "df"
   ]
  },
  {
   "cell_type": "code",
   "execution_count": 39,
   "metadata": {},
   "outputs": [],
   "source": [
    "df['ones'] = 1            #Se crea una columna con valores 1s para poder hacer un conteo"
   ]
  },
  {
   "cell_type": "code",
   "execution_count": 40,
   "metadata": {},
   "outputs": [
    {
     "output_type": "execute_result",
     "data": {
      "text/plain": "     total_bill   tip     sex smoker   day    time  size  prct_tip  ones\n0        16.990 1.010  Female     No   Sun  Dinner     2     0.059     1\n1        10.340 1.660    Male     No   Sun  Dinner     3     0.161     1\n2        21.010 3.500    Male     No   Sun  Dinner     3     0.167     1\n3        23.680 3.310    Male     No   Sun  Dinner     2     0.140     1\n4        24.590 3.610  Female     No   Sun  Dinner     4     0.147     1\n..          ...   ...     ...    ...   ...     ...   ...       ...   ...\n239      29.030 5.920    Male     No   Sat  Dinner     3     0.204     1\n240      27.180 2.000  Female    Yes   Sat  Dinner     2     0.074     1\n241      22.670 2.000    Male    Yes   Sat  Dinner     2     0.088     1\n242      17.820 1.750    Male     No   Sat  Dinner     2     0.098     1\n243      18.780 3.000  Female     No  Thur  Dinner     2     0.160     1\n\n[244 rows x 9 columns]",
      "text/html": "<div>\n<style scoped>\n    .dataframe tbody tr th:only-of-type {\n        vertical-align: middle;\n    }\n\n    .dataframe tbody tr th {\n        vertical-align: top;\n    }\n\n    .dataframe thead th {\n        text-align: right;\n    }\n</style>\n<table border=\"1\" class=\"dataframe\">\n  <thead>\n    <tr style=\"text-align: right;\">\n      <th></th>\n      <th>total_bill</th>\n      <th>tip</th>\n      <th>sex</th>\n      <th>smoker</th>\n      <th>day</th>\n      <th>time</th>\n      <th>size</th>\n      <th>prct_tip</th>\n      <th>ones</th>\n    </tr>\n  </thead>\n  <tbody>\n    <tr>\n      <th>0</th>\n      <td>16.990</td>\n      <td>1.010</td>\n      <td>Female</td>\n      <td>No</td>\n      <td>Sun</td>\n      <td>Dinner</td>\n      <td>2</td>\n      <td>0.059</td>\n      <td>1</td>\n    </tr>\n    <tr>\n      <th>1</th>\n      <td>10.340</td>\n      <td>1.660</td>\n      <td>Male</td>\n      <td>No</td>\n      <td>Sun</td>\n      <td>Dinner</td>\n      <td>3</td>\n      <td>0.161</td>\n      <td>1</td>\n    </tr>\n    <tr>\n      <th>2</th>\n      <td>21.010</td>\n      <td>3.500</td>\n      <td>Male</td>\n      <td>No</td>\n      <td>Sun</td>\n      <td>Dinner</td>\n      <td>3</td>\n      <td>0.167</td>\n      <td>1</td>\n    </tr>\n    <tr>\n      <th>3</th>\n      <td>23.680</td>\n      <td>3.310</td>\n      <td>Male</td>\n      <td>No</td>\n      <td>Sun</td>\n      <td>Dinner</td>\n      <td>2</td>\n      <td>0.140</td>\n      <td>1</td>\n    </tr>\n    <tr>\n      <th>4</th>\n      <td>24.590</td>\n      <td>3.610</td>\n      <td>Female</td>\n      <td>No</td>\n      <td>Sun</td>\n      <td>Dinner</td>\n      <td>4</td>\n      <td>0.147</td>\n      <td>1</td>\n    </tr>\n    <tr>\n      <th>...</th>\n      <td>...</td>\n      <td>...</td>\n      <td>...</td>\n      <td>...</td>\n      <td>...</td>\n      <td>...</td>\n      <td>...</td>\n      <td>...</td>\n      <td>...</td>\n    </tr>\n    <tr>\n      <th>239</th>\n      <td>29.030</td>\n      <td>5.920</td>\n      <td>Male</td>\n      <td>No</td>\n      <td>Sat</td>\n      <td>Dinner</td>\n      <td>3</td>\n      <td>0.204</td>\n      <td>1</td>\n    </tr>\n    <tr>\n      <th>240</th>\n      <td>27.180</td>\n      <td>2.000</td>\n      <td>Female</td>\n      <td>Yes</td>\n      <td>Sat</td>\n      <td>Dinner</td>\n      <td>2</td>\n      <td>0.074</td>\n      <td>1</td>\n    </tr>\n    <tr>\n      <th>241</th>\n      <td>22.670</td>\n      <td>2.000</td>\n      <td>Male</td>\n      <td>Yes</td>\n      <td>Sat</td>\n      <td>Dinner</td>\n      <td>2</td>\n      <td>0.088</td>\n      <td>1</td>\n    </tr>\n    <tr>\n      <th>242</th>\n      <td>17.820</td>\n      <td>1.750</td>\n      <td>Male</td>\n      <td>No</td>\n      <td>Sat</td>\n      <td>Dinner</td>\n      <td>2</td>\n      <td>0.098</td>\n      <td>1</td>\n    </tr>\n    <tr>\n      <th>243</th>\n      <td>18.780</td>\n      <td>3.000</td>\n      <td>Female</td>\n      <td>No</td>\n      <td>Thur</td>\n      <td>Dinner</td>\n      <td>2</td>\n      <td>0.160</td>\n      <td>1</td>\n    </tr>\n  </tbody>\n</table>\n<p>244 rows × 9 columns</p>\n</div>"
     },
     "metadata": {},
     "execution_count": 40
    }
   ],
   "source": [
    "df"
   ]
  },
  {
   "cell_type": "code",
   "execution_count": 41,
   "metadata": {},
   "outputs": [
    {
     "output_type": "execute_result",
     "data": {
      "text/plain": "               ones\nsex    smoker      \nMale   Yes       60\n       No        97\nFemale Yes       33\n       No        54",
      "text/html": "<div>\n<style scoped>\n    .dataframe tbody tr th:only-of-type {\n        vertical-align: middle;\n    }\n\n    .dataframe tbody tr th {\n        vertical-align: top;\n    }\n\n    .dataframe thead th {\n        text-align: right;\n    }\n</style>\n<table border=\"1\" class=\"dataframe\">\n  <thead>\n    <tr style=\"text-align: right;\">\n      <th></th>\n      <th></th>\n      <th>ones</th>\n    </tr>\n    <tr>\n      <th>sex</th>\n      <th>smoker</th>\n      <th></th>\n    </tr>\n  </thead>\n  <tbody>\n    <tr>\n      <th rowspan=\"2\" valign=\"top\">Male</th>\n      <th>Yes</th>\n      <td>60</td>\n    </tr>\n    <tr>\n      <th>No</th>\n      <td>97</td>\n    </tr>\n    <tr>\n      <th rowspan=\"2\" valign=\"top\">Female</th>\n      <th>Yes</th>\n      <td>33</td>\n    </tr>\n    <tr>\n      <th>No</th>\n      <td>54</td>\n    </tr>\n  </tbody>\n</table>\n</div>"
     },
     "metadata": {},
     "execution_count": 41
    }
   ],
   "source": [
    "df_g = df.groupby(['sex','smoker'])[['ones']].sum()\n",
    "df_g"
   ]
  },
  {
   "cell_type": "code",
   "execution_count": 42,
   "metadata": {},
   "outputs": [
    {
     "output_type": "execute_result",
     "data": {
      "text/plain": "                ones\nsex    smoker       \nMale   Yes    38.217\n       No     61.783\nFemale Yes    37.931\n       No     62.069",
      "text/html": "<div>\n<style scoped>\n    .dataframe tbody tr th:only-of-type {\n        vertical-align: middle;\n    }\n\n    .dataframe tbody tr th {\n        vertical-align: top;\n    }\n\n    .dataframe thead th {\n        text-align: right;\n    }\n</style>\n<table border=\"1\" class=\"dataframe\">\n  <thead>\n    <tr style=\"text-align: right;\">\n      <th></th>\n      <th></th>\n      <th>ones</th>\n    </tr>\n    <tr>\n      <th>sex</th>\n      <th>smoker</th>\n      <th></th>\n    </tr>\n  </thead>\n  <tbody>\n    <tr>\n      <th rowspan=\"2\" valign=\"top\">Male</th>\n      <th>Yes</th>\n      <td>38.217</td>\n    </tr>\n    <tr>\n      <th>No</th>\n      <td>61.783</td>\n    </tr>\n    <tr>\n      <th rowspan=\"2\" valign=\"top\">Female</th>\n      <th>Yes</th>\n      <td>37.931</td>\n    </tr>\n    <tr>\n      <th>No</th>\n      <td>62.069</td>\n    </tr>\n  </tbody>\n</table>\n</div>"
     },
     "metadata": {},
     "execution_count": 42
    }
   ],
   "source": [
    "df_g.groupby(level=0).apply(lambda x:x / x.sum() * 100)        #Para sacar el % de la tabla anterior, level=0(sex), 60/60+97*100"
   ]
  },
  {
   "cell_type": "code",
   "execution_count": 46,
   "metadata": {},
   "outputs": [
    {
     "output_type": "execute_result",
     "data": {
      "text/plain": "(3.022, 18.983]     140\n(18.983, 34.897]     88\n(34.897, 50.81]      16\nName: total_bill, dtype: int64"
     },
     "metadata": {},
     "execution_count": 46
    }
   ],
   "source": [
    "pd.cut(df['total_bill'],bins = 3).value_counts()   #Partir en segmentos una variable num y convertirla en categorica"
   ]
  },
  {
   "cell_type": "code",
   "execution_count": 47,
   "metadata": {},
   "outputs": [
    {
     "output_type": "execute_result",
     "data": {
      "text/plain": "(3, 18]     127\n(18, 35]    101\n(35, 60]     16\nName: total_bill, dtype: int64"
     },
     "metadata": {},
     "execution_count": 47
    }
   ],
   "source": [
    "pd.cut(df['total_bill'],bins = [3,18,35,60]).value_counts()     #Tambien se peude partir por medio de una lista de rangos"
   ]
  },
  {
   "cell_type": "code",
   "execution_count": 50,
   "metadata": {},
   "outputs": [
    {
     "output_type": "execute_result",
     "data": {
      "text/plain": "   total_bill   tip     sex smoker  day    time  size  prct_tip  ones  \\\n0      16.990 1.010  Female     No  Sun  Dinner     2     0.059     1   \n1      10.340 1.660    Male     No  Sun  Dinner     3     0.161     1   \n2      21.010 3.500    Male     No  Sun  Dinner     3     0.167     1   \n3      23.680 3.310    Male     No  Sun  Dinner     2     0.140     1   \n4      24.590 3.610  Female     No  Sun  Dinner     4     0.147     1   \n\n  bin_total  \n0   (3, 18]  \n1   (3, 18]  \n2  (18, 35]  \n3  (18, 35]  \n4  (18, 35]  ",
      "text/html": "<div>\n<style scoped>\n    .dataframe tbody tr th:only-of-type {\n        vertical-align: middle;\n    }\n\n    .dataframe tbody tr th {\n        vertical-align: top;\n    }\n\n    .dataframe thead th {\n        text-align: right;\n    }\n</style>\n<table border=\"1\" class=\"dataframe\">\n  <thead>\n    <tr style=\"text-align: right;\">\n      <th></th>\n      <th>total_bill</th>\n      <th>tip</th>\n      <th>sex</th>\n      <th>smoker</th>\n      <th>day</th>\n      <th>time</th>\n      <th>size</th>\n      <th>prct_tip</th>\n      <th>ones</th>\n      <th>bin_total</th>\n    </tr>\n  </thead>\n  <tbody>\n    <tr>\n      <th>0</th>\n      <td>16.990</td>\n      <td>1.010</td>\n      <td>Female</td>\n      <td>No</td>\n      <td>Sun</td>\n      <td>Dinner</td>\n      <td>2</td>\n      <td>0.059</td>\n      <td>1</td>\n      <td>(3, 18]</td>\n    </tr>\n    <tr>\n      <th>1</th>\n      <td>10.340</td>\n      <td>1.660</td>\n      <td>Male</td>\n      <td>No</td>\n      <td>Sun</td>\n      <td>Dinner</td>\n      <td>3</td>\n      <td>0.161</td>\n      <td>1</td>\n      <td>(3, 18]</td>\n    </tr>\n    <tr>\n      <th>2</th>\n      <td>21.010</td>\n      <td>3.500</td>\n      <td>Male</td>\n      <td>No</td>\n      <td>Sun</td>\n      <td>Dinner</td>\n      <td>3</td>\n      <td>0.167</td>\n      <td>1</td>\n      <td>(18, 35]</td>\n    </tr>\n    <tr>\n      <th>3</th>\n      <td>23.680</td>\n      <td>3.310</td>\n      <td>Male</td>\n      <td>No</td>\n      <td>Sun</td>\n      <td>Dinner</td>\n      <td>2</td>\n      <td>0.140</td>\n      <td>1</td>\n      <td>(18, 35]</td>\n    </tr>\n    <tr>\n      <th>4</th>\n      <td>24.590</td>\n      <td>3.610</td>\n      <td>Female</td>\n      <td>No</td>\n      <td>Sun</td>\n      <td>Dinner</td>\n      <td>4</td>\n      <td>0.147</td>\n      <td>1</td>\n      <td>(18, 35]</td>\n    </tr>\n  </tbody>\n</table>\n</div>"
     },
     "metadata": {},
     "execution_count": 50
    }
   ],
   "source": [
    "df['bin_total'] = pd.cut(df['total_bill'],bins = [3,18,35,60])      #O se puede poner bins=3  \n",
    "df.head()"
   ]
  },
  {
   "cell_type": "code",
   "execution_count": 56,
   "metadata": {},
   "outputs": [
    {
     "output_type": "execute_result",
     "data": {
      "text/plain": "                  ones\ntime   bin_total      \nLunch  (3, 18]      45\n       (18, 35]     21\n       (35, 60]      2\nDinner (3, 18]      82\n       (18, 35]     80\n       (35, 60]     14",
      "text/html": "<div>\n<style scoped>\n    .dataframe tbody tr th:only-of-type {\n        vertical-align: middle;\n    }\n\n    .dataframe tbody tr th {\n        vertical-align: top;\n    }\n\n    .dataframe thead th {\n        text-align: right;\n    }\n</style>\n<table border=\"1\" class=\"dataframe\">\n  <thead>\n    <tr style=\"text-align: right;\">\n      <th></th>\n      <th></th>\n      <th>ones</th>\n    </tr>\n    <tr>\n      <th>time</th>\n      <th>bin_total</th>\n      <th></th>\n    </tr>\n  </thead>\n  <tbody>\n    <tr>\n      <th rowspan=\"3\" valign=\"top\">Lunch</th>\n      <th>(3, 18]</th>\n      <td>45</td>\n    </tr>\n    <tr>\n      <th>(18, 35]</th>\n      <td>21</td>\n    </tr>\n    <tr>\n      <th>(35, 60]</th>\n      <td>2</td>\n    </tr>\n    <tr>\n      <th rowspan=\"3\" valign=\"top\">Dinner</th>\n      <th>(3, 18]</th>\n      <td>82</td>\n    </tr>\n    <tr>\n      <th>(18, 35]</th>\n      <td>80</td>\n    </tr>\n    <tr>\n      <th>(35, 60]</th>\n      <td>14</td>\n    </tr>\n  </tbody>\n</table>\n</div>"
     },
     "metadata": {},
     "execution_count": 56
    }
   ],
   "source": [
    "df.groupby(['time','bin_total'])[['ones']].count()"
   ]
  },
  {
   "cell_type": "code",
   "execution_count": 46,
   "metadata": {},
   "outputs": [
    {
     "output_type": "execute_result",
     "data": {
      "text/plain": "                   ones\ntime   bin_total       \nLunch  (3, 18]   66.176\n       (18, 35]  30.882\n       (35, 60]   2.941\nDinner (3, 18]   46.591\n       (18, 35]  45.455\n       (35, 60]   7.955",
      "text/html": "<div>\n<style scoped>\n    .dataframe tbody tr th:only-of-type {\n        vertical-align: middle;\n    }\n\n    .dataframe tbody tr th {\n        vertical-align: top;\n    }\n\n    .dataframe thead th {\n        text-align: right;\n    }\n</style>\n<table border=\"1\" class=\"dataframe\">\n  <thead>\n    <tr style=\"text-align: right;\">\n      <th></th>\n      <th></th>\n      <th>ones</th>\n    </tr>\n    <tr>\n      <th>time</th>\n      <th>bin_total</th>\n      <th></th>\n    </tr>\n  </thead>\n  <tbody>\n    <tr>\n      <th rowspan=\"3\" valign=\"top\">Lunch</th>\n      <th>(3, 18]</th>\n      <td>66.176</td>\n    </tr>\n    <tr>\n      <th>(18, 35]</th>\n      <td>30.882</td>\n    </tr>\n    <tr>\n      <th>(35, 60]</th>\n      <td>2.941</td>\n    </tr>\n    <tr>\n      <th rowspan=\"3\" valign=\"top\">Dinner</th>\n      <th>(3, 18]</th>\n      <td>46.591</td>\n    </tr>\n    <tr>\n      <th>(18, 35]</th>\n      <td>45.455</td>\n    </tr>\n    <tr>\n      <th>(35, 60]</th>\n      <td>7.955</td>\n    </tr>\n  </tbody>\n</table>\n</div>"
     },
     "metadata": {},
     "execution_count": 46
    }
   ],
   "source": [
    "df.groupby(['time','bin_total'])[['ones']].count().groupby(level=0).apply(lambda x: x / x.sum() * 100)  #Convertimos a % (45/45+21+2)*100 =66.17"
   ]
  },
  {
   "cell_type": "markdown",
   "metadata": {},
   "source": [
    "## Pivot  (Tablas dinámicas)"
   ]
  },
  {
   "cell_type": "code",
   "execution_count": 58,
   "metadata": {},
   "outputs": [
    {
     "output_type": "execute_result",
     "data": {
      "text/plain": "   total_bill   tip     sex smoker  day    time  size  prct_tip  ones  \\\n0      16.990 1.010  Female     No  Sun  Dinner     2     0.059     1   \n1      10.340 1.660    Male     No  Sun  Dinner     3     0.161     1   \n2      21.010 3.500    Male     No  Sun  Dinner     3     0.167     1   \n3      23.680 3.310    Male     No  Sun  Dinner     2     0.140     1   \n4      24.590 3.610  Female     No  Sun  Dinner     4     0.147     1   \n\n  bin_total  \n0   (3, 18]  \n1   (3, 18]  \n2  (18, 35]  \n3  (18, 35]  \n4  (18, 35]  ",
      "text/html": "<div>\n<style scoped>\n    .dataframe tbody tr th:only-of-type {\n        vertical-align: middle;\n    }\n\n    .dataframe tbody tr th {\n        vertical-align: top;\n    }\n\n    .dataframe thead th {\n        text-align: right;\n    }\n</style>\n<table border=\"1\" class=\"dataframe\">\n  <thead>\n    <tr style=\"text-align: right;\">\n      <th></th>\n      <th>total_bill</th>\n      <th>tip</th>\n      <th>sex</th>\n      <th>smoker</th>\n      <th>day</th>\n      <th>time</th>\n      <th>size</th>\n      <th>prct_tip</th>\n      <th>ones</th>\n      <th>bin_total</th>\n    </tr>\n  </thead>\n  <tbody>\n    <tr>\n      <th>0</th>\n      <td>16.990</td>\n      <td>1.010</td>\n      <td>Female</td>\n      <td>No</td>\n      <td>Sun</td>\n      <td>Dinner</td>\n      <td>2</td>\n      <td>0.059</td>\n      <td>1</td>\n      <td>(3, 18]</td>\n    </tr>\n    <tr>\n      <th>1</th>\n      <td>10.340</td>\n      <td>1.660</td>\n      <td>Male</td>\n      <td>No</td>\n      <td>Sun</td>\n      <td>Dinner</td>\n      <td>3</td>\n      <td>0.161</td>\n      <td>1</td>\n      <td>(3, 18]</td>\n    </tr>\n    <tr>\n      <th>2</th>\n      <td>21.010</td>\n      <td>3.500</td>\n      <td>Male</td>\n      <td>No</td>\n      <td>Sun</td>\n      <td>Dinner</td>\n      <td>3</td>\n      <td>0.167</td>\n      <td>1</td>\n      <td>(18, 35]</td>\n    </tr>\n    <tr>\n      <th>3</th>\n      <td>23.680</td>\n      <td>3.310</td>\n      <td>Male</td>\n      <td>No</td>\n      <td>Sun</td>\n      <td>Dinner</td>\n      <td>2</td>\n      <td>0.140</td>\n      <td>1</td>\n      <td>(18, 35]</td>\n    </tr>\n    <tr>\n      <th>4</th>\n      <td>24.590</td>\n      <td>3.610</td>\n      <td>Female</td>\n      <td>No</td>\n      <td>Sun</td>\n      <td>Dinner</td>\n      <td>4</td>\n      <td>0.147</td>\n      <td>1</td>\n      <td>(18, 35]</td>\n    </tr>\n  </tbody>\n</table>\n</div>"
     },
     "metadata": {},
     "execution_count": 58
    }
   ],
   "source": [
    "df.head()"
   ]
  },
  {
   "cell_type": "code",
   "execution_count": 59,
   "metadata": {},
   "outputs": [
    {
     "output_type": "execute_result",
     "data": {
      "text/plain": "               total_bill\nsex    time              \nMale   Lunch       18.048\n       Dinner      21.461\nFemale Lunch       16.339\n       Dinner      19.213",
      "text/html": "<div>\n<style scoped>\n    .dataframe tbody tr th:only-of-type {\n        vertical-align: middle;\n    }\n\n    .dataframe tbody tr th {\n        vertical-align: top;\n    }\n\n    .dataframe thead th {\n        text-align: right;\n    }\n</style>\n<table border=\"1\" class=\"dataframe\">\n  <thead>\n    <tr style=\"text-align: right;\">\n      <th></th>\n      <th></th>\n      <th>total_bill</th>\n    </tr>\n    <tr>\n      <th>sex</th>\n      <th>time</th>\n      <th></th>\n    </tr>\n  </thead>\n  <tbody>\n    <tr>\n      <th rowspan=\"2\" valign=\"top\">Male</th>\n      <th>Lunch</th>\n      <td>18.048</td>\n    </tr>\n    <tr>\n      <th>Dinner</th>\n      <td>21.461</td>\n    </tr>\n    <tr>\n      <th rowspan=\"2\" valign=\"top\">Female</th>\n      <th>Lunch</th>\n      <td>16.339</td>\n    </tr>\n    <tr>\n      <th>Dinner</th>\n      <td>19.213</td>\n    </tr>\n  </tbody>\n</table>\n</div>"
     },
     "metadata": {},
     "execution_count": 59
    }
   ],
   "source": [
    "df.groupby(['sex','time'])[['total_bill']].mean()"
   ]
  },
  {
   "cell_type": "code",
   "execution_count": 63,
   "metadata": {},
   "outputs": [
    {
     "output_type": "execute_result",
     "data": {
      "text/plain": "      sex    time  total_bill\n0    Male   Lunch      18.048\n1    Male  Dinner      21.461\n2  Female   Lunch      16.339\n3  Female  Dinner      19.213",
      "text/html": "<div>\n<style scoped>\n    .dataframe tbody tr th:only-of-type {\n        vertical-align: middle;\n    }\n\n    .dataframe tbody tr th {\n        vertical-align: top;\n    }\n\n    .dataframe thead th {\n        text-align: right;\n    }\n</style>\n<table border=\"1\" class=\"dataframe\">\n  <thead>\n    <tr style=\"text-align: right;\">\n      <th></th>\n      <th>sex</th>\n      <th>time</th>\n      <th>total_bill</th>\n    </tr>\n  </thead>\n  <tbody>\n    <tr>\n      <th>0</th>\n      <td>Male</td>\n      <td>Lunch</td>\n      <td>18.048</td>\n    </tr>\n    <tr>\n      <th>1</th>\n      <td>Male</td>\n      <td>Dinner</td>\n      <td>21.461</td>\n    </tr>\n    <tr>\n      <th>2</th>\n      <td>Female</td>\n      <td>Lunch</td>\n      <td>16.339</td>\n    </tr>\n    <tr>\n      <th>3</th>\n      <td>Female</td>\n      <td>Dinner</td>\n      <td>19.213</td>\n    </tr>\n  </tbody>\n</table>\n</div>"
     },
     "metadata": {},
     "execution_count": 63
    }
   ],
   "source": [
    "df_gp = df.groupby(['sex','time'])[['total_bill']].mean().reset_index()      #Se convieerte en un df normal con un indice \n",
    "df_gp"
   ]
  },
  {
   "cell_type": "code",
   "execution_count": 82,
   "metadata": {},
   "outputs": [
    {
     "output_type": "execute_result",
     "data": {
      "text/plain": "time    Lunch  Dinner\nsex                  \nMale   18.048  21.461\nFemale 16.339  19.213",
      "text/html": "<div>\n<style scoped>\n    .dataframe tbody tr th:only-of-type {\n        vertical-align: middle;\n    }\n\n    .dataframe tbody tr th {\n        vertical-align: top;\n    }\n\n    .dataframe thead th {\n        text-align: right;\n    }\n</style>\n<table border=\"1\" class=\"dataframe\">\n  <thead>\n    <tr style=\"text-align: right;\">\n      <th>time</th>\n      <th>Lunch</th>\n      <th>Dinner</th>\n    </tr>\n    <tr>\n      <th>sex</th>\n      <th></th>\n      <th></th>\n    </tr>\n  </thead>\n  <tbody>\n    <tr>\n      <th>Male</th>\n      <td>18.048</td>\n      <td>21.461</td>\n    </tr>\n    <tr>\n      <th>Female</th>\n      <td>16.339</td>\n      <td>19.213</td>\n    </tr>\n  </tbody>\n</table>\n</div>"
     },
     "metadata": {},
     "execution_count": 82
    }
   ],
   "source": [
    "df_gp.pivot_table(values='total_bill', index='sex', columns='time')  #Se puede hacer directamente desde el df principal (y usando aggfunc= 'count')"
   ]
  },
  {
   "cell_type": "markdown",
   "metadata": {},
   "source": [
    "![](https://pandas-docs.github.io/pandas-docs-travis/_images/reshaping_pivot.png)"
   ]
  },
  {
   "cell_type": "code",
   "execution_count": 86,
   "metadata": {},
   "outputs": [
    {
     "output_type": "execute_result",
     "data": {
      "text/plain": "time    Lunch  Dinner\nsex                  \nMale   18.048  21.461\nFemale 16.339  19.213",
      "text/html": "<div>\n<style scoped>\n    .dataframe tbody tr th:only-of-type {\n        vertical-align: middle;\n    }\n\n    .dataframe tbody tr th {\n        vertical-align: top;\n    }\n\n    .dataframe thead th {\n        text-align: right;\n    }\n</style>\n<table border=\"1\" class=\"dataframe\">\n  <thead>\n    <tr style=\"text-align: right;\">\n      <th>time</th>\n      <th>Lunch</th>\n      <th>Dinner</th>\n    </tr>\n    <tr>\n      <th>sex</th>\n      <th></th>\n      <th></th>\n    </tr>\n  </thead>\n  <tbody>\n    <tr>\n      <th>Male</th>\n      <td>18.048</td>\n      <td>21.461</td>\n    </tr>\n    <tr>\n      <th>Female</th>\n      <td>16.339</td>\n      <td>19.213</td>\n    </tr>\n  </tbody>\n</table>\n</div>"
     },
     "metadata": {},
     "execution_count": 86
    }
   ],
   "source": [
    "df.pivot_table(values='total_bill', index='sex', columns='time')           #Ahora se aplica en el df completo, (aggfunc= 'sum') "
   ]
  },
  {
   "cell_type": "code",
   "execution_count": 54,
   "metadata": {},
   "outputs": [
    {
     "output_type": "execute_result",
     "data": {
      "text/plain": "time    Lunch  Dinner\nsex                  \nMale   16.580  19.630\nFemale 13.420  17.190",
      "text/html": "<div>\n<style scoped>\n    .dataframe tbody tr th:only-of-type {\n        vertical-align: middle;\n    }\n\n    .dataframe tbody tr th {\n        vertical-align: top;\n    }\n\n    .dataframe thead th {\n        text-align: right;\n    }\n</style>\n<table border=\"1\" class=\"dataframe\">\n  <thead>\n    <tr style=\"text-align: right;\">\n      <th>time</th>\n      <th>Lunch</th>\n      <th>Dinner</th>\n    </tr>\n    <tr>\n      <th>sex</th>\n      <th></th>\n      <th></th>\n    </tr>\n  </thead>\n  <tbody>\n    <tr>\n      <th>Male</th>\n      <td>16.580</td>\n      <td>19.630</td>\n    </tr>\n    <tr>\n      <th>Female</th>\n      <td>13.420</td>\n      <td>17.190</td>\n    </tr>\n  </tbody>\n</table>\n</div>"
     },
     "metadata": {},
     "execution_count": 54
    }
   ],
   "source": [
    "df.pivot_table(values='total_bill', index='sex', columns='time', aggfunc=np.median)"
   ]
  },
  {
   "cell_type": "code",
   "execution_count": 55,
   "metadata": {},
   "outputs": [
    {
     "output_type": "execute_result",
     "data": {
      "text/plain": "       median          std       \ntime    Lunch Dinner Lunch Dinner\nsex                              \nMale   16.580 19.630 7.953  9.461\nFemale 13.420 17.190 7.501  8.202",
      "text/html": "<div>\n<style scoped>\n    .dataframe tbody tr th:only-of-type {\n        vertical-align: middle;\n    }\n\n    .dataframe tbody tr th {\n        vertical-align: top;\n    }\n\n    .dataframe thead tr th {\n        text-align: left;\n    }\n\n    .dataframe thead tr:last-of-type th {\n        text-align: right;\n    }\n</style>\n<table border=\"1\" class=\"dataframe\">\n  <thead>\n    <tr>\n      <th></th>\n      <th colspan=\"2\" halign=\"left\">median</th>\n      <th colspan=\"2\" halign=\"left\">std</th>\n    </tr>\n    <tr>\n      <th>time</th>\n      <th>Lunch</th>\n      <th>Dinner</th>\n      <th>Lunch</th>\n      <th>Dinner</th>\n    </tr>\n    <tr>\n      <th>sex</th>\n      <th></th>\n      <th></th>\n      <th></th>\n      <th></th>\n    </tr>\n  </thead>\n  <tbody>\n    <tr>\n      <th>Male</th>\n      <td>16.580</td>\n      <td>19.630</td>\n      <td>7.953</td>\n      <td>9.461</td>\n    </tr>\n    <tr>\n      <th>Female</th>\n      <td>13.420</td>\n      <td>17.190</td>\n      <td>7.501</td>\n      <td>8.202</td>\n    </tr>\n  </tbody>\n</table>\n</div>"
     },
     "metadata": {},
     "execution_count": 55
    }
   ],
   "source": [
    "df_pivot = df.pivot_table(values='total_bill', index='sex', columns='time', aggfunc=[np.median,np.std])    #Sacando dos funciones \n",
    "df_pivot"
   ]
  },
  {
   "cell_type": "code",
   "execution_count": 56,
   "metadata": {},
   "outputs": [
    {
     "output_type": "execute_result",
     "data": {
      "text/plain": "  level_0    time     sex      0\n0  median   Lunch    Male 16.580\n1  median   Lunch  Female 13.420\n2  median  Dinner    Male 19.630\n3  median  Dinner  Female 17.190\n4     std   Lunch    Male  7.953\n5     std   Lunch  Female  7.501\n6     std  Dinner    Male  9.461\n7     std  Dinner  Female  8.202",
      "text/html": "<div>\n<style scoped>\n    .dataframe tbody tr th:only-of-type {\n        vertical-align: middle;\n    }\n\n    .dataframe tbody tr th {\n        vertical-align: top;\n    }\n\n    .dataframe thead th {\n        text-align: right;\n    }\n</style>\n<table border=\"1\" class=\"dataframe\">\n  <thead>\n    <tr style=\"text-align: right;\">\n      <th></th>\n      <th>level_0</th>\n      <th>time</th>\n      <th>sex</th>\n      <th>0</th>\n    </tr>\n  </thead>\n  <tbody>\n    <tr>\n      <th>0</th>\n      <td>median</td>\n      <td>Lunch</td>\n      <td>Male</td>\n      <td>16.580</td>\n    </tr>\n    <tr>\n      <th>1</th>\n      <td>median</td>\n      <td>Lunch</td>\n      <td>Female</td>\n      <td>13.420</td>\n    </tr>\n    <tr>\n      <th>2</th>\n      <td>median</td>\n      <td>Dinner</td>\n      <td>Male</td>\n      <td>19.630</td>\n    </tr>\n    <tr>\n      <th>3</th>\n      <td>median</td>\n      <td>Dinner</td>\n      <td>Female</td>\n      <td>17.190</td>\n    </tr>\n    <tr>\n      <th>4</th>\n      <td>std</td>\n      <td>Lunch</td>\n      <td>Male</td>\n      <td>7.953</td>\n    </tr>\n    <tr>\n      <th>5</th>\n      <td>std</td>\n      <td>Lunch</td>\n      <td>Female</td>\n      <td>7.501</td>\n    </tr>\n    <tr>\n      <th>6</th>\n      <td>std</td>\n      <td>Dinner</td>\n      <td>Male</td>\n      <td>9.461</td>\n    </tr>\n    <tr>\n      <th>7</th>\n      <td>std</td>\n      <td>Dinner</td>\n      <td>Female</td>\n      <td>8.202</td>\n    </tr>\n  </tbody>\n</table>\n</div>"
     },
     "metadata": {},
     "execution_count": 56
    }
   ],
   "source": [
    "df_pivot.unstack().reset_index()      #Para desagrupar y volver a la tabla pivot, en un df normalizado"
   ]
  }
 ],
 "metadata": {
  "language_info": {
   "codemirror_mode": {
    "name": "ipython",
    "version": 3
   },
   "file_extension": ".py",
   "mimetype": "text/x-python",
   "name": "python",
   "nbconvert_exporter": "python",
   "pygments_lexer": "ipython3",
   "version": "3.7.4-final"
  },
  "orig_nbformat": 2,
  "kernelspec": {
   "name": "python37464bitanacondaconda74954a3f106b47d99d44e5fb8ca66932",
   "display_name": "Python 3.7.4 64-bit ('Anaconda': conda)"
  }
 },
 "nbformat": 4,
 "nbformat_minor": 2
}