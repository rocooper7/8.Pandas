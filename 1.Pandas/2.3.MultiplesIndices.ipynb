{
 "cells": [
  {
   "cell_type": "code",
   "execution_count": 1,
   "metadata": {},
   "outputs": [],
   "source": [
    "import pandas as pd\n",
    "import numpy as np"
   ]
  },
  {
   "cell_type": "code",
   "execution_count": 2,
   "metadata": {},
   "outputs": [
    {
     "output_type": "execute_result",
     "data": {
      "text/plain": "          Country  year         pop\n0     Afghanistan  2015  34413603.0\n1         Albania  2015   2880703.0\n2         Algeria  2015  39728025.0\n3  American Samoa  2015     55812.0\n4         Andorra  2015     78011.0",
      "text/html": "<div>\n<style scoped>\n    .dataframe tbody tr th:only-of-type {\n        vertical-align: middle;\n    }\n\n    .dataframe tbody tr th {\n        vertical-align: top;\n    }\n\n    .dataframe thead th {\n        text-align: right;\n    }\n</style>\n<table border=\"1\" class=\"dataframe\">\n  <thead>\n    <tr style=\"text-align: right;\">\n      <th></th>\n      <th>Country</th>\n      <th>year</th>\n      <th>pop</th>\n    </tr>\n  </thead>\n  <tbody>\n    <tr>\n      <th>0</th>\n      <td>Afghanistan</td>\n      <td>2015</td>\n      <td>34413603.0</td>\n    </tr>\n    <tr>\n      <th>1</th>\n      <td>Albania</td>\n      <td>2015</td>\n      <td>2880703.0</td>\n    </tr>\n    <tr>\n      <th>2</th>\n      <td>Algeria</td>\n      <td>2015</td>\n      <td>39728025.0</td>\n    </tr>\n    <tr>\n      <th>3</th>\n      <td>American Samoa</td>\n      <td>2015</td>\n      <td>55812.0</td>\n    </tr>\n    <tr>\n      <th>4</th>\n      <td>Andorra</td>\n      <td>2015</td>\n      <td>78011.0</td>\n    </tr>\n  </tbody>\n</table>\n</div>"
     },
     "metadata": {},
     "execution_count": 2
    }
   ],
   "source": [
    "df_pob = pd.read_csv('poblacion.csv')\n",
    "df_pob.head(5)"
   ]
  },
  {
   "cell_type": "code",
   "execution_count": 10,
   "metadata": {},
   "outputs": [
    {
     "output_type": "execute_result",
     "data": {
      "text/plain": "                                pop\nCountry                            \nAfghanistan           143,265,517.0\nAlbania                11,496,637.0\nAlgeria               163,897,056.0\nAmerican Samoa            222,638.0\nAndorra                   309,315.0\n...                             ...\nVirgin Islands (U.S.)     429,465.0\nWest Bank and Gaza     17,661,072.0\nYemen, Rep.           109,999,607.0\nZambia                 66,448,378.0\nZimbabwe               56,520,782.0\n\n[260 rows x 1 columns]",
      "text/html": "<div>\n<style scoped>\n    .dataframe tbody tr th:only-of-type {\n        vertical-align: middle;\n    }\n\n    .dataframe tbody tr th {\n        vertical-align: top;\n    }\n\n    .dataframe thead th {\n        text-align: right;\n    }\n</style>\n<table border=\"1\" class=\"dataframe\">\n  <thead>\n    <tr style=\"text-align: right;\">\n      <th></th>\n      <th>pop</th>\n    </tr>\n    <tr>\n      <th>Country</th>\n      <th></th>\n    </tr>\n  </thead>\n  <tbody>\n    <tr>\n      <th>Afghanistan</th>\n      <td>143,265,517.0</td>\n    </tr>\n    <tr>\n      <th>Albania</th>\n      <td>11,496,637.0</td>\n    </tr>\n    <tr>\n      <th>Algeria</th>\n      <td>163,897,056.0</td>\n    </tr>\n    <tr>\n      <th>American Samoa</th>\n      <td>222,638.0</td>\n    </tr>\n    <tr>\n      <th>Andorra</th>\n      <td>309,315.0</td>\n    </tr>\n    <tr>\n      <th>...</th>\n      <td>...</td>\n    </tr>\n    <tr>\n      <th>Virgin Islands (U.S.)</th>\n      <td>429,465.0</td>\n    </tr>\n    <tr>\n      <th>West Bank and Gaza</th>\n      <td>17,661,072.0</td>\n    </tr>\n    <tr>\n      <th>Yemen, Rep.</th>\n      <td>109,999,607.0</td>\n    </tr>\n    <tr>\n      <th>Zambia</th>\n      <td>66,448,378.0</td>\n    </tr>\n    <tr>\n      <th>Zimbabwe</th>\n      <td>56,520,782.0</td>\n    </tr>\n  </tbody>\n</table>\n<p>260 rows × 1 columns</p>\n</div>"
     },
     "metadata": {},
     "execution_count": 10
    }
   ],
   "source": [
    "df_pob.groupby(['Country'])['pop'].sum().to_frame()"
   ]
  },
  {
   "cell_type": "code",
   "execution_count": 8,
   "metadata": {},
   "outputs": [
    {
     "output_type": "execute_result",
     "data": {
      "text/plain": "          Country  year          pop\n0     Afghanistan  2015 34,413,603.0\n1         Albania  2015  2,880,703.0\n2         Algeria  2015 39,728,025.0\n3  American Samoa  2015     55,812.0\n4         Andorra  2015     78,011.0",
      "text/html": "<div>\n<style scoped>\n    .dataframe tbody tr th:only-of-type {\n        vertical-align: middle;\n    }\n\n    .dataframe tbody tr th {\n        vertical-align: top;\n    }\n\n    .dataframe thead th {\n        text-align: right;\n    }\n</style>\n<table border=\"1\" class=\"dataframe\">\n  <thead>\n    <tr style=\"text-align: right;\">\n      <th></th>\n      <th>Country</th>\n      <th>year</th>\n      <th>pop</th>\n    </tr>\n  </thead>\n  <tbody>\n    <tr>\n      <th>0</th>\n      <td>Afghanistan</td>\n      <td>2015</td>\n      <td>34,413,603.0</td>\n    </tr>\n    <tr>\n      <th>1</th>\n      <td>Albania</td>\n      <td>2015</td>\n      <td>2,880,703.0</td>\n    </tr>\n    <tr>\n      <th>2</th>\n      <td>Algeria</td>\n      <td>2015</td>\n      <td>39,728,025.0</td>\n    </tr>\n    <tr>\n      <th>3</th>\n      <td>American Samoa</td>\n      <td>2015</td>\n      <td>55,812.0</td>\n    </tr>\n    <tr>\n      <th>4</th>\n      <td>Andorra</td>\n      <td>2015</td>\n      <td>78,011.0</td>\n    </tr>\n  </tbody>\n</table>\n</div>"
     },
     "metadata": {},
     "execution_count": 8
    }
   ],
   "source": [
    "pd.options.display.float_format = '{:,.1f}'.format     #Acomodamos los numeros \n",
    "df_pob.head(5)"
   ]
  },
  {
   "cell_type": "code",
   "execution_count": 11,
   "metadata": {},
   "outputs": [],
   "source": [
    "df_pob['year'] = pd.Categorical(df_pob['year'].apply(str))    #Asignamos la columna year como categorica"
   ]
  },
  {
   "cell_type": "code",
   "execution_count": 12,
   "metadata": {},
   "outputs": [
    {
     "output_type": "execute_result",
     "data": {
      "text/plain": "Country      object\nyear       category\npop         float64\ndtype: object"
     },
     "metadata": {},
     "execution_count": 12
    }
   ],
   "source": [
    "df_pob.dtypes"
   ]
  },
  {
   "cell_type": "code",
   "execution_count": 28,
   "metadata": {},
   "outputs": [
    {
     "output_type": "execute_result",
     "data": {
      "text/plain": "0    False\n1    False\n2    False\n3    False\n4    False\nName: Country, dtype: bool"
     },
     "metadata": {},
     "execution_count": 28
    }
   ],
   "source": [
    "idx_filtro = df_pob['Country'].isin(['Aruba','Colombia'])    #Boolean Filtering\n",
    "idx_filtro.head(5)"
   ]
  },
  {
   "cell_type": "code",
   "execution_count": 27,
   "metadata": {},
   "outputs": [
    {
     "output_type": "execute_result",
     "data": {
      "text/plain": "      Country  year          pop\n9       Aruba  2015    104,341.0\n42   Colombia  2015 47,520,667.0\n269     Aruba  2016    104,872.0\n302  Colombia  2016 48,171,392.0\n529     Aruba  2017    105,366.0",
      "text/html": "<div>\n<style scoped>\n    .dataframe tbody tr th:only-of-type {\n        vertical-align: middle;\n    }\n\n    .dataframe tbody tr th {\n        vertical-align: top;\n    }\n\n    .dataframe thead th {\n        text-align: right;\n    }\n</style>\n<table border=\"1\" class=\"dataframe\">\n  <thead>\n    <tr style=\"text-align: right;\">\n      <th></th>\n      <th>Country</th>\n      <th>year</th>\n      <th>pop</th>\n    </tr>\n  </thead>\n  <tbody>\n    <tr>\n      <th>9</th>\n      <td>Aruba</td>\n      <td>2015</td>\n      <td>104,341.0</td>\n    </tr>\n    <tr>\n      <th>42</th>\n      <td>Colombia</td>\n      <td>2015</td>\n      <td>47,520,667.0</td>\n    </tr>\n    <tr>\n      <th>269</th>\n      <td>Aruba</td>\n      <td>2016</td>\n      <td>104,872.0</td>\n    </tr>\n    <tr>\n      <th>302</th>\n      <td>Colombia</td>\n      <td>2016</td>\n      <td>48,171,392.0</td>\n    </tr>\n    <tr>\n      <th>529</th>\n      <td>Aruba</td>\n      <td>2017</td>\n      <td>105,366.0</td>\n    </tr>\n  </tbody>\n</table>\n</div>"
     },
     "metadata": {},
     "execution_count": 27
    }
   ],
   "source": [
    "df_sample = df_pob[idx_filtro]          #Boolean Filtering\n",
    "df_sample.head(5)"
   ]
  },
  {
   "cell_type": "code",
   "execution_count": 30,
   "metadata": {},
   "outputs": [
    {
     "output_type": "execute_result",
     "data": {
      "text/plain": "      Country  year          pop\n9       Aruba  2015    104,341.0\n269     Aruba  2016    104,872.0\n529     Aruba  2017    105,366.0\n789     Aruba  2018    105,845.0\n42   Colombia  2015 47,520,667.0\n302  Colombia  2016 48,171,392.0\n562  Colombia  2017 48,901,066.0\n822  Colombia  2018 49,648,685.0",
      "text/html": "<div>\n<style scoped>\n    .dataframe tbody tr th:only-of-type {\n        vertical-align: middle;\n    }\n\n    .dataframe tbody tr th {\n        vertical-align: top;\n    }\n\n    .dataframe thead th {\n        text-align: right;\n    }\n</style>\n<table border=\"1\" class=\"dataframe\">\n  <thead>\n    <tr style=\"text-align: right;\">\n      <th></th>\n      <th>Country</th>\n      <th>year</th>\n      <th>pop</th>\n    </tr>\n  </thead>\n  <tbody>\n    <tr>\n      <th>9</th>\n      <td>Aruba</td>\n      <td>2015</td>\n      <td>104,341.0</td>\n    </tr>\n    <tr>\n      <th>269</th>\n      <td>Aruba</td>\n      <td>2016</td>\n      <td>104,872.0</td>\n    </tr>\n    <tr>\n      <th>529</th>\n      <td>Aruba</td>\n      <td>2017</td>\n      <td>105,366.0</td>\n    </tr>\n    <tr>\n      <th>789</th>\n      <td>Aruba</td>\n      <td>2018</td>\n      <td>105,845.0</td>\n    </tr>\n    <tr>\n      <th>42</th>\n      <td>Colombia</td>\n      <td>2015</td>\n      <td>47,520,667.0</td>\n    </tr>\n    <tr>\n      <th>302</th>\n      <td>Colombia</td>\n      <td>2016</td>\n      <td>48,171,392.0</td>\n    </tr>\n    <tr>\n      <th>562</th>\n      <td>Colombia</td>\n      <td>2017</td>\n      <td>48,901,066.0</td>\n    </tr>\n    <tr>\n      <th>822</th>\n      <td>Colombia</td>\n      <td>2018</td>\n      <td>49,648,685.0</td>\n    </tr>\n  </tbody>\n</table>\n</div>"
     },
     "metadata": {},
     "execution_count": 30
    }
   ],
   "source": [
    "df_pob.query('Country == \"Aruba\" | Country == \"Colombia\"').sort_values(by= 'Country')  #Otra forma de filtrar con query"
   ]
  },
  {
   "cell_type": "code",
   "execution_count": 31,
   "metadata": {},
   "outputs": [
    {
     "output_type": "execute_result",
     "data": {
      "text/plain": "                       pop\nCountry  year             \nAruba    2015    104,341.0\n         2016    104,872.0\n         2017    105,366.0\n         2018    105,845.0\nColombia 2015 47,520,667.0\n         2016 48,171,392.0\n         2017 48,901,066.0\n         2018 49,648,685.0",
      "text/html": "<div>\n<style scoped>\n    .dataframe tbody tr th:only-of-type {\n        vertical-align: middle;\n    }\n\n    .dataframe tbody tr th {\n        vertical-align: top;\n    }\n\n    .dataframe thead th {\n        text-align: right;\n    }\n</style>\n<table border=\"1\" class=\"dataframe\">\n  <thead>\n    <tr style=\"text-align: right;\">\n      <th></th>\n      <th></th>\n      <th>pop</th>\n    </tr>\n    <tr>\n      <th>Country</th>\n      <th>year</th>\n      <th></th>\n    </tr>\n  </thead>\n  <tbody>\n    <tr>\n      <th rowspan=\"4\" valign=\"top\">Aruba</th>\n      <th>2015</th>\n      <td>104,341.0</td>\n    </tr>\n    <tr>\n      <th>2016</th>\n      <td>104,872.0</td>\n    </tr>\n    <tr>\n      <th>2017</th>\n      <td>105,366.0</td>\n    </tr>\n    <tr>\n      <th>2018</th>\n      <td>105,845.0</td>\n    </tr>\n    <tr>\n      <th rowspan=\"4\" valign=\"top\">Colombia</th>\n      <th>2015</th>\n      <td>47,520,667.0</td>\n    </tr>\n    <tr>\n      <th>2016</th>\n      <td>48,171,392.0</td>\n    </tr>\n    <tr>\n      <th>2017</th>\n      <td>48,901,066.0</td>\n    </tr>\n    <tr>\n      <th>2018</th>\n      <td>49,648,685.0</td>\n    </tr>\n  </tbody>\n</table>\n</div>"
     },
     "metadata": {},
     "execution_count": 31
    }
   ],
   "source": [
    "df_sample = df_sample.set_index(['Country','year']).sort_index()     #Creacion de multiples indices \n",
    "df_sample"
   ]
  },
  {
   "cell_type": "code",
   "execution_count": 32,
   "metadata": {},
   "outputs": [
    {
     "output_type": "execute_result",
     "data": {
      "text/plain": "              pop\nyear             \n2015 47,520,667.0\n2016 48,171,392.0\n2017 48,901,066.0\n2018 49,648,685.0",
      "text/html": "<div>\n<style scoped>\n    .dataframe tbody tr th:only-of-type {\n        vertical-align: middle;\n    }\n\n    .dataframe tbody tr th {\n        vertical-align: top;\n    }\n\n    .dataframe thead th {\n        text-align: right;\n    }\n</style>\n<table border=\"1\" class=\"dataframe\">\n  <thead>\n    <tr style=\"text-align: right;\">\n      <th></th>\n      <th>pop</th>\n    </tr>\n    <tr>\n      <th>year</th>\n      <th></th>\n    </tr>\n  </thead>\n  <tbody>\n    <tr>\n      <th>2015</th>\n      <td>47,520,667.0</td>\n    </tr>\n    <tr>\n      <th>2016</th>\n      <td>48,171,392.0</td>\n    </tr>\n    <tr>\n      <th>2017</th>\n      <td>48,901,066.0</td>\n    </tr>\n    <tr>\n      <th>2018</th>\n      <td>49,648,685.0</td>\n    </tr>\n  </tbody>\n</table>\n</div>"
     },
     "metadata": {},
     "execution_count": 32
    }
   ],
   "source": [
    "df_sample.loc['Colombia',:]"
   ]
  },
  {
   "cell_type": "code",
   "execution_count": 33,
   "metadata": {},
   "outputs": [
    {
     "output_type": "execute_result",
     "data": {
      "text/plain": "pop   48,171,392.0\nName: 2016, dtype: float64"
     },
     "metadata": {},
     "execution_count": 33
    }
   ],
   "source": [
    "df_sample.loc['Colombia',:].loc['2016',:]"
   ]
  },
  {
   "cell_type": "code",
   "execution_count": 34,
   "metadata": {},
   "outputs": [
    {
     "output_type": "execute_result",
     "data": {
      "text/plain": "           pop\nyear          \n2015 104,341.0\n2016 104,872.0\n2017 105,366.0\n2018 105,845.0",
      "text/html": "<div>\n<style scoped>\n    .dataframe tbody tr th:only-of-type {\n        vertical-align: middle;\n    }\n\n    .dataframe tbody tr th {\n        vertical-align: top;\n    }\n\n    .dataframe thead th {\n        text-align: right;\n    }\n</style>\n<table border=\"1\" class=\"dataframe\">\n  <thead>\n    <tr style=\"text-align: right;\">\n      <th></th>\n      <th>pop</th>\n    </tr>\n    <tr>\n      <th>year</th>\n      <th></th>\n    </tr>\n  </thead>\n  <tbody>\n    <tr>\n      <th>2015</th>\n      <td>104,341.0</td>\n    </tr>\n    <tr>\n      <th>2016</th>\n      <td>104,872.0</td>\n    </tr>\n    <tr>\n      <th>2017</th>\n      <td>105,366.0</td>\n    </tr>\n    <tr>\n      <th>2018</th>\n      <td>105,845.0</td>\n    </tr>\n  </tbody>\n</table>\n</div>"
     },
     "metadata": {},
     "execution_count": 34
    }
   ],
   "source": [
    "df_sample.xs(['Aruba'])     #Es lo mismo que la busqueda con loc, pero es mas facil con dos indices "
   ]
  },
  {
   "cell_type": "code",
   "execution_count": 35,
   "metadata": {},
   "outputs": [
    {
     "output_type": "execute_result",
     "data": {
      "text/plain": "pop   105,845.0\nName: (Aruba, 2018), dtype: float64"
     },
     "metadata": {},
     "execution_count": 35
    }
   ],
   "source": [
    "df_sample.xs(['Aruba','2018'])"
   ]
  },
  {
   "cell_type": "code",
   "execution_count": 36,
   "metadata": {},
   "outputs": [
    {
     "output_type": "execute_result",
     "data": {
      "text/plain": "                  pop\nCountry              \nAruba       105,845.0\nColombia 49,648,685.0",
      "text/html": "<div>\n<style scoped>\n    .dataframe tbody tr th:only-of-type {\n        vertical-align: middle;\n    }\n\n    .dataframe tbody tr th {\n        vertical-align: top;\n    }\n\n    .dataframe thead th {\n        text-align: right;\n    }\n</style>\n<table border=\"1\" class=\"dataframe\">\n  <thead>\n    <tr style=\"text-align: right;\">\n      <th></th>\n      <th>pop</th>\n    </tr>\n    <tr>\n      <th>Country</th>\n      <th></th>\n    </tr>\n  </thead>\n  <tbody>\n    <tr>\n      <th>Aruba</th>\n      <td>105,845.0</td>\n    </tr>\n    <tr>\n      <th>Colombia</th>\n      <td>49,648,685.0</td>\n    </tr>\n  </tbody>\n</table>\n</div>"
     },
     "metadata": {},
     "execution_count": 36
    }
   ],
   "source": [
    "df_sample.xs('2018', level='year')"
   ]
  },
  {
   "cell_type": "code",
   "execution_count": 37,
   "metadata": {},
   "outputs": [
    {
     "output_type": "execute_result",
     "data": {
      "text/plain": "                          pop\nCountry     year             \nAfghanistan 2015 34,413,603.0\n            2016 35,383,128.0\n            2017 36,296,400.0\n            2018 37,172,386.0\nAlbania     2015  2,880,703.0\n...                       ...\nZambia      2018 17,351,822.0\nZimbabwe    2015 13,814,629.0\n            2016 14,030,390.0\n            2017 14,236,745.0\n            2018 14,439,018.0\n\n[1040 rows x 1 columns]",
      "text/html": "<div>\n<style scoped>\n    .dataframe tbody tr th:only-of-type {\n        vertical-align: middle;\n    }\n\n    .dataframe tbody tr th {\n        vertical-align: top;\n    }\n\n    .dataframe thead th {\n        text-align: right;\n    }\n</style>\n<table border=\"1\" class=\"dataframe\">\n  <thead>\n    <tr style=\"text-align: right;\">\n      <th></th>\n      <th></th>\n      <th>pop</th>\n    </tr>\n    <tr>\n      <th>Country</th>\n      <th>year</th>\n      <th></th>\n    </tr>\n  </thead>\n  <tbody>\n    <tr>\n      <th rowspan=\"4\" valign=\"top\">Afghanistan</th>\n      <th>2015</th>\n      <td>34,413,603.0</td>\n    </tr>\n    <tr>\n      <th>2016</th>\n      <td>35,383,128.0</td>\n    </tr>\n    <tr>\n      <th>2017</th>\n      <td>36,296,400.0</td>\n    </tr>\n    <tr>\n      <th>2018</th>\n      <td>37,172,386.0</td>\n    </tr>\n    <tr>\n      <th>Albania</th>\n      <th>2015</th>\n      <td>2,880,703.0</td>\n    </tr>\n    <tr>\n      <th>...</th>\n      <th>...</th>\n      <td>...</td>\n    </tr>\n    <tr>\n      <th>Zambia</th>\n      <th>2018</th>\n      <td>17,351,822.0</td>\n    </tr>\n    <tr>\n      <th rowspan=\"4\" valign=\"top\">Zimbabwe</th>\n      <th>2015</th>\n      <td>13,814,629.0</td>\n    </tr>\n    <tr>\n      <th>2016</th>\n      <td>14,030,390.0</td>\n    </tr>\n    <tr>\n      <th>2017</th>\n      <td>14,236,745.0</td>\n    </tr>\n    <tr>\n      <th>2018</th>\n      <td>14,439,018.0</td>\n    </tr>\n  </tbody>\n</table>\n<p>1040 rows × 1 columns</p>\n</div>"
     },
     "metadata": {},
     "execution_count": 37
    }
   ],
   "source": [
    "df_countries = df_pob.set_index(['Country','year']).sort_index(ascending = [True,True])   #Ahora se aplican los multiples indes a todo nuestro df\n",
    "df_countries"
   ]
  },
  {
   "cell_type": "code",
   "execution_count": 38,
   "metadata": {},
   "outputs": [
    {
     "output_type": "execute_result",
     "data": {
      "text/plain": "                        pop\nCountry   year             \nAruba     2015    104,341.0\n          2016    104,872.0\n          2017    105,366.0\nAustralia 2015 23,815,995.0\n          2016 24,190,907.0\n          2017 24,601,860.0\nAustria   2015  8,642,699.0\n          2016  8,736,668.0\n          2017  8,797,566.0",
      "text/html": "<div>\n<style scoped>\n    .dataframe tbody tr th:only-of-type {\n        vertical-align: middle;\n    }\n\n    .dataframe tbody tr th {\n        vertical-align: top;\n    }\n\n    .dataframe thead th {\n        text-align: right;\n    }\n</style>\n<table border=\"1\" class=\"dataframe\">\n  <thead>\n    <tr style=\"text-align: right;\">\n      <th></th>\n      <th></th>\n      <th>pop</th>\n    </tr>\n    <tr>\n      <th>Country</th>\n      <th>year</th>\n      <th></th>\n    </tr>\n  </thead>\n  <tbody>\n    <tr>\n      <th rowspan=\"3\" valign=\"top\">Aruba</th>\n      <th>2015</th>\n      <td>104,341.0</td>\n    </tr>\n    <tr>\n      <th>2016</th>\n      <td>104,872.0</td>\n    </tr>\n    <tr>\n      <th>2017</th>\n      <td>105,366.0</td>\n    </tr>\n    <tr>\n      <th rowspan=\"3\" valign=\"top\">Australia</th>\n      <th>2015</th>\n      <td>23,815,995.0</td>\n    </tr>\n    <tr>\n      <th>2016</th>\n      <td>24,190,907.0</td>\n    </tr>\n    <tr>\n      <th>2017</th>\n      <td>24,601,860.0</td>\n    </tr>\n    <tr>\n      <th rowspan=\"3\" valign=\"top\">Austria</th>\n      <th>2015</th>\n      <td>8,642,699.0</td>\n    </tr>\n    <tr>\n      <th>2016</th>\n      <td>8,736,668.0</td>\n    </tr>\n    <tr>\n      <th>2017</th>\n      <td>8,797,566.0</td>\n    </tr>\n  </tbody>\n</table>\n</div>"
     },
     "metadata": {},
     "execution_count": 38
    }
   ],
   "source": [
    "ids = pd.IndexSlice\n",
    "df_countries.loc[ids['Aruba':'Austria','2015':'2017'],:].sort_index()"
   ]
  },
  {
   "cell_type": "code",
   "execution_count": 39,
   "metadata": {},
   "outputs": [
    {
     "output_type": "execute_result",
     "data": {
      "text/plain": "Index(['Afghanistan', 'Afghanistan', 'Afghanistan', 'Afghanistan', 'Albania',\n       'Albania', 'Albania', 'Albania', 'Algeria', 'Algeria',\n       ...\n       'Yemen, Rep.', 'Yemen, Rep.', 'Zambia', 'Zambia', 'Zambia', 'Zambia',\n       'Zimbabwe', 'Zimbabwe', 'Zimbabwe', 'Zimbabwe'],\n      dtype='object', name='Country', length=1040)"
     },
     "metadata": {},
     "execution_count": 39
    }
   ],
   "source": [
    "df_countries.index.get_level_values(0)"
   ]
  },
  {
   "cell_type": "code",
   "execution_count": 40,
   "metadata": {},
   "outputs": [
    {
     "output_type": "execute_result",
     "data": {
      "text/plain": "CategoricalIndex(['2015', '2016', '2017', '2018', '2015', '2016', '2017',\n                  '2018', '2015', '2016',\n                  ...\n                  '2017', '2018', '2015', '2016', '2017', '2018', '2015',\n                  '2016', '2017', '2018'],\n                 categories=['2015', '2016', '2017', '2018'], ordered=False, name='year', dtype='category', length=1040)"
     },
     "metadata": {},
     "execution_count": 40
    }
   ],
   "source": [
    "df_countries.index.get_level_values(1)"
   ]
  },
  {
   "cell_type": "code",
   "execution_count": 41,
   "metadata": {},
   "outputs": [
    {
     "output_type": "execute_result",
     "data": {
      "text/plain": "49648685.0"
     },
     "metadata": {},
     "execution_count": 41
    }
   ],
   "source": [
    "df_countries['pop']['Colombia']['2018']"
   ]
  },
  {
   "cell_type": "code",
   "execution_count": 42,
   "metadata": {},
   "outputs": [
    {
     "output_type": "execute_result",
     "data": {
      "text/plain": "                  pop\nyear                 \n2015 65,679,147,019.0\n2016 66,487,930,677.0\n2017 67,294,176,701.0\n2018 68,087,886,692.0",
      "text/html": "<div>\n<style scoped>\n    .dataframe tbody tr th:only-of-type {\n        vertical-align: middle;\n    }\n\n    .dataframe tbody tr th {\n        vertical-align: top;\n    }\n\n    .dataframe thead th {\n        text-align: right;\n    }\n</style>\n<table border=\"1\" class=\"dataframe\">\n  <thead>\n    <tr style=\"text-align: right;\">\n      <th></th>\n      <th>pop</th>\n    </tr>\n    <tr>\n      <th>year</th>\n      <th></th>\n    </tr>\n  </thead>\n  <tbody>\n    <tr>\n      <th>2015</th>\n      <td>65,679,147,019.0</td>\n    </tr>\n    <tr>\n      <th>2016</th>\n      <td>66,487,930,677.0</td>\n    </tr>\n    <tr>\n      <th>2017</th>\n      <td>67,294,176,701.0</td>\n    </tr>\n    <tr>\n      <th>2018</th>\n      <td>68,087,886,692.0</td>\n    </tr>\n  </tbody>\n</table>\n</div>"
     },
     "metadata": {},
     "execution_count": 42
    }
   ],
   "source": [
    "df_countries.sum(level='year')"
   ]
  },
  {
   "cell_type": "code",
   "execution_count": 46,
   "metadata": {},
   "outputs": [
    {
     "output_type": "execute_result",
     "data": {
      "text/plain": "                       pop\nCountry  year             \nAruba    2015    104,341.0\n         2016    104,872.0\n         2017    105,366.0\n         2018    105,845.0\nColombia 2015 47,520,667.0\n         2016 48,171,392.0\n         2017 48,901,066.0\n         2018 49,648,685.0",
      "text/html": "<div>\n<style scoped>\n    .dataframe tbody tr th:only-of-type {\n        vertical-align: middle;\n    }\n\n    .dataframe tbody tr th {\n        vertical-align: top;\n    }\n\n    .dataframe thead th {\n        text-align: right;\n    }\n</style>\n<table border=\"1\" class=\"dataframe\">\n  <thead>\n    <tr style=\"text-align: right;\">\n      <th></th>\n      <th></th>\n      <th>pop</th>\n    </tr>\n    <tr>\n      <th>Country</th>\n      <th>year</th>\n      <th></th>\n    </tr>\n  </thead>\n  <tbody>\n    <tr>\n      <th rowspan=\"4\" valign=\"top\">Aruba</th>\n      <th>2015</th>\n      <td>104,341.0</td>\n    </tr>\n    <tr>\n      <th>2016</th>\n      <td>104,872.0</td>\n    </tr>\n    <tr>\n      <th>2017</th>\n      <td>105,366.0</td>\n    </tr>\n    <tr>\n      <th>2018</th>\n      <td>105,845.0</td>\n    </tr>\n    <tr>\n      <th rowspan=\"4\" valign=\"top\">Colombia</th>\n      <th>2015</th>\n      <td>47,520,667.0</td>\n    </tr>\n    <tr>\n      <th>2016</th>\n      <td>48,171,392.0</td>\n    </tr>\n    <tr>\n      <th>2017</th>\n      <td>48,901,066.0</td>\n    </tr>\n    <tr>\n      <th>2018</th>\n      <td>49,648,685.0</td>\n    </tr>\n  </tbody>\n</table>\n</div>"
     },
     "metadata": {},
     "execution_count": 46
    }
   ],
   "source": [
    "df_sample"
   ]
  },
  {
   "cell_type": "code",
   "execution_count": 47,
   "metadata": {},
   "outputs": [
    {
     "output_type": "execute_result",
     "data": {
      "text/plain": "                  pop                                       \nyear             2015         2016         2017         2018\nCountry                                                     \nAruba       104,341.0    104,872.0    105,366.0    105,845.0\nColombia 47,520,667.0 48,171,392.0 48,901,066.0 49,648,685.0",
      "text/html": "<div>\n<style scoped>\n    .dataframe tbody tr th:only-of-type {\n        vertical-align: middle;\n    }\n\n    .dataframe tbody tr th {\n        vertical-align: top;\n    }\n\n    .dataframe thead tr th {\n        text-align: left;\n    }\n\n    .dataframe thead tr:last-of-type th {\n        text-align: right;\n    }\n</style>\n<table border=\"1\" class=\"dataframe\">\n  <thead>\n    <tr>\n      <th></th>\n      <th colspan=\"4\" halign=\"left\">pop</th>\n    </tr>\n    <tr>\n      <th>year</th>\n      <th>2015</th>\n      <th>2016</th>\n      <th>2017</th>\n      <th>2018</th>\n    </tr>\n    <tr>\n      <th>Country</th>\n      <th></th>\n      <th></th>\n      <th></th>\n      <th></th>\n    </tr>\n  </thead>\n  <tbody>\n    <tr>\n      <th>Aruba</th>\n      <td>104,341.0</td>\n      <td>104,872.0</td>\n      <td>105,366.0</td>\n      <td>105,845.0</td>\n    </tr>\n    <tr>\n      <th>Colombia</th>\n      <td>47,520,667.0</td>\n      <td>48,171,392.0</td>\n      <td>48,901,066.0</td>\n      <td>49,648,685.0</td>\n    </tr>\n  </tbody>\n</table>\n</div>"
     },
     "metadata": {},
     "execution_count": 47
    }
   ],
   "source": [
    "df_sample.unstack('year')"
   ]
  },
  {
   "cell_type": "code",
   "execution_count": 48,
   "metadata": {},
   "outputs": [
    {
     "output_type": "execute_result",
     "data": {
      "text/plain": "              pop             \nCountry     Aruba     Colombia\nyear                          \n2015    104,341.0 47,520,667.0\n2016    104,872.0 48,171,392.0\n2017    105,366.0 48,901,066.0\n2018    105,845.0 49,648,685.0",
      "text/html": "<div>\n<style scoped>\n    .dataframe tbody tr th:only-of-type {\n        vertical-align: middle;\n    }\n\n    .dataframe tbody tr th {\n        vertical-align: top;\n    }\n\n    .dataframe thead tr th {\n        text-align: left;\n    }\n\n    .dataframe thead tr:last-of-type th {\n        text-align: right;\n    }\n</style>\n<table border=\"1\" class=\"dataframe\">\n  <thead>\n    <tr>\n      <th></th>\n      <th colspan=\"2\" halign=\"left\">pop</th>\n    </tr>\n    <tr>\n      <th>Country</th>\n      <th>Aruba</th>\n      <th>Colombia</th>\n    </tr>\n    <tr>\n      <th>year</th>\n      <th></th>\n      <th></th>\n    </tr>\n  </thead>\n  <tbody>\n    <tr>\n      <th>2015</th>\n      <td>104,341.0</td>\n      <td>47,520,667.0</td>\n    </tr>\n    <tr>\n      <th>2016</th>\n      <td>104,872.0</td>\n      <td>48,171,392.0</td>\n    </tr>\n    <tr>\n      <th>2017</th>\n      <td>105,366.0</td>\n      <td>48,901,066.0</td>\n    </tr>\n    <tr>\n      <th>2018</th>\n      <td>105,845.0</td>\n      <td>49,648,685.0</td>\n    </tr>\n  </tbody>\n</table>\n</div>"
     },
     "metadata": {},
     "execution_count": 48
    }
   ],
   "source": [
    "df_sample.unstack('Country')"
   ]
  },
  {
   "cell_type": "code",
   "execution_count": null,
   "metadata": {},
   "outputs": [],
   "source": []
  }
 ],
 "metadata": {
  "kernelspec": {
   "name": "python37464bitanacondaconda74954a3f106b47d99d44e5fb8ca66932",
   "display_name": "Python 3.7.4 64-bit ('Anaconda': conda)"
  }
 },
 "nbformat": 4,
 "nbformat_minor": 2
}