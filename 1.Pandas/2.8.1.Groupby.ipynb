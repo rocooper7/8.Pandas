{
 "cells": [
  {
   "cell_type": "code",
   "execution_count": 1,
   "metadata": {},
   "outputs": [],
   "source": [
    "import pandas as pd\n",
    "import numpy as np"
   ]
  },
  {
   "cell_type": "code",
   "execution_count": 2,
   "metadata": {},
   "outputs": [],
   "source": [
    "import seaborn as sns"
   ]
  },
  {
   "cell_type": "code",
   "execution_count": 3,
   "metadata": {},
   "outputs": [],
   "source": [
    "pd.options.display.float_format = '{:,.1f}'.format"
   ]
  },
  {
   "cell_type": "code",
   "execution_count": 4,
   "metadata": {},
   "outputs": [
    {
     "output_type": "execute_result",
     "data": {
      "text/plain": "   carat      cut color clarity  depth  table  price   x   y   z\n0    0.2    Ideal     E     SI2   61.5   55.0    326 4.0 4.0 2.4\n1    0.2  Premium     E     SI1   59.8   61.0    326 3.9 3.8 2.3\n2    0.2     Good     E     VS1   56.9   65.0    327 4.0 4.1 2.3\n3    0.3  Premium     I     VS2   62.4   58.0    334 4.2 4.2 2.6\n4    0.3     Good     J     SI2   63.3   58.0    335 4.3 4.3 2.8",
      "text/html": "<div>\n<style scoped>\n    .dataframe tbody tr th:only-of-type {\n        vertical-align: middle;\n    }\n\n    .dataframe tbody tr th {\n        vertical-align: top;\n    }\n\n    .dataframe thead th {\n        text-align: right;\n    }\n</style>\n<table border=\"1\" class=\"dataframe\">\n  <thead>\n    <tr style=\"text-align: right;\">\n      <th></th>\n      <th>carat</th>\n      <th>cut</th>\n      <th>color</th>\n      <th>clarity</th>\n      <th>depth</th>\n      <th>table</th>\n      <th>price</th>\n      <th>x</th>\n      <th>y</th>\n      <th>z</th>\n    </tr>\n  </thead>\n  <tbody>\n    <tr>\n      <th>0</th>\n      <td>0.2</td>\n      <td>Ideal</td>\n      <td>E</td>\n      <td>SI2</td>\n      <td>61.5</td>\n      <td>55.0</td>\n      <td>326</td>\n      <td>4.0</td>\n      <td>4.0</td>\n      <td>2.4</td>\n    </tr>\n    <tr>\n      <th>1</th>\n      <td>0.2</td>\n      <td>Premium</td>\n      <td>E</td>\n      <td>SI1</td>\n      <td>59.8</td>\n      <td>61.0</td>\n      <td>326</td>\n      <td>3.9</td>\n      <td>3.8</td>\n      <td>2.3</td>\n    </tr>\n    <tr>\n      <th>2</th>\n      <td>0.2</td>\n      <td>Good</td>\n      <td>E</td>\n      <td>VS1</td>\n      <td>56.9</td>\n      <td>65.0</td>\n      <td>327</td>\n      <td>4.0</td>\n      <td>4.1</td>\n      <td>2.3</td>\n    </tr>\n    <tr>\n      <th>3</th>\n      <td>0.3</td>\n      <td>Premium</td>\n      <td>I</td>\n      <td>VS2</td>\n      <td>62.4</td>\n      <td>58.0</td>\n      <td>334</td>\n      <td>4.2</td>\n      <td>4.2</td>\n      <td>2.6</td>\n    </tr>\n    <tr>\n      <th>4</th>\n      <td>0.3</td>\n      <td>Good</td>\n      <td>J</td>\n      <td>SI2</td>\n      <td>63.3</td>\n      <td>58.0</td>\n      <td>335</td>\n      <td>4.3</td>\n      <td>4.3</td>\n      <td>2.8</td>\n    </tr>\n  </tbody>\n</table>\n</div>"
     },
     "metadata": {},
     "execution_count": 4
    }
   ],
   "source": [
    "df = sns.load_dataset('diamonds')\n",
    "df.head(5)"
   ]
  },
  {
   "cell_type": "code",
   "execution_count": 5,
   "metadata": {},
   "outputs": [
    {
     "output_type": "execute_result",
     "data": {
      "text/plain": "           carat  depth  table   price   x   y   z\ncut                                               \nFair         1.0   64.0   59.1 4,358.8 6.2 6.2 4.0\nGood         0.8   62.4   58.7 3,928.9 5.8 5.9 3.6\nIdeal        0.7   61.7   56.0 3,457.5 5.5 5.5 3.4\nPremium      0.9   61.3   58.7 4,584.3 6.0 5.9 3.6\nVery Good    0.8   61.8   58.0 3,981.8 5.7 5.8 3.6",
      "text/html": "<div>\n<style scoped>\n    .dataframe tbody tr th:only-of-type {\n        vertical-align: middle;\n    }\n\n    .dataframe tbody tr th {\n        vertical-align: top;\n    }\n\n    .dataframe thead th {\n        text-align: right;\n    }\n</style>\n<table border=\"1\" class=\"dataframe\">\n  <thead>\n    <tr style=\"text-align: right;\">\n      <th></th>\n      <th>carat</th>\n      <th>depth</th>\n      <th>table</th>\n      <th>price</th>\n      <th>x</th>\n      <th>y</th>\n      <th>z</th>\n    </tr>\n    <tr>\n      <th>cut</th>\n      <th></th>\n      <th></th>\n      <th></th>\n      <th></th>\n      <th></th>\n      <th></th>\n      <th></th>\n    </tr>\n  </thead>\n  <tbody>\n    <tr>\n      <th>Fair</th>\n      <td>1.0</td>\n      <td>64.0</td>\n      <td>59.1</td>\n      <td>4,358.8</td>\n      <td>6.2</td>\n      <td>6.2</td>\n      <td>4.0</td>\n    </tr>\n    <tr>\n      <th>Good</th>\n      <td>0.8</td>\n      <td>62.4</td>\n      <td>58.7</td>\n      <td>3,928.9</td>\n      <td>5.8</td>\n      <td>5.9</td>\n      <td>3.6</td>\n    </tr>\n    <tr>\n      <th>Ideal</th>\n      <td>0.7</td>\n      <td>61.7</td>\n      <td>56.0</td>\n      <td>3,457.5</td>\n      <td>5.5</td>\n      <td>5.5</td>\n      <td>3.4</td>\n    </tr>\n    <tr>\n      <th>Premium</th>\n      <td>0.9</td>\n      <td>61.3</td>\n      <td>58.7</td>\n      <td>4,584.3</td>\n      <td>6.0</td>\n      <td>5.9</td>\n      <td>3.6</td>\n    </tr>\n    <tr>\n      <th>Very Good</th>\n      <td>0.8</td>\n      <td>61.8</td>\n      <td>58.0</td>\n      <td>3,981.8</td>\n      <td>5.7</td>\n      <td>5.8</td>\n      <td>3.6</td>\n    </tr>\n  </tbody>\n</table>\n</div>"
     },
     "metadata": {},
     "execution_count": 5
    }
   ],
   "source": [
    "df.groupby('cut').mean()"
   ]
  },
  {
   "cell_type": "code",
   "execution_count": 6,
   "metadata": {},
   "outputs": [
    {
     "output_type": "execute_result",
     "data": {
      "text/plain": "           carat  depth  table   price   x   y   z\ncut                                               \nFair         1.0   65.0   58.0 3,282.0 6.2 6.1 4.0\nGood         0.8   63.4   58.0 3,050.5 6.0 6.0 3.7\nIdeal        0.5   61.8   56.0 1,810.0 5.2 5.3 3.2\nPremium      0.9   61.4   59.0 3,185.0 6.1 6.1 3.7\nVery Good    0.7   62.1   58.0 2,648.0 5.7 5.8 3.6",
      "text/html": "<div>\n<style scoped>\n    .dataframe tbody tr th:only-of-type {\n        vertical-align: middle;\n    }\n\n    .dataframe tbody tr th {\n        vertical-align: top;\n    }\n\n    .dataframe thead th {\n        text-align: right;\n    }\n</style>\n<table border=\"1\" class=\"dataframe\">\n  <thead>\n    <tr style=\"text-align: right;\">\n      <th></th>\n      <th>carat</th>\n      <th>depth</th>\n      <th>table</th>\n      <th>price</th>\n      <th>x</th>\n      <th>y</th>\n      <th>z</th>\n    </tr>\n    <tr>\n      <th>cut</th>\n      <th></th>\n      <th></th>\n      <th></th>\n      <th></th>\n      <th></th>\n      <th></th>\n      <th></th>\n    </tr>\n  </thead>\n  <tbody>\n    <tr>\n      <th>Fair</th>\n      <td>1.0</td>\n      <td>65.0</td>\n      <td>58.0</td>\n      <td>3,282.0</td>\n      <td>6.2</td>\n      <td>6.1</td>\n      <td>4.0</td>\n    </tr>\n    <tr>\n      <th>Good</th>\n      <td>0.8</td>\n      <td>63.4</td>\n      <td>58.0</td>\n      <td>3,050.5</td>\n      <td>6.0</td>\n      <td>6.0</td>\n      <td>3.7</td>\n    </tr>\n    <tr>\n      <th>Ideal</th>\n      <td>0.5</td>\n      <td>61.8</td>\n      <td>56.0</td>\n      <td>1,810.0</td>\n      <td>5.2</td>\n      <td>5.3</td>\n      <td>3.2</td>\n    </tr>\n    <tr>\n      <th>Premium</th>\n      <td>0.9</td>\n      <td>61.4</td>\n      <td>59.0</td>\n      <td>3,185.0</td>\n      <td>6.1</td>\n      <td>6.1</td>\n      <td>3.7</td>\n    </tr>\n    <tr>\n      <th>Very Good</th>\n      <td>0.7</td>\n      <td>62.1</td>\n      <td>58.0</td>\n      <td>2,648.0</td>\n      <td>5.7</td>\n      <td>5.8</td>\n      <td>3.6</td>\n    </tr>\n  </tbody>\n</table>\n</div>"
     },
     "metadata": {},
     "execution_count": 6
    }
   ],
   "source": [
    "df.groupby('cut').median()"
   ]
  },
  {
   "cell_type": "code",
   "execution_count": 7,
   "metadata": {},
   "outputs": [
    {
     "output_type": "execute_result",
     "data": {
      "text/plain": "cut\nFair          1610\nGood          4906\nIdeal        21551\nPremium      13791\nVery Good    12082\nName: carat, dtype: int64"
     },
     "metadata": {},
     "execution_count": 7
    }
   ],
   "source": [
    "df.groupby('cut')['carat'].count()  #min o max "
   ]
  },
  {
   "cell_type": "code",
   "execution_count": 8,
   "metadata": {},
   "outputs": [
    {
     "output_type": "stream",
     "name": "stdout",
     "text": "Cut: Fair, Price: 4358.757763975155 \n\nCut: Good, Price: 3928.864451691806 \n\nCut: Ideal, Price: 3457.541970210199 \n\nCut: Premium, Price: 4584.2577042999055 \n\nCut: Very Good, Price: 3981.7598907465654 \n\n"
    }
   ],
   "source": [
    "for cut,group in df.groupby('cut')['price']:\n",
    "    grouped_sized = group.mean()\n",
    "    print(f'Cut: {cut}, Price: {grouped_sized} \\n')"
   ]
  },
  {
   "cell_type": "code",
   "execution_count": 11,
   "metadata": {},
   "outputs": [
    {
     "output_type": "execute_result",
     "data": {
      "text/plain": "                  price\ncut       color        \nFair      D     4,291.1\n          E     3,682.3\n          F     3,827.0\n          G     4,239.3\n          H     5,135.7\n          I     4,685.4\n          J     4,975.7\nGood      D     3,405.4\n          E     3,423.6\n          F     3,495.8\n          G     4,123.5\n          H     4,276.3\n          I     5,078.5\n          J     4,574.2\nIdeal     D     2,629.1\n          E     2,597.6\n          F     3,374.9\n          G     3,720.7\n          H     3,889.3\n          I     4,452.0\n          J     4,918.2\nPremium   D     3,631.3\n          E     3,538.9\n          F     4,324.9\n          G     4,500.7\n          H     5,216.7\n          I     5,946.2\n          J     6,294.6\nVery Good D     3,470.5\n          E     3,214.7\n          F     3,778.8\n          G     3,872.8\n          H     4,535.4\n          I     5,255.9\n          J     5,103.5",
      "text/html": "<div>\n<style scoped>\n    .dataframe tbody tr th:only-of-type {\n        vertical-align: middle;\n    }\n\n    .dataframe tbody tr th {\n        vertical-align: top;\n    }\n\n    .dataframe thead th {\n        text-align: right;\n    }\n</style>\n<table border=\"1\" class=\"dataframe\">\n  <thead>\n    <tr style=\"text-align: right;\">\n      <th></th>\n      <th></th>\n      <th>price</th>\n    </tr>\n    <tr>\n      <th>cut</th>\n      <th>color</th>\n      <th></th>\n    </tr>\n  </thead>\n  <tbody>\n    <tr>\n      <th rowspan=\"7\" valign=\"top\">Fair</th>\n      <th>D</th>\n      <td>4,291.1</td>\n    </tr>\n    <tr>\n      <th>E</th>\n      <td>3,682.3</td>\n    </tr>\n    <tr>\n      <th>F</th>\n      <td>3,827.0</td>\n    </tr>\n    <tr>\n      <th>G</th>\n      <td>4,239.3</td>\n    </tr>\n    <tr>\n      <th>H</th>\n      <td>5,135.7</td>\n    </tr>\n    <tr>\n      <th>I</th>\n      <td>4,685.4</td>\n    </tr>\n    <tr>\n      <th>J</th>\n      <td>4,975.7</td>\n    </tr>\n    <tr>\n      <th rowspan=\"7\" valign=\"top\">Good</th>\n      <th>D</th>\n      <td>3,405.4</td>\n    </tr>\n    <tr>\n      <th>E</th>\n      <td>3,423.6</td>\n    </tr>\n    <tr>\n      <th>F</th>\n      <td>3,495.8</td>\n    </tr>\n    <tr>\n      <th>G</th>\n      <td>4,123.5</td>\n    </tr>\n    <tr>\n      <th>H</th>\n      <td>4,276.3</td>\n    </tr>\n    <tr>\n      <th>I</th>\n      <td>5,078.5</td>\n    </tr>\n    <tr>\n      <th>J</th>\n      <td>4,574.2</td>\n    </tr>\n    <tr>\n      <th rowspan=\"7\" valign=\"top\">Ideal</th>\n      <th>D</th>\n      <td>2,629.1</td>\n    </tr>\n    <tr>\n      <th>E</th>\n      <td>2,597.6</td>\n    </tr>\n    <tr>\n      <th>F</th>\n      <td>3,374.9</td>\n    </tr>\n    <tr>\n      <th>G</th>\n      <td>3,720.7</td>\n    </tr>\n    <tr>\n      <th>H</th>\n      <td>3,889.3</td>\n    </tr>\n    <tr>\n      <th>I</th>\n      <td>4,452.0</td>\n    </tr>\n    <tr>\n      <th>J</th>\n      <td>4,918.2</td>\n    </tr>\n    <tr>\n      <th rowspan=\"7\" valign=\"top\">Premium</th>\n      <th>D</th>\n      <td>3,631.3</td>\n    </tr>\n    <tr>\n      <th>E</th>\n      <td>3,538.9</td>\n    </tr>\n    <tr>\n      <th>F</th>\n      <td>4,324.9</td>\n    </tr>\n    <tr>\n      <th>G</th>\n      <td>4,500.7</td>\n    </tr>\n    <tr>\n      <th>H</th>\n      <td>5,216.7</td>\n    </tr>\n    <tr>\n      <th>I</th>\n      <td>5,946.2</td>\n    </tr>\n    <tr>\n      <th>J</th>\n      <td>6,294.6</td>\n    </tr>\n    <tr>\n      <th rowspan=\"7\" valign=\"top\">Very Good</th>\n      <th>D</th>\n      <td>3,470.5</td>\n    </tr>\n    <tr>\n      <th>E</th>\n      <td>3,214.7</td>\n    </tr>\n    <tr>\n      <th>F</th>\n      <td>3,778.8</td>\n    </tr>\n    <tr>\n      <th>G</th>\n      <td>3,872.8</td>\n    </tr>\n    <tr>\n      <th>H</th>\n      <td>4,535.4</td>\n    </tr>\n    <tr>\n      <th>I</th>\n      <td>5,255.9</td>\n    </tr>\n    <tr>\n      <th>J</th>\n      <td>5,103.5</td>\n    </tr>\n  </tbody>\n</table>\n</div>"
     },
     "metadata": {},
     "execution_count": 11
    }
   ],
   "source": [
    "df.groupby(['cut','color'])['price'].mean().to_frame()  #multindice"
   ]
  },
  {
   "cell_type": "code",
   "execution_count": 12,
   "metadata": {},
   "outputs": [
    {
     "output_type": "execute_result",
     "data": {
      "text/plain": "                 min    mean    max\ncut       color                    \nFair      D      536 4,291.1  16386\n          E      337 3,682.3  15584\n          F      496 3,827.0  17995\n          G      369 4,239.3  18574\n          H      659 5,135.7  18565\n          I      735 4,685.4  18242\n          J      416 4,975.7  18531\nGood      D      361 3,405.4  18468\n          E      327 3,423.6  18236\n          F      357 3,495.8  18686\n          G      394 4,123.5  18788\n          H      368 4,276.3  18640\n          I      351 5,078.5  18707\n          J      335 4,574.2  18325\nIdeal     D      367 2,629.1  18693\n          E      326 2,597.6  18729\n          F      408 3,374.9  18780\n          G      361 3,720.7  18806\n          H      357 3,889.3  18760\n          I      348 4,452.0  18779\n          J      340 4,918.2  18508\nPremium   D      367 3,631.3  18575\n          E      326 3,538.9  18477\n          F      342 4,324.9  18791\n          G      382 4,500.7  18741\n          H      368 5,216.7  18795\n          I      334 5,946.2  18823\n          J      363 6,294.6  18710\nVery Good D      357 3,470.5  18542\n          E      352 3,214.7  18731\n          F      357 3,778.8  18777\n          G      354 3,872.8  18818\n          H      337 4,535.4  18803\n          I      336 5,255.9  18500\n          J      336 5,103.5  18430",
      "text/html": "<div>\n<style scoped>\n    .dataframe tbody tr th:only-of-type {\n        vertical-align: middle;\n    }\n\n    .dataframe tbody tr th {\n        vertical-align: top;\n    }\n\n    .dataframe thead th {\n        text-align: right;\n    }\n</style>\n<table border=\"1\" class=\"dataframe\">\n  <thead>\n    <tr style=\"text-align: right;\">\n      <th></th>\n      <th></th>\n      <th>min</th>\n      <th>mean</th>\n      <th>max</th>\n    </tr>\n    <tr>\n      <th>cut</th>\n      <th>color</th>\n      <th></th>\n      <th></th>\n      <th></th>\n    </tr>\n  </thead>\n  <tbody>\n    <tr>\n      <th rowspan=\"7\" valign=\"top\">Fair</th>\n      <th>D</th>\n      <td>536</td>\n      <td>4,291.1</td>\n      <td>16386</td>\n    </tr>\n    <tr>\n      <th>E</th>\n      <td>337</td>\n      <td>3,682.3</td>\n      <td>15584</td>\n    </tr>\n    <tr>\n      <th>F</th>\n      <td>496</td>\n      <td>3,827.0</td>\n      <td>17995</td>\n    </tr>\n    <tr>\n      <th>G</th>\n      <td>369</td>\n      <td>4,239.3</td>\n      <td>18574</td>\n    </tr>\n    <tr>\n      <th>H</th>\n      <td>659</td>\n      <td>5,135.7</td>\n      <td>18565</td>\n    </tr>\n    <tr>\n      <th>I</th>\n      <td>735</td>\n      <td>4,685.4</td>\n      <td>18242</td>\n    </tr>\n    <tr>\n      <th>J</th>\n      <td>416</td>\n      <td>4,975.7</td>\n      <td>18531</td>\n    </tr>\n    <tr>\n      <th rowspan=\"7\" valign=\"top\">Good</th>\n      <th>D</th>\n      <td>361</td>\n      <td>3,405.4</td>\n      <td>18468</td>\n    </tr>\n    <tr>\n      <th>E</th>\n      <td>327</td>\n      <td>3,423.6</td>\n      <td>18236</td>\n    </tr>\n    <tr>\n      <th>F</th>\n      <td>357</td>\n      <td>3,495.8</td>\n      <td>18686</td>\n    </tr>\n    <tr>\n      <th>G</th>\n      <td>394</td>\n      <td>4,123.5</td>\n      <td>18788</td>\n    </tr>\n    <tr>\n      <th>H</th>\n      <td>368</td>\n      <td>4,276.3</td>\n      <td>18640</td>\n    </tr>\n    <tr>\n      <th>I</th>\n      <td>351</td>\n      <td>5,078.5</td>\n      <td>18707</td>\n    </tr>\n    <tr>\n      <th>J</th>\n      <td>335</td>\n      <td>4,574.2</td>\n      <td>18325</td>\n    </tr>\n    <tr>\n      <th rowspan=\"7\" valign=\"top\">Ideal</th>\n      <th>D</th>\n      <td>367</td>\n      <td>2,629.1</td>\n      <td>18693</td>\n    </tr>\n    <tr>\n      <th>E</th>\n      <td>326</td>\n      <td>2,597.6</td>\n      <td>18729</td>\n    </tr>\n    <tr>\n      <th>F</th>\n      <td>408</td>\n      <td>3,374.9</td>\n      <td>18780</td>\n    </tr>\n    <tr>\n      <th>G</th>\n      <td>361</td>\n      <td>3,720.7</td>\n      <td>18806</td>\n    </tr>\n    <tr>\n      <th>H</th>\n      <td>357</td>\n      <td>3,889.3</td>\n      <td>18760</td>\n    </tr>\n    <tr>\n      <th>I</th>\n      <td>348</td>\n      <td>4,452.0</td>\n      <td>18779</td>\n    </tr>\n    <tr>\n      <th>J</th>\n      <td>340</td>\n      <td>4,918.2</td>\n      <td>18508</td>\n    </tr>\n    <tr>\n      <th rowspan=\"7\" valign=\"top\">Premium</th>\n      <th>D</th>\n      <td>367</td>\n      <td>3,631.3</td>\n      <td>18575</td>\n    </tr>\n    <tr>\n      <th>E</th>\n      <td>326</td>\n      <td>3,538.9</td>\n      <td>18477</td>\n    </tr>\n    <tr>\n      <th>F</th>\n      <td>342</td>\n      <td>4,324.9</td>\n      <td>18791</td>\n    </tr>\n    <tr>\n      <th>G</th>\n      <td>382</td>\n      <td>4,500.7</td>\n      <td>18741</td>\n    </tr>\n    <tr>\n      <th>H</th>\n      <td>368</td>\n      <td>5,216.7</td>\n      <td>18795</td>\n    </tr>\n    <tr>\n      <th>I</th>\n      <td>334</td>\n      <td>5,946.2</td>\n      <td>18823</td>\n    </tr>\n    <tr>\n      <th>J</th>\n      <td>363</td>\n      <td>6,294.6</td>\n      <td>18710</td>\n    </tr>\n    <tr>\n      <th rowspan=\"7\" valign=\"top\">Very Good</th>\n      <th>D</th>\n      <td>357</td>\n      <td>3,470.5</td>\n      <td>18542</td>\n    </tr>\n    <tr>\n      <th>E</th>\n      <td>352</td>\n      <td>3,214.7</td>\n      <td>18731</td>\n    </tr>\n    <tr>\n      <th>F</th>\n      <td>357</td>\n      <td>3,778.8</td>\n      <td>18777</td>\n    </tr>\n    <tr>\n      <th>G</th>\n      <td>354</td>\n      <td>3,872.8</td>\n      <td>18818</td>\n    </tr>\n    <tr>\n      <th>H</th>\n      <td>337</td>\n      <td>4,535.4</td>\n      <td>18803</td>\n    </tr>\n    <tr>\n      <th>I</th>\n      <td>336</td>\n      <td>5,255.9</td>\n      <td>18500</td>\n    </tr>\n    <tr>\n      <th>J</th>\n      <td>336</td>\n      <td>5,103.5</td>\n      <td>18430</td>\n    </tr>\n  </tbody>\n</table>\n</div>"
     },
     "metadata": {},
     "execution_count": 12
    }
   ],
   "source": [
    "df.groupby(['cut','color'])['price'].aggregate(['min',np.mean,max])"
   ]
  },
  {
   "cell_type": "code",
   "execution_count": 13,
   "metadata": {},
   "outputs": [],
   "source": [
    "def mean_kilo(x):\n",
    "    return np.mean(x)/1000"
   ]
  },
  {
   "cell_type": "code",
   "execution_count": 14,
   "metadata": {},
   "outputs": [
    {
     "output_type": "execute_result",
     "data": {
      "text/plain": "                 min    mean    max  mean_kilo  <lambda_0>\ncut       color                                           \nFair      D      536 4,291.1  16386        4.3         4.3\n          E      337 3,682.3  15584        3.7         3.7\n          F      496 3,827.0  17995        3.8         3.8\n          G      369 4,239.3  18574        4.2         4.2\n          H      659 5,135.7  18565        5.1         5.1\n          I      735 4,685.4  18242        4.7         4.7\n          J      416 4,975.7  18531        5.0         5.0\nGood      D      361 3,405.4  18468        3.4         3.4\n          E      327 3,423.6  18236        3.4         3.4\n          F      357 3,495.8  18686        3.5         3.5\n          G      394 4,123.5  18788        4.1         4.1\n          H      368 4,276.3  18640        4.3         4.3\n          I      351 5,078.5  18707        5.1         5.1\n          J      335 4,574.2  18325        4.6         4.6\nIdeal     D      367 2,629.1  18693        2.6         2.6\n          E      326 2,597.6  18729        2.6         2.6\n          F      408 3,374.9  18780        3.4         3.4\n          G      361 3,720.7  18806        3.7         3.7\n          H      357 3,889.3  18760        3.9         3.9\n          I      348 4,452.0  18779        4.5         4.5\n          J      340 4,918.2  18508        4.9         4.9\nPremium   D      367 3,631.3  18575        3.6         3.6\n          E      326 3,538.9  18477        3.5         3.5\n          F      342 4,324.9  18791        4.3         4.3\n          G      382 4,500.7  18741        4.5         4.5\n          H      368 5,216.7  18795        5.2         5.2\n          I      334 5,946.2  18823        5.9         5.9\n          J      363 6,294.6  18710        6.3         6.3\nVery Good D      357 3,470.5  18542        3.5         3.5\n          E      352 3,214.7  18731        3.2         3.2\n          F      357 3,778.8  18777        3.8         3.8\n          G      354 3,872.8  18818        3.9         3.9\n          H      337 4,535.4  18803        4.5         4.5\n          I      336 5,255.9  18500        5.3         5.3\n          J      336 5,103.5  18430        5.1         5.1",
      "text/html": "<div>\n<style scoped>\n    .dataframe tbody tr th:only-of-type {\n        vertical-align: middle;\n    }\n\n    .dataframe tbody tr th {\n        vertical-align: top;\n    }\n\n    .dataframe thead th {\n        text-align: right;\n    }\n</style>\n<table border=\"1\" class=\"dataframe\">\n  <thead>\n    <tr style=\"text-align: right;\">\n      <th></th>\n      <th></th>\n      <th>min</th>\n      <th>mean</th>\n      <th>max</th>\n      <th>mean_kilo</th>\n      <th>&lt;lambda_0&gt;</th>\n    </tr>\n    <tr>\n      <th>cut</th>\n      <th>color</th>\n      <th></th>\n      <th></th>\n      <th></th>\n      <th></th>\n      <th></th>\n    </tr>\n  </thead>\n  <tbody>\n    <tr>\n      <th rowspan=\"7\" valign=\"top\">Fair</th>\n      <th>D</th>\n      <td>536</td>\n      <td>4,291.1</td>\n      <td>16386</td>\n      <td>4.3</td>\n      <td>4.3</td>\n    </tr>\n    <tr>\n      <th>E</th>\n      <td>337</td>\n      <td>3,682.3</td>\n      <td>15584</td>\n      <td>3.7</td>\n      <td>3.7</td>\n    </tr>\n    <tr>\n      <th>F</th>\n      <td>496</td>\n      <td>3,827.0</td>\n      <td>17995</td>\n      <td>3.8</td>\n      <td>3.8</td>\n    </tr>\n    <tr>\n      <th>G</th>\n      <td>369</td>\n      <td>4,239.3</td>\n      <td>18574</td>\n      <td>4.2</td>\n      <td>4.2</td>\n    </tr>\n    <tr>\n      <th>H</th>\n      <td>659</td>\n      <td>5,135.7</td>\n      <td>18565</td>\n      <td>5.1</td>\n      <td>5.1</td>\n    </tr>\n    <tr>\n      <th>I</th>\n      <td>735</td>\n      <td>4,685.4</td>\n      <td>18242</td>\n      <td>4.7</td>\n      <td>4.7</td>\n    </tr>\n    <tr>\n      <th>J</th>\n      <td>416</td>\n      <td>4,975.7</td>\n      <td>18531</td>\n      <td>5.0</td>\n      <td>5.0</td>\n    </tr>\n    <tr>\n      <th rowspan=\"7\" valign=\"top\">Good</th>\n      <th>D</th>\n      <td>361</td>\n      <td>3,405.4</td>\n      <td>18468</td>\n      <td>3.4</td>\n      <td>3.4</td>\n    </tr>\n    <tr>\n      <th>E</th>\n      <td>327</td>\n      <td>3,423.6</td>\n      <td>18236</td>\n      <td>3.4</td>\n      <td>3.4</td>\n    </tr>\n    <tr>\n      <th>F</th>\n      <td>357</td>\n      <td>3,495.8</td>\n      <td>18686</td>\n      <td>3.5</td>\n      <td>3.5</td>\n    </tr>\n    <tr>\n      <th>G</th>\n      <td>394</td>\n      <td>4,123.5</td>\n      <td>18788</td>\n      <td>4.1</td>\n      <td>4.1</td>\n    </tr>\n    <tr>\n      <th>H</th>\n      <td>368</td>\n      <td>4,276.3</td>\n      <td>18640</td>\n      <td>4.3</td>\n      <td>4.3</td>\n    </tr>\n    <tr>\n      <th>I</th>\n      <td>351</td>\n      <td>5,078.5</td>\n      <td>18707</td>\n      <td>5.1</td>\n      <td>5.1</td>\n    </tr>\n    <tr>\n      <th>J</th>\n      <td>335</td>\n      <td>4,574.2</td>\n      <td>18325</td>\n      <td>4.6</td>\n      <td>4.6</td>\n    </tr>\n    <tr>\n      <th rowspan=\"7\" valign=\"top\">Ideal</th>\n      <th>D</th>\n      <td>367</td>\n      <td>2,629.1</td>\n      <td>18693</td>\n      <td>2.6</td>\n      <td>2.6</td>\n    </tr>\n    <tr>\n      <th>E</th>\n      <td>326</td>\n      <td>2,597.6</td>\n      <td>18729</td>\n      <td>2.6</td>\n      <td>2.6</td>\n    </tr>\n    <tr>\n      <th>F</th>\n      <td>408</td>\n      <td>3,374.9</td>\n      <td>18780</td>\n      <td>3.4</td>\n      <td>3.4</td>\n    </tr>\n    <tr>\n      <th>G</th>\n      <td>361</td>\n      <td>3,720.7</td>\n      <td>18806</td>\n      <td>3.7</td>\n      <td>3.7</td>\n    </tr>\n    <tr>\n      <th>H</th>\n      <td>357</td>\n      <td>3,889.3</td>\n      <td>18760</td>\n      <td>3.9</td>\n      <td>3.9</td>\n    </tr>\n    <tr>\n      <th>I</th>\n      <td>348</td>\n      <td>4,452.0</td>\n      <td>18779</td>\n      <td>4.5</td>\n      <td>4.5</td>\n    </tr>\n    <tr>\n      <th>J</th>\n      <td>340</td>\n      <td>4,918.2</td>\n      <td>18508</td>\n      <td>4.9</td>\n      <td>4.9</td>\n    </tr>\n    <tr>\n      <th rowspan=\"7\" valign=\"top\">Premium</th>\n      <th>D</th>\n      <td>367</td>\n      <td>3,631.3</td>\n      <td>18575</td>\n      <td>3.6</td>\n      <td>3.6</td>\n    </tr>\n    <tr>\n      <th>E</th>\n      <td>326</td>\n      <td>3,538.9</td>\n      <td>18477</td>\n      <td>3.5</td>\n      <td>3.5</td>\n    </tr>\n    <tr>\n      <th>F</th>\n      <td>342</td>\n      <td>4,324.9</td>\n      <td>18791</td>\n      <td>4.3</td>\n      <td>4.3</td>\n    </tr>\n    <tr>\n      <th>G</th>\n      <td>382</td>\n      <td>4,500.7</td>\n      <td>18741</td>\n      <td>4.5</td>\n      <td>4.5</td>\n    </tr>\n    <tr>\n      <th>H</th>\n      <td>368</td>\n      <td>5,216.7</td>\n      <td>18795</td>\n      <td>5.2</td>\n      <td>5.2</td>\n    </tr>\n    <tr>\n      <th>I</th>\n      <td>334</td>\n      <td>5,946.2</td>\n      <td>18823</td>\n      <td>5.9</td>\n      <td>5.9</td>\n    </tr>\n    <tr>\n      <th>J</th>\n      <td>363</td>\n      <td>6,294.6</td>\n      <td>18710</td>\n      <td>6.3</td>\n      <td>6.3</td>\n    </tr>\n    <tr>\n      <th rowspan=\"7\" valign=\"top\">Very Good</th>\n      <th>D</th>\n      <td>357</td>\n      <td>3,470.5</td>\n      <td>18542</td>\n      <td>3.5</td>\n      <td>3.5</td>\n    </tr>\n    <tr>\n      <th>E</th>\n      <td>352</td>\n      <td>3,214.7</td>\n      <td>18731</td>\n      <td>3.2</td>\n      <td>3.2</td>\n    </tr>\n    <tr>\n      <th>F</th>\n      <td>357</td>\n      <td>3,778.8</td>\n      <td>18777</td>\n      <td>3.8</td>\n      <td>3.8</td>\n    </tr>\n    <tr>\n      <th>G</th>\n      <td>354</td>\n      <td>3,872.8</td>\n      <td>18818</td>\n      <td>3.9</td>\n      <td>3.9</td>\n    </tr>\n    <tr>\n      <th>H</th>\n      <td>337</td>\n      <td>4,535.4</td>\n      <td>18803</td>\n      <td>4.5</td>\n      <td>4.5</td>\n    </tr>\n    <tr>\n      <th>I</th>\n      <td>336</td>\n      <td>5,255.9</td>\n      <td>18500</td>\n      <td>5.3</td>\n      <td>5.3</td>\n    </tr>\n    <tr>\n      <th>J</th>\n      <td>336</td>\n      <td>5,103.5</td>\n      <td>18430</td>\n      <td>5.1</td>\n      <td>5.1</td>\n    </tr>\n  </tbody>\n</table>\n</div>"
     },
     "metadata": {},
     "execution_count": 14
    }
   ],
   "source": [
    "df.groupby(['cut','color'])['price'].aggregate([min,np.mean,max,mean_kilo,lambda x: np.mean(x)/1000])"
   ]
  },
  {
   "cell_type": "code",
   "execution_count": 15,
   "metadata": {},
   "outputs": [
    {
     "output_type": "execute_result",
     "data": {
      "text/plain": "{'carat': [<function min>, <function max>],\n 'price': [<function numpy.mean(a, axis=None, dtype=None, out=None, keepdims=<no value>)>,\n  <function __main__.mean_kilo(x)>]}"
     },
     "metadata": {},
     "execution_count": 15
    }
   ],
   "source": [
    "dict_agg = {'carat':[min,max], 'price':[np.mean,mean_kilo]}\n",
    "dict_agg"
   ]
  },
  {
   "cell_type": "code",
   "execution_count": 16,
   "metadata": {},
   "outputs": [
    {
     "output_type": "execute_result",
     "data": {
      "text/plain": "                carat       price          \n                  min max    mean mean_kilo\ncut       color                            \nFair      D       0.2 3.4 4,291.1       4.3\n          E       0.2 2.0 3,682.3       3.7\n          F       0.2 2.6 3,827.0       3.8\n          G       0.2 2.6 4,239.3       4.2\n          H       0.3 4.1 5,135.7       5.1\n          I       0.4 3.0 4,685.4       4.7\n          J       0.3 5.0 4,975.7       5.0\nGood      D       0.2 2.0 3,405.4       3.4\n          E       0.2 3.0 3,423.6       3.4\n          F       0.2 2.7 3,495.8       3.5\n          G       0.2 2.8 4,123.5       4.1\n          H       0.2 3.0 4,276.3       4.3\n          I       0.3 3.0 5,078.5       5.1\n          J       0.3 3.0 4,574.2       4.6\nIdeal     D       0.2 2.8 2,629.1       2.6\n          E       0.2 2.3 2,597.6       2.6\n          F       0.2 2.5 3,374.9       3.4\n          G       0.2 2.5 3,720.7       3.7\n          H       0.2 3.5 3,889.3       3.9\n          I       0.2 3.2 4,452.0       4.5\n          J       0.2 3.0 4,918.2       4.9\nPremium   D       0.2 2.6 3,631.3       3.6\n          E       0.2 3.0 3,538.9       3.5\n          F       0.2 3.0 4,324.9       4.3\n          G       0.2 3.0 4,500.7       4.5\n          H       0.2 3.2 5,216.7       5.2\n          I       0.2 4.0 5,946.2       5.9\n          J       0.3 4.0 6,294.6       6.3\nVery Good D       0.2 2.6 3,470.5       3.5\n          E       0.2 2.5 3,214.7       3.2\n          F       0.2 2.5 3,778.8       3.8\n          G       0.2 2.5 3,872.8       3.9\n          H       0.2 3.0 4,535.4       4.5\n          I       0.2 4.0 5,255.9       5.3\n          J       0.2 2.7 5,103.5       5.1",
      "text/html": "<div>\n<style scoped>\n    .dataframe tbody tr th:only-of-type {\n        vertical-align: middle;\n    }\n\n    .dataframe tbody tr th {\n        vertical-align: top;\n    }\n\n    .dataframe thead tr th {\n        text-align: left;\n    }\n\n    .dataframe thead tr:last-of-type th {\n        text-align: right;\n    }\n</style>\n<table border=\"1\" class=\"dataframe\">\n  <thead>\n    <tr>\n      <th></th>\n      <th></th>\n      <th colspan=\"2\" halign=\"left\">carat</th>\n      <th colspan=\"2\" halign=\"left\">price</th>\n    </tr>\n    <tr>\n      <th></th>\n      <th></th>\n      <th>min</th>\n      <th>max</th>\n      <th>mean</th>\n      <th>mean_kilo</th>\n    </tr>\n    <tr>\n      <th>cut</th>\n      <th>color</th>\n      <th></th>\n      <th></th>\n      <th></th>\n      <th></th>\n    </tr>\n  </thead>\n  <tbody>\n    <tr>\n      <th rowspan=\"7\" valign=\"top\">Fair</th>\n      <th>D</th>\n      <td>0.2</td>\n      <td>3.4</td>\n      <td>4,291.1</td>\n      <td>4.3</td>\n    </tr>\n    <tr>\n      <th>E</th>\n      <td>0.2</td>\n      <td>2.0</td>\n      <td>3,682.3</td>\n      <td>3.7</td>\n    </tr>\n    <tr>\n      <th>F</th>\n      <td>0.2</td>\n      <td>2.6</td>\n      <td>3,827.0</td>\n      <td>3.8</td>\n    </tr>\n    <tr>\n      <th>G</th>\n      <td>0.2</td>\n      <td>2.6</td>\n      <td>4,239.3</td>\n      <td>4.2</td>\n    </tr>\n    <tr>\n      <th>H</th>\n      <td>0.3</td>\n      <td>4.1</td>\n      <td>5,135.7</td>\n      <td>5.1</td>\n    </tr>\n    <tr>\n      <th>I</th>\n      <td>0.4</td>\n      <td>3.0</td>\n      <td>4,685.4</td>\n      <td>4.7</td>\n    </tr>\n    <tr>\n      <th>J</th>\n      <td>0.3</td>\n      <td>5.0</td>\n      <td>4,975.7</td>\n      <td>5.0</td>\n    </tr>\n    <tr>\n      <th rowspan=\"7\" valign=\"top\">Good</th>\n      <th>D</th>\n      <td>0.2</td>\n      <td>2.0</td>\n      <td>3,405.4</td>\n      <td>3.4</td>\n    </tr>\n    <tr>\n      <th>E</th>\n      <td>0.2</td>\n      <td>3.0</td>\n      <td>3,423.6</td>\n      <td>3.4</td>\n    </tr>\n    <tr>\n      <th>F</th>\n      <td>0.2</td>\n      <td>2.7</td>\n      <td>3,495.8</td>\n      <td>3.5</td>\n    </tr>\n    <tr>\n      <th>G</th>\n      <td>0.2</td>\n      <td>2.8</td>\n      <td>4,123.5</td>\n      <td>4.1</td>\n    </tr>\n    <tr>\n      <th>H</th>\n      <td>0.2</td>\n      <td>3.0</td>\n      <td>4,276.3</td>\n      <td>4.3</td>\n    </tr>\n    <tr>\n      <th>I</th>\n      <td>0.3</td>\n      <td>3.0</td>\n      <td>5,078.5</td>\n      <td>5.1</td>\n    </tr>\n    <tr>\n      <th>J</th>\n      <td>0.3</td>\n      <td>3.0</td>\n      <td>4,574.2</td>\n      <td>4.6</td>\n    </tr>\n    <tr>\n      <th rowspan=\"7\" valign=\"top\">Ideal</th>\n      <th>D</th>\n      <td>0.2</td>\n      <td>2.8</td>\n      <td>2,629.1</td>\n      <td>2.6</td>\n    </tr>\n    <tr>\n      <th>E</th>\n      <td>0.2</td>\n      <td>2.3</td>\n      <td>2,597.6</td>\n      <td>2.6</td>\n    </tr>\n    <tr>\n      <th>F</th>\n      <td>0.2</td>\n      <td>2.5</td>\n      <td>3,374.9</td>\n      <td>3.4</td>\n    </tr>\n    <tr>\n      <th>G</th>\n      <td>0.2</td>\n      <td>2.5</td>\n      <td>3,720.7</td>\n      <td>3.7</td>\n    </tr>\n    <tr>\n      <th>H</th>\n      <td>0.2</td>\n      <td>3.5</td>\n      <td>3,889.3</td>\n      <td>3.9</td>\n    </tr>\n    <tr>\n      <th>I</th>\n      <td>0.2</td>\n      <td>3.2</td>\n      <td>4,452.0</td>\n      <td>4.5</td>\n    </tr>\n    <tr>\n      <th>J</th>\n      <td>0.2</td>\n      <td>3.0</td>\n      <td>4,918.2</td>\n      <td>4.9</td>\n    </tr>\n    <tr>\n      <th rowspan=\"7\" valign=\"top\">Premium</th>\n      <th>D</th>\n      <td>0.2</td>\n      <td>2.6</td>\n      <td>3,631.3</td>\n      <td>3.6</td>\n    </tr>\n    <tr>\n      <th>E</th>\n      <td>0.2</td>\n      <td>3.0</td>\n      <td>3,538.9</td>\n      <td>3.5</td>\n    </tr>\n    <tr>\n      <th>F</th>\n      <td>0.2</td>\n      <td>3.0</td>\n      <td>4,324.9</td>\n      <td>4.3</td>\n    </tr>\n    <tr>\n      <th>G</th>\n      <td>0.2</td>\n      <td>3.0</td>\n      <td>4,500.7</td>\n      <td>4.5</td>\n    </tr>\n    <tr>\n      <th>H</th>\n      <td>0.2</td>\n      <td>3.2</td>\n      <td>5,216.7</td>\n      <td>5.2</td>\n    </tr>\n    <tr>\n      <th>I</th>\n      <td>0.2</td>\n      <td>4.0</td>\n      <td>5,946.2</td>\n      <td>5.9</td>\n    </tr>\n    <tr>\n      <th>J</th>\n      <td>0.3</td>\n      <td>4.0</td>\n      <td>6,294.6</td>\n      <td>6.3</td>\n    </tr>\n    <tr>\n      <th rowspan=\"7\" valign=\"top\">Very Good</th>\n      <th>D</th>\n      <td>0.2</td>\n      <td>2.6</td>\n      <td>3,470.5</td>\n      <td>3.5</td>\n    </tr>\n    <tr>\n      <th>E</th>\n      <td>0.2</td>\n      <td>2.5</td>\n      <td>3,214.7</td>\n      <td>3.2</td>\n    </tr>\n    <tr>\n      <th>F</th>\n      <td>0.2</td>\n      <td>2.5</td>\n      <td>3,778.8</td>\n      <td>3.8</td>\n    </tr>\n    <tr>\n      <th>G</th>\n      <td>0.2</td>\n      <td>2.5</td>\n      <td>3,872.8</td>\n      <td>3.9</td>\n    </tr>\n    <tr>\n      <th>H</th>\n      <td>0.2</td>\n      <td>3.0</td>\n      <td>4,535.4</td>\n      <td>4.5</td>\n    </tr>\n    <tr>\n      <th>I</th>\n      <td>0.2</td>\n      <td>4.0</td>\n      <td>5,255.9</td>\n      <td>5.3</td>\n    </tr>\n    <tr>\n      <th>J</th>\n      <td>0.2</td>\n      <td>2.7</td>\n      <td>5,103.5</td>\n      <td>5.1</td>\n    </tr>\n  </tbody>\n</table>\n</div>"
     },
     "metadata": {},
     "execution_count": 16
    }
   ],
   "source": [
    "df.groupby(['cut','color']).aggregate(dict_agg)"
   ]
  },
  {
   "cell_type": "code",
   "execution_count": 17,
   "metadata": {},
   "outputs": [],
   "source": [
    "def f_filter(x):\n",
    "    return mean_kilo(x['price']) > 6"
   ]
  },
  {
   "cell_type": "code",
   "execution_count": 18,
   "metadata": {},
   "outputs": [
    {
     "output_type": "execute_result",
     "data": {
      "text/plain": "       carat      cut color clarity  depth  table  price   x   y   z\n56       0.3  Premium     J     SI2   59.3   61.0    405 4.4 4.4 2.6\n324      1.0  Premium     J     SI2   62.3   58.0   2801 6.5 6.3 4.0\n366      0.9  Premium     J     SI2   61.9   57.0   2807 6.2 6.2 3.8\n525      1.2  Premium     J      I1   60.2   61.0   2825 6.9 6.8 4.1\n744      0.3  Premium     J     VS1   62.8   58.0    557 4.4 4.4 2.8\n...      ...      ...   ...     ...    ...    ...    ...  ..  ..  ..\n53031    1.0  Premium     J      I1   60.7   59.0   2602 6.4 6.4 3.9\n53494    1.0  Premium     J     SI2   58.3   62.0   2683 6.5 6.4 3.8\n53498    1.0  Premium     J     SI2   59.3   56.0   2683 6.5 6.5 3.8\n53691    0.9  Premium     J     SI2   62.7   57.0   2717 6.1 6.1 3.8\n53699    0.9  Premium     J     SI2   63.0   59.0   2717 6.1 6.1 3.9\n\n[808 rows x 10 columns]",
      "text/html": "<div>\n<style scoped>\n    .dataframe tbody tr th:only-of-type {\n        vertical-align: middle;\n    }\n\n    .dataframe tbody tr th {\n        vertical-align: top;\n    }\n\n    .dataframe thead th {\n        text-align: right;\n    }\n</style>\n<table border=\"1\" class=\"dataframe\">\n  <thead>\n    <tr style=\"text-align: right;\">\n      <th></th>\n      <th>carat</th>\n      <th>cut</th>\n      <th>color</th>\n      <th>clarity</th>\n      <th>depth</th>\n      <th>table</th>\n      <th>price</th>\n      <th>x</th>\n      <th>y</th>\n      <th>z</th>\n    </tr>\n  </thead>\n  <tbody>\n    <tr>\n      <th>56</th>\n      <td>0.3</td>\n      <td>Premium</td>\n      <td>J</td>\n      <td>SI2</td>\n      <td>59.3</td>\n      <td>61.0</td>\n      <td>405</td>\n      <td>4.4</td>\n      <td>4.4</td>\n      <td>2.6</td>\n    </tr>\n    <tr>\n      <th>324</th>\n      <td>1.0</td>\n      <td>Premium</td>\n      <td>J</td>\n      <td>SI2</td>\n      <td>62.3</td>\n      <td>58.0</td>\n      <td>2801</td>\n      <td>6.5</td>\n      <td>6.3</td>\n      <td>4.0</td>\n    </tr>\n    <tr>\n      <th>366</th>\n      <td>0.9</td>\n      <td>Premium</td>\n      <td>J</td>\n      <td>SI2</td>\n      <td>61.9</td>\n      <td>57.0</td>\n      <td>2807</td>\n      <td>6.2</td>\n      <td>6.2</td>\n      <td>3.8</td>\n    </tr>\n    <tr>\n      <th>525</th>\n      <td>1.2</td>\n      <td>Premium</td>\n      <td>J</td>\n      <td>I1</td>\n      <td>60.2</td>\n      <td>61.0</td>\n      <td>2825</td>\n      <td>6.9</td>\n      <td>6.8</td>\n      <td>4.1</td>\n    </tr>\n    <tr>\n      <th>744</th>\n      <td>0.3</td>\n      <td>Premium</td>\n      <td>J</td>\n      <td>VS1</td>\n      <td>62.8</td>\n      <td>58.0</td>\n      <td>557</td>\n      <td>4.4</td>\n      <td>4.4</td>\n      <td>2.8</td>\n    </tr>\n    <tr>\n      <th>...</th>\n      <td>...</td>\n      <td>...</td>\n      <td>...</td>\n      <td>...</td>\n      <td>...</td>\n      <td>...</td>\n      <td>...</td>\n      <td>...</td>\n      <td>...</td>\n      <td>...</td>\n    </tr>\n    <tr>\n      <th>53031</th>\n      <td>1.0</td>\n      <td>Premium</td>\n      <td>J</td>\n      <td>I1</td>\n      <td>60.7</td>\n      <td>59.0</td>\n      <td>2602</td>\n      <td>6.4</td>\n      <td>6.4</td>\n      <td>3.9</td>\n    </tr>\n    <tr>\n      <th>53494</th>\n      <td>1.0</td>\n      <td>Premium</td>\n      <td>J</td>\n      <td>SI2</td>\n      <td>58.3</td>\n      <td>62.0</td>\n      <td>2683</td>\n      <td>6.5</td>\n      <td>6.4</td>\n      <td>3.8</td>\n    </tr>\n    <tr>\n      <th>53498</th>\n      <td>1.0</td>\n      <td>Premium</td>\n      <td>J</td>\n      <td>SI2</td>\n      <td>59.3</td>\n      <td>56.0</td>\n      <td>2683</td>\n      <td>6.5</td>\n      <td>6.5</td>\n      <td>3.8</td>\n    </tr>\n    <tr>\n      <th>53691</th>\n      <td>0.9</td>\n      <td>Premium</td>\n      <td>J</td>\n      <td>SI2</td>\n      <td>62.7</td>\n      <td>57.0</td>\n      <td>2717</td>\n      <td>6.1</td>\n      <td>6.1</td>\n      <td>3.8</td>\n    </tr>\n    <tr>\n      <th>53699</th>\n      <td>0.9</td>\n      <td>Premium</td>\n      <td>J</td>\n      <td>SI2</td>\n      <td>63.0</td>\n      <td>59.0</td>\n      <td>2717</td>\n      <td>6.1</td>\n      <td>6.1</td>\n      <td>3.9</td>\n    </tr>\n  </tbody>\n</table>\n<p>808 rows × 10 columns</p>\n</div>"
     },
     "metadata": {},
     "execution_count": 18
    }
   ],
   "source": [
    "df.groupby(['cut','color']).filter(f_filter)"
   ]
  },
  {
   "cell_type": "code",
   "execution_count": 19,
   "metadata": {},
   "outputs": [
    {
     "output_type": "execute_result",
     "data": {
      "text/plain": "array(['Premium'], dtype=object)"
     },
     "metadata": {},
     "execution_count": 19
    }
   ],
   "source": [
    "df.groupby(['cut','color']).filter(f_filter)['cut'].unique()"
   ]
  },
  {
   "cell_type": "code",
   "execution_count": 20,
   "metadata": {},
   "outputs": [
    {
     "output_type": "execute_result",
     "data": {
      "text/plain": "       carat      cut color clarity  depth  table  price   x   y   z\n56       0.3  Premium     J     SI2   59.3   61.0    405 4.4 4.4 2.6\n324      1.0  Premium     J     SI2   62.3   58.0   2801 6.5 6.3 4.0\n366      0.9  Premium     J     SI2   61.9   57.0   2807 6.2 6.2 3.8\n525      1.2  Premium     J      I1   60.2   61.0   2825 6.9 6.8 4.1\n744      0.3  Premium     J     VS1   62.8   58.0    557 4.4 4.4 2.8\n...      ...      ...   ...     ...    ...    ...    ...  ..  ..  ..\n53031    1.0  Premium     J      I1   60.7   59.0   2602 6.4 6.4 3.9\n53494    1.0  Premium     J     SI2   58.3   62.0   2683 6.5 6.4 3.8\n53498    1.0  Premium     J     SI2   59.3   56.0   2683 6.5 6.5 3.8\n53691    0.9  Premium     J     SI2   62.7   57.0   2717 6.1 6.1 3.8\n53699    0.9  Premium     J     SI2   63.0   59.0   2717 6.1 6.1 3.9\n\n[808 rows x 10 columns]",
      "text/html": "<div>\n<style scoped>\n    .dataframe tbody tr th:only-of-type {\n        vertical-align: middle;\n    }\n\n    .dataframe tbody tr th {\n        vertical-align: top;\n    }\n\n    .dataframe thead th {\n        text-align: right;\n    }\n</style>\n<table border=\"1\" class=\"dataframe\">\n  <thead>\n    <tr style=\"text-align: right;\">\n      <th></th>\n      <th>carat</th>\n      <th>cut</th>\n      <th>color</th>\n      <th>clarity</th>\n      <th>depth</th>\n      <th>table</th>\n      <th>price</th>\n      <th>x</th>\n      <th>y</th>\n      <th>z</th>\n    </tr>\n  </thead>\n  <tbody>\n    <tr>\n      <th>56</th>\n      <td>0.3</td>\n      <td>Premium</td>\n      <td>J</td>\n      <td>SI2</td>\n      <td>59.3</td>\n      <td>61.0</td>\n      <td>405</td>\n      <td>4.4</td>\n      <td>4.4</td>\n      <td>2.6</td>\n    </tr>\n    <tr>\n      <th>324</th>\n      <td>1.0</td>\n      <td>Premium</td>\n      <td>J</td>\n      <td>SI2</td>\n      <td>62.3</td>\n      <td>58.0</td>\n      <td>2801</td>\n      <td>6.5</td>\n      <td>6.3</td>\n      <td>4.0</td>\n    </tr>\n    <tr>\n      <th>366</th>\n      <td>0.9</td>\n      <td>Premium</td>\n      <td>J</td>\n      <td>SI2</td>\n      <td>61.9</td>\n      <td>57.0</td>\n      <td>2807</td>\n      <td>6.2</td>\n      <td>6.2</td>\n      <td>3.8</td>\n    </tr>\n    <tr>\n      <th>525</th>\n      <td>1.2</td>\n      <td>Premium</td>\n      <td>J</td>\n      <td>I1</td>\n      <td>60.2</td>\n      <td>61.0</td>\n      <td>2825</td>\n      <td>6.9</td>\n      <td>6.8</td>\n      <td>4.1</td>\n    </tr>\n    <tr>\n      <th>744</th>\n      <td>0.3</td>\n      <td>Premium</td>\n      <td>J</td>\n      <td>VS1</td>\n      <td>62.8</td>\n      <td>58.0</td>\n      <td>557</td>\n      <td>4.4</td>\n      <td>4.4</td>\n      <td>2.8</td>\n    </tr>\n    <tr>\n      <th>...</th>\n      <td>...</td>\n      <td>...</td>\n      <td>...</td>\n      <td>...</td>\n      <td>...</td>\n      <td>...</td>\n      <td>...</td>\n      <td>...</td>\n      <td>...</td>\n      <td>...</td>\n    </tr>\n    <tr>\n      <th>53031</th>\n      <td>1.0</td>\n      <td>Premium</td>\n      <td>J</td>\n      <td>I1</td>\n      <td>60.7</td>\n      <td>59.0</td>\n      <td>2602</td>\n      <td>6.4</td>\n      <td>6.4</td>\n      <td>3.9</td>\n    </tr>\n    <tr>\n      <th>53494</th>\n      <td>1.0</td>\n      <td>Premium</td>\n      <td>J</td>\n      <td>SI2</td>\n      <td>58.3</td>\n      <td>62.0</td>\n      <td>2683</td>\n      <td>6.5</td>\n      <td>6.4</td>\n      <td>3.8</td>\n    </tr>\n    <tr>\n      <th>53498</th>\n      <td>1.0</td>\n      <td>Premium</td>\n      <td>J</td>\n      <td>SI2</td>\n      <td>59.3</td>\n      <td>56.0</td>\n      <td>2683</td>\n      <td>6.5</td>\n      <td>6.5</td>\n      <td>3.8</td>\n    </tr>\n    <tr>\n      <th>53691</th>\n      <td>0.9</td>\n      <td>Premium</td>\n      <td>J</td>\n      <td>SI2</td>\n      <td>62.7</td>\n      <td>57.0</td>\n      <td>2717</td>\n      <td>6.1</td>\n      <td>6.1</td>\n      <td>3.8</td>\n    </tr>\n    <tr>\n      <th>53699</th>\n      <td>0.9</td>\n      <td>Premium</td>\n      <td>J</td>\n      <td>SI2</td>\n      <td>63.0</td>\n      <td>59.0</td>\n      <td>2717</td>\n      <td>6.1</td>\n      <td>6.1</td>\n      <td>3.9</td>\n    </tr>\n  </tbody>\n</table>\n<p>808 rows × 10 columns</p>\n</div>"
     },
     "metadata": {},
     "execution_count": 20
    }
   ],
   "source": [
    "df.groupby(['cut','color']).filter(lambda x: (np.mean(x['price'])/1000)>6)"
   ]
  },
  {
   "cell_type": "code",
   "execution_count": 21,
   "metadata": {},
   "outputs": [
    {
     "output_type": "execute_result",
     "data": {
      "text/plain": "array(['Premium'], dtype=object)"
     },
     "metadata": {},
     "execution_count": 21
    }
   ],
   "source": [
    "df.groupby(['cut','color']).filter(lambda x: (np.mean(x['price'])/1000)>6)['cut'].unique()"
   ]
  }
 ],
 "metadata": {
  "language_info": {
   "codemirror_mode": {
    "name": "ipython",
    "version": 3
   },
   "file_extension": ".py",
   "mimetype": "text/x-python",
   "name": "python",
   "nbconvert_exporter": "python",
   "pygments_lexer": "ipython3",
   "version": "3.7.4-final"
  },
  "orig_nbformat": 2,
  "kernelspec": {
   "name": "python37464bitanacondaconda74954a3f106b47d99d44e5fb8ca66932",
   "display_name": "Python 3.7.4 64-bit ('Anaconda': conda)"
  }
 },
 "nbformat": 4,
 "nbformat_minor": 2
}