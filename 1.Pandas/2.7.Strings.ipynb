{
 "cells": [
  {
   "cell_type": "code",
   "execution_count": 1,
   "metadata": {},
   "outputs": [],
   "source": [
    "import pandas as pd"
   ]
  },
  {
   "cell_type": "code",
   "execution_count": 4,
   "metadata": {},
   "outputs": [],
   "source": [
    "data = {'names':['Sara Moreno 34',\n",
    "                 'jUAn GOMez 23',\n",
    "                 'CArlos mArtinez 89',\n",
    "                 'Alfredo VelaZques 3',\n",
    "                 'luis Mora 56',\n",
    "                 '@freddier #platzi 10',pd.NA]}"
   ]
  },
  {
   "cell_type": "code",
   "execution_count": 5,
   "metadata": {},
   "outputs": [
    {
     "output_type": "execute_result",
     "data": {
      "text/plain": "                  names\n0        Sara Moreno 34\n1         jUAn GOMez 23\n2    CArlos mArtinez 89\n3   Alfredo VelaZques 3\n4          luis Mora 56\n5  @freddier #platzi 10\n6                  <NA>",
      "text/html": "<div>\n<style scoped>\n    .dataframe tbody tr th:only-of-type {\n        vertical-align: middle;\n    }\n\n    .dataframe tbody tr th {\n        vertical-align: top;\n    }\n\n    .dataframe thead th {\n        text-align: right;\n    }\n</style>\n<table border=\"1\" class=\"dataframe\">\n  <thead>\n    <tr style=\"text-align: right;\">\n      <th></th>\n      <th>names</th>\n    </tr>\n  </thead>\n  <tbody>\n    <tr>\n      <th>0</th>\n      <td>Sara Moreno 34</td>\n    </tr>\n    <tr>\n      <th>1</th>\n      <td>jUAn GOMez 23</td>\n    </tr>\n    <tr>\n      <th>2</th>\n      <td>CArlos mArtinez 89</td>\n    </tr>\n    <tr>\n      <th>3</th>\n      <td>Alfredo VelaZques 3</td>\n    </tr>\n    <tr>\n      <th>4</th>\n      <td>luis Mora 56</td>\n    </tr>\n    <tr>\n      <th>5</th>\n      <td>@freddier #platzi 10</td>\n    </tr>\n    <tr>\n      <th>6</th>\n      <td>&lt;NA&gt;</td>\n    </tr>\n  </tbody>\n</table>\n</div>"
     },
     "metadata": {},
     "execution_count": 5
    }
   ],
   "source": [
    "df = pd.DataFrame(data)\n",
    "df"
   ]
  },
  {
   "cell_type": "code",
   "execution_count": 6,
   "metadata": {},
   "outputs": [
    {
     "output_type": "execute_result",
     "data": {
      "text/plain": "0          sara moreno 34\n1           juan gomez 23\n2      carlos martinez 89\n3     alfredo velazques 3\n4            luis mora 56\n5    @freddier #platzi 10\n6                    <NA>\nName: names, dtype: object"
     },
     "metadata": {},
     "execution_count": 6
    }
   ],
   "source": [
    "df['names'].str.lower()      #Minusculas"
   ]
  },
  {
   "cell_type": "code",
   "execution_count": 7,
   "metadata": {},
   "outputs": [
    {
     "output_type": "execute_result",
     "data": {
      "text/plain": "0          SARA MORENO 34\n1           JUAN GOMEZ 23\n2      CARLOS MARTINEZ 89\n3     ALFREDO VELAZQUES 3\n4            LUIS MORA 56\n5    @FREDDIER #PLATZI 10\n6                    <NA>\nName: names, dtype: object"
     },
     "metadata": {},
     "execution_count": 7
    }
   ],
   "source": [
    "df['names'].str.upper()        #Mayusc"
   ]
  },
  {
   "cell_type": "code",
   "execution_count": 8,
   "metadata": {},
   "outputs": [
    {
     "output_type": "execute_result",
     "data": {
      "text/plain": "0          Sara moreno 34\n1           Juan gomez 23\n2      Carlos martinez 89\n3     Alfredo velazques 3\n4            Luis mora 56\n5    @freddier #platzi 10\n6                    <NA>\nName: names, dtype: object"
     },
     "metadata": {},
     "execution_count": 8
    }
   ],
   "source": [
    "df['names'].str.capitalize()      #Primera Letra Mayusc"
   ]
  },
  {
   "cell_type": "code",
   "execution_count": 9,
   "metadata": {},
   "outputs": [
    {
     "output_type": "execute_result",
     "data": {
      "text/plain": "0      14\n1      13\n2      18\n3      19\n4      12\n5      20\n6    <NA>\nName: names, dtype: object"
     },
     "metadata": {},
     "execution_count": 9
    }
   ],
   "source": [
    "df['names'].str.len()          #Longitud String"
   ]
  },
  {
   "cell_type": "code",
   "execution_count": 13,
   "metadata": {},
   "outputs": [
    {
     "output_type": "execute_result",
     "data": {
      "text/plain": "0          [Sara, Moreno, 34]\n1           [jUAn, GOMez, 23]\n2      [CArlos, mArtinez, 89]\n3     [Alfredo, VelaZques, 3]\n4            [luis, Mora, 56]\n5    [@freddier, #platzi, 10]\n6                        <NA>\nName: names, dtype: object"
     },
     "metadata": {},
     "execution_count": 13
    }
   ],
   "source": [
    "df['names'].str.split(' ')        #Dividimos por espacios "
   ]
  },
  {
   "cell_type": "code",
   "execution_count": 14,
   "metadata": {},
   "outputs": [
    {
     "output_type": "execute_result",
     "data": {
      "text/plain": "0    Sara \n1    jUAn \n2    CArlo\n3    Alfre\n4    luis \n5    @fred\n6     <NA>\nName: names, dtype: object"
     },
     "metadata": {},
     "execution_count": 14
    }
   ],
   "source": [
    "df['names'].str[:5]"
   ]
  },
  {
   "cell_type": "code",
   "execution_count": 15,
   "metadata": {},
   "outputs": [
    {
     "output_type": "execute_result",
     "data": {
      "text/plain": "0    no 34\n1    ez 23\n2    ez 89\n3    ues 3\n4    ra 56\n5    zi 10\n6     <NA>\nName: names, dtype: object"
     },
     "metadata": {},
     "execution_count": 15
    }
   ],
   "source": [
    "df['names'].str[-5:]"
   ]
  },
  {
   "cell_type": "code",
   "execution_count": 16,
   "metadata": {},
   "outputs": [
    {
     "output_type": "execute_result",
     "data": {
      "text/plain": "0          Sara Moreno 34\n1           jUAn GOMez 23\n2      CArlos mArtinez 89\n3     Antonio VelaZques 3\n4            luis Mora 56\n5    @freddier #platzi 10\n6                    <NA>\nName: names, dtype: object"
     },
     "metadata": {},
     "execution_count": 16
    }
   ],
   "source": [
    "df['names'].str.replace('Alfredo','Antonio')      #Reemplazar"
   ]
  },
  {
   "cell_type": "code",
   "execution_count": 17,
   "metadata": {},
   "outputs": [
    {
     "output_type": "execute_result",
     "data": {
      "text/plain": "0    [ara]\n1       []\n2       []\n3       []\n4       []\n5       []\n6     <NA>\nName: names, dtype: object"
     },
     "metadata": {},
     "execution_count": 17
    }
   ],
   "source": [
    "df['names'].str.findall('ara')"
   ]
  },
  {
   "cell_type": "code",
   "execution_count": 18,
   "metadata": {},
   "outputs": [
    {
     "output_type": "execute_result",
     "data": {
      "text/plain": "0     True\n1    False\n2    False\n3    False\n4     True\n5    False\n6     <NA>\nName: names, dtype: object"
     },
     "metadata": {},
     "execution_count": 18
    }
   ],
   "source": [
    "df['names'].str.contains('or')"
   ]
  },
  {
   "cell_type": "code",
   "execution_count": 19,
   "metadata": {},
   "outputs": [
    {
     "output_type": "execute_result",
     "data": {
      "text/plain": "0       2\n1       1\n2       2\n3       2\n4       1\n5       1\n6    <NA>\nName: names, dtype: object"
     },
     "metadata": {},
     "execution_count": 19
    }
   ],
   "source": [
    "df['names'].str.lower().str.count('a')"
   ]
  },
  {
   "cell_type": "code",
   "execution_count": 31,
   "metadata": {},
   "outputs": [
    {
     "output_type": "execute_result",
     "data": {
      "text/plain": "0     34\n1     23\n2     89\n3      3\n4     56\n5     10\n6    NaN\nName: names, dtype: object"
     },
     "metadata": {},
     "execution_count": 31
    }
   ],
   "source": [
    "df['names'].str.extract('([0-9]+)', expand=False)      #Extraer con re "
   ]
  },
  {
   "cell_type": "code",
   "execution_count": 32,
   "metadata": {},
   "outputs": [
    {
     "output_type": "execute_result",
     "data": {
      "text/plain": "0         Sara Moreno 34\n1          jUAn GOMez 23\n2     CArlos mArtinez 89\n3    Alfredo VelaZques 3\n4           luis Mora 56\n5             #platzi 10\n6                   <NA>\nName: names, dtype: object"
     },
     "metadata": {},
     "execution_count": 32
    }
   ],
   "source": [
    "df['names'].str.replace('@[^\\s]+','')"
   ]
  }
 ],
 "metadata": {
  "language_info": {
   "codemirror_mode": {
    "name": "ipython",
    "version": 3
   },
   "file_extension": ".py",
   "mimetype": "text/x-python",
   "name": "python",
   "nbconvert_exporter": "python",
   "pygments_lexer": "ipython3",
   "version": "3.7.4-final"
  },
  "orig_nbformat": 2,
  "kernelspec": {
   "name": "python37464bitanacondaconda74954a3f106b47d99d44e5fb8ca66932",
   "display_name": "Python 3.7.4 64-bit ('Anaconda': conda)"
  }
 },
 "nbformat": 4,
 "nbformat_minor": 2
}