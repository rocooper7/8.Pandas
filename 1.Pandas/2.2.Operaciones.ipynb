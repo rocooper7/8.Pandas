{
 "cells": [
  {
   "cell_type": "code",
   "execution_count": 11,
   "metadata": {},
   "outputs": [],
   "source": [
    "import pandas as pd\n",
    "import numpy as np"
   ]
  },
  {
   "cell_type": "code",
   "execution_count": 12,
   "metadata": {},
   "outputs": [
    {
     "output_type": "execute_result",
     "data": {
      "text/plain": "             timestamp  cnt   t1   t2    hum  wind_speed  weather_code  \\\n0  2015-01-04 00:00:00  182  3.0  2.0   93.0         6.0           3.0   \n1  2015-01-04 01:00:00  138  3.0  2.5   93.0         5.0           1.0   \n2  2015-01-04 02:00:00  134  2.5  2.5   96.5         0.0           1.0   \n3  2015-01-04 03:00:00   72  2.0  2.0  100.0         0.0           1.0   \n4  2015-01-04 04:00:00   47  2.0  0.0   93.0         6.5           1.0   \n\n   is_holiday  is_weekend  season  \n0         0.0         1.0     3.0  \n1         0.0         1.0     3.0  \n2         0.0         1.0     3.0  \n3         0.0         1.0     3.0  \n4         0.0         1.0     3.0  ",
      "text/html": "<div>\n<style scoped>\n    .dataframe tbody tr th:only-of-type {\n        vertical-align: middle;\n    }\n\n    .dataframe tbody tr th {\n        vertical-align: top;\n    }\n\n    .dataframe thead th {\n        text-align: right;\n    }\n</style>\n<table border=\"1\" class=\"dataframe\">\n  <thead>\n    <tr style=\"text-align: right;\">\n      <th></th>\n      <th>timestamp</th>\n      <th>cnt</th>\n      <th>t1</th>\n      <th>t2</th>\n      <th>hum</th>\n      <th>wind_speed</th>\n      <th>weather_code</th>\n      <th>is_holiday</th>\n      <th>is_weekend</th>\n      <th>season</th>\n    </tr>\n  </thead>\n  <tbody>\n    <tr>\n      <th>0</th>\n      <td>2015-01-04 00:00:00</td>\n      <td>182</td>\n      <td>3.0</td>\n      <td>2.0</td>\n      <td>93.0</td>\n      <td>6.0</td>\n      <td>3.0</td>\n      <td>0.0</td>\n      <td>1.0</td>\n      <td>3.0</td>\n    </tr>\n    <tr>\n      <th>1</th>\n      <td>2015-01-04 01:00:00</td>\n      <td>138</td>\n      <td>3.0</td>\n      <td>2.5</td>\n      <td>93.0</td>\n      <td>5.0</td>\n      <td>1.0</td>\n      <td>0.0</td>\n      <td>1.0</td>\n      <td>3.0</td>\n    </tr>\n    <tr>\n      <th>2</th>\n      <td>2015-01-04 02:00:00</td>\n      <td>134</td>\n      <td>2.5</td>\n      <td>2.5</td>\n      <td>96.5</td>\n      <td>0.0</td>\n      <td>1.0</td>\n      <td>0.0</td>\n      <td>1.0</td>\n      <td>3.0</td>\n    </tr>\n    <tr>\n      <th>3</th>\n      <td>2015-01-04 03:00:00</td>\n      <td>72</td>\n      <td>2.0</td>\n      <td>2.0</td>\n      <td>100.0</td>\n      <td>0.0</td>\n      <td>1.0</td>\n      <td>0.0</td>\n      <td>1.0</td>\n      <td>3.0</td>\n    </tr>\n    <tr>\n      <th>4</th>\n      <td>2015-01-04 04:00:00</td>\n      <td>47</td>\n      <td>2.0</td>\n      <td>0.0</td>\n      <td>93.0</td>\n      <td>6.5</td>\n      <td>1.0</td>\n      <td>0.0</td>\n      <td>1.0</td>\n      <td>3.0</td>\n    </tr>\n  </tbody>\n</table>\n</div>"
     },
     "metadata": {},
     "execution_count": 12
    }
   ],
   "source": [
    "df_lmerged = pd.read_csv('london_merged.csv')\n",
    "df_lmerged.head(5)"
   ]
  },
  {
   "cell_type": "code",
   "execution_count": 13,
   "metadata": {},
   "outputs": [
    {
     "output_type": "execute_result",
     "data": {
      "text/plain": "timestamp        object\ncnt               int64\nt1              float64\nt2              float64\nhum             float64\nwind_speed      float64\nweather_code    float64\nis_holiday      float64\nis_weekend      float64\nseason          float64\ndtype: object"
     },
     "metadata": {},
     "execution_count": 13
    }
   ],
   "source": [
    "df_lmerged.dtypes"
   ]
  },
  {
   "cell_type": "code",
   "execution_count": 14,
   "metadata": {},
   "outputs": [
    {
     "output_type": "execute_result",
     "data": {
      "text/plain": "0       2015-01-04 00:00:00\n1       2015-01-04 01:00:00\n2       2015-01-04 02:00:00\n3       2015-01-04 03:00:00\n4       2015-01-04 04:00:00\n                ...        \n17409   2017-01-03 19:00:00\n17410   2017-01-03 20:00:00\n17411   2017-01-03 21:00:00\n17412   2017-01-03 22:00:00\n17413   2017-01-03 23:00:00\nName: timestamp, Length: 17414, dtype: datetime64[ns]"
     },
     "metadata": {},
     "execution_count": 14
    }
   ],
   "source": [
    "df_lmerged['timestamp'] = pd.to_datetime(df_lmerged['timestamp'])\n",
    "df_lmerged['timestamp']"
   ]
  },
  {
   "cell_type": "code",
   "execution_count": 15,
   "metadata": {},
   "outputs": [
    {
     "output_type": "execute_result",
     "data": {
      "text/plain": "0         0\n1         1\n2         2\n3         3\n4         4\n         ..\n17409    19\n17410    20\n17411    21\n17412    22\n17413    23\nName: hour, Length: 17414, dtype: int64"
     },
     "metadata": {},
     "execution_count": 15
    }
   ],
   "source": [
    "df_lmerged['hour'] = df_lmerged['timestamp'].dt.hour\n",
    "df_lmerged['hour']"
   ]
  },
  {
   "cell_type": "code",
   "execution_count": 16,
   "metadata": {},
   "outputs": [
    {
     "output_type": "execute_result",
     "data": {
      "text/plain": "   cnt   t1   t2    hum  wind_speed  weather_code  is_holiday  is_weekend  \\\n0  182  3.0  2.0   93.0         6.0           3.0         0.0         1.0   \n1  138  3.0  2.5   93.0         5.0           1.0         0.0         1.0   \n2  134  2.5  2.5   96.5         0.0           1.0         0.0         1.0   \n3   72  2.0  2.0  100.0         0.0           1.0         0.0         1.0   \n4   47  2.0  0.0   93.0         6.5           1.0         0.0         1.0   \n\n   season  hour  \n0     3.0     0  \n1     3.0     1  \n2     3.0     2  \n3     3.0     3  \n4     3.0     4  ",
      "text/html": "<div>\n<style scoped>\n    .dataframe tbody tr th:only-of-type {\n        vertical-align: middle;\n    }\n\n    .dataframe tbody tr th {\n        vertical-align: top;\n    }\n\n    .dataframe thead th {\n        text-align: right;\n    }\n</style>\n<table border=\"1\" class=\"dataframe\">\n  <thead>\n    <tr style=\"text-align: right;\">\n      <th></th>\n      <th>cnt</th>\n      <th>t1</th>\n      <th>t2</th>\n      <th>hum</th>\n      <th>wind_speed</th>\n      <th>weather_code</th>\n      <th>is_holiday</th>\n      <th>is_weekend</th>\n      <th>season</th>\n      <th>hour</th>\n    </tr>\n  </thead>\n  <tbody>\n    <tr>\n      <th>0</th>\n      <td>182</td>\n      <td>3.0</td>\n      <td>2.0</td>\n      <td>93.0</td>\n      <td>6.0</td>\n      <td>3.0</td>\n      <td>0.0</td>\n      <td>1.0</td>\n      <td>3.0</td>\n      <td>0</td>\n    </tr>\n    <tr>\n      <th>1</th>\n      <td>138</td>\n      <td>3.0</td>\n      <td>2.5</td>\n      <td>93.0</td>\n      <td>5.0</td>\n      <td>1.0</td>\n      <td>0.0</td>\n      <td>1.0</td>\n      <td>3.0</td>\n      <td>1</td>\n    </tr>\n    <tr>\n      <th>2</th>\n      <td>134</td>\n      <td>2.5</td>\n      <td>2.5</td>\n      <td>96.5</td>\n      <td>0.0</td>\n      <td>1.0</td>\n      <td>0.0</td>\n      <td>1.0</td>\n      <td>3.0</td>\n      <td>2</td>\n    </tr>\n    <tr>\n      <th>3</th>\n      <td>72</td>\n      <td>2.0</td>\n      <td>2.0</td>\n      <td>100.0</td>\n      <td>0.0</td>\n      <td>1.0</td>\n      <td>0.0</td>\n      <td>1.0</td>\n      <td>3.0</td>\n      <td>3</td>\n    </tr>\n    <tr>\n      <th>4</th>\n      <td>47</td>\n      <td>2.0</td>\n      <td>0.0</td>\n      <td>93.0</td>\n      <td>6.5</td>\n      <td>1.0</td>\n      <td>0.0</td>\n      <td>1.0</td>\n      <td>3.0</td>\n      <td>4</td>\n    </tr>\n  </tbody>\n</table>\n</div>"
     },
     "metadata": {},
     "execution_count": 16
    }
   ],
   "source": [
    "df = df_lmerged.iloc[:, 1:]\n",
    "df.head(5)"
   ]
  },
  {
   "cell_type": "code",
   "execution_count": 17,
   "metadata": {},
   "outputs": [
    {
     "output_type": "execute_result",
     "data": {
      "text/plain": "0         9.008221\n1         9.867648\n2        10.000000\n3        10.000000\n4         9.013013\n           ...    \n17409    10.279387\n17410    10.923470\n17411     9.114047\n17412    10.936473\n17413    10.193503\nName: wind_speed, Length: 17414, dtype: float64"
     },
     "metadata": {},
     "execution_count": 17
    }
   ],
   "source": [
    "df['wind_speed']**2 + 10       #Operaciones normales a una columna \n",
    "np.sin(df['wind_speed']**2) + 10    #Operaciones mas complejas como seno "
   ]
  },
  {
   "cell_type": "code",
   "execution_count": 18,
   "metadata": {},
   "outputs": [
    {
     "output_type": "execute_result",
     "data": {
      "text/plain": "0        1.0\n1        NaN\n2        0.0\n3        NaN\n4        2.0\n        ... \n17409    NaN\n17410    4.0\n17411    NaN\n17412    4.0\n17413    NaN\nLength: 17414, dtype: float64"
     },
     "metadata": {},
     "execution_count": 18
    }
   ],
   "source": [
    "#df['t1']-df['t2']\n",
    "#df['t1'].iloc[::2]        # .iloc[::2]Separa filas de 2 en dos \n",
    "df['t1'].iloc[::2]-df['t2']     #Resta los pares y los demas los pone en NAN       "
   ]
  },
  {
   "cell_type": "code",
   "execution_count": 19,
   "metadata": {},
   "outputs": [
    {
     "output_type": "execute_result",
     "data": {
      "text/plain": "0           1.0\n1         997.5\n2         997.5\n3           0.0\n4        1000.0\n          ...  \n17409       4.0\n17410     999.0\n17411     998.5\n17412       4.0\n17413     999.0\nLength: 17414, dtype: float64"
     },
     "metadata": {},
     "execution_count": 19
    }
   ],
   "source": [
    "df['t1'].iloc[::3].sub(df['t2'], fill_value = 1000)     #Ahora los valores nulos los rellenamos con 1000 y se restan con t2 "
   ]
  },
  {
   "cell_type": "markdown",
   "metadata": {},
   "source": [
    "## \n",
    "    +    add()\n",
    "    -    sub(), subtract()\n",
    "    *    mul(), multiply()\n",
    "    /    truediv(), div(), divide()\n",
    "    //   floordiv()\n",
    "    %    mod()\n",
    "    **   pow()"
   ]
  },
  {
   "cell_type": "code",
   "execution_count": 20,
   "metadata": {},
   "outputs": [
    {
     "output_type": "execute_result",
     "data": {
      "text/plain": "0        1.500000\n1        1.200000\n2        1.000000\n3        1.000000\n4             inf\n           ...   \n17409    5.000000\n17410    5.000000\n17411    3.666667\n17412    3.666667\n17413    5.000000\nLength: 17414, dtype: float64"
     },
     "metadata": {},
     "execution_count": 20
    }
   ],
   "source": [
    "df['t1']/df['t2']"
   ]
  },
  {
   "cell_type": "code",
   "execution_count": 21,
   "metadata": {},
   "outputs": [
    {
     "output_type": "execute_result",
     "data": {
      "text/plain": "3247652.777777778"
     },
     "metadata": {},
     "execution_count": 21
    }
   ],
   "source": [
    "df['t1'].dot(df['t1'])        #Algebra lineal, producto punto "
   ]
  },
  {
   "cell_type": "code",
   "execution_count": 22,
   "metadata": {},
   "outputs": [],
   "source": [
    "def fun_1(x):      #Se crea una funcion \n",
    "  y = x**2 + 1\n",
    "  return y"
   ]
  },
  {
   "cell_type": "code",
   "execution_count": 23,
   "metadata": {},
   "outputs": [
    {
     "output_type": "execute_result",
     "data": {
      "text/plain": "101"
     },
     "metadata": {},
     "execution_count": 23
    }
   ],
   "source": [
    "fun_1(10)      #Se aplica"
   ]
  },
  {
   "cell_type": "code",
   "execution_count": 24,
   "metadata": {},
   "outputs": [
    {
     "output_type": "execute_result",
     "data": {
      "text/plain": "array([-5, -4, -3, -2, -1,  0,  1,  2,  3,  4,  5])"
     },
     "metadata": {},
     "execution_count": 24
    }
   ],
   "source": [
    "np.arange(-5,6)      #Se crea un rango"
   ]
  },
  {
   "cell_type": "code",
   "execution_count": 25,
   "metadata": {},
   "outputs": [
    {
     "output_type": "execute_result",
     "data": {
      "text/plain": "(11,)"
     },
     "metadata": {},
     "execution_count": 25
    }
   ],
   "source": [
    "np.arange(-5,6).shape"
   ]
  },
  {
   "cell_type": "code",
   "execution_count": 26,
   "metadata": {},
   "outputs": [
    {
     "output_type": "execute_result",
     "data": {
      "text/plain": "array([26, 17, 10,  5,  2,  1,  2,  5, 10, 17, 26], dtype=int32)"
     },
     "metadata": {},
     "execution_count": 26
    }
   ],
   "source": [
    "fun_1(np.arange(-5,6))      #Se aplica la func con el rango "
   ]
  },
  {
   "cell_type": "code",
   "execution_count": 27,
   "metadata": {},
   "outputs": [
    {
     "output_type": "execute_result",
     "data": {
      "text/plain": "0          1\n1          2\n2          5\n3         10\n4         17\n        ... \n17409    362\n17410    401\n17411    442\n17412    485\n17413    530\nName: hour, Length: 17414, dtype: int64"
     },
     "metadata": {},
     "execution_count": 27
    }
   ],
   "source": [
    "df['hour'].apply(fun_1)    #ahora la aplicamos en una columna del df "
   ]
  },
  {
   "cell_type": "code",
   "execution_count": 29,
   "metadata": {},
   "outputs": [
    {
     "output_type": "execute_result",
     "data": {
      "text/plain": "0          1\n1          2\n2          5\n3         10\n4         17\n        ... \n17409    362\n17410    401\n17411    442\n17412    485\n17413    530\nName: hour, Length: 17414, dtype: int64"
     },
     "metadata": {},
     "execution_count": 29
    }
   ],
   "source": [
    "df['hour'].apply(lambda x: x**2 +1)     #Ahora aplicando la func lambda "
   ]
  },
  {
   "cell_type": "code",
   "execution_count": 30,
   "metadata": {},
   "outputs": [],
   "source": [
    "def fun_2(x, a=1, b=0):\n",
    "  y = x**2 + a*x + b\n",
    "  return y"
   ]
  },
  {
   "cell_type": "code",
   "execution_count": 31,
   "metadata": {},
   "outputs": [
    {
     "output_type": "execute_result",
     "data": {
      "text/plain": "200"
     },
     "metadata": {},
     "execution_count": 31
    }
   ],
   "source": [
    "fun_2(10, a = 20, b= -100)"
   ]
  },
  {
   "cell_type": "code",
   "execution_count": 32,
   "metadata": {},
   "outputs": [
    {
     "output_type": "execute_result",
     "data": {
      "text/plain": "0       -100\n1        -79\n2        -56\n3        -31\n4         -4\n        ... \n17409    641\n17410    700\n17411    761\n17412    824\n17413    889\nName: hour, Length: 17414, dtype: int64"
     },
     "metadata": {},
     "execution_count": 32
    }
   ],
   "source": [
    "df['hour'].apply(fun_2, args = (20, -100))"
   ]
  },
  {
   "cell_type": "code",
   "execution_count": 23,
   "metadata": {},
   "outputs": [
    {
     "output_type": "execute_result",
     "data": {
      "text/plain": "0       -100\n1        -79\n2        -56\n3        -31\n4         -4\n        ... \n17409    641\n17410    700\n17411    761\n17412    824\n17413    889\nName: hour, Length: 17414, dtype: int64"
     },
     "metadata": {},
     "execution_count": 23
    }
   ],
   "source": [
    "df['hour'].apply(fun_2, a =20, b= -100)"
   ]
  },
  {
   "cell_type": "code",
   "execution_count": 40,
   "metadata": {},
   "outputs": [
    {
     "output_type": "execute_result",
     "data": {
      "text/plain": "0       -100\n1        -79\n2        -56\n3        -31\n4         -4\n        ... \n17409    641\n17410    700\n17411    761\n17412    824\n17413    889\nName: hour, Length: 17414, dtype: int64"
     },
     "metadata": {},
     "execution_count": 40
    }
   ],
   "source": [
    "a,b=20,-100\n",
    "df.hour.apply(lambda x: x**2 + a*x + b)        #Funcion dos aplicada con lambda"
   ]
  },
  {
   "cell_type": "code",
   "execution_count": 24,
   "metadata": {},
   "outputs": [
    {
     "output_type": "execute_result",
     "data": {
      "text/plain": "0        276.0\n1        276.0\n2        275.5\n3        275.0\n4        275.0\n         ...  \n17409    278.0\n17410    278.0\n17411    278.5\n17412    278.5\n17413    278.0\nName: t1, Length: 17414, dtype: float64"
     },
     "metadata": {},
     "execution_count": 24
    }
   ],
   "source": [
    "df['t1'].apply(lambda x: x+273)"
   ]
  },
  {
   "cell_type": "code",
   "execution_count": 25,
   "metadata": {},
   "outputs": [
    {
     "output_type": "execute_result",
     "data": {
      "text/plain": "cnt             1143.101642\nt1                12.468091\nt2                11.520836\nhum               72.324954\nwind_speed        15.913063\nweather_code       2.722752\nis_holiday         0.022051\nis_weekend         0.285403\nseason             1.492075\nhour              11.513265\ndtype: float64"
     },
     "metadata": {},
     "execution_count": 25
    }
   ],
   "source": [
    "df.apply(lambda x: x.mean())"
   ]
  },
  {
   "cell_type": "code",
   "execution_count": 26,
   "metadata": {},
   "outputs": [
    {
     "output_type": "execute_result",
     "data": {
      "text/plain": "0         29.30\n1         24.75\n2         24.25\n3         18.40\n4         15.75\n          ...  \n17409    117.30\n17410     67.60\n17411     47.45\n17412     35.90\n17413     27.10\nLength: 17414, dtype: float64"
     },
     "metadata": {},
     "execution_count": 26
    }
   ],
   "source": [
    "df.apply(lambda x: x.mean(), axis=1)   #Por filas "
   ]
  },
  {
   "cell_type": "code",
   "execution_count": 27,
   "metadata": {},
   "outputs": [
    {
     "output_type": "execute_result",
     "data": {
      "text/plain": "0         60.787517\n1         49.012045\n2         48.779692\n3         36.249751\n4         30.642427\n            ...    \n17409    325.831944\n17410    168.138964\n17411    104.504505\n17412     70.027296\n17413     45.710320\nLength: 17414, dtype: float64"
     },
     "metadata": {},
     "execution_count": 27
    }
   ],
   "source": [
    "df.apply(lambda x: x.std(), axis=1)"
   ]
  },
  {
   "cell_type": "code",
   "execution_count": 28,
   "metadata": {},
   "outputs": [
    {
     "output_type": "execute_result",
     "data": {
      "text/plain": "0        1.0\n1        0.5\n2        0.0\n3        0.0\n4        2.0\n        ... \n17409    4.0\n17410    4.0\n17411    4.0\n17412    4.0\n17413    4.0\nLength: 17414, dtype: float64"
     },
     "metadata": {},
     "execution_count": 28
    }
   ],
   "source": [
    "df.apply(lambda x: x['t1']-x['t2'], axis=1)"
   ]
  },
  {
   "cell_type": "code",
   "execution_count": 29,
   "metadata": {},
   "outputs": [
    {
     "output_type": "execute_result",
     "data": {
      "text/plain": "         cnt      t1      t2     hum  wind_speed  weather_code  is_holiday  \\\n0      0.182  0.0030  0.0020  0.0930      0.0060         0.003         0.0   \n1      0.138  0.0030  0.0025  0.0930      0.0050         0.001         0.0   \n2      0.134  0.0025  0.0025  0.0965      0.0000         0.001         0.0   \n3      0.072  0.0020  0.0020  0.1000      0.0000         0.001         0.0   \n4      0.047  0.0020  0.0000  0.0930      0.0065         0.001         0.0   \n...      ...     ...     ...     ...         ...           ...         ...   \n17409  1.042  0.0050  0.0010  0.0810      0.0190         0.003         0.0   \n17410  0.541  0.0050  0.0010  0.0810      0.0210         0.004         0.0   \n17411  0.337  0.0055  0.0015  0.0785      0.0240         0.004         0.0   \n17412  0.224  0.0055  0.0015  0.0760      0.0230         0.004         0.0   \n17413  0.139  0.0050  0.0010  0.0760      0.0220         0.002         0.0   \n\n       is_weekend  season   hour  \n0           0.001   0.003  0.000  \n1           0.001   0.003  0.001  \n2           0.001   0.003  0.002  \n3           0.001   0.003  0.003  \n4           0.001   0.003  0.004  \n...           ...     ...    ...  \n17409       0.000   0.003  0.019  \n17410       0.000   0.003  0.020  \n17411       0.000   0.003  0.021  \n17412       0.000   0.003  0.022  \n17413       0.000   0.003  0.023  \n\n[17414 rows x 10 columns]",
      "text/html": "<div>\n<style scoped>\n    .dataframe tbody tr th:only-of-type {\n        vertical-align: middle;\n    }\n\n    .dataframe tbody tr th {\n        vertical-align: top;\n    }\n\n    .dataframe thead th {\n        text-align: right;\n    }\n</style>\n<table border=\"1\" class=\"dataframe\">\n  <thead>\n    <tr style=\"text-align: right;\">\n      <th></th>\n      <th>cnt</th>\n      <th>t1</th>\n      <th>t2</th>\n      <th>hum</th>\n      <th>wind_speed</th>\n      <th>weather_code</th>\n      <th>is_holiday</th>\n      <th>is_weekend</th>\n      <th>season</th>\n      <th>hour</th>\n    </tr>\n  </thead>\n  <tbody>\n    <tr>\n      <th>0</th>\n      <td>0.182</td>\n      <td>0.0030</td>\n      <td>0.0020</td>\n      <td>0.0930</td>\n      <td>0.0060</td>\n      <td>0.003</td>\n      <td>0.0</td>\n      <td>0.001</td>\n      <td>0.003</td>\n      <td>0.000</td>\n    </tr>\n    <tr>\n      <th>1</th>\n      <td>0.138</td>\n      <td>0.0030</td>\n      <td>0.0025</td>\n      <td>0.0930</td>\n      <td>0.0050</td>\n      <td>0.001</td>\n      <td>0.0</td>\n      <td>0.001</td>\n      <td>0.003</td>\n      <td>0.001</td>\n    </tr>\n    <tr>\n      <th>2</th>\n      <td>0.134</td>\n      <td>0.0025</td>\n      <td>0.0025</td>\n      <td>0.0965</td>\n      <td>0.0000</td>\n      <td>0.001</td>\n      <td>0.0</td>\n      <td>0.001</td>\n      <td>0.003</td>\n      <td>0.002</td>\n    </tr>\n    <tr>\n      <th>3</th>\n      <td>0.072</td>\n      <td>0.0020</td>\n      <td>0.0020</td>\n      <td>0.1000</td>\n      <td>0.0000</td>\n      <td>0.001</td>\n      <td>0.0</td>\n      <td>0.001</td>\n      <td>0.003</td>\n      <td>0.003</td>\n    </tr>\n    <tr>\n      <th>4</th>\n      <td>0.047</td>\n      <td>0.0020</td>\n      <td>0.0000</td>\n      <td>0.0930</td>\n      <td>0.0065</td>\n      <td>0.001</td>\n      <td>0.0</td>\n      <td>0.001</td>\n      <td>0.003</td>\n      <td>0.004</td>\n    </tr>\n    <tr>\n      <th>...</th>\n      <td>...</td>\n      <td>...</td>\n      <td>...</td>\n      <td>...</td>\n      <td>...</td>\n      <td>...</td>\n      <td>...</td>\n      <td>...</td>\n      <td>...</td>\n      <td>...</td>\n    </tr>\n    <tr>\n      <th>17409</th>\n      <td>1.042</td>\n      <td>0.0050</td>\n      <td>0.0010</td>\n      <td>0.0810</td>\n      <td>0.0190</td>\n      <td>0.003</td>\n      <td>0.0</td>\n      <td>0.000</td>\n      <td>0.003</td>\n      <td>0.019</td>\n    </tr>\n    <tr>\n      <th>17410</th>\n      <td>0.541</td>\n      <td>0.0050</td>\n      <td>0.0010</td>\n      <td>0.0810</td>\n      <td>0.0210</td>\n      <td>0.004</td>\n      <td>0.0</td>\n      <td>0.000</td>\n      <td>0.003</td>\n      <td>0.020</td>\n    </tr>\n    <tr>\n      <th>17411</th>\n      <td>0.337</td>\n      <td>0.0055</td>\n      <td>0.0015</td>\n      <td>0.0785</td>\n      <td>0.0240</td>\n      <td>0.004</td>\n      <td>0.0</td>\n      <td>0.000</td>\n      <td>0.003</td>\n      <td>0.021</td>\n    </tr>\n    <tr>\n      <th>17412</th>\n      <td>0.224</td>\n      <td>0.0055</td>\n      <td>0.0015</td>\n      <td>0.0760</td>\n      <td>0.0230</td>\n      <td>0.004</td>\n      <td>0.0</td>\n      <td>0.000</td>\n      <td>0.003</td>\n      <td>0.022</td>\n    </tr>\n    <tr>\n      <th>17413</th>\n      <td>0.139</td>\n      <td>0.0050</td>\n      <td>0.0010</td>\n      <td>0.0760</td>\n      <td>0.0220</td>\n      <td>0.002</td>\n      <td>0.0</td>\n      <td>0.000</td>\n      <td>0.003</td>\n      <td>0.023</td>\n    </tr>\n  </tbody>\n</table>\n<p>17414 rows × 10 columns</p>\n</div>"
     },
     "metadata": {},
     "execution_count": 29
    }
   ],
   "source": [
    "df.applymap(lambda x: x/1000)        #Se aplica en todo el df con applymap"
   ]
  }
 ],
 "metadata": {
  "kernelspec": {
   "display_name": "Python 3.7.4 64-bit ('Anaconda': conda)",
   "language": "python",
   "name": "python37464bitanacondaconda74954a3f106b47d99d44e5fb8ca66932"
  },
  "language_info": {
   "codemirror_mode": {
    "name": "ipython",
    "version": 3
   },
   "file_extension": ".py",
   "mimetype": "text/x-python",
   "name": "python",
   "nbconvert_exporter": "python",
   "pygments_lexer": "ipython3",
   "version": "3.7.4-final"
  }
 },
 "nbformat": 4,
 "nbformat_minor": 2
}