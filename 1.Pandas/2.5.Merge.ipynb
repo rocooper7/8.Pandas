{
 "cells": [
  {
   "cell_type": "code",
   "execution_count": 2,
   "metadata": {},
   "outputs": [],
   "source": [
    "import pandas as pd"
   ]
  },
  {
   "cell_type": "code",
   "execution_count": 5,
   "metadata": {},
   "outputs": [
    {
     "output_type": "execute_result",
     "data": {
      "text/plain": "    X   W   Y\n0  x0  w0  y0\n1  x1  w1  y1\n2  x2  w2  y2\n3  x3  w3  y3",
      "text/html": "<div>\n<style scoped>\n    .dataframe tbody tr th:only-of-type {\n        vertical-align: middle;\n    }\n\n    .dataframe tbody tr th {\n        vertical-align: top;\n    }\n\n    .dataframe thead th {\n        text-align: right;\n    }\n</style>\n<table border=\"1\" class=\"dataframe\">\n  <thead>\n    <tr style=\"text-align: right;\">\n      <th></th>\n      <th>X</th>\n      <th>W</th>\n      <th>Y</th>\n    </tr>\n  </thead>\n  <tbody>\n    <tr>\n      <th>0</th>\n      <td>x0</td>\n      <td>w0</td>\n      <td>y0</td>\n    </tr>\n    <tr>\n      <th>1</th>\n      <td>x1</td>\n      <td>w1</td>\n      <td>y1</td>\n    </tr>\n    <tr>\n      <th>2</th>\n      <td>x2</td>\n      <td>w2</td>\n      <td>y2</td>\n    </tr>\n    <tr>\n      <th>3</th>\n      <td>x3</td>\n      <td>w3</td>\n      <td>y3</td>\n    </tr>\n  </tbody>\n</table>\n</div>"
     },
     "metadata": {},
     "execution_count": 5
    }
   ],
   "source": [
    "df_left = pd.DataFrame(\n",
    "                      {'X': ['x0', 'x1', 'x2', 'x3'],\n",
    "                        'W': ['w0', 'w1', 'w2', 'w3'], \n",
    "                        'Y': ['y0', 'y1', 'y2', 'y3']},\n",
    "                        #'Mix': ['y2','y3','a2','a3']},\n",
    "                       index=[0,1,2,3])\n",
    "df_left"
   ]
  },
  {
   "cell_type": "code",
   "execution_count": 4,
   "metadata": {},
   "outputs": [
    {
     "output_type": "execute_result",
     "data": {
      "text/plain": "    Z   A   Y\n2  z2  a2  y2\n3  z3  a3  y3\n4  z4  a4  y4\n5  z5  a5  y5",
      "text/html": "<div>\n<style scoped>\n    .dataframe tbody tr th:only-of-type {\n        vertical-align: middle;\n    }\n\n    .dataframe tbody tr th {\n        vertical-align: top;\n    }\n\n    .dataframe thead th {\n        text-align: right;\n    }\n</style>\n<table border=\"1\" class=\"dataframe\">\n  <thead>\n    <tr style=\"text-align: right;\">\n      <th></th>\n      <th>Z</th>\n      <th>A</th>\n      <th>Y</th>\n    </tr>\n  </thead>\n  <tbody>\n    <tr>\n      <th>2</th>\n      <td>z2</td>\n      <td>a2</td>\n      <td>y2</td>\n    </tr>\n    <tr>\n      <th>3</th>\n      <td>z3</td>\n      <td>a3</td>\n      <td>y3</td>\n    </tr>\n    <tr>\n      <th>4</th>\n      <td>z4</td>\n      <td>a4</td>\n      <td>y4</td>\n    </tr>\n    <tr>\n      <th>5</th>\n      <td>z5</td>\n      <td>a5</td>\n      <td>y5</td>\n    </tr>\n  </tbody>\n</table>\n</div>"
     },
     "metadata": {},
     "execution_count": 4
    }
   ],
   "source": [
    "df_right = pd.DataFrame(\n",
    "                       {'Z': ['z2', 'z3', 'z4', 'z5'],\n",
    "                         'A': ['a2', 'a3', 'a4', 'a5'], \n",
    "                         'Y': ['y2', 'y3', 'y4', 'y5']},\n",
    "                        index=[2,3,4,5])\n",
    "df_right"
   ]
  },
  {
   "cell_type": "code",
   "execution_count": 16,
   "metadata": {},
   "outputs": [
    {
     "output_type": "execute_result",
     "data": {
      "text/plain": "    X   W   Y Mix   Z   A\n0  x2  w2  y2  a2  z2  a2\n1  x3  w3  y3  a3  z3  a3",
      "text/html": "<div>\n<style scoped>\n    .dataframe tbody tr th:only-of-type {\n        vertical-align: middle;\n    }\n\n    .dataframe tbody tr th {\n        vertical-align: top;\n    }\n\n    .dataframe thead th {\n        text-align: right;\n    }\n</style>\n<table border=\"1\" class=\"dataframe\">\n  <thead>\n    <tr style=\"text-align: right;\">\n      <th></th>\n      <th>X</th>\n      <th>W</th>\n      <th>Y</th>\n      <th>Mix</th>\n      <th>Z</th>\n      <th>A</th>\n    </tr>\n  </thead>\n  <tbody>\n    <tr>\n      <th>0</th>\n      <td>x2</td>\n      <td>w2</td>\n      <td>y2</td>\n      <td>a2</td>\n      <td>z2</td>\n      <td>a2</td>\n    </tr>\n    <tr>\n      <th>1</th>\n      <td>x3</td>\n      <td>w3</td>\n      <td>y3</td>\n      <td>a3</td>\n      <td>z3</td>\n      <td>a3</td>\n    </tr>\n  </tbody>\n</table>\n</div>"
     },
     "metadata": {},
     "execution_count": 16
    }
   ],
   "source": [
    "pd.merge(df_left, df_right)   #inner solo"
   ]
  },
  {
   "cell_type": "code",
   "execution_count": 17,
   "metadata": {},
   "outputs": [
    {
     "output_type": "execute_result",
     "data": {
      "text/plain": "    X   W   Y Mix   Z   A\n0  x2  w2  y2  a2  z2  a2\n1  x3  w3  y3  a3  z3  a3",
      "text/html": "<div>\n<style scoped>\n    .dataframe tbody tr th:only-of-type {\n        vertical-align: middle;\n    }\n\n    .dataframe tbody tr th {\n        vertical-align: top;\n    }\n\n    .dataframe thead th {\n        text-align: right;\n    }\n</style>\n<table border=\"1\" class=\"dataframe\">\n  <thead>\n    <tr style=\"text-align: right;\">\n      <th></th>\n      <th>X</th>\n      <th>W</th>\n      <th>Y</th>\n      <th>Mix</th>\n      <th>Z</th>\n      <th>A</th>\n    </tr>\n  </thead>\n  <tbody>\n    <tr>\n      <th>0</th>\n      <td>x2</td>\n      <td>w2</td>\n      <td>y2</td>\n      <td>a2</td>\n      <td>z2</td>\n      <td>a2</td>\n    </tr>\n    <tr>\n      <th>1</th>\n      <td>x3</td>\n      <td>w3</td>\n      <td>y3</td>\n      <td>a3</td>\n      <td>z3</td>\n      <td>a3</td>\n    </tr>\n  </tbody>\n</table>\n</div>"
     },
     "metadata": {},
     "execution_count": 17
    }
   ],
   "source": [
    "pd.merge(df_left, df_right, how = 'inner', on = 'Y')"
   ]
  },
  {
   "cell_type": "code",
   "execution_count": 18,
   "metadata": {},
   "outputs": [
    {
     "output_type": "execute_result",
     "data": {
      "text/plain": "    X   W Y_x Mix   Z   A Y_y\n0  x0  w0  y0  y2  z2  a2  y2\n1  x1  w1  y1  y3  z3  a3  y3",
      "text/html": "<div>\n<style scoped>\n    .dataframe tbody tr th:only-of-type {\n        vertical-align: middle;\n    }\n\n    .dataframe tbody tr th {\n        vertical-align: top;\n    }\n\n    .dataframe thead th {\n        text-align: right;\n    }\n</style>\n<table border=\"1\" class=\"dataframe\">\n  <thead>\n    <tr style=\"text-align: right;\">\n      <th></th>\n      <th>X</th>\n      <th>W</th>\n      <th>Y_x</th>\n      <th>Mix</th>\n      <th>Z</th>\n      <th>A</th>\n      <th>Y_y</th>\n    </tr>\n  </thead>\n  <tbody>\n    <tr>\n      <th>0</th>\n      <td>x0</td>\n      <td>w0</td>\n      <td>y0</td>\n      <td>y2</td>\n      <td>z2</td>\n      <td>a2</td>\n      <td>y2</td>\n    </tr>\n    <tr>\n      <th>1</th>\n      <td>x1</td>\n      <td>w1</td>\n      <td>y1</td>\n      <td>y3</td>\n      <td>z3</td>\n      <td>a3</td>\n      <td>y3</td>\n    </tr>\n  </tbody>\n</table>\n</div>"
     },
     "metadata": {},
     "execution_count": 18
    }
   ],
   "source": [
    "pd.merge(df_left, df_right, how = 'inner',  left_on = 'Mix', right_on = 'Y')"
   ]
  },
  {
   "cell_type": "code",
   "execution_count": 19,
   "metadata": {},
   "outputs": [
    {
     "output_type": "execute_result",
     "data": {
      "text/plain": "    X   W Y_x Mix   Z   A Y_y\n0  x2  w2  y2  a2  z2  a2  y2\n1  x3  w3  y3  a3  z3  a3  y3",
      "text/html": "<div>\n<style scoped>\n    .dataframe tbody tr th:only-of-type {\n        vertical-align: middle;\n    }\n\n    .dataframe tbody tr th {\n        vertical-align: top;\n    }\n\n    .dataframe thead th {\n        text-align: right;\n    }\n</style>\n<table border=\"1\" class=\"dataframe\">\n  <thead>\n    <tr style=\"text-align: right;\">\n      <th></th>\n      <th>X</th>\n      <th>W</th>\n      <th>Y_x</th>\n      <th>Mix</th>\n      <th>Z</th>\n      <th>A</th>\n      <th>Y_y</th>\n    </tr>\n  </thead>\n  <tbody>\n    <tr>\n      <th>0</th>\n      <td>x2</td>\n      <td>w2</td>\n      <td>y2</td>\n      <td>a2</td>\n      <td>z2</td>\n      <td>a2</td>\n      <td>y2</td>\n    </tr>\n    <tr>\n      <th>1</th>\n      <td>x3</td>\n      <td>w3</td>\n      <td>y3</td>\n      <td>a3</td>\n      <td>z3</td>\n      <td>a3</td>\n      <td>y3</td>\n    </tr>\n  </tbody>\n</table>\n</div>"
     },
     "metadata": {},
     "execution_count": 19
    }
   ],
   "source": [
    "pd.merge(df_left, df_right, how = 'inner', left_on = 'Mix', right_on = 'A')"
   ]
  },
  {
   "cell_type": "markdown",
   "metadata": {},
   "source": [
    "![](http://www.datasciencemadesimple.com/wp-content/uploads/2017/09/join-or-merge-in-python-pandas-1.png)"
   ]
  },
  {
   "cell_type": "code",
   "execution_count": 6,
   "metadata": {},
   "outputs": [
    {
     "output_type": "execute_result",
     "data": {
      "text/plain": "    X   W   Y   Z   A\n0  x2  w2  y2  z2  a2\n1  x3  w3  y3  z3  a3",
      "text/html": "<div>\n<style scoped>\n    .dataframe tbody tr th:only-of-type {\n        vertical-align: middle;\n    }\n\n    .dataframe tbody tr th {\n        vertical-align: top;\n    }\n\n    .dataframe thead th {\n        text-align: right;\n    }\n</style>\n<table border=\"1\" class=\"dataframe\">\n  <thead>\n    <tr style=\"text-align: right;\">\n      <th></th>\n      <th>X</th>\n      <th>W</th>\n      <th>Y</th>\n      <th>Z</th>\n      <th>A</th>\n    </tr>\n  </thead>\n  <tbody>\n    <tr>\n      <th>0</th>\n      <td>x2</td>\n      <td>w2</td>\n      <td>y2</td>\n      <td>z2</td>\n      <td>a2</td>\n    </tr>\n    <tr>\n      <th>1</th>\n      <td>x3</td>\n      <td>w3</td>\n      <td>y3</td>\n      <td>z3</td>\n      <td>a3</td>\n    </tr>\n  </tbody>\n</table>\n</div>"
     },
     "metadata": {},
     "execution_count": 6
    }
   ],
   "source": [
    "pd.merge(df_left, df_right, how = 'inner', on = 'Y')"
   ]
  },
  {
   "cell_type": "code",
   "execution_count": 7,
   "metadata": {},
   "outputs": [
    {
     "output_type": "execute_result",
     "data": {
      "text/plain": "    X   W   Y    Z    A\n0  x0  w0  y0  NaN  NaN\n1  x1  w1  y1  NaN  NaN\n2  x2  w2  y2   z2   a2\n3  x3  w3  y3   z3   a3",
      "text/html": "<div>\n<style scoped>\n    .dataframe tbody tr th:only-of-type {\n        vertical-align: middle;\n    }\n\n    .dataframe tbody tr th {\n        vertical-align: top;\n    }\n\n    .dataframe thead th {\n        text-align: right;\n    }\n</style>\n<table border=\"1\" class=\"dataframe\">\n  <thead>\n    <tr style=\"text-align: right;\">\n      <th></th>\n      <th>X</th>\n      <th>W</th>\n      <th>Y</th>\n      <th>Z</th>\n      <th>A</th>\n    </tr>\n  </thead>\n  <tbody>\n    <tr>\n      <th>0</th>\n      <td>x0</td>\n      <td>w0</td>\n      <td>y0</td>\n      <td>NaN</td>\n      <td>NaN</td>\n    </tr>\n    <tr>\n      <th>1</th>\n      <td>x1</td>\n      <td>w1</td>\n      <td>y1</td>\n      <td>NaN</td>\n      <td>NaN</td>\n    </tr>\n    <tr>\n      <th>2</th>\n      <td>x2</td>\n      <td>w2</td>\n      <td>y2</td>\n      <td>z2</td>\n      <td>a2</td>\n    </tr>\n    <tr>\n      <th>3</th>\n      <td>x3</td>\n      <td>w3</td>\n      <td>y3</td>\n      <td>z3</td>\n      <td>a3</td>\n    </tr>\n  </tbody>\n</table>\n</div>"
     },
     "metadata": {},
     "execution_count": 7
    }
   ],
   "source": [
    "pd.merge(df_left, df_right, how = 'left', on = 'Y')"
   ]
  },
  {
   "cell_type": "code",
   "execution_count": 27,
   "metadata": {},
   "outputs": [
    {
     "output_type": "execute_result",
     "data": {
      "text/plain": "     X    W   Y   Z   A\n0   x2   w2  y2  z2  a2\n1   x3   w3  y3  z3  a3\n2  NaN  NaN  y4  z4  a4\n3  NaN  NaN  y5  z5  a5",
      "text/html": "<div>\n<style scoped>\n    .dataframe tbody tr th:only-of-type {\n        vertical-align: middle;\n    }\n\n    .dataframe tbody tr th {\n        vertical-align: top;\n    }\n\n    .dataframe thead th {\n        text-align: right;\n    }\n</style>\n<table border=\"1\" class=\"dataframe\">\n  <thead>\n    <tr style=\"text-align: right;\">\n      <th></th>\n      <th>X</th>\n      <th>W</th>\n      <th>Y</th>\n      <th>Z</th>\n      <th>A</th>\n    </tr>\n  </thead>\n  <tbody>\n    <tr>\n      <th>0</th>\n      <td>x2</td>\n      <td>w2</td>\n      <td>y2</td>\n      <td>z2</td>\n      <td>a2</td>\n    </tr>\n    <tr>\n      <th>1</th>\n      <td>x3</td>\n      <td>w3</td>\n      <td>y3</td>\n      <td>z3</td>\n      <td>a3</td>\n    </tr>\n    <tr>\n      <th>2</th>\n      <td>NaN</td>\n      <td>NaN</td>\n      <td>y4</td>\n      <td>z4</td>\n      <td>a4</td>\n    </tr>\n    <tr>\n      <th>3</th>\n      <td>NaN</td>\n      <td>NaN</td>\n      <td>y5</td>\n      <td>z5</td>\n      <td>a5</td>\n    </tr>\n  </tbody>\n</table>\n</div>"
     },
     "metadata": {},
     "execution_count": 27
    }
   ],
   "source": [
    "pd.merge(df_left, df_right, how = 'right', on = 'Y')"
   ]
  },
  {
   "cell_type": "code",
   "execution_count": 28,
   "metadata": {},
   "outputs": [
    {
     "output_type": "execute_result",
     "data": {
      "text/plain": "     X    W   Y    Z    A\n0   x0   w0  y0  NaN  NaN\n1   x1   w1  y1  NaN  NaN\n2   x2   w2  y2   z2   a2\n3   x3   w3  y3   z3   a3\n4  NaN  NaN  y4   z4   a4\n5  NaN  NaN  y5   z5   a5",
      "text/html": "<div>\n<style scoped>\n    .dataframe tbody tr th:only-of-type {\n        vertical-align: middle;\n    }\n\n    .dataframe tbody tr th {\n        vertical-align: top;\n    }\n\n    .dataframe thead th {\n        text-align: right;\n    }\n</style>\n<table border=\"1\" class=\"dataframe\">\n  <thead>\n    <tr style=\"text-align: right;\">\n      <th></th>\n      <th>X</th>\n      <th>W</th>\n      <th>Y</th>\n      <th>Z</th>\n      <th>A</th>\n    </tr>\n  </thead>\n  <tbody>\n    <tr>\n      <th>0</th>\n      <td>x0</td>\n      <td>w0</td>\n      <td>y0</td>\n      <td>NaN</td>\n      <td>NaN</td>\n    </tr>\n    <tr>\n      <th>1</th>\n      <td>x1</td>\n      <td>w1</td>\n      <td>y1</td>\n      <td>NaN</td>\n      <td>NaN</td>\n    </tr>\n    <tr>\n      <th>2</th>\n      <td>x2</td>\n      <td>w2</td>\n      <td>y2</td>\n      <td>z2</td>\n      <td>a2</td>\n    </tr>\n    <tr>\n      <th>3</th>\n      <td>x3</td>\n      <td>w3</td>\n      <td>y3</td>\n      <td>z3</td>\n      <td>a3</td>\n    </tr>\n    <tr>\n      <th>4</th>\n      <td>NaN</td>\n      <td>NaN</td>\n      <td>y4</td>\n      <td>z4</td>\n      <td>a4</td>\n    </tr>\n    <tr>\n      <th>5</th>\n      <td>NaN</td>\n      <td>NaN</td>\n      <td>y5</td>\n      <td>z5</td>\n      <td>a5</td>\n    </tr>\n  </tbody>\n</table>\n</div>"
     },
     "metadata": {},
     "execution_count": 28
    }
   ],
   "source": [
    "pd.merge(df_left, df_right, how = 'outer', on = 'Y')"
   ]
  },
  {
   "cell_type": "code",
   "execution_count": 3,
   "metadata": {},
   "outputs": [
    {
     "output_type": "execute_result",
     "data": {
      "text/plain": "    X   W   Y   A\n0  x0  w0  y0  a0\n1  x1  w1  y1  a1\n2  x2  w2  y2  a2\n3  x3  w3  y3  a3",
      "text/html": "<div>\n<style scoped>\n    .dataframe tbody tr th:only-of-type {\n        vertical-align: middle;\n    }\n\n    .dataframe tbody tr th {\n        vertical-align: top;\n    }\n\n    .dataframe thead th {\n        text-align: right;\n    }\n</style>\n<table border=\"1\" class=\"dataframe\">\n  <thead>\n    <tr style=\"text-align: right;\">\n      <th></th>\n      <th>X</th>\n      <th>W</th>\n      <th>Y</th>\n      <th>A</th>\n    </tr>\n  </thead>\n  <tbody>\n    <tr>\n      <th>0</th>\n      <td>x0</td>\n      <td>w0</td>\n      <td>y0</td>\n      <td>a0</td>\n    </tr>\n    <tr>\n      <th>1</th>\n      <td>x1</td>\n      <td>w1</td>\n      <td>y1</td>\n      <td>a1</td>\n    </tr>\n    <tr>\n      <th>2</th>\n      <td>x2</td>\n      <td>w2</td>\n      <td>y2</td>\n      <td>a2</td>\n    </tr>\n    <tr>\n      <th>3</th>\n      <td>x3</td>\n      <td>w3</td>\n      <td>y3</td>\n      <td>a3</td>\n    </tr>\n  </tbody>\n</table>\n</div>"
     },
     "metadata": {},
     "execution_count": 3
    }
   ],
   "source": [
    "df_left = pd.DataFrame(\n",
    "                      {'X': ['x0', 'x1', 'x2', 'x3'],\n",
    "                        'W': ['w0', 'w1', 'w2', 'w3'], \n",
    "                        'Y': ['y0', 'y1', 'y2', 'y3'],\n",
    "                        'A': ['a0', 'a1', 'a2', 'a3'],})\n",
    "df_left"
   ]
  },
  {
   "cell_type": "code",
   "execution_count": 6,
   "metadata": {},
   "outputs": [
    {
     "output_type": "execute_result",
     "data": {
      "text/plain": "    Z   A   Y\n2  z2  a2  y2\n3  z3  a3  y3\n4  z4  a4  y4\n5  z5  a5  y5",
      "text/html": "<div>\n<style scoped>\n    .dataframe tbody tr th:only-of-type {\n        vertical-align: middle;\n    }\n\n    .dataframe tbody tr th {\n        vertical-align: top;\n    }\n\n    .dataframe thead th {\n        text-align: right;\n    }\n</style>\n<table border=\"1\" class=\"dataframe\">\n  <thead>\n    <tr style=\"text-align: right;\">\n      <th></th>\n      <th>Z</th>\n      <th>A</th>\n      <th>Y</th>\n    </tr>\n  </thead>\n  <tbody>\n    <tr>\n      <th>2</th>\n      <td>z2</td>\n      <td>a2</td>\n      <td>y2</td>\n    </tr>\n    <tr>\n      <th>3</th>\n      <td>z3</td>\n      <td>a3</td>\n      <td>y3</td>\n    </tr>\n    <tr>\n      <th>4</th>\n      <td>z4</td>\n      <td>a4</td>\n      <td>y4</td>\n    </tr>\n    <tr>\n      <th>5</th>\n      <td>z5</td>\n      <td>a5</td>\n      <td>y5</td>\n    </tr>\n  </tbody>\n</table>\n</div>"
     },
     "metadata": {},
     "execution_count": 6
    }
   ],
   "source": [
    "df_right"
   ]
  },
  {
   "cell_type": "code",
   "execution_count": 7,
   "metadata": {},
   "outputs": [
    {
     "output_type": "execute_result",
     "data": {
      "text/plain": "     X    W Y_left   A    Z Y_right\n0   x0   w0     y0  a0  NaN     NaN\n1   x1   w1     y1  a1  NaN     NaN\n2   x2   w2     y2  a2   z2      y2\n3   x3   w3     y3  a3   z3      y3\n4  NaN  NaN    NaN  a4   z4      y4\n5  NaN  NaN    NaN  a5   z5      y5",
      "text/html": "<div>\n<style scoped>\n    .dataframe tbody tr th:only-of-type {\n        vertical-align: middle;\n    }\n\n    .dataframe tbody tr th {\n        vertical-align: top;\n    }\n\n    .dataframe thead th {\n        text-align: right;\n    }\n</style>\n<table border=\"1\" class=\"dataframe\">\n  <thead>\n    <tr style=\"text-align: right;\">\n      <th></th>\n      <th>X</th>\n      <th>W</th>\n      <th>Y_left</th>\n      <th>A</th>\n      <th>Z</th>\n      <th>Y_right</th>\n    </tr>\n  </thead>\n  <tbody>\n    <tr>\n      <th>0</th>\n      <td>x0</td>\n      <td>w0</td>\n      <td>y0</td>\n      <td>a0</td>\n      <td>NaN</td>\n      <td>NaN</td>\n    </tr>\n    <tr>\n      <th>1</th>\n      <td>x1</td>\n      <td>w1</td>\n      <td>y1</td>\n      <td>a1</td>\n      <td>NaN</td>\n      <td>NaN</td>\n    </tr>\n    <tr>\n      <th>2</th>\n      <td>x2</td>\n      <td>w2</td>\n      <td>y2</td>\n      <td>a2</td>\n      <td>z2</td>\n      <td>y2</td>\n    </tr>\n    <tr>\n      <th>3</th>\n      <td>x3</td>\n      <td>w3</td>\n      <td>y3</td>\n      <td>a3</td>\n      <td>z3</td>\n      <td>y3</td>\n    </tr>\n    <tr>\n      <th>4</th>\n      <td>NaN</td>\n      <td>NaN</td>\n      <td>NaN</td>\n      <td>a4</td>\n      <td>z4</td>\n      <td>y4</td>\n    </tr>\n    <tr>\n      <th>5</th>\n      <td>NaN</td>\n      <td>NaN</td>\n      <td>NaN</td>\n      <td>a5</td>\n      <td>z5</td>\n      <td>y5</td>\n    </tr>\n  </tbody>\n</table>\n</div>"
     },
     "metadata": {},
     "execution_count": 7
    }
   ],
   "source": [
    "pd.merge(df_left, df_right, how ='outer', on = 'A', suffixes=['_left','_right']) "
   ]
  }
 ],
 "metadata": {
  "language_info": {
   "codemirror_mode": {
    "name": "ipython",
    "version": 3
   },
   "file_extension": ".py",
   "mimetype": "text/x-python",
   "name": "python",
   "nbconvert_exporter": "python",
   "pygments_lexer": "ipython3",
   "version": "3.7.4-final"
  },
  "orig_nbformat": 2,
  "kernelspec": {
   "name": "python37464bitanacondaconda74954a3f106b47d99d44e5fb8ca66932",
   "display_name": "Python 3.7.4 64-bit ('Anaconda': conda)"
  }
 },
 "nbformat": 4,
 "nbformat_minor": 2
}