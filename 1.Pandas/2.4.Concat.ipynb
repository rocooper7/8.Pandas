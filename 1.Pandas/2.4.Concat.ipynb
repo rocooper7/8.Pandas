{
 "cells": [
  {
   "cell_type": "code",
   "execution_count": 1,
   "metadata": {},
   "outputs": [],
   "source": [
    "import pandas as pd\n",
    "import numpy as np"
   ]
  },
  {
   "cell_type": "markdown",
   "metadata": {},
   "source": [
    "## Concatenate Numpy"
   ]
  },
  {
   "cell_type": "code",
   "execution_count": 5,
   "metadata": {},
   "outputs": [],
   "source": [
    "pd.options.display.float_format = '{:.2f}'.format    #Dar formato a los numeros con dos numeros decimales con Pandas "
   ]
  },
  {
   "cell_type": "code",
   "execution_count": 31,
   "metadata": {},
   "outputs": [],
   "source": [
    "np.set_printoptions(precision=1)        #Dar formato a los numeros con un numero decimal con Numpy"
   ]
  },
  {
   "cell_type": "code",
   "execution_count": 10,
   "metadata": {},
   "outputs": [
    {
     "output_type": "execute_result",
     "data": {
      "text/plain": "array([[3.6, 5.9, 8.1, 3.9, 8.6],\n       [0.9, 7.6, 4.9, 9.1, 2.6]])"
     },
     "metadata": {},
     "execution_count": 10
    }
   ],
   "source": [
    "x1 = np.random.rand(2,5)*10          #rand genera num + entre 0 y 1 y randn entre 0 y -1\n",
    "x1"
   ]
  },
  {
   "cell_type": "code",
   "execution_count": 11,
   "metadata": {},
   "outputs": [
    {
     "output_type": "execute_result",
     "data": {
      "text/plain": "array([[-0.3, -0.5, -0.4, -0.2, -1. ],\n       [-0.3, -0.6, -0.2, -0.7, -0.1]])"
     },
     "metadata": {},
     "execution_count": 11
    }
   ],
   "source": [
    "x2 = np.random.rand(2,5)*-1\n",
    "x2"
   ]
  },
  {
   "cell_type": "code",
   "execution_count": 12,
   "metadata": {},
   "outputs": [
    {
     "output_type": "execute_result",
     "data": {
      "text/plain": "array([[ 3.6,  5.9,  8.1,  3.9,  8.6],\n       [ 0.9,  7.6,  4.9,  9.1,  2.6],\n       [-0.3, -0.5, -0.4, -0.2, -1. ],\n       [-0.3, -0.6, -0.2, -0.7, -0.1]])"
     },
     "metadata": {},
     "execution_count": 12
    }
   ],
   "source": [
    "np.concatenate([x1,x2])      #Se concatena en columnas "
   ]
  },
  {
   "cell_type": "code",
   "execution_count": 13,
   "metadata": {},
   "outputs": [
    {
     "output_type": "execute_result",
     "data": {
      "text/plain": "(4, 5)"
     },
     "metadata": {},
     "execution_count": 13
    }
   ],
   "source": [
    "np.concatenate([x1,x2]).shape"
   ]
  },
  {
   "cell_type": "code",
   "execution_count": 14,
   "metadata": {},
   "outputs": [
    {
     "output_type": "execute_result",
     "data": {
      "text/plain": "array([[ 3.6,  5.9,  8.1,  3.9,  8.6, -0.3, -0.5, -0.4, -0.2, -1. ],\n       [ 0.9,  7.6,  4.9,  9.1,  2.6, -0.3, -0.6, -0.2, -0.7, -0.1]])"
     },
     "metadata": {},
     "execution_count": 14
    }
   ],
   "source": [
    "np.concatenate([x1,x2], axis = 1)   #Se concatena en dimensiones o filas"
   ]
  },
  {
   "cell_type": "code",
   "execution_count": 15,
   "metadata": {},
   "outputs": [
    {
     "output_type": "execute_result",
     "data": {
      "text/plain": "(2, 10)"
     },
     "metadata": {},
     "execution_count": 15
    }
   ],
   "source": [
    "np.concatenate([x1,x2], axis = 1).shape"
   ]
  },
  {
   "cell_type": "markdown",
   "metadata": {},
   "source": [
    "## Concat Pandas Series "
   ]
  },
  {
   "cell_type": "code",
   "execution_count": 16,
   "metadata": {},
   "outputs": [
    {
     "output_type": "execute_result",
     "data": {
      "text/plain": "a   3.62\nb   5.94\nc   8.10\nd   3.86\ne   8.65\ndtype: float64"
     },
     "metadata": {},
     "execution_count": 16
    }
   ],
   "source": [
    "s1 = pd.Series(x1[0],index = ['a','b','c','d','e'])\n",
    "s1"
   ]
  },
  {
   "cell_type": "code",
   "execution_count": 17,
   "metadata": {},
   "outputs": [
    {
     "output_type": "execute_result",
     "data": {
      "text/plain": "c   -0.27\nd   -0.47\ne   -0.41\nf   -0.21\ng   -0.99\ndtype: float64"
     },
     "metadata": {},
     "execution_count": 17
    }
   ],
   "source": [
    "s2 = pd.Series(x2[0],index = ['c','d','e','f','g'])\n",
    "s2"
   ]
  },
  {
   "cell_type": "code",
   "execution_count": 18,
   "metadata": {},
   "outputs": [
    {
     "output_type": "execute_result",
     "data": {
      "text/plain": "     0     1\na 3.62   nan\nb 5.94   nan\nc 8.10 -0.27\nd 3.86 -0.47\ne 8.65 -0.41\nf  nan -0.21\ng  nan -0.99",
      "text/html": "<div>\n<style scoped>\n    .dataframe tbody tr th:only-of-type {\n        vertical-align: middle;\n    }\n\n    .dataframe tbody tr th {\n        vertical-align: top;\n    }\n\n    .dataframe thead th {\n        text-align: right;\n    }\n</style>\n<table border=\"1\" class=\"dataframe\">\n  <thead>\n    <tr style=\"text-align: right;\">\n      <th></th>\n      <th>0</th>\n      <th>1</th>\n    </tr>\n  </thead>\n  <tbody>\n    <tr>\n      <th>a</th>\n      <td>3.62</td>\n      <td>nan</td>\n    </tr>\n    <tr>\n      <th>b</th>\n      <td>5.94</td>\n      <td>nan</td>\n    </tr>\n    <tr>\n      <th>c</th>\n      <td>8.10</td>\n      <td>-0.27</td>\n    </tr>\n    <tr>\n      <th>d</th>\n      <td>3.86</td>\n      <td>-0.47</td>\n    </tr>\n    <tr>\n      <th>e</th>\n      <td>8.65</td>\n      <td>-0.41</td>\n    </tr>\n    <tr>\n      <th>f</th>\n      <td>nan</td>\n      <td>-0.21</td>\n    </tr>\n    <tr>\n      <th>g</th>\n      <td>nan</td>\n      <td>-0.99</td>\n    </tr>\n  </tbody>\n</table>\n</div>"
     },
     "metadata": {},
     "execution_count": 18
    }
   ],
   "source": [
    "pd.concat([s1,s2], axis=1)"
   ]
  },
  {
   "cell_type": "code",
   "execution_count": 32,
   "metadata": {},
   "outputs": [
    {
     "output_type": "execute_result",
     "data": {
      "text/plain": "  index    0\n0     a 3.62\n1     b 5.94\n2     c 8.10\n3     d 3.86\n4     e 8.65",
      "text/html": "<div>\n<style scoped>\n    .dataframe tbody tr th:only-of-type {\n        vertical-align: middle;\n    }\n\n    .dataframe tbody tr th {\n        vertical-align: top;\n    }\n\n    .dataframe thead th {\n        text-align: right;\n    }\n</style>\n<table border=\"1\" class=\"dataframe\">\n  <thead>\n    <tr style=\"text-align: right;\">\n      <th></th>\n      <th>index</th>\n      <th>0</th>\n    </tr>\n  </thead>\n  <tbody>\n    <tr>\n      <th>0</th>\n      <td>a</td>\n      <td>3.62</td>\n    </tr>\n    <tr>\n      <th>1</th>\n      <td>b</td>\n      <td>5.94</td>\n    </tr>\n    <tr>\n      <th>2</th>\n      <td>c</td>\n      <td>8.10</td>\n    </tr>\n    <tr>\n      <th>3</th>\n      <td>d</td>\n      <td>3.86</td>\n    </tr>\n    <tr>\n      <th>4</th>\n      <td>e</td>\n      <td>8.65</td>\n    </tr>\n  </tbody>\n</table>\n</div>"
     },
     "metadata": {},
     "execution_count": 32
    }
   ],
   "source": [
    "s1.reset_index()     #Quitamos el indice para poder concatenar bien "
   ]
  },
  {
   "cell_type": "code",
   "execution_count": 19,
   "metadata": {},
   "outputs": [
    {
     "output_type": "execute_result",
     "data": {
      "text/plain": "0   3.62\n1   5.94\n2   8.10\n3   3.86\n4   8.65\ndtype: float64"
     },
     "metadata": {},
     "execution_count": 19
    }
   ],
   "source": [
    "s1.reset_index(drop=True)       #Aqui lo quitamos bien "
   ]
  },
  {
   "cell_type": "code",
   "execution_count": 20,
   "metadata": {},
   "outputs": [
    {
     "output_type": "execute_result",
     "data": {
      "text/plain": "     0     1\n0 3.62 -0.27\n1 5.94 -0.47\n2 8.10 -0.41\n3 3.86 -0.21\n4 8.65 -0.99",
      "text/html": "<div>\n<style scoped>\n    .dataframe tbody tr th:only-of-type {\n        vertical-align: middle;\n    }\n\n    .dataframe tbody tr th {\n        vertical-align: top;\n    }\n\n    .dataframe thead th {\n        text-align: right;\n    }\n</style>\n<table border=\"1\" class=\"dataframe\">\n  <thead>\n    <tr style=\"text-align: right;\">\n      <th></th>\n      <th>0</th>\n      <th>1</th>\n    </tr>\n  </thead>\n  <tbody>\n    <tr>\n      <th>0</th>\n      <td>3.62</td>\n      <td>-0.27</td>\n    </tr>\n    <tr>\n      <th>1</th>\n      <td>5.94</td>\n      <td>-0.47</td>\n    </tr>\n    <tr>\n      <th>2</th>\n      <td>8.10</td>\n      <td>-0.41</td>\n    </tr>\n    <tr>\n      <th>3</th>\n      <td>3.86</td>\n      <td>-0.21</td>\n    </tr>\n    <tr>\n      <th>4</th>\n      <td>8.65</td>\n      <td>-0.99</td>\n    </tr>\n  </tbody>\n</table>\n</div>"
     },
     "metadata": {},
     "execution_count": 20
    }
   ],
   "source": [
    "pd.concat([s1.reset_index(drop=True),s2.reset_index(drop=True)], axis=1)     #Y ahora si se concatena "
   ]
  },
  {
   "cell_type": "markdown",
   "metadata": {},
   "source": [
    "## Concat Pandas Dataframe "
   ]
  },
  {
   "cell_type": "code",
   "execution_count": 21,
   "metadata": {},
   "outputs": [
    {
     "output_type": "execute_result",
     "data": {
      "text/plain": "     a    b\n0 1.21 8.71\n1 2.81 2.91\n2 2.95 4.94",
      "text/html": "<div>\n<style scoped>\n    .dataframe tbody tr th:only-of-type {\n        vertical-align: middle;\n    }\n\n    .dataframe tbody tr th {\n        vertical-align: top;\n    }\n\n    .dataframe thead th {\n        text-align: right;\n    }\n</style>\n<table border=\"1\" class=\"dataframe\">\n  <thead>\n    <tr style=\"text-align: right;\">\n      <th></th>\n      <th>a</th>\n      <th>b</th>\n    </tr>\n  </thead>\n  <tbody>\n    <tr>\n      <th>0</th>\n      <td>1.21</td>\n      <td>8.71</td>\n    </tr>\n    <tr>\n      <th>1</th>\n      <td>2.81</td>\n      <td>2.91</td>\n    </tr>\n    <tr>\n      <th>2</th>\n      <td>2.95</td>\n      <td>4.94</td>\n    </tr>\n  </tbody>\n</table>\n</div>"
     },
     "metadata": {},
     "execution_count": 21
    }
   ],
   "source": [
    "df1 = pd.DataFrame(np.random.rand(3,2)*10,columns=['a','b'])\n",
    "df1"
   ]
  },
  {
   "cell_type": "code",
   "execution_count": 22,
   "metadata": {},
   "outputs": [
    {
     "output_type": "execute_result",
     "data": {
      "text/plain": "      a     b\n2 -0.20 -0.58\n3 -0.12 -0.82\n4 -0.53 -0.52",
      "text/html": "<div>\n<style scoped>\n    .dataframe tbody tr th:only-of-type {\n        vertical-align: middle;\n    }\n\n    .dataframe tbody tr th {\n        vertical-align: top;\n    }\n\n    .dataframe thead th {\n        text-align: right;\n    }\n</style>\n<table border=\"1\" class=\"dataframe\">\n  <thead>\n    <tr style=\"text-align: right;\">\n      <th></th>\n      <th>a</th>\n      <th>b</th>\n    </tr>\n  </thead>\n  <tbody>\n    <tr>\n      <th>2</th>\n      <td>-0.20</td>\n      <td>-0.58</td>\n    </tr>\n    <tr>\n      <th>3</th>\n      <td>-0.12</td>\n      <td>-0.82</td>\n    </tr>\n    <tr>\n      <th>4</th>\n      <td>-0.53</td>\n      <td>-0.52</td>\n    </tr>\n  </tbody>\n</table>\n</div>"
     },
     "metadata": {},
     "execution_count": 22
    }
   ],
   "source": [
    "df2 = pd.DataFrame(np.random.rand(3,2)*-1,columns=['a','b'], index = [2,3,4])\n",
    "df2"
   ]
  },
  {
   "cell_type": "code",
   "execution_count": 23,
   "metadata": {},
   "outputs": [
    {
     "output_type": "execute_result",
     "data": {
      "text/plain": "      a     b\n0  1.21  8.71\n1  2.81  2.91\n2  2.95  4.94\n2 -0.20 -0.58\n3 -0.12 -0.82\n4 -0.53 -0.52",
      "text/html": "<div>\n<style scoped>\n    .dataframe tbody tr th:only-of-type {\n        vertical-align: middle;\n    }\n\n    .dataframe tbody tr th {\n        vertical-align: top;\n    }\n\n    .dataframe thead th {\n        text-align: right;\n    }\n</style>\n<table border=\"1\" class=\"dataframe\">\n  <thead>\n    <tr style=\"text-align: right;\">\n      <th></th>\n      <th>a</th>\n      <th>b</th>\n    </tr>\n  </thead>\n  <tbody>\n    <tr>\n      <th>0</th>\n      <td>1.21</td>\n      <td>8.71</td>\n    </tr>\n    <tr>\n      <th>1</th>\n      <td>2.81</td>\n      <td>2.91</td>\n    </tr>\n    <tr>\n      <th>2</th>\n      <td>2.95</td>\n      <td>4.94</td>\n    </tr>\n    <tr>\n      <th>2</th>\n      <td>-0.20</td>\n      <td>-0.58</td>\n    </tr>\n    <tr>\n      <th>3</th>\n      <td>-0.12</td>\n      <td>-0.82</td>\n    </tr>\n    <tr>\n      <th>4</th>\n      <td>-0.53</td>\n      <td>-0.52</td>\n    </tr>\n  </tbody>\n</table>\n</div>"
     },
     "metadata": {},
     "execution_count": 23
    }
   ],
   "source": [
    "pd.concat([df1,df2])      #Concat columnas "
   ]
  },
  {
   "cell_type": "code",
   "execution_count": 24,
   "metadata": {},
   "outputs": [
    {
     "output_type": "execute_result",
     "data": {
      "text/plain": "     a    b     a     b\n0 1.21 8.71   nan   nan\n1 2.81 2.91   nan   nan\n2 2.95 4.94 -0.20 -0.58\n3  nan  nan -0.12 -0.82\n4  nan  nan -0.53 -0.52",
      "text/html": "<div>\n<style scoped>\n    .dataframe tbody tr th:only-of-type {\n        vertical-align: middle;\n    }\n\n    .dataframe tbody tr th {\n        vertical-align: top;\n    }\n\n    .dataframe thead th {\n        text-align: right;\n    }\n</style>\n<table border=\"1\" class=\"dataframe\">\n  <thead>\n    <tr style=\"text-align: right;\">\n      <th></th>\n      <th>a</th>\n      <th>b</th>\n      <th>a</th>\n      <th>b</th>\n    </tr>\n  </thead>\n  <tbody>\n    <tr>\n      <th>0</th>\n      <td>1.21</td>\n      <td>8.71</td>\n      <td>nan</td>\n      <td>nan</td>\n    </tr>\n    <tr>\n      <th>1</th>\n      <td>2.81</td>\n      <td>2.91</td>\n      <td>nan</td>\n      <td>nan</td>\n    </tr>\n    <tr>\n      <th>2</th>\n      <td>2.95</td>\n      <td>4.94</td>\n      <td>-0.20</td>\n      <td>-0.58</td>\n    </tr>\n    <tr>\n      <th>3</th>\n      <td>nan</td>\n      <td>nan</td>\n      <td>-0.12</td>\n      <td>-0.82</td>\n    </tr>\n    <tr>\n      <th>4</th>\n      <td>nan</td>\n      <td>nan</td>\n      <td>-0.53</td>\n      <td>-0.52</td>\n    </tr>\n  </tbody>\n</table>\n</div>"
     },
     "metadata": {},
     "execution_count": 24
    }
   ],
   "source": [
    "pd.concat([df1,df2], axis=1)    #Filas axis=1"
   ]
  },
  {
   "cell_type": "code",
   "execution_count": 25,
   "metadata": {},
   "outputs": [
    {
     "output_type": "execute_result",
     "data": {
      "text/plain": "     a    b     a     b\n2 2.95 4.94 -0.20 -0.58",
      "text/html": "<div>\n<style scoped>\n    .dataframe tbody tr th:only-of-type {\n        vertical-align: middle;\n    }\n\n    .dataframe tbody tr th {\n        vertical-align: top;\n    }\n\n    .dataframe thead th {\n        text-align: right;\n    }\n</style>\n<table border=\"1\" class=\"dataframe\">\n  <thead>\n    <tr style=\"text-align: right;\">\n      <th></th>\n      <th>a</th>\n      <th>b</th>\n      <th>a</th>\n      <th>b</th>\n    </tr>\n  </thead>\n  <tbody>\n    <tr>\n      <th>2</th>\n      <td>2.95</td>\n      <td>4.94</td>\n      <td>-0.20</td>\n      <td>-0.58</td>\n    </tr>\n  </tbody>\n</table>\n</div>"
     },
     "metadata": {},
     "execution_count": 25
    }
   ],
   "source": [
    "pd.concat([df1,df2], axis=1, join='inner')"
   ]
  },
  {
   "cell_type": "code",
   "execution_count": 26,
   "metadata": {},
   "outputs": [
    {
     "output_type": "execute_result",
     "data": {
      "text/plain": "     a    b     a     b\n0 1.21 8.71 -0.20 -0.58\n1 2.81 2.91 -0.12 -0.82\n2 2.95 4.94 -0.53 -0.52",
      "text/html": "<div>\n<style scoped>\n    .dataframe tbody tr th:only-of-type {\n        vertical-align: middle;\n    }\n\n    .dataframe tbody tr th {\n        vertical-align: top;\n    }\n\n    .dataframe thead th {\n        text-align: right;\n    }\n</style>\n<table border=\"1\" class=\"dataframe\">\n  <thead>\n    <tr style=\"text-align: right;\">\n      <th></th>\n      <th>a</th>\n      <th>b</th>\n      <th>a</th>\n      <th>b</th>\n    </tr>\n  </thead>\n  <tbody>\n    <tr>\n      <th>0</th>\n      <td>1.21</td>\n      <td>8.71</td>\n      <td>-0.20</td>\n      <td>-0.58</td>\n    </tr>\n    <tr>\n      <th>1</th>\n      <td>2.81</td>\n      <td>2.91</td>\n      <td>-0.12</td>\n      <td>-0.82</td>\n    </tr>\n    <tr>\n      <th>2</th>\n      <td>2.95</td>\n      <td>4.94</td>\n      <td>-0.53</td>\n      <td>-0.52</td>\n    </tr>\n  </tbody>\n</table>\n</div>"
     },
     "metadata": {},
     "execution_count": 26
    }
   ],
   "source": [
    "pd.concat([                                          #Para cuando se tiene indices repetidos y no nos deja concatenar exacto se resetea el index\n",
    "           df1.reset_index(drop=True),\n",
    "           df2.reset_index(drop=True)\n",
    "           ], axis=1)"
   ]
  },
  {
   "cell_type": "code",
   "execution_count": 27,
   "metadata": {},
   "outputs": [
    {
     "output_type": "execute_result",
     "data": {
      "text/plain": "      a     b\n0  1.21  8.71\n1  2.81  2.91\n2  2.95  4.94\n2 -0.20 -0.58\n3 -0.12 -0.82\n4 -0.53 -0.52\n2 -0.20 -0.58\n3 -0.12 -0.82\n4 -0.53 -0.52",
      "text/html": "<div>\n<style scoped>\n    .dataframe tbody tr th:only-of-type {\n        vertical-align: middle;\n    }\n\n    .dataframe tbody tr th {\n        vertical-align: top;\n    }\n\n    .dataframe thead th {\n        text-align: right;\n    }\n</style>\n<table border=\"1\" class=\"dataframe\">\n  <thead>\n    <tr style=\"text-align: right;\">\n      <th></th>\n      <th>a</th>\n      <th>b</th>\n    </tr>\n  </thead>\n  <tbody>\n    <tr>\n      <th>0</th>\n      <td>1.21</td>\n      <td>8.71</td>\n    </tr>\n    <tr>\n      <th>1</th>\n      <td>2.81</td>\n      <td>2.91</td>\n    </tr>\n    <tr>\n      <th>2</th>\n      <td>2.95</td>\n      <td>4.94</td>\n    </tr>\n    <tr>\n      <th>2</th>\n      <td>-0.20</td>\n      <td>-0.58</td>\n    </tr>\n    <tr>\n      <th>3</th>\n      <td>-0.12</td>\n      <td>-0.82</td>\n    </tr>\n    <tr>\n      <th>4</th>\n      <td>-0.53</td>\n      <td>-0.52</td>\n    </tr>\n    <tr>\n      <th>2</th>\n      <td>-0.20</td>\n      <td>-0.58</td>\n    </tr>\n    <tr>\n      <th>3</th>\n      <td>-0.12</td>\n      <td>-0.82</td>\n    </tr>\n    <tr>\n      <th>4</th>\n      <td>-0.53</td>\n      <td>-0.52</td>\n    </tr>\n  </tbody>\n</table>\n</div>"
     },
     "metadata": {},
     "execution_count": 27
    }
   ],
   "source": [
    "df1.append(df2).append(df2)          #Otra forma de concatenar"
   ]
  },
  {
   "cell_type": "code",
   "execution_count": 28,
   "metadata": {},
   "outputs": [
    {
     "output_type": "execute_result",
     "data": {
      "text/plain": "     0    1    2\na 1.21 2.81 2.95\nb 8.71 2.91 4.94",
      "text/html": "<div>\n<style scoped>\n    .dataframe tbody tr th:only-of-type {\n        vertical-align: middle;\n    }\n\n    .dataframe tbody tr th {\n        vertical-align: top;\n    }\n\n    .dataframe thead th {\n        text-align: right;\n    }\n</style>\n<table border=\"1\" class=\"dataframe\">\n  <thead>\n    <tr style=\"text-align: right;\">\n      <th></th>\n      <th>0</th>\n      <th>1</th>\n      <th>2</th>\n    </tr>\n  </thead>\n  <tbody>\n    <tr>\n      <th>a</th>\n      <td>1.21</td>\n      <td>2.81</td>\n      <td>2.95</td>\n    </tr>\n    <tr>\n      <th>b</th>\n      <td>8.71</td>\n      <td>2.91</td>\n      <td>4.94</td>\n    </tr>\n  </tbody>\n</table>\n</div>"
     },
     "metadata": {},
     "execution_count": 28
    }
   ],
   "source": [
    "df1.T"
   ]
  },
  {
   "cell_type": "code",
   "execution_count": 30,
   "metadata": {},
   "outputs": [
    {
     "output_type": "execute_result",
     "data": {
      "text/plain": "     a    b     a     b\n0 1.21 8.71   nan   nan\n1 2.81 2.91   nan   nan\n2 2.95 4.94 -0.20 -0.58\n3  nan  nan -0.12 -0.82\n4  nan  nan -0.53 -0.52",
      "text/html": "<div>\n<style scoped>\n    .dataframe tbody tr th:only-of-type {\n        vertical-align: middle;\n    }\n\n    .dataframe tbody tr th {\n        vertical-align: top;\n    }\n\n    .dataframe thead th {\n        text-align: right;\n    }\n</style>\n<table border=\"1\" class=\"dataframe\">\n  <thead>\n    <tr style=\"text-align: right;\">\n      <th></th>\n      <th>a</th>\n      <th>b</th>\n      <th>a</th>\n      <th>b</th>\n    </tr>\n  </thead>\n  <tbody>\n    <tr>\n      <th>0</th>\n      <td>1.21</td>\n      <td>8.71</td>\n      <td>nan</td>\n      <td>nan</td>\n    </tr>\n    <tr>\n      <th>1</th>\n      <td>2.81</td>\n      <td>2.91</td>\n      <td>nan</td>\n      <td>nan</td>\n    </tr>\n    <tr>\n      <th>2</th>\n      <td>2.95</td>\n      <td>4.94</td>\n      <td>-0.20</td>\n      <td>-0.58</td>\n    </tr>\n    <tr>\n      <th>3</th>\n      <td>nan</td>\n      <td>nan</td>\n      <td>-0.12</td>\n      <td>-0.82</td>\n    </tr>\n    <tr>\n      <th>4</th>\n      <td>nan</td>\n      <td>nan</td>\n      <td>-0.53</td>\n      <td>-0.52</td>\n    </tr>\n  </tbody>\n</table>\n</div>"
     },
     "metadata": {},
     "execution_count": 30
    }
   ],
   "source": [
    "df1.T.append(df2.T).T"
   ]
  }
 ],
 "metadata": {
  "language_info": {
   "codemirror_mode": {
    "name": "ipython",
    "version": 3
   },
   "file_extension": ".py",
   "mimetype": "text/x-python",
   "name": "python",
   "nbconvert_exporter": "python",
   "pygments_lexer": "ipython3",
   "version": "3.7.4-final"
  },
  "orig_nbformat": 2,
  "kernelspec": {
   "name": "python37464bitanacondaconda74954a3f106b47d99d44e5fb8ca66932",
   "display_name": "Python 3.7.4 64-bit ('Anaconda': conda)"
  }
 },
 "nbformat": 4,
 "nbformat_minor": 2
}